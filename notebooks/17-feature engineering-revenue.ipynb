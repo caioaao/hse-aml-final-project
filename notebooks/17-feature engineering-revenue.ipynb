{
 "cells": [
  {
   "cell_type": "code",
   "execution_count": 2,
   "metadata": {},
   "outputs": [
    {
     "name": "stdout",
     "output_type": "stream",
     "text": [
      "Versions:\n",
      "  Python: 3.8.2 (default, Jul 16 2020, 14:00:26) \n",
      "[GCC 9.3.0]\n",
      "  pandas: 1.1.1\n",
      "  numpy: 1.19.1\n",
      "  seaborn: 0.10.1\n",
      "  sklearn: 0.23.2\n"
     ]
    }
   ],
   "source": [
    "%load_ext autoreload\n",
    "%autoreload 2\n",
    "\n",
    "import os\n",
    "import sys\n",
    "\n",
    "import pandas as pd\n",
    "import numpy as np\n",
    "import seaborn as sns\n",
    "import matplotlib.pyplot as plt\n",
    "import sklearn\n",
    "import scipy\n",
    "from tqdm.auto import tqdm, trange\n",
    "import xgboost as xgb\n",
    "import joblib\n",
    "from sklearn.model_selection import cross_validate\n",
    "import zipfile\n",
    "\n",
    "from src.model import tscv, ClippedOutputRegressor\n",
    "from src.feature_engineering import get_feature_cols, df_to_X_y, drop_non_features, add_lagged_features\n",
    "\n",
    "\n",
    "%run constants.py\n",
    "\n",
    "baseline_reg = joblib.load(os.path.join(MODELS_DIR, 'xgb-baseline.model'))\n",
    "\n",
    "%matplotlib inline\n",
    "print(\"Versions:\")\n",
    "print(\"  Python: %s\" % sys.version)\n",
    "for module in [pd, np, sns, sklearn]:\n",
    "    print(\"  %s: %s\" %(module.__name__, module.__version__))"
   ]
  },
  {
   "cell_type": "code",
   "execution_count": 3,
   "metadata": {},
   "outputs": [],
   "source": [
    "sales_train = pd.read_parquet(os.path.join(PROCESSED_DATA_DIR, 'sales-train.parquet'))\n",
    "train_set = pd.read_parquet(os.path.join(PROCESSED_DATA_DIR, 'train-set.parquet'))\n",
    "categories_meta = pd.read_parquet(os.path.join(PROCESSED_DATA_DIR, 'item-categories-metadata.parquet'))"
   ]
  },
  {
   "cell_type": "markdown",
   "metadata": {},
   "source": [
    "Let's try some relationships. The first one I want to try is the sales to price ratio and sales revenue."
   ]
  },
  {
   "cell_type": "code",
   "execution_count": 4,
   "metadata": {},
   "outputs": [],
   "source": [
    "train_set = train_set.merge(categories_meta, on='item_id')\n",
    "sales_train = sales_train.merge(categories_meta, on='item_id')"
   ]
  },
  {
   "cell_type": "code",
   "execution_count": 5,
   "metadata": {},
   "outputs": [],
   "source": [
    "index_cols = [['item_id'],\n",
    "             ['shop_id'],\n",
    "             ['category_name'],\n",
    "             ['item_id', 'shop_id'],\n",
    "             ['category_name', 'shop_id']]"
   ]
  },
  {
   "cell_type": "code",
   "execution_count": 7,
   "metadata": {},
   "outputs": [],
   "source": [
    "hist_df = train_set\n",
    "\n",
    "for cols in index_cols:\n",
    "    col_id = '_'.join(cols)\n",
    "    item_cnt_col = '%s_item_cnt' % col_id\n",
    "    item_price_col = '%s_avg_item_price' % col_id\n",
    "    sales_revenue_col = '%s_sales_revenue' % col_id\n",
    "\n",
    "    grp = sales_train.groupby(cols + ['date_block_num'])\n",
    "    sales_df = grp['item_cnt_day'].sum().reset_index()\n",
    "    sales_df.rename(columns={'item_cnt_day': item_cnt_col}, inplace=True)\n",
    "\n",
    "    prices_df = grp['item_price'].mean().reset_index()\n",
    "    prices_df.rename(columns={'item_price': item_price_col}, inplace=True)\n",
    "\n",
    "    aux_df = pd.merge(sales_df, prices_df, on=cols + ['date_block_num'])\n",
    "    aux_df[sales_revenue_col] = aux_df[item_cnt_col] * aux_df[item_price_col]\n",
    "    \n",
    "    hist_df = hist_df.merge(aux_df, on=cols + ['date_block_num'], how='left', sort=False)"
   ]
  },
  {
   "cell_type": "code",
   "execution_count": 8,
   "metadata": {},
   "outputs": [
    {
     "data": {
      "text/html": [
       "<div>\n",
       "<style scoped>\n",
       "    .dataframe tbody tr th:only-of-type {\n",
       "        vertical-align: middle;\n",
       "    }\n",
       "\n",
       "    .dataframe tbody tr th {\n",
       "        vertical-align: top;\n",
       "    }\n",
       "\n",
       "    .dataframe thead th {\n",
       "        text-align: right;\n",
       "    }\n",
       "</style>\n",
       "<table border=\"1\" class=\"dataframe\">\n",
       "  <thead>\n",
       "    <tr style=\"text-align: right;\">\n",
       "      <th></th>\n",
       "      <th>item_id</th>\n",
       "      <th>shop_id</th>\n",
       "      <th>date_block_num</th>\n",
       "      <th>item_cnt_month</th>\n",
       "      <th>item_category_id</th>\n",
       "      <th>item_id_item_cnt</th>\n",
       "      <th>item_id_avg_item_price</th>\n",
       "      <th>item_id_sales_revenue</th>\n",
       "      <th>shop_id_item_cnt</th>\n",
       "      <th>shop_id_avg_item_price</th>\n",
       "      <th>shop_id_sales_revenue</th>\n",
       "      <th>category_name_item_cnt</th>\n",
       "      <th>category_name_avg_item_price</th>\n",
       "      <th>category_name_sales_revenue</th>\n",
       "      <th>item_id_shop_id_item_cnt</th>\n",
       "      <th>item_id_shop_id_avg_item_price</th>\n",
       "      <th>item_id_shop_id_sales_revenue</th>\n",
       "      <th>category_name_shop_id_item_cnt</th>\n",
       "      <th>category_name_shop_id_avg_item_price</th>\n",
       "      <th>category_name_shop_id_sales_revenue</th>\n",
       "    </tr>\n",
       "  </thead>\n",
       "  <tbody>\n",
       "    <tr>\n",
       "      <th>count</th>\n",
       "      <td>5.140800e+06</td>\n",
       "      <td>5.140800e+06</td>\n",
       "      <td>5.140800e+06</td>\n",
       "      <td>5.140800e+06</td>\n",
       "      <td>5.140800e+06</td>\n",
       "      <td>2.454522e+06</td>\n",
       "      <td>2.454522e+06</td>\n",
       "      <td>2.454522e+06</td>\n",
       "      <td>4.926600e+06</td>\n",
       "      <td>4.926600e+06</td>\n",
       "      <td>4.926600e+06</td>\n",
       "      <td>5.137902e+06</td>\n",
       "      <td>5.137902e+06</td>\n",
       "      <td>5.137902e+06</td>\n",
       "      <td>504457.000000</td>\n",
       "      <td>504457.000000</td>\n",
       "      <td>5.044570e+05</td>\n",
       "      <td>4.789901e+06</td>\n",
       "      <td>4.789901e+06</td>\n",
       "      <td>4.789901e+06</td>\n",
       "    </tr>\n",
       "    <tr>\n",
       "      <th>mean</th>\n",
       "      <td>1.101940e+04</td>\n",
       "      <td>3.164286e+01</td>\n",
       "      <td>2.150000e+01</td>\n",
       "      <td>2.199702e-01</td>\n",
       "      <td>4.630961e+01</td>\n",
       "      <td>2.648966e+01</td>\n",
       "      <td>8.264482e+02</td>\n",
       "      <td>2.989660e+04</td>\n",
       "      <td>2.089312e+03</td>\n",
       "      <td>1.054702e+03</td>\n",
       "      <td>2.123267e+06</td>\n",
       "      <td>1.552471e+04</td>\n",
       "      <td>8.331547e+02</td>\n",
       "      <td>1.106344e+07</td>\n",
       "      <td>2.618076</td>\n",
       "      <td>958.838489</td>\n",
       "      <td>2.971340e+03</td>\n",
       "      <td>3.305499e+02</td>\n",
       "      <td>8.435880e+02</td>\n",
       "      <td>2.375488e+05</td>\n",
       "    </tr>\n",
       "    <tr>\n",
       "      <th>std</th>\n",
       "      <td>6.252631e+03</td>\n",
       "      <td>1.756189e+01</td>\n",
       "      <td>6.922187e+00</td>\n",
       "      <td>1.113889e+00</td>\n",
       "      <td>1.671654e+01</td>\n",
       "      <td>1.539327e+02</td>\n",
       "      <td>1.397959e+03</td>\n",
       "      <td>3.299458e+05</td>\n",
       "      <td>1.783534e+03</td>\n",
       "      <td>2.356856e+02</td>\n",
       "      <td>1.687299e+06</td>\n",
       "      <td>8.957279e+03</td>\n",
       "      <td>1.429033e+03</td>\n",
       "      <td>1.049338e+07</td>\n",
       "      <td>10.841659</td>\n",
       "      <td>1671.705372</td>\n",
       "      <td>2.116009e+04</td>\n",
       "      <td>4.036023e+02</td>\n",
       "      <td>1.465415e+03</td>\n",
       "      <td>3.403595e+05</td>\n",
       "    </tr>\n",
       "    <tr>\n",
       "      <th>min</th>\n",
       "      <td>3.000000e+01</td>\n",
       "      <td>2.000000e+00</td>\n",
       "      <td>1.000000e+01</td>\n",
       "      <td>0.000000e+00</td>\n",
       "      <td>0.000000e+00</td>\n",
       "      <td>-1.000000e+00</td>\n",
       "      <td>9.900000e-01</td>\n",
       "      <td>-1.850000e+04</td>\n",
       "      <td>2.000000e+00</td>\n",
       "      <td>7.700000e+01</td>\n",
       "      <td>1.540000e+02</td>\n",
       "      <td>1.000000e+00</td>\n",
       "      <td>1.352000e+02</td>\n",
       "      <td>2.290000e+02</td>\n",
       "      <td>-4.000000</td>\n",
       "      <td>0.500000</td>\n",
       "      <td>-3.349000e+04</td>\n",
       "      <td>0.000000e+00</td>\n",
       "      <td>5.000000e+00</td>\n",
       "      <td>0.000000e+00</td>\n",
       "    </tr>\n",
       "    <tr>\n",
       "      <th>25%</th>\n",
       "      <td>5.381500e+03</td>\n",
       "      <td>1.600000e+01</td>\n",
       "      <td>1.575000e+01</td>\n",
       "      <td>0.000000e+00</td>\n",
       "      <td>3.700000e+01</td>\n",
       "      <td>3.000000e+00</td>\n",
       "      <td>2.438720e+02</td>\n",
       "      <td>1.245000e+03</td>\n",
       "      <td>1.102000e+03</td>\n",
       "      <td>8.879181e+02</td>\n",
       "      <td>1.136939e+06</td>\n",
       "      <td>1.052400e+04</td>\n",
       "      <td>3.662205e+02</td>\n",
       "      <td>4.316815e+06</td>\n",
       "      <td>1.000000</td>\n",
       "      <td>299.000000</td>\n",
       "      <td>2.990000e+02</td>\n",
       "      <td>1.230000e+02</td>\n",
       "      <td>3.639710e+02</td>\n",
       "      <td>5.569126e+04</td>\n",
       "    </tr>\n",
       "    <tr>\n",
       "      <th>50%</th>\n",
       "      <td>1.120300e+04</td>\n",
       "      <td>3.450000e+01</td>\n",
       "      <td>2.150000e+01</td>\n",
       "      <td>0.000000e+00</td>\n",
       "      <td>4.300000e+01</td>\n",
       "      <td>8.000000e+00</td>\n",
       "      <td>3.990000e+02</td>\n",
       "      <td>3.389000e+03</td>\n",
       "      <td>1.537000e+03</td>\n",
       "      <td>1.020765e+03</td>\n",
       "      <td>1.613023e+06</td>\n",
       "      <td>1.432300e+04</td>\n",
       "      <td>4.781043e+02</td>\n",
       "      <td>8.390993e+06</td>\n",
       "      <td>1.000000</td>\n",
       "      <td>499.000000</td>\n",
       "      <td>7.980000e+02</td>\n",
       "      <td>2.180000e+02</td>\n",
       "      <td>5.188585e+02</td>\n",
       "      <td>1.220411e+05</td>\n",
       "    </tr>\n",
       "    <tr>\n",
       "      <th>75%</th>\n",
       "      <td>1.607150e+04</td>\n",
       "      <td>4.700000e+01</td>\n",
       "      <td>2.725000e+01</td>\n",
       "      <td>0.000000e+00</td>\n",
       "      <td>5.800000e+01</td>\n",
       "      <td>2.000000e+01</td>\n",
       "      <td>9.990000e+02</td>\n",
       "      <td>1.198500e+04</td>\n",
       "      <td>2.256000e+03</td>\n",
       "      <td>1.187637e+03</td>\n",
       "      <td>2.368538e+06</td>\n",
       "      <td>2.055700e+04</td>\n",
       "      <td>8.523327e+02</td>\n",
       "      <td>1.238973e+07</td>\n",
       "      <td>2.000000</td>\n",
       "      <td>1180.000000</td>\n",
       "      <td>1.998000e+03</td>\n",
       "      <td>3.760000e+02</td>\n",
       "      <td>8.600829e+02</td>\n",
       "      <td>2.702437e+05</td>\n",
       "    </tr>\n",
       "    <tr>\n",
       "      <th>max</th>\n",
       "      <td>2.216700e+04</td>\n",
       "      <td>5.900000e+01</td>\n",
       "      <td>3.300000e+01</td>\n",
       "      <td>2.000000e+01</td>\n",
       "      <td>8.300000e+01</td>\n",
       "      <td>1.255700e+04</td>\n",
       "      <td>3.999050e+04</td>\n",
       "      <td>4.628475e+07</td>\n",
       "      <td>1.631800e+04</td>\n",
       "      <td>1.904094e+03</td>\n",
       "      <td>1.486849e+07</td>\n",
       "      <td>4.249600e+04</td>\n",
       "      <td>2.623719e+04</td>\n",
       "      <td>7.015598e+07</td>\n",
       "      <td>2253.000000</td>\n",
       "      <td>42990.000000</td>\n",
       "      <td>6.212880e+06</td>\n",
       "      <td>5.129000e+03</td>\n",
       "      <td>4.299000e+04</td>\n",
       "      <td>6.699618e+06</td>\n",
       "    </tr>\n",
       "  </tbody>\n",
       "</table>\n",
       "</div>"
      ],
      "text/plain": [
       "            item_id       shop_id  date_block_num  item_cnt_month  \\\n",
       "count  5.140800e+06  5.140800e+06    5.140800e+06    5.140800e+06   \n",
       "mean   1.101940e+04  3.164286e+01    2.150000e+01    2.199702e-01   \n",
       "std    6.252631e+03  1.756189e+01    6.922187e+00    1.113889e+00   \n",
       "min    3.000000e+01  2.000000e+00    1.000000e+01    0.000000e+00   \n",
       "25%    5.381500e+03  1.600000e+01    1.575000e+01    0.000000e+00   \n",
       "50%    1.120300e+04  3.450000e+01    2.150000e+01    0.000000e+00   \n",
       "75%    1.607150e+04  4.700000e+01    2.725000e+01    0.000000e+00   \n",
       "max    2.216700e+04  5.900000e+01    3.300000e+01    2.000000e+01   \n",
       "\n",
       "       item_category_id  item_id_item_cnt  item_id_avg_item_price  \\\n",
       "count      5.140800e+06      2.454522e+06            2.454522e+06   \n",
       "mean       4.630961e+01      2.648966e+01            8.264482e+02   \n",
       "std        1.671654e+01      1.539327e+02            1.397959e+03   \n",
       "min        0.000000e+00     -1.000000e+00            9.900000e-01   \n",
       "25%        3.700000e+01      3.000000e+00            2.438720e+02   \n",
       "50%        4.300000e+01      8.000000e+00            3.990000e+02   \n",
       "75%        5.800000e+01      2.000000e+01            9.990000e+02   \n",
       "max        8.300000e+01      1.255700e+04            3.999050e+04   \n",
       "\n",
       "       item_id_sales_revenue  shop_id_item_cnt  shop_id_avg_item_price  \\\n",
       "count           2.454522e+06      4.926600e+06            4.926600e+06   \n",
       "mean            2.989660e+04      2.089312e+03            1.054702e+03   \n",
       "std             3.299458e+05      1.783534e+03            2.356856e+02   \n",
       "min            -1.850000e+04      2.000000e+00            7.700000e+01   \n",
       "25%             1.245000e+03      1.102000e+03            8.879181e+02   \n",
       "50%             3.389000e+03      1.537000e+03            1.020765e+03   \n",
       "75%             1.198500e+04      2.256000e+03            1.187637e+03   \n",
       "max             4.628475e+07      1.631800e+04            1.904094e+03   \n",
       "\n",
       "       shop_id_sales_revenue  category_name_item_cnt  \\\n",
       "count           4.926600e+06            5.137902e+06   \n",
       "mean            2.123267e+06            1.552471e+04   \n",
       "std             1.687299e+06            8.957279e+03   \n",
       "min             1.540000e+02            1.000000e+00   \n",
       "25%             1.136939e+06            1.052400e+04   \n",
       "50%             1.613023e+06            1.432300e+04   \n",
       "75%             2.368538e+06            2.055700e+04   \n",
       "max             1.486849e+07            4.249600e+04   \n",
       "\n",
       "       category_name_avg_item_price  category_name_sales_revenue  \\\n",
       "count                  5.137902e+06                 5.137902e+06   \n",
       "mean                   8.331547e+02                 1.106344e+07   \n",
       "std                    1.429033e+03                 1.049338e+07   \n",
       "min                    1.352000e+02                 2.290000e+02   \n",
       "25%                    3.662205e+02                 4.316815e+06   \n",
       "50%                    4.781043e+02                 8.390993e+06   \n",
       "75%                    8.523327e+02                 1.238973e+07   \n",
       "max                    2.623719e+04                 7.015598e+07   \n",
       "\n",
       "       item_id_shop_id_item_cnt  item_id_shop_id_avg_item_price  \\\n",
       "count             504457.000000                   504457.000000   \n",
       "mean                   2.618076                      958.838489   \n",
       "std                   10.841659                     1671.705372   \n",
       "min                   -4.000000                        0.500000   \n",
       "25%                    1.000000                      299.000000   \n",
       "50%                    1.000000                      499.000000   \n",
       "75%                    2.000000                     1180.000000   \n",
       "max                 2253.000000                    42990.000000   \n",
       "\n",
       "       item_id_shop_id_sales_revenue  category_name_shop_id_item_cnt  \\\n",
       "count                   5.044570e+05                    4.789901e+06   \n",
       "mean                    2.971340e+03                    3.305499e+02   \n",
       "std                     2.116009e+04                    4.036023e+02   \n",
       "min                    -3.349000e+04                    0.000000e+00   \n",
       "25%                     2.990000e+02                    1.230000e+02   \n",
       "50%                     7.980000e+02                    2.180000e+02   \n",
       "75%                     1.998000e+03                    3.760000e+02   \n",
       "max                     6.212880e+06                    5.129000e+03   \n",
       "\n",
       "       category_name_shop_id_avg_item_price  \\\n",
       "count                          4.789901e+06   \n",
       "mean                           8.435880e+02   \n",
       "std                            1.465415e+03   \n",
       "min                            5.000000e+00   \n",
       "25%                            3.639710e+02   \n",
       "50%                            5.188585e+02   \n",
       "75%                            8.600829e+02   \n",
       "max                            4.299000e+04   \n",
       "\n",
       "       category_name_shop_id_sales_revenue  \n",
       "count                         4.789901e+06  \n",
       "mean                          2.375488e+05  \n",
       "std                           3.403595e+05  \n",
       "min                           0.000000e+00  \n",
       "25%                           5.569126e+04  \n",
       "50%                           1.220411e+05  \n",
       "75%                           2.702437e+05  \n",
       "max                           6.699618e+06  "
      ]
     },
     "execution_count": 8,
     "metadata": {},
     "output_type": "execute_result"
    }
   ],
   "source": [
    "hist_df.describe()"
   ]
  },
  {
   "cell_type": "code",
   "execution_count": 9,
   "metadata": {},
   "outputs": [
    {
     "data": {
      "application/vnd.jupyter.widget-view+json": {
       "model_id": "57da5c753a134404a49b6b9d7454731f",
       "version_major": 2,
       "version_minor": 0
      },
      "text/plain": [
       "HBox(children=(FloatProgress(value=0.0, max=3.0), HTML(value='')))"
      ]
     },
     "metadata": {},
     "output_type": "display_data"
    },
    {
     "name": "stdout",
     "output_type": "stream",
     "text": [
      "\n"
     ]
    }
   ],
   "source": [
    "train_set_revenue = add_lagged_features(train_set, hist_df, [col for col in hist_df.columns if col.endswith('_revenue')], max_lag=3)"
   ]
  },
  {
   "cell_type": "code",
   "execution_count": 10,
   "metadata": {},
   "outputs": [
    {
     "name": "stderr",
     "output_type": "stream",
     "text": [
      "[Parallel(n_jobs=1)]: Using backend SequentialBackend with 1 concurrent workers.\n"
     ]
    },
    {
     "name": "stdout",
     "output_type": "stream",
     "text": [
      "[CV]  ................................................................\n",
      "[CV] ................................................. , total=  10.0s\n",
      "[CV]  ................................................................\n"
     ]
    },
    {
     "name": "stderr",
     "output_type": "stream",
     "text": [
      "[Parallel(n_jobs=1)]: Done   1 out of   1 | elapsed:   10.0s remaining:    0.0s\n"
     ]
    },
    {
     "name": "stdout",
     "output_type": "stream",
     "text": [
      "[CV] ................................................. , total=   8.9s\n",
      "[CV]  ................................................................\n",
      "[CV] ................................................. , total=   9.4s\n"
     ]
    },
    {
     "name": "stderr",
     "output_type": "stream",
     "text": [
      "[Parallel(n_jobs=1)]: Done   3 out of   3 | elapsed:   28.3s finished\n"
     ]
    },
    {
     "data": {
      "text/plain": [
       "{'fit_time': array([9.03350782, 7.9291594 , 8.35173202]),\n",
       " 'score_time': array([0.99755955, 0.97213888, 1.01965618]),\n",
       " 'test_score': array([-0.87407803, -0.98106044, -0.95820406])}"
      ]
     },
     "execution_count": 10,
     "metadata": {},
     "output_type": "execute_result"
    }
   ],
   "source": [
    "X_train, y_train = df_to_X_y(train_set_revenue)\n",
    "\n",
    "scores = cross_validate(baseline_reg, X_train, y=y_train,\n",
    "                        cv=tscv.split(train_set_revenue['date_block_num'], window=16),\n",
    "                        verbose=2, scoring='neg_root_mean_squared_error')\n",
    "scores"
   ]
  },
  {
   "cell_type": "code",
   "execution_count": 11,
   "metadata": {},
   "outputs": [],
   "source": [
    "hist_df = train_set\n",
    "\n",
    "for cols in index_cols:\n",
    "    col_id = '_'.join(cols)\n",
    "    item_cnt_col = '%s_item_cnt' % col_id\n",
    "    item_price_col = '%s_avg_item_price' % col_id\n",
    "    sales_revenue_col = '%s_sales_revenue' % col_id\n",
    "    sales_price_ratio_col = '%s_sales_price_ratio' % col_id\n",
    "\n",
    "    grp = sales_train.groupby(cols + ['date_block_num'])\n",
    "    sales_df = grp['item_cnt_day'].sum().reset_index()\n",
    "    sales_df.rename(columns={'item_cnt_day': item_cnt_col}, inplace=True)\n",
    "\n",
    "    prices_df = grp['item_price'].mean().reset_index()\n",
    "    prices_df.rename(columns={'item_price': item_price_col}, inplace=True)\n",
    "\n",
    "    aux_df = pd.merge(sales_df, prices_df, on=cols + ['date_block_num'])\n",
    "    aux_df[sales_revenue_col] = aux_df[item_cnt_col] * aux_df[item_price_col]\n",
    "    aux_df[sales_price_ratio_col] = aux_df[item_cnt_col] / aux_df[item_price_col]\n",
    "    \n",
    "    hist_df = hist_df.merge(aux_df, on=cols + ['date_block_num'], how='left', sort=False)"
   ]
  },
  {
   "cell_type": "code",
   "execution_count": 12,
   "metadata": {},
   "outputs": [
    {
     "data": {
      "application/vnd.jupyter.widget-view+json": {
       "model_id": "5b7388adad1b4aebbcde1fb848642f5e",
       "version_major": 2,
       "version_minor": 0
      },
      "text/plain": [
       "HBox(children=(FloatProgress(value=0.0, max=3.0), HTML(value='')))"
      ]
     },
     "metadata": {},
     "output_type": "display_data"
    },
    {
     "name": "stdout",
     "output_type": "stream",
     "text": [
      "\n"
     ]
    }
   ],
   "source": [
    "train_set_revenue_ratio = add_lagged_features(train_set, hist_df, [col for col in hist_df.columns if col.endswith('_revenue') or col.endswith('ratio')], max_lag=3)"
   ]
  },
  {
   "cell_type": "code",
   "execution_count": 13,
   "metadata": {},
   "outputs": [
    {
     "name": "stderr",
     "output_type": "stream",
     "text": [
      "[Parallel(n_jobs=1)]: Using backend SequentialBackend with 1 concurrent workers.\n"
     ]
    },
    {
     "name": "stdout",
     "output_type": "stream",
     "text": [
      "[CV]  ................................................................\n",
      "[CV] ................................................. , total=   9.9s\n",
      "[CV]  ................................................................\n"
     ]
    },
    {
     "name": "stderr",
     "output_type": "stream",
     "text": [
      "[Parallel(n_jobs=1)]: Done   1 out of   1 | elapsed:    9.9s remaining:    0.0s\n"
     ]
    },
    {
     "name": "stdout",
     "output_type": "stream",
     "text": [
      "[CV] ................................................. , total=   9.8s\n",
      "[CV]  ................................................................\n",
      "[CV] ................................................. , total=   9.4s\n"
     ]
    },
    {
     "name": "stderr",
     "output_type": "stream",
     "text": [
      "[Parallel(n_jobs=1)]: Done   3 out of   3 | elapsed:   29.1s finished\n"
     ]
    },
    {
     "data": {
      "text/plain": [
       "{'fit_time': array([9.23843098, 8.9138186 , 8.34102201]),\n",
       " 'score_time': array([0.64744163, 0.88254595, 1.03786755]),\n",
       " 'test_score': array([-0.79420665, -0.91084584, -0.88561932])}"
      ]
     },
     "execution_count": 13,
     "metadata": {},
     "output_type": "execute_result"
    }
   ],
   "source": [
    "X_train, y_train = df_to_X_y(train_set_revenue_ratio)\n",
    "\n",
    "scores = cross_validate(baseline_reg, X_train, y=y_train,\n",
    "                        cv=tscv.split(train_set_revenue_ratio['date_block_num'], window=16),\n",
    "                        verbose=2, scoring='neg_root_mean_squared_error')\n",
    "scores"
   ]
  },
  {
   "cell_type": "code",
   "execution_count": 14,
   "metadata": {},
   "outputs": [
    {
     "data": {
      "text/plain": [
       "(-0.8635572717668394, 0.05010805208723704)"
      ]
     },
     "execution_count": 14,
     "metadata": {},
     "output_type": "execute_result"
    }
   ],
   "source": [
    "np.mean(scores['test_score']), np.std(scores['test_score'])"
   ]
  }
 ],
 "metadata": {
  "kernelspec": {
   "display_name": "Python 3",
   "language": "python",
   "name": "python3"
  },
  "language_info": {
   "codemirror_mode": {
    "name": "ipython",
    "version": 3
   },
   "file_extension": ".py",
   "mimetype": "text/x-python",
   "name": "python",
   "nbconvert_exporter": "python",
   "pygments_lexer": "ipython3",
   "version": "3.8.2"
  }
 },
 "nbformat": 4,
 "nbformat_minor": 4
}
