{
 "cells": [
  {
   "cell_type": "code",
   "execution_count": 1,
   "metadata": {},
   "outputs": [
    {
     "name": "stdout",
     "output_type": "stream",
     "text": [
      "Versions:\n",
      "  Python: 3.8.2 (default, Jul 16 2020, 14:00:26) \n",
      "[GCC 9.3.0]\n",
      "  pandas: 1.1.0\n",
      "  numpy: 1.19.1\n",
      "  seaborn: 0.10.1\n",
      "  sklearn: 0.23.2\n",
      "  altair: 4.1.0\n"
     ]
    }
   ],
   "source": [
    "%load_ext autoreload\n",
    "%autoreload 2\n",
    "\n",
    "import os\n",
    "import sys\n",
    "\n",
    "import pandas as pd\n",
    "import numpy as np\n",
    "import seaborn as sns\n",
    "import matplotlib.pyplot as plt\n",
    "import sklearn\n",
    "import scipy\n",
    "import altair as alt\n",
    "from altair import datum\n",
    "from tqdm.auto import tqdm, trange\n",
    "\n",
    "from src.model import tscv\n",
    "\n",
    "%run constants.py\n",
    "\n",
    "%matplotlib inline\n",
    "print(\"Versions:\")\n",
    "print(\"  Python: %s\" % sys.version)\n",
    "for module in [pd, np, sns, sklearn, alt]:\n",
    "    print(\"  %s: %s\" %(module.__name__, module.__version__))"
   ]
  },
  {
   "cell_type": "markdown",
   "metadata": {},
   "source": [
    "# Feature Engineering - category metadata and shop encodings\n",
    "\n",
    "Let's first load our datasets and set up our CV split."
   ]
  },
  {
   "cell_type": "code",
   "execution_count": 2,
   "metadata": {},
   "outputs": [],
   "source": [
    "train_set = pd.read_parquet(os.path.join(PROCESSED_DATA_DIR, 'train-set-base-cats.parquet'))\n",
    "item_categories_metadata = pd.read_parquet(os.path.join(PROCESSED_DATA_DIR, 'item-categories-metadata.parquet'))\n",
    "shop_item_cat_encoding = pd.read_parquet(os.path.join(PROCESSED_DATA_DIR, 'shop-item-cat-encoding.parquet'))\n",
    "cv_splits = tscv.split(train_set['date_block_num'].values)\n",
    "\n",
    "def df_to_features_matrix(df):\n",
    "    return df.drop(columns=['ID', 'item_id', 'shop_id', 'item_cnt', 'date_block_num', 'item_category_id'], errors='ignore').values"
   ]
  },
  {
   "cell_type": "markdown",
   "metadata": {},
   "source": [
    "Let's label-encode the categories."
   ]
  },
  {
   "cell_type": "code",
   "execution_count": 3,
   "metadata": {},
   "outputs": [],
   "source": [
    "from sklearn.preprocessing import LabelEncoder\n",
    "item_categories_metadata['cat__category_name'] = LabelEncoder().fit_transform(item_categories_metadata['category_name'])\n",
    "item_categories_metadata['cat__subcategory_name'] = LabelEncoder().fit_transform(item_categories_metadata['subcategory_name'])"
   ]
  },
  {
   "cell_type": "markdown",
   "metadata": {},
   "source": [
    "And now let's generate the train set and run it through our validation pipeline"
   ]
  },
  {
   "cell_type": "code",
   "execution_count": 4,
   "metadata": {},
   "outputs": [
    {
     "data": {
      "text/html": [
       "<div>\n",
       "<style scoped>\n",
       "    .dataframe tbody tr th:only-of-type {\n",
       "        vertical-align: middle;\n",
       "    }\n",
       "\n",
       "    .dataframe tbody tr th {\n",
       "        vertical-align: top;\n",
       "    }\n",
       "\n",
       "    .dataframe thead th {\n",
       "        text-align: right;\n",
       "    }\n",
       "</style>\n",
       "<table border=\"1\" class=\"dataframe\">\n",
       "  <thead>\n",
       "    <tr style=\"text-align: right;\">\n",
       "      <th></th>\n",
       "      <th>date_block_num</th>\n",
       "      <th>item_id</th>\n",
       "      <th>shop_id</th>\n",
       "      <th>item_cnt</th>\n",
       "      <th>cat__item_id</th>\n",
       "      <th>cat__shop_id</th>\n",
       "      <th>cat__date_block_num</th>\n",
       "      <th>item_category_id</th>\n",
       "      <th>cat__category_name</th>\n",
       "      <th>cat__subcategory_name</th>\n",
       "    </tr>\n",
       "  </thead>\n",
       "  <tbody>\n",
       "    <tr>\n",
       "      <th>0</th>\n",
       "      <td>0</td>\n",
       "      <td>33</td>\n",
       "      <td>2</td>\n",
       "      <td>1.0</td>\n",
       "      <td>33</td>\n",
       "      <td>2</td>\n",
       "      <td>0</td>\n",
       "      <td>37</td>\n",
       "      <td>9</td>\n",
       "      <td>1</td>\n",
       "    </tr>\n",
       "    <tr>\n",
       "      <th>1</th>\n",
       "      <td>0</td>\n",
       "      <td>317</td>\n",
       "      <td>2</td>\n",
       "      <td>1.0</td>\n",
       "      <td>317</td>\n",
       "      <td>2</td>\n",
       "      <td>0</td>\n",
       "      <td>45</td>\n",
       "      <td>10</td>\n",
       "      <td>25</td>\n",
       "    </tr>\n",
       "    <tr>\n",
       "      <th>2</th>\n",
       "      <td>0</td>\n",
       "      <td>438</td>\n",
       "      <td>2</td>\n",
       "      <td>1.0</td>\n",
       "      <td>438</td>\n",
       "      <td>2</td>\n",
       "      <td>0</td>\n",
       "      <td>45</td>\n",
       "      <td>10</td>\n",
       "      <td>25</td>\n",
       "    </tr>\n",
       "    <tr>\n",
       "      <th>3</th>\n",
       "      <td>0</td>\n",
       "      <td>471</td>\n",
       "      <td>2</td>\n",
       "      <td>2.0</td>\n",
       "      <td>471</td>\n",
       "      <td>2</td>\n",
       "      <td>0</td>\n",
       "      <td>49</td>\n",
       "      <td>10</td>\n",
       "      <td>38</td>\n",
       "    </tr>\n",
       "    <tr>\n",
       "      <th>4</th>\n",
       "      <td>0</td>\n",
       "      <td>481</td>\n",
       "      <td>2</td>\n",
       "      <td>1.0</td>\n",
       "      <td>481</td>\n",
       "      <td>2</td>\n",
       "      <td>0</td>\n",
       "      <td>49</td>\n",
       "      <td>10</td>\n",
       "      <td>38</td>\n",
       "    </tr>\n",
       "  </tbody>\n",
       "</table>\n",
       "</div>"
      ],
      "text/plain": [
       "   date_block_num  item_id  shop_id  item_cnt  cat__item_id  cat__shop_id  \\\n",
       "0               0       33        2       1.0            33             2   \n",
       "1               0      317        2       1.0           317             2   \n",
       "2               0      438        2       1.0           438             2   \n",
       "3               0      471        2       2.0           471             2   \n",
       "4               0      481        2       1.0           481             2   \n",
       "\n",
       "   cat__date_block_num  item_category_id  cat__category_name  \\\n",
       "0                    0                37                   9   \n",
       "1                    0                45                  10   \n",
       "2                    0                45                  10   \n",
       "3                    0                49                  10   \n",
       "4                    0                49                  10   \n",
       "\n",
       "   cat__subcategory_name  \n",
       "0                      1  \n",
       "1                     25  \n",
       "2                     25  \n",
       "3                     38  \n",
       "4                     38  "
      ]
     },
     "execution_count": 4,
     "metadata": {},
     "output_type": "execute_result"
    }
   ],
   "source": [
    "train_set_cat_metadata = train_set.merge(item_categories_metadata.drop(columns=['category_name', 'subcategory_name']), on='item_id', how='left', sort=False)\n",
    "train_set_cat_metadata.head()"
   ]
  },
  {
   "cell_type": "code",
   "execution_count": 5,
   "metadata": {},
   "outputs": [],
   "source": [
    "X_train, y_train = df_to_features_matrix(train_set_cat_metadata), train_set_cat_metadata['item_cnt'].values"
   ]
  },
  {
   "cell_type": "code",
   "execution_count": 6,
   "metadata": {},
   "outputs": [],
   "source": [
    "from xgboost import XGBRegressor\n",
    "from sklearn.model_selection import cross_validate\n",
    "from src.model import ClippedOutputRegressor\n",
    "\n",
    "reg = ClippedOutputRegressor(XGBRegressor(n_jobs=-1, verbosity=1))"
   ]
  },
  {
   "cell_type": "code",
   "execution_count": 7,
   "metadata": {},
   "outputs": [
    {
     "name": "stderr",
     "output_type": "stream",
     "text": [
      "[Parallel(n_jobs=-1)]: Using backend LokyBackend with 12 concurrent workers.\n",
      "[Parallel(n_jobs=-1)]: Done   3 out of   3 | elapsed:  1.3min finished\n"
     ]
    },
    {
     "data": {
      "text/plain": [
       "{'fit_time': array([66.23088074, 67.97157407, 69.28774571]),\n",
       " 'score_time': array([0.174366  , 0.15217304, 0.15889645]),\n",
       " 'test_score': array([-1.70838406, -2.23847939, -2.16835285]),\n",
       " 'train_score': array([-2.00175247, -2.00441966, -2.00644994])}"
      ]
     },
     "execution_count": 7,
     "metadata": {},
     "output_type": "execute_result"
    }
   ],
   "source": [
    "scores = cross_validate(reg, X=X_train, y=y_train,\n",
    "                        scoring='neg_root_mean_squared_error', verbose=2, n_jobs=-1, \n",
    "                        cv=cv_splits, return_train_score=True)\n",
    "scores"
   ]
  },
  {
   "cell_type": "code",
   "execution_count": 8,
   "metadata": {},
   "outputs": [
    {
     "data": {
      "text/plain": [
       "(-2.038405431553157, 0.23510992115168114)"
      ]
     },
     "execution_count": 8,
     "metadata": {},
     "output_type": "execute_result"
    }
   ],
   "source": [
    "scores['test_score'].mean(), scores['test_score'].std() "
   ]
  },
  {
   "cell_type": "markdown",
   "metadata": {},
   "source": [
    "Which beats the score without it. I think the power of this feature will be more visible once we throw the lagged features in the mix, so let's see that."
   ]
  },
  {
   "cell_type": "code",
   "execution_count": 9,
   "metadata": {},
   "outputs": [
    {
     "data": {
      "text/html": [
       "<div>\n",
       "<style scoped>\n",
       "    .dataframe tbody tr th:only-of-type {\n",
       "        vertical-align: middle;\n",
       "    }\n",
       "\n",
       "    .dataframe tbody tr th {\n",
       "        vertical-align: top;\n",
       "    }\n",
       "\n",
       "    .dataframe thead th {\n",
       "        text-align: right;\n",
       "    }\n",
       "</style>\n",
       "<table border=\"1\" class=\"dataframe\">\n",
       "  <thead>\n",
       "    <tr style=\"text-align: right;\">\n",
       "      <th></th>\n",
       "      <th>date_block_num</th>\n",
       "      <th>item_id</th>\n",
       "      <th>shop_id</th>\n",
       "      <th>item_cnt</th>\n",
       "      <th>cat__item_id</th>\n",
       "      <th>cat__shop_id</th>\n",
       "      <th>cat__date_block_num</th>\n",
       "      <th>item_cnt_lag_1</th>\n",
       "      <th>item_cnt_lag_2</th>\n",
       "      <th>item_cnt_lag_3</th>\n",
       "      <th>...</th>\n",
       "      <th>item_cnt_lag_14</th>\n",
       "      <th>item_cnt_lag_15</th>\n",
       "      <th>item_cnt_lag_16</th>\n",
       "      <th>item_cnt_lag_17</th>\n",
       "      <th>item_cnt_lag_18</th>\n",
       "      <th>month_id</th>\n",
       "      <th>year_id</th>\n",
       "      <th>item_category_id</th>\n",
       "      <th>cat__category_name</th>\n",
       "      <th>cat__subcategory_name</th>\n",
       "    </tr>\n",
       "  </thead>\n",
       "  <tbody>\n",
       "    <tr>\n",
       "      <th>0</th>\n",
       "      <td>0</td>\n",
       "      <td>33</td>\n",
       "      <td>2</td>\n",
       "      <td>1.0</td>\n",
       "      <td>33</td>\n",
       "      <td>2</td>\n",
       "      <td>0</td>\n",
       "      <td>0.0</td>\n",
       "      <td>0.0</td>\n",
       "      <td>0.0</td>\n",
       "      <td>...</td>\n",
       "      <td>0.0</td>\n",
       "      <td>0.0</td>\n",
       "      <td>0.0</td>\n",
       "      <td>0.0</td>\n",
       "      <td>0.0</td>\n",
       "      <td>0</td>\n",
       "      <td>0</td>\n",
       "      <td>37</td>\n",
       "      <td>9</td>\n",
       "      <td>1</td>\n",
       "    </tr>\n",
       "    <tr>\n",
       "      <th>1</th>\n",
       "      <td>0</td>\n",
       "      <td>317</td>\n",
       "      <td>2</td>\n",
       "      <td>1.0</td>\n",
       "      <td>317</td>\n",
       "      <td>2</td>\n",
       "      <td>0</td>\n",
       "      <td>0.0</td>\n",
       "      <td>0.0</td>\n",
       "      <td>0.0</td>\n",
       "      <td>...</td>\n",
       "      <td>0.0</td>\n",
       "      <td>0.0</td>\n",
       "      <td>0.0</td>\n",
       "      <td>0.0</td>\n",
       "      <td>0.0</td>\n",
       "      <td>0</td>\n",
       "      <td>0</td>\n",
       "      <td>45</td>\n",
       "      <td>10</td>\n",
       "      <td>25</td>\n",
       "    </tr>\n",
       "    <tr>\n",
       "      <th>2</th>\n",
       "      <td>0</td>\n",
       "      <td>438</td>\n",
       "      <td>2</td>\n",
       "      <td>1.0</td>\n",
       "      <td>438</td>\n",
       "      <td>2</td>\n",
       "      <td>0</td>\n",
       "      <td>0.0</td>\n",
       "      <td>0.0</td>\n",
       "      <td>0.0</td>\n",
       "      <td>...</td>\n",
       "      <td>0.0</td>\n",
       "      <td>0.0</td>\n",
       "      <td>0.0</td>\n",
       "      <td>0.0</td>\n",
       "      <td>0.0</td>\n",
       "      <td>0</td>\n",
       "      <td>0</td>\n",
       "      <td>45</td>\n",
       "      <td>10</td>\n",
       "      <td>25</td>\n",
       "    </tr>\n",
       "    <tr>\n",
       "      <th>3</th>\n",
       "      <td>0</td>\n",
       "      <td>471</td>\n",
       "      <td>2</td>\n",
       "      <td>2.0</td>\n",
       "      <td>471</td>\n",
       "      <td>2</td>\n",
       "      <td>0</td>\n",
       "      <td>0.0</td>\n",
       "      <td>0.0</td>\n",
       "      <td>0.0</td>\n",
       "      <td>...</td>\n",
       "      <td>0.0</td>\n",
       "      <td>0.0</td>\n",
       "      <td>0.0</td>\n",
       "      <td>0.0</td>\n",
       "      <td>0.0</td>\n",
       "      <td>0</td>\n",
       "      <td>0</td>\n",
       "      <td>49</td>\n",
       "      <td>10</td>\n",
       "      <td>38</td>\n",
       "    </tr>\n",
       "    <tr>\n",
       "      <th>4</th>\n",
       "      <td>0</td>\n",
       "      <td>481</td>\n",
       "      <td>2</td>\n",
       "      <td>1.0</td>\n",
       "      <td>481</td>\n",
       "      <td>2</td>\n",
       "      <td>0</td>\n",
       "      <td>0.0</td>\n",
       "      <td>0.0</td>\n",
       "      <td>0.0</td>\n",
       "      <td>...</td>\n",
       "      <td>0.0</td>\n",
       "      <td>0.0</td>\n",
       "      <td>0.0</td>\n",
       "      <td>0.0</td>\n",
       "      <td>0.0</td>\n",
       "      <td>0</td>\n",
       "      <td>0</td>\n",
       "      <td>49</td>\n",
       "      <td>10</td>\n",
       "      <td>38</td>\n",
       "    </tr>\n",
       "  </tbody>\n",
       "</table>\n",
       "<p>5 rows × 30 columns</p>\n",
       "</div>"
      ],
      "text/plain": [
       "   date_block_num  item_id  shop_id  item_cnt  cat__item_id  cat__shop_id  \\\n",
       "0               0       33        2       1.0            33             2   \n",
       "1               0      317        2       1.0           317             2   \n",
       "2               0      438        2       1.0           438             2   \n",
       "3               0      471        2       2.0           471             2   \n",
       "4               0      481        2       1.0           481             2   \n",
       "\n",
       "   cat__date_block_num  item_cnt_lag_1  item_cnt_lag_2  item_cnt_lag_3  ...  \\\n",
       "0                    0             0.0             0.0             0.0  ...   \n",
       "1                    0             0.0             0.0             0.0  ...   \n",
       "2                    0             0.0             0.0             0.0  ...   \n",
       "3                    0             0.0             0.0             0.0  ...   \n",
       "4                    0             0.0             0.0             0.0  ...   \n",
       "\n",
       "   item_cnt_lag_14  item_cnt_lag_15  item_cnt_lag_16  item_cnt_lag_17  \\\n",
       "0              0.0              0.0              0.0              0.0   \n",
       "1              0.0              0.0              0.0              0.0   \n",
       "2              0.0              0.0              0.0              0.0   \n",
       "3              0.0              0.0              0.0              0.0   \n",
       "4              0.0              0.0              0.0              0.0   \n",
       "\n",
       "   item_cnt_lag_18  month_id  year_id  item_category_id  cat__category_name  \\\n",
       "0              0.0         0        0                37                   9   \n",
       "1              0.0         0        0                45                  10   \n",
       "2              0.0         0        0                45                  10   \n",
       "3              0.0         0        0                49                  10   \n",
       "4              0.0         0        0                49                  10   \n",
       "\n",
       "   cat__subcategory_name  \n",
       "0                      1  \n",
       "1                     25  \n",
       "2                     25  \n",
       "3                     38  \n",
       "4                     38  \n",
       "\n",
       "[5 rows x 30 columns]"
      ]
     },
     "execution_count": 9,
     "metadata": {},
     "output_type": "execute_result"
    }
   ],
   "source": [
    "train_set_full = pd.read_parquet(os.path.join(PROCESSED_DATA_DIR, 'train-set-base-cats-item-cnt-lagged-date-ids.parquet'))\n",
    "train_set_full_cat_metadata = train_set_full.merge(item_categories_metadata.drop(columns=['category_name', 'subcategory_name']), on='item_id', how='left', sort=False)\n",
    "train_set_full_cat_metadata.head()"
   ]
  },
  {
   "cell_type": "code",
   "execution_count": 10,
   "metadata": {},
   "outputs": [
    {
     "name": "stderr",
     "output_type": "stream",
     "text": [
      "[Parallel(n_jobs=-1)]: Using backend LokyBackend with 12 concurrent workers.\n",
      "[Parallel(n_jobs=-1)]: Done   3 out of   3 | elapsed:  3.7min finished\n"
     ]
    },
    {
     "data": {
      "text/plain": [
       "{'fit_time': array([206.61573505, 210.17860579, 215.39448953]),\n",
       " 'score_time': array([0.19201756, 0.17068624, 0.17363071]),\n",
       " 'test_score': array([-1.55400961, -2.00968467, -2.12546095]),\n",
       " 'train_score': array([-1.82507594, -1.81249815, -1.80803364])}"
      ]
     },
     "execution_count": 10,
     "metadata": {},
     "output_type": "execute_result"
    }
   ],
   "source": [
    "X_train, y_train = df_to_features_matrix(train_set_full_cat_metadata), train_set_full_cat_metadata['item_cnt'].values\n",
    "scores = cross_validate(reg, X=X_train, y=y_train,\n",
    "                        scoring='neg_root_mean_squared_error', verbose=2, n_jobs=-1, \n",
    "                        cv=cv_splits, return_train_score=True)\n",
    "scores"
   ]
  },
  {
   "cell_type": "code",
   "execution_count": 11,
   "metadata": {},
   "outputs": [
    {
     "data": {
      "text/plain": [
       "(-1.8963850772011142, 0.2466667902439824)"
      ]
     },
     "execution_count": 11,
     "metadata": {},
     "output_type": "execute_result"
    }
   ],
   "source": [
    "scores['test_score'].mean(), scores['test_score'].std() "
   ]
  },
  {
   "cell_type": "markdown",
   "metadata": {},
   "source": [
    "A little bit better, but the benchmark model is still a lot better due to the added fake data being all zero. We should investigate it further to take full advantage of that, otherwise we'll keep inching towards the benchmark model."
   ]
  }
 ],
 "metadata": {
  "kernelspec": {
   "display_name": "Python 3",
   "language": "python",
   "name": "python3"
  },
  "language_info": {
   "codemirror_mode": {
    "name": "ipython",
    "version": 3
   },
   "file_extension": ".py",
   "mimetype": "text/x-python",
   "name": "python",
   "nbconvert_exporter": "python",
   "pygments_lexer": "ipython3",
   "version": "3.8.2"
  }
 },
 "nbformat": 4,
 "nbformat_minor": 4
}
