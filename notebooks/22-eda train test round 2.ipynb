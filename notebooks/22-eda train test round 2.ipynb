{
 "cells": [
  {
   "cell_type": "code",
   "execution_count": 1,
   "metadata": {},
   "outputs": [
    {
     "name": "stdout",
     "output_type": "stream",
     "text": [
      "Versions:\n",
      "  Python: 3.8.2 (default, Jul 16 2020, 14:00:26) \n",
      "[GCC 9.3.0]\n",
      "  pandas: 1.1.2\n",
      "  numpy: 1.19.2\n",
      "  seaborn: 0.11.0\n",
      "  sklearn: 0.23.2\n"
     ]
    }
   ],
   "source": [
    "%load_ext autoreload\n",
    "%autoreload 2\n",
    "\n",
    "import os\n",
    "import sys\n",
    "\n",
    "import pandas as pd\n",
    "import numpy as np\n",
    "import seaborn as sns\n",
    "import matplotlib.pyplot as plt\n",
    "import sklearn\n",
    "import scipy\n",
    "from tqdm.auto import tqdm, trange\n",
    "import xgboost as xgb\n",
    "import joblib\n",
    "from sklearn.model_selection import cross_validate\n",
    "import zipfile\n",
    "\n",
    "from src.model import tscv, ClippedOutputRegressor\n",
    "from src.data import get_feature_cols, df_to_X_y, drop_non_features, add_lagged_features, add_as_features, df_to_X\n",
    "\n",
    "\n",
    "%run constants.py\n",
    "\n",
    "baseline_reg = joblib.load(os.path.join(MODELS_DIR, 'xgb-baseline.model'))\n",
    "\n",
    "%matplotlib inline\n",
    "print(\"Versions:\")\n",
    "print(\"  Python: %s\" % sys.version)\n",
    "for module in [pd, np, sns, sklearn]:\n",
    "    print(\"  %s: %s\" %(module.__name__, module.__version__))"
   ]
  },
  {
   "cell_type": "markdown",
   "metadata": {},
   "source": [
    "After some experimenting I noticed one feature I added was making the LB score and our validation score diverge more. I removed it and moved on, but this got me thinking about the reason and, while it seems obvious now, it wasn't that obvious before because I thought I was taking proper care to be able to use it.\n",
    "\n",
    "The feature was the number of months since the shop had a sale. While in train data there were shops with different month counts, there wasn't any in the test set. This invalidated our most basic requirement that the test data came from the same distribution as the train data. I didn't think that would happen because I thought using the samples from the test data over other months was enough, but turns out this makes some specific features to appear wrong.\n",
    "\n",
    "We can see this behavior on our feature set:"
   ]
  },
  {
   "cell_type": "code",
   "execution_count": 7,
   "metadata": {},
   "outputs": [],
   "source": [
    "test_set = pd.read_parquet(os.path.join(PROCESSED_DATA_DIR, 'test-set.parquet'))\n",
    "sales_train = pd.read_parquet(os.path.join(PROCESSED_DATA_DIR, 'sales-train.parquet'))"
   ]
  },
  {
   "cell_type": "code",
   "execution_count": 22,
   "metadata": {},
   "outputs": [
    {
     "data": {
      "image/png": "[encoded data removed]",
      "text/plain": [
       "<Figure size 432x288 with 4 Axes>"
      ]
     },
     "metadata": {
      "needs_background": "light"
     },
     "output_type": "display_data"
    }
   ],
   "source": [
    "f, axes = plt.subplots(4, 1, sharex=True)\n",
    "for i, month in enumerate([31, 32, 33, 34]):\n",
    "    month_df = sales_train[sales_train['date_block_num'] < month]\\\n",
    "        .groupby('shop_id')['date_block_num'].max().reset_index()\n",
    "    month_df.rename(columns={'date_block_num': 'shop_id_last_seen'}, inplace=True)\n",
    "    samples = test_set[['item_id', 'shop_id']].copy()\n",
    "    df = samples.merge(month_df, on='shop_id', how='left').fillna(999)\n",
    "    sns.histplot(df['shop_id_last_seen'], ax=axes[i])\n",
    "plt.tight_layout()"
   ]
  },
  {
   "cell_type": "markdown",
   "metadata": {},
   "source": [
    "This is because the shops from the test set are chosen from the last month, so it doesn't make a lot of sense to test for the last time the shop was seen.\n",
    "\n",
    "This can be happening with other features too, such as the item id version of it. A solution might be to try again to brute force the generating function of the test samples. Let's start by double checking if the pairs are just all possible combinations of the chosen shops and items."
   ]
  },
  {
   "cell_type": "code",
   "execution_count": 47,
   "metadata": {},
   "outputs": [
    {
     "data": {
      "text/plain": [
       "214200"
      ]
     },
     "execution_count": 47,
     "metadata": {},
     "output_type": "execute_result"
    }
   ],
   "source": [
    "test_shops = np.sort(test_set['shop_id'].unique())\n",
    "test_items = np.sort(test_set['item_id'].unique())\n",
    "test_shops.shape[0] * test_items.shape[0]"
   ]
  },
  {
   "cell_type": "code",
   "execution_count": 48,
   "metadata": {},
   "outputs": [
    {
     "data": {
      "text/plain": [
       "214200"
      ]
     },
     "execution_count": 48,
     "metadata": {},
     "output_type": "execute_result"
    }
   ],
   "source": [
    "test_set.shape[0]"
   ]
  },
  {
   "cell_type": "markdown",
   "metadata": {},
   "source": [
    "Ok, now we just have to find the generating function for the independent shop ids and item ids. We have a hint for the shop id, which shold be the shops seen on the last train month."
   ]
  },
  {
   "cell_type": "code",
   "execution_count": 66,
   "metadata": {},
   "outputs": [
    {
     "data": {
      "text/plain": [
       "(array([ 9, 20]), array([], dtype=int64))"
      ]
     },
     "execution_count": 66,
     "metadata": {},
     "output_type": "execute_result"
    }
   ],
   "source": [
    "shops_month_33 = sales_train[sales_train['date_block_num'] == 33]['shop_id'].unique()\n",
    "np.setdiff1d(shops_month_33, test_shops), np.setdiff1d(test_shops, shops_month_33)"
   ]
  },
  {
   "cell_type": "markdown",
   "metadata": {},
   "source": [
    "Ok, shops 9 and 20 were not present, so it's possible that a shop disappears from one month to the other. To account for this, let's limit the train set shop ids to just the ones seen on the test set and, after filtering it, we will only keep a shop if it was seen on the previous month."
   ]
  },
  {
   "cell_type": "code",
   "execution_count": 50,
   "metadata": {},
   "outputs": [
    {
     "data": {
      "application/vnd.jupyter.widget-view+json": {
       "model_id": "1384cf254b0240d89847c9d462bc5b43",
       "version_major": 2,
       "version_minor": 0
      },
      "text/plain": [
       "HBox(children=(FloatProgress(value=0.0, max=35.0), HTML(value='')))"
      ]
     },
     "metadata": {},
     "output_type": "display_data"
    },
    {
     "name": "stdout",
     "output_type": "stream",
     "text": [
      "\n"
     ]
    },
    {
     "data": {
      "text/html": [
       "<div>\n",
       "<style scoped>\n",
       "    .dataframe tbody tr th:only-of-type {\n",
       "        vertical-align: middle;\n",
       "    }\n",
       "\n",
       "    .dataframe tbody tr th {\n",
       "        vertical-align: top;\n",
       "    }\n",
       "\n",
       "    .dataframe thead th {\n",
       "        text-align: right;\n",
       "    }\n",
       "</style>\n",
       "<table border=\"1\" class=\"dataframe\">\n",
       "  <thead>\n",
       "    <tr style=\"text-align: right;\">\n",
       "      <th></th>\n",
       "      <th>shop_id</th>\n",
       "      <th>date_block_num</th>\n",
       "    </tr>\n",
       "  </thead>\n",
       "  <tbody>\n",
       "    <tr>\n",
       "      <th>count</th>\n",
       "      <td>1470</td>\n",
       "      <td>1470</td>\n",
       "    </tr>\n",
       "    <tr>\n",
       "      <th>unique</th>\n",
       "      <td>42</td>\n",
       "      <td>35</td>\n",
       "    </tr>\n",
       "    <tr>\n",
       "      <th>top</th>\n",
       "      <td>59</td>\n",
       "      <td>34</td>\n",
       "    </tr>\n",
       "    <tr>\n",
       "      <th>freq</th>\n",
       "      <td>35</td>\n",
       "      <td>42</td>\n",
       "    </tr>\n",
       "  </tbody>\n",
       "</table>\n",
       "</div>"
      ],
      "text/plain": [
       "        shop_id  date_block_num\n",
       "count      1470            1470\n",
       "unique       42              35\n",
       "top          59              34\n",
       "freq         35              42"
      ]
     },
     "execution_count": 50,
     "metadata": {},
     "output_type": "execute_result"
    }
   ],
   "source": [
    "train_set_shops = pd.DataFrame(columns=['shop_id', 'date_block_num'])\n",
    "shops_sales_train = sales_train[['shop_id', 'date_block_num']].drop_duplicates()\n",
    "\n",
    "for month in trange(0, 35): # including test month for debugging\n",
    "    candidates = pd.DataFrame({'shop_id': test_shops, 'date_block_num': month - 1})\n",
    "    candidates.merge(shops_sales_train, on=['shop_id', 'date_block_num'])\n",
    "    candidates['date_block_num'] = month\n",
    "    train_set_shops = train_set_shops.append(candidates)\n",
    "train_set_shops.describe()"
   ]
  },
  {
   "cell_type": "markdown",
   "metadata": {},
   "source": [
    "Let's check if the generated shop ids for the test set month match the original."
   ]
  },
  {
   "cell_type": "code",
   "execution_count": 77,
   "metadata": {},
   "outputs": [
    {
     "data": {
      "text/plain": [
       "(array([1, 2, 1, 2, 1, 2]), array([1, 1, 2, 2, 3, 3]))"
      ]
     },
     "execution_count": 77,
     "metadata": {},
     "output_type": "execute_result"
    }
   ],
   "source": [
    "np.tile([1, 2], 3), np.repeat([1, 2, 3], 2)"
   ]
  },
  {
   "cell_type": "code",
   "execution_count": 51,
   "metadata": {},
   "outputs": [
    {
     "data": {
      "text/plain": [
       "True"
      ]
     },
     "execution_count": 51,
     "metadata": {},
     "output_type": "execute_result"
    }
   ],
   "source": [
    "np.equal(train_set_shops[train_set_shops['date_block_num'] == 34]['shop_id'], test_shops).all()"
   ]
  },
  {
   "cell_type": "markdown",
   "metadata": {},
   "source": [
    "Great. We can drop the test month and continue to investigate the item ids."
   ]
  },
  {
   "cell_type": "code",
   "execution_count": 65,
   "metadata": {},
   "outputs": [
    {
     "data": {
      "text/plain": [
       "((1422,), (1109,))"
      ]
     },
     "execution_count": 65,
     "metadata": {},
     "output_type": "execute_result"
    }
   ],
   "source": [
    "items_month_33 = np.sort(sales_train[sales_train['date_block_num'] == 33]['item_id'].unique())\n",
    "np.setdiff1d(items_month_33, test_items).shape, np.setdiff1d(test_items, items_month_33).shape"
   ]
  },
  {
   "cell_type": "markdown",
   "metadata": {},
   "source": [
    "Ok. Items are not bound to have appeared on the last month. Let's see how many months we have to include to have all of them."
   ]
  },
  {
   "cell_type": "code",
   "execution_count": 67,
   "metadata": {},
   "outputs": [
    {
     "data": {
      "text/plain": [
       "(34, 363)"
      ]
     },
     "execution_count": 67,
     "metadata": {},
     "output_type": "execute_result"
    }
   ],
   "source": [
    "for window in range(1, 35):\n",
    "    items_train = sales_train[sales_train['date_block_num'] > 33 - window]['item_id'].unique()\n",
    "    if np.setdiff1d(test_items, items_train).shape[0] == 0:\n",
    "        break\n",
    "window, np.setdiff1d(test_items, items_train).shape[0]"
   ]
  },
  {
   "cell_type": "markdown",
   "metadata": {},
   "source": [
    "So there are new items on the test set, but there's also items that are discontinued on the test set."
   ]
  },
  {
   "cell_type": "code",
   "execution_count": 71,
   "metadata": {},
   "outputs": [
    {
     "data": {
      "text/plain": [
       "(5413, 5100)"
      ]
     },
     "execution_count": 71,
     "metadata": {},
     "output_type": "execute_result"
    }
   ],
   "source": [
    "items_month_33.shape[0], test_items.shape[0]"
   ]
  },
  {
   "cell_type": "markdown",
   "metadata": {},
   "source": [
    "Maybe the test items are actually from sales that happened during that month. Let's see if the numbers make sense in a time series."
   ]
  },
  {
   "cell_type": "code",
   "execution_count": 74,
   "metadata": {},
   "outputs": [
    {
     "data": {
      "text/plain": [
       "<AxesSubplot:>"
      ]
     },
     "execution_count": 74,
     "metadata": {},
     "output_type": "execute_result"
    },
    {
     "data": {
      "image/png": "[encoded data removed]",
      "text/plain": [
       "<Figure size 432x288 with 1 Axes>"
      ]
     },
     "metadata": {
      "needs_background": "light"
     },
     "output_type": "display_data"
    }
   ],
   "source": [
    "def items_in_month(month):\n",
    "    return sales_train[sales_train['date_block_num'] == month]['item_id'].unique()\n",
    "\n",
    "items_month = [items_in_month(month).shape[0] for month in range(1, 34)]\n",
    "new_items_per_month = [np.setdiff1d(items_in_month(month), items_in_month(month - 1)).shape[0] for month in range(1, 34)]\n",
    "discontinued_items_per_month = [np.setdiff1d(items_in_month(month - 1), items_in_month(month)).shape[0] for month in range(1, 34)]\n",
    "\n",
    "items_month.append(test_items.shape[0])\n",
    "new_items_per_month.append(np.setdiff1d(test_items, items_month_33).shape[0])\n",
    "discontinued_items_per_month.append(np.setdiff1d(items_month_33, test_items).shape[0])\n",
    "\n",
    "df = pd.DataFrame({'items_month': items_month,\n",
    "                  'n_new_items': new_items_per_month,\n",
    "                  'n_discontinued_items': discontinued_items_per_month})\n",
    "df.plot()"
   ]
  },
  {
   "cell_type": "markdown",
   "metadata": {},
   "source": [
    "It does make sense, so it might also make sense to just use the items that appear in a month for the train set."
   ]
  }
 ],
 "metadata": {
  "kernelspec": {
   "display_name": "Python 3",
   "language": "python",
   "name": "python3"
  },
  "language_info": {
   "codemirror_mode": {
    "name": "ipython",
    "version": 3
   },
   "file_extension": ".py",
   "mimetype": "text/x-python",
   "name": "python",
   "nbconvert_exporter": "python",
   "pygments_lexer": "ipython3",
   "version": "3.8.2"
  }
 },
 "nbformat": 4,
 "nbformat_minor": 4
}
