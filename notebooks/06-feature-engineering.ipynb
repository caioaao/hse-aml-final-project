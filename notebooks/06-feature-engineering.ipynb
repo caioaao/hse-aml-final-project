{
 "cells": [
  {
   "cell_type": "code",
   "execution_count": 28,
   "metadata": {},
   "outputs": [
    {
     "name": "stdout",
     "output_type": "stream",
     "text": [
      "The autoreload extension is already loaded. To reload it, use:\n",
      "  %reload_ext autoreload\n",
      "Versions:\n",
      "  Python: 3.8.2 (default, Jul 16 2020, 14:00:26) \n",
      "[GCC 9.3.0]\n",
      "  pandas: 1.1.0\n",
      "  numpy: 1.19.1\n",
      "  seaborn: 0.10.1\n",
      "  sklearn: 0.23.2\n",
      "  altair: 4.1.0\n"
     ]
    }
   ],
   "source": [
    "%load_ext autoreload\n",
    "%autoreload 2\n",
    "\n",
    "import os\n",
    "import sys\n",
    "\n",
    "import pandas as pd\n",
    "import numpy as np\n",
    "import seaborn as sns\n",
    "import matplotlib.pyplot as plt\n",
    "import sklearn\n",
    "import scipy\n",
    "import altair as alt\n",
    "from altair import datum\n",
    "from tqdm.auto import tqdm, trange\n",
    "\n",
    "from src.model import tscv\n",
    "from src.model.metrics import corrected_rmse_score\n",
    "from src.feature_engineering import add_lagged_features, drop_non_features, add_as_features, add_as_cat_features\n",
    "from src.functional import comp, partial\n",
    "\n",
    "%run constants.py\n",
    "\n",
    "%matplotlib inline\n",
    "print(\"Versions:\")\n",
    "print(\"  Python: %s\" % sys.version)\n",
    "for module in [pd, np, sns, sklearn, alt]:\n",
    "    print(\"  %s: %s\" %(module.__name__, module.__version__))"
   ]
  },
  {
   "cell_type": "markdown",
   "metadata": {},
   "source": [
    "# Feature Engineering\n",
    "\n",
    "Let's first load our train and test sets and set up our CV split."
   ]
  },
  {
   "cell_type": "code",
   "execution_count": 29,
   "metadata": {},
   "outputs": [],
   "source": [
    "import zipfile\n",
    "with zipfile.ZipFile(os.path.join(RAW_DATA_DIR, 'competitive-data-science-predict-future-sales.zip'), 'r') as datasets_file:\n",
    "    test_set = pd.read_csv(datasets_file.open('test.csv'))\n",
    "train_set = pd.read_parquet(os.path.join(PROCESSED_DATA_DIR, 'train-set.parquet'))\n",
    "test_subset = pd.read_parquet(os.path.join(PROCESSED_DATA_DIR, 'test-subset.parquet'))\n",
    "sales_train_by_month = pd.read_parquet(os.path.join(PROCESSED_DATA_DIR, 'sales-train-by-month.parquet'))\n",
    "cv_splits = tscv.split(train_set['date_block_num'].values)"
   ]
  },
  {
   "cell_type": "markdown",
   "metadata": {},
   "source": [
    "Now let's start with the obvious one: the item counts. I wrote a function that calculates lagged features from a dataset.\n",
    "\n",
    "Since we're dealing with lagged features, early months won't have any. Let's cut it down by half on both the window of lagged features and the train window for now."
   ]
  },
  {
   "cell_type": "code",
   "execution_count": 3,
   "metadata": {},
   "outputs": [
    {
     "data": {
      "application/vnd.jupyter.widget-view+json": {
       "model_id": "f9d3a16690dc4968b53e69253a90e842",
       "version_major": 2,
       "version_minor": 0
      },
      "text/plain": [
       "HBox(children=(FloatProgress(value=0.0, max=18.0), HTML(value='')))"
      ]
     },
     "metadata": {},
     "output_type": "display_data"
    },
    {
     "name": "stdout",
     "output_type": "stream",
     "text": [
      "\n"
     ]
    },
    {
     "data": {
      "application/vnd.jupyter.widget-view+json": {
       "model_id": "59a576cafa9347b09b8b6f0227134b75",
       "version_major": 2,
       "version_minor": 0
      },
      "text/plain": [
       "HBox(children=(FloatProgress(value=0.0, max=18.0), HTML(value='')))"
      ]
     },
     "metadata": {},
     "output_type": "display_data"
    },
    {
     "name": "stdout",
     "output_type": "stream",
     "text": [
      "\n"
     ]
    }
   ],
   "source": [
    "cv_splits_w18 = tscv.split(train_set['date_block_num'].values, window=18)\n",
    "train_set_w18 = add_lagged_features(train_set, sales_train_by_month, 'item_cnt', max_lag=18)\n",
    "test_subset_w18 = add_lagged_features(test_subset, sales_train_by_month, 'item_cnt', max_lag=18)"
   ]
  },
  {
   "cell_type": "code",
   "execution_count": 4,
   "metadata": {},
   "outputs": [
    {
     "data": {
      "text/html": [
       "<div>\n",
       "<style scoped>\n",
       "    .dataframe tbody tr th:only-of-type {\n",
       "        vertical-align: middle;\n",
       "    }\n",
       "\n",
       "    .dataframe tbody tr th {\n",
       "        vertical-align: top;\n",
       "    }\n",
       "\n",
       "    .dataframe thead th {\n",
       "        text-align: right;\n",
       "    }\n",
       "</style>\n",
       "<table border=\"1\" class=\"dataframe\">\n",
       "  <thead>\n",
       "    <tr style=\"text-align: right;\">\n",
       "      <th></th>\n",
       "      <th>date_block_num</th>\n",
       "      <th>item_id</th>\n",
       "      <th>shop_id</th>\n",
       "      <th>item_cnt_month</th>\n",
       "      <th>f__item_cnt_1</th>\n",
       "      <th>f__item_cnt_2</th>\n",
       "      <th>f__item_cnt_3</th>\n",
       "      <th>f__item_cnt_4</th>\n",
       "      <th>f__item_cnt_5</th>\n",
       "      <th>f__item_cnt_6</th>\n",
       "      <th>...</th>\n",
       "      <th>f__item_cnt_9</th>\n",
       "      <th>f__item_cnt_10</th>\n",
       "      <th>f__item_cnt_11</th>\n",
       "      <th>f__item_cnt_12</th>\n",
       "      <th>f__item_cnt_13</th>\n",
       "      <th>f__item_cnt_14</th>\n",
       "      <th>f__item_cnt_15</th>\n",
       "      <th>f__item_cnt_16</th>\n",
       "      <th>f__item_cnt_17</th>\n",
       "      <th>f__item_cnt_18</th>\n",
       "    </tr>\n",
       "  </thead>\n",
       "  <tbody>\n",
       "    <tr>\n",
       "      <th>count</th>\n",
       "      <td>1.609124e+06</td>\n",
       "      <td>1.609124e+06</td>\n",
       "      <td>1.609124e+06</td>\n",
       "      <td>1.609124e+06</td>\n",
       "      <td>1.609124e+06</td>\n",
       "      <td>1.609124e+06</td>\n",
       "      <td>1.609124e+06</td>\n",
       "      <td>1.609124e+06</td>\n",
       "      <td>1.609124e+06</td>\n",
       "      <td>1.609124e+06</td>\n",
       "      <td>...</td>\n",
       "      <td>1.609124e+06</td>\n",
       "      <td>1.609124e+06</td>\n",
       "      <td>1.609124e+06</td>\n",
       "      <td>1.609124e+06</td>\n",
       "      <td>1.609124e+06</td>\n",
       "      <td>1.609124e+06</td>\n",
       "      <td>1.609124e+06</td>\n",
       "      <td>1.609124e+06</td>\n",
       "      <td>1.609124e+06</td>\n",
       "      <td>1.609124e+06</td>\n",
       "    </tr>\n",
       "    <tr>\n",
       "      <th>mean</th>\n",
       "      <td>1.466479e+01</td>\n",
       "      <td>1.068099e+04</td>\n",
       "      <td>3.280585e+01</td>\n",
       "      <td>2.022806e+00</td>\n",
       "      <td>1.454636e+00</td>\n",
       "      <td>1.288606e+00</td>\n",
       "      <td>1.153339e+00</td>\n",
       "      <td>1.047351e+00</td>\n",
       "      <td>9.614697e-01</td>\n",
       "      <td>8.883274e-01</td>\n",
       "      <td>...</td>\n",
       "      <td>6.866053e-01</td>\n",
       "      <td>6.256970e-01</td>\n",
       "      <td>5.632481e-01</td>\n",
       "      <td>5.133849e-01</td>\n",
       "      <td>4.563769e-01</td>\n",
       "      <td>4.128818e-01</td>\n",
       "      <td>3.723100e-01</td>\n",
       "      <td>3.363905e-01</td>\n",
       "      <td>3.056452e-01</td>\n",
       "      <td>2.770955e-01</td>\n",
       "    </tr>\n",
       "    <tr>\n",
       "      <th>std</th>\n",
       "      <td>9.542322e+00</td>\n",
       "      <td>6.238883e+03</td>\n",
       "      <td>1.653701e+01</td>\n",
       "      <td>2.577964e+00</td>\n",
       "      <td>7.989895e+00</td>\n",
       "      <td>7.630533e+00</td>\n",
       "      <td>7.427049e+00</td>\n",
       "      <td>7.354710e+00</td>\n",
       "      <td>7.217674e+00</td>\n",
       "      <td>7.059026e+00</td>\n",
       "      <td>...</td>\n",
       "      <td>6.602638e+00</td>\n",
       "      <td>6.421906e+00</td>\n",
       "      <td>6.058962e+00</td>\n",
       "      <td>5.836906e+00</td>\n",
       "      <td>5.658653e+00</td>\n",
       "      <td>5.348509e+00</td>\n",
       "      <td>5.066624e+00</td>\n",
       "      <td>5.028181e+00</td>\n",
       "      <td>4.846775e+00</td>\n",
       "      <td>4.738297e+00</td>\n",
       "    </tr>\n",
       "    <tr>\n",
       "      <th>min</th>\n",
       "      <td>0.000000e+00</td>\n",
       "      <td>0.000000e+00</td>\n",
       "      <td>0.000000e+00</td>\n",
       "      <td>0.000000e+00</td>\n",
       "      <td>-2.200000e+01</td>\n",
       "      <td>-2.200000e+01</td>\n",
       "      <td>-4.000000e+00</td>\n",
       "      <td>-4.000000e+00</td>\n",
       "      <td>-2.000000e+00</td>\n",
       "      <td>-4.000000e+00</td>\n",
       "      <td>...</td>\n",
       "      <td>-4.000000e+00</td>\n",
       "      <td>-4.000000e+00</td>\n",
       "      <td>-4.000000e+00</td>\n",
       "      <td>-2.000000e+00</td>\n",
       "      <td>-4.000000e+00</td>\n",
       "      <td>-4.000000e+00</td>\n",
       "      <td>-4.000000e+00</td>\n",
       "      <td>-4.000000e+00</td>\n",
       "      <td>-2.000000e+00</td>\n",
       "      <td>-4.000000e+00</td>\n",
       "    </tr>\n",
       "    <tr>\n",
       "      <th>25%</th>\n",
       "      <td>6.000000e+00</td>\n",
       "      <td>5.045000e+03</td>\n",
       "      <td>2.100000e+01</td>\n",
       "      <td>1.000000e+00</td>\n",
       "      <td>0.000000e+00</td>\n",
       "      <td>0.000000e+00</td>\n",
       "      <td>0.000000e+00</td>\n",
       "      <td>0.000000e+00</td>\n",
       "      <td>0.000000e+00</td>\n",
       "      <td>0.000000e+00</td>\n",
       "      <td>...</td>\n",
       "      <td>0.000000e+00</td>\n",
       "      <td>0.000000e+00</td>\n",
       "      <td>0.000000e+00</td>\n",
       "      <td>0.000000e+00</td>\n",
       "      <td>0.000000e+00</td>\n",
       "      <td>0.000000e+00</td>\n",
       "      <td>0.000000e+00</td>\n",
       "      <td>0.000000e+00</td>\n",
       "      <td>0.000000e+00</td>\n",
       "      <td>0.000000e+00</td>\n",
       "    </tr>\n",
       "    <tr>\n",
       "      <th>50%</th>\n",
       "      <td>1.400000e+01</td>\n",
       "      <td>1.049700e+04</td>\n",
       "      <td>3.100000e+01</td>\n",
       "      <td>1.000000e+00</td>\n",
       "      <td>0.000000e+00</td>\n",
       "      <td>0.000000e+00</td>\n",
       "      <td>0.000000e+00</td>\n",
       "      <td>0.000000e+00</td>\n",
       "      <td>0.000000e+00</td>\n",
       "      <td>0.000000e+00</td>\n",
       "      <td>...</td>\n",
       "      <td>0.000000e+00</td>\n",
       "      <td>0.000000e+00</td>\n",
       "      <td>0.000000e+00</td>\n",
       "      <td>0.000000e+00</td>\n",
       "      <td>0.000000e+00</td>\n",
       "      <td>0.000000e+00</td>\n",
       "      <td>0.000000e+00</td>\n",
       "      <td>0.000000e+00</td>\n",
       "      <td>0.000000e+00</td>\n",
       "      <td>0.000000e+00</td>\n",
       "    </tr>\n",
       "    <tr>\n",
       "      <th>75%</th>\n",
       "      <td>2.300000e+01</td>\n",
       "      <td>1.606000e+04</td>\n",
       "      <td>4.700000e+01</td>\n",
       "      <td>2.000000e+00</td>\n",
       "      <td>1.000000e+00</td>\n",
       "      <td>1.000000e+00</td>\n",
       "      <td>1.000000e+00</td>\n",
       "      <td>1.000000e+00</td>\n",
       "      <td>1.000000e+00</td>\n",
       "      <td>0.000000e+00</td>\n",
       "      <td>...</td>\n",
       "      <td>0.000000e+00</td>\n",
       "      <td>0.000000e+00</td>\n",
       "      <td>0.000000e+00</td>\n",
       "      <td>0.000000e+00</td>\n",
       "      <td>0.000000e+00</td>\n",
       "      <td>0.000000e+00</td>\n",
       "      <td>0.000000e+00</td>\n",
       "      <td>0.000000e+00</td>\n",
       "      <td>0.000000e+00</td>\n",
       "      <td>0.000000e+00</td>\n",
       "    </tr>\n",
       "    <tr>\n",
       "      <th>max</th>\n",
       "      <td>3.300000e+01</td>\n",
       "      <td>2.216900e+04</td>\n",
       "      <td>5.900000e+01</td>\n",
       "      <td>2.000000e+01</td>\n",
       "      <td>1.305000e+03</td>\n",
       "      <td>1.305000e+03</td>\n",
       "      <td>1.305000e+03</td>\n",
       "      <td>1.305000e+03</td>\n",
       "      <td>1.305000e+03</td>\n",
       "      <td>1.305000e+03</td>\n",
       "      <td>...</td>\n",
       "      <td>1.305000e+03</td>\n",
       "      <td>1.305000e+03</td>\n",
       "      <td>1.305000e+03</td>\n",
       "      <td>1.305000e+03</td>\n",
       "      <td>1.305000e+03</td>\n",
       "      <td>1.305000e+03</td>\n",
       "      <td>9.890000e+02</td>\n",
       "      <td>1.305000e+03</td>\n",
       "      <td>1.305000e+03</td>\n",
       "      <td>1.305000e+03</td>\n",
       "    </tr>\n",
       "  </tbody>\n",
       "</table>\n",
       "<p>8 rows × 22 columns</p>\n",
       "</div>"
      ],
      "text/plain": [
       "       date_block_num       item_id       shop_id  item_cnt_month  \\\n",
       "count    1.609124e+06  1.609124e+06  1.609124e+06    1.609124e+06   \n",
       "mean     1.466479e+01  1.068099e+04  3.280585e+01    2.022806e+00   \n",
       "std      9.542322e+00  6.238883e+03  1.653701e+01    2.577964e+00   \n",
       "min      0.000000e+00  0.000000e+00  0.000000e+00    0.000000e+00   \n",
       "25%      6.000000e+00  5.045000e+03  2.100000e+01    1.000000e+00   \n",
       "50%      1.400000e+01  1.049700e+04  3.100000e+01    1.000000e+00   \n",
       "75%      2.300000e+01  1.606000e+04  4.700000e+01    2.000000e+00   \n",
       "max      3.300000e+01  2.216900e+04  5.900000e+01    2.000000e+01   \n",
       "\n",
       "       f__item_cnt_1  f__item_cnt_2  f__item_cnt_3  f__item_cnt_4  \\\n",
       "count   1.609124e+06   1.609124e+06   1.609124e+06   1.609124e+06   \n",
       "mean    1.454636e+00   1.288606e+00   1.153339e+00   1.047351e+00   \n",
       "std     7.989895e+00   7.630533e+00   7.427049e+00   7.354710e+00   \n",
       "min    -2.200000e+01  -2.200000e+01  -4.000000e+00  -4.000000e+00   \n",
       "25%     0.000000e+00   0.000000e+00   0.000000e+00   0.000000e+00   \n",
       "50%     0.000000e+00   0.000000e+00   0.000000e+00   0.000000e+00   \n",
       "75%     1.000000e+00   1.000000e+00   1.000000e+00   1.000000e+00   \n",
       "max     1.305000e+03   1.305000e+03   1.305000e+03   1.305000e+03   \n",
       "\n",
       "       f__item_cnt_5  f__item_cnt_6  ...  f__item_cnt_9  f__item_cnt_10  \\\n",
       "count   1.609124e+06   1.609124e+06  ...   1.609124e+06    1.609124e+06   \n",
       "mean    9.614697e-01   8.883274e-01  ...   6.866053e-01    6.256970e-01   \n",
       "std     7.217674e+00   7.059026e+00  ...   6.602638e+00    6.421906e+00   \n",
       "min    -2.000000e+00  -4.000000e+00  ...  -4.000000e+00   -4.000000e+00   \n",
       "25%     0.000000e+00   0.000000e+00  ...   0.000000e+00    0.000000e+00   \n",
       "50%     0.000000e+00   0.000000e+00  ...   0.000000e+00    0.000000e+00   \n",
       "75%     1.000000e+00   0.000000e+00  ...   0.000000e+00    0.000000e+00   \n",
       "max     1.305000e+03   1.305000e+03  ...   1.305000e+03    1.305000e+03   \n",
       "\n",
       "       f__item_cnt_11  f__item_cnt_12  f__item_cnt_13  f__item_cnt_14  \\\n",
       "count    1.609124e+06    1.609124e+06    1.609124e+06    1.609124e+06   \n",
       "mean     5.632481e-01    5.133849e-01    4.563769e-01    4.128818e-01   \n",
       "std      6.058962e+00    5.836906e+00    5.658653e+00    5.348509e+00   \n",
       "min     -4.000000e+00   -2.000000e+00   -4.000000e+00   -4.000000e+00   \n",
       "25%      0.000000e+00    0.000000e+00    0.000000e+00    0.000000e+00   \n",
       "50%      0.000000e+00    0.000000e+00    0.000000e+00    0.000000e+00   \n",
       "75%      0.000000e+00    0.000000e+00    0.000000e+00    0.000000e+00   \n",
       "max      1.305000e+03    1.305000e+03    1.305000e+03    1.305000e+03   \n",
       "\n",
       "       f__item_cnt_15  f__item_cnt_16  f__item_cnt_17  f__item_cnt_18  \n",
       "count    1.609124e+06    1.609124e+06    1.609124e+06    1.609124e+06  \n",
       "mean     3.723100e-01    3.363905e-01    3.056452e-01    2.770955e-01  \n",
       "std      5.066624e+00    5.028181e+00    4.846775e+00    4.738297e+00  \n",
       "min     -4.000000e+00   -4.000000e+00   -2.000000e+00   -4.000000e+00  \n",
       "25%      0.000000e+00    0.000000e+00    0.000000e+00    0.000000e+00  \n",
       "50%      0.000000e+00    0.000000e+00    0.000000e+00    0.000000e+00  \n",
       "75%      0.000000e+00    0.000000e+00    0.000000e+00    0.000000e+00  \n",
       "max      9.890000e+02    1.305000e+03    1.305000e+03    1.305000e+03  \n",
       "\n",
       "[8 rows x 22 columns]"
      ]
     },
     "execution_count": 4,
     "metadata": {},
     "output_type": "execute_result"
    }
   ],
   "source": [
    "train_set_w18.describe()"
   ]
  },
  {
   "cell_type": "code",
   "execution_count": 5,
   "metadata": {},
   "outputs": [
    {
     "data": {
      "text/html": [
       "<div>\n",
       "<style scoped>\n",
       "    .dataframe tbody tr th:only-of-type {\n",
       "        vertical-align: middle;\n",
       "    }\n",
       "\n",
       "    .dataframe tbody tr th {\n",
       "        vertical-align: top;\n",
       "    }\n",
       "\n",
       "    .dataframe thead th {\n",
       "        text-align: right;\n",
       "    }\n",
       "</style>\n",
       "<table border=\"1\" class=\"dataframe\">\n",
       "  <thead>\n",
       "    <tr style=\"text-align: right;\">\n",
       "      <th></th>\n",
       "      <th>item_id</th>\n",
       "      <th>shop_id</th>\n",
       "      <th>date_block_num</th>\n",
       "      <th>f__item_cnt_1</th>\n",
       "      <th>f__item_cnt_2</th>\n",
       "      <th>f__item_cnt_3</th>\n",
       "      <th>f__item_cnt_4</th>\n",
       "      <th>f__item_cnt_5</th>\n",
       "      <th>f__item_cnt_6</th>\n",
       "      <th>f__item_cnt_7</th>\n",
       "      <th>...</th>\n",
       "      <th>f__item_cnt_9</th>\n",
       "      <th>f__item_cnt_10</th>\n",
       "      <th>f__item_cnt_11</th>\n",
       "      <th>f__item_cnt_12</th>\n",
       "      <th>f__item_cnt_13</th>\n",
       "      <th>f__item_cnt_14</th>\n",
       "      <th>f__item_cnt_15</th>\n",
       "      <th>f__item_cnt_16</th>\n",
       "      <th>f__item_cnt_17</th>\n",
       "      <th>f__item_cnt_18</th>\n",
       "    </tr>\n",
       "  </thead>\n",
       "  <tbody>\n",
       "    <tr>\n",
       "      <th>count</th>\n",
       "      <td>28680.000000</td>\n",
       "      <td>28680.000000</td>\n",
       "      <td>28680.0</td>\n",
       "      <td>28680.000000</td>\n",
       "      <td>28680.000000</td>\n",
       "      <td>28680.000000</td>\n",
       "      <td>28680.000000</td>\n",
       "      <td>28680.000000</td>\n",
       "      <td>28680.000000</td>\n",
       "      <td>28680.000000</td>\n",
       "      <td>...</td>\n",
       "      <td>28680.000000</td>\n",
       "      <td>28680.000000</td>\n",
       "      <td>28680.000000</td>\n",
       "      <td>28680.000000</td>\n",
       "      <td>28680.000000</td>\n",
       "      <td>28680.000000</td>\n",
       "      <td>28680.000000</td>\n",
       "      <td>28680.000000</td>\n",
       "      <td>28680.000000</td>\n",
       "      <td>28680.000000</td>\n",
       "    </tr>\n",
       "    <tr>\n",
       "      <th>mean</th>\n",
       "      <td>10701.266213</td>\n",
       "      <td>31.995223</td>\n",
       "      <td>34.0</td>\n",
       "      <td>2.191388</td>\n",
       "      <td>1.330021</td>\n",
       "      <td>1.200558</td>\n",
       "      <td>1.001604</td>\n",
       "      <td>0.996130</td>\n",
       "      <td>1.155544</td>\n",
       "      <td>1.205370</td>\n",
       "      <td>...</td>\n",
       "      <td>0.938703</td>\n",
       "      <td>1.216423</td>\n",
       "      <td>1.809484</td>\n",
       "      <td>1.201430</td>\n",
       "      <td>0.936681</td>\n",
       "      <td>0.823989</td>\n",
       "      <td>0.843968</td>\n",
       "      <td>0.705753</td>\n",
       "      <td>0.733264</td>\n",
       "      <td>0.656032</td>\n",
       "    </tr>\n",
       "    <tr>\n",
       "      <th>std</th>\n",
       "      <td>6102.659012</td>\n",
       "      <td>16.488541</td>\n",
       "      <td>0.0</td>\n",
       "      <td>15.032652</td>\n",
       "      <td>6.592039</td>\n",
       "      <td>5.628176</td>\n",
       "      <td>5.637410</td>\n",
       "      <td>6.002198</td>\n",
       "      <td>10.252714</td>\n",
       "      <td>11.010553</td>\n",
       "      <td>...</td>\n",
       "      <td>4.748555</td>\n",
       "      <td>10.785793</td>\n",
       "      <td>14.693371</td>\n",
       "      <td>10.818708</td>\n",
       "      <td>7.937403</td>\n",
       "      <td>7.753421</td>\n",
       "      <td>7.355884</td>\n",
       "      <td>6.910303</td>\n",
       "      <td>8.234696</td>\n",
       "      <td>6.645365</td>\n",
       "    </tr>\n",
       "    <tr>\n",
       "      <th>min</th>\n",
       "      <td>30.000000</td>\n",
       "      <td>2.000000</td>\n",
       "      <td>34.0</td>\n",
       "      <td>-1.000000</td>\n",
       "      <td>-1.000000</td>\n",
       "      <td>-1.000000</td>\n",
       "      <td>-1.000000</td>\n",
       "      <td>-1.000000</td>\n",
       "      <td>-1.000000</td>\n",
       "      <td>-1.000000</td>\n",
       "      <td>...</td>\n",
       "      <td>-1.000000</td>\n",
       "      <td>-1.000000</td>\n",
       "      <td>0.000000</td>\n",
       "      <td>-1.000000</td>\n",
       "      <td>-1.000000</td>\n",
       "      <td>-1.000000</td>\n",
       "      <td>-1.000000</td>\n",
       "      <td>-1.000000</td>\n",
       "      <td>-1.000000</td>\n",
       "      <td>-1.000000</td>\n",
       "    </tr>\n",
       "    <tr>\n",
       "      <th>25%</th>\n",
       "      <td>5005.000000</td>\n",
       "      <td>19.000000</td>\n",
       "      <td>34.0</td>\n",
       "      <td>1.000000</td>\n",
       "      <td>0.000000</td>\n",
       "      <td>0.000000</td>\n",
       "      <td>0.000000</td>\n",
       "      <td>0.000000</td>\n",
       "      <td>0.000000</td>\n",
       "      <td>0.000000</td>\n",
       "      <td>...</td>\n",
       "      <td>0.000000</td>\n",
       "      <td>0.000000</td>\n",
       "      <td>0.000000</td>\n",
       "      <td>0.000000</td>\n",
       "      <td>0.000000</td>\n",
       "      <td>0.000000</td>\n",
       "      <td>0.000000</td>\n",
       "      <td>0.000000</td>\n",
       "      <td>0.000000</td>\n",
       "      <td>0.000000</td>\n",
       "    </tr>\n",
       "    <tr>\n",
       "      <th>50%</th>\n",
       "      <td>10659.000000</td>\n",
       "      <td>31.000000</td>\n",
       "      <td>34.0</td>\n",
       "      <td>1.000000</td>\n",
       "      <td>0.000000</td>\n",
       "      <td>0.000000</td>\n",
       "      <td>0.000000</td>\n",
       "      <td>0.000000</td>\n",
       "      <td>0.000000</td>\n",
       "      <td>0.000000</td>\n",
       "      <td>...</td>\n",
       "      <td>0.000000</td>\n",
       "      <td>0.000000</td>\n",
       "      <td>0.000000</td>\n",
       "      <td>0.000000</td>\n",
       "      <td>0.000000</td>\n",
       "      <td>0.000000</td>\n",
       "      <td>0.000000</td>\n",
       "      <td>0.000000</td>\n",
       "      <td>0.000000</td>\n",
       "      <td>0.000000</td>\n",
       "    </tr>\n",
       "    <tr>\n",
       "      <th>75%</th>\n",
       "      <td>15494.000000</td>\n",
       "      <td>46.000000</td>\n",
       "      <td>34.0</td>\n",
       "      <td>2.000000</td>\n",
       "      <td>1.000000</td>\n",
       "      <td>1.000000</td>\n",
       "      <td>1.000000</td>\n",
       "      <td>1.000000</td>\n",
       "      <td>1.000000</td>\n",
       "      <td>1.000000</td>\n",
       "      <td>...</td>\n",
       "      <td>1.000000</td>\n",
       "      <td>1.000000</td>\n",
       "      <td>1.000000</td>\n",
       "      <td>0.000000</td>\n",
       "      <td>0.000000</td>\n",
       "      <td>0.000000</td>\n",
       "      <td>0.000000</td>\n",
       "      <td>0.000000</td>\n",
       "      <td>0.000000</td>\n",
       "      <td>0.000000</td>\n",
       "    </tr>\n",
       "    <tr>\n",
       "      <th>max</th>\n",
       "      <td>22167.000000</td>\n",
       "      <td>59.000000</td>\n",
       "      <td>34.0</td>\n",
       "      <td>2253.000000</td>\n",
       "      <td>473.000000</td>\n",
       "      <td>436.000000</td>\n",
       "      <td>482.000000</td>\n",
       "      <td>444.000000</td>\n",
       "      <td>742.000000</td>\n",
       "      <td>813.000000</td>\n",
       "      <td>...</td>\n",
       "      <td>257.000000</td>\n",
       "      <td>1000.000000</td>\n",
       "      <td>1209.000000</td>\n",
       "      <td>772.000000</td>\n",
       "      <td>634.000000</td>\n",
       "      <td>639.000000</td>\n",
       "      <td>591.000000</td>\n",
       "      <td>563.000000</td>\n",
       "      <td>771.000000</td>\n",
       "      <td>602.000000</td>\n",
       "    </tr>\n",
       "  </tbody>\n",
       "</table>\n",
       "<p>8 rows × 21 columns</p>\n",
       "</div>"
      ],
      "text/plain": [
       "            item_id       shop_id  date_block_num  f__item_cnt_1  \\\n",
       "count  28680.000000  28680.000000         28680.0   28680.000000   \n",
       "mean   10701.266213     31.995223            34.0       2.191388   \n",
       "std     6102.659012     16.488541             0.0      15.032652   \n",
       "min       30.000000      2.000000            34.0      -1.000000   \n",
       "25%     5005.000000     19.000000            34.0       1.000000   \n",
       "50%    10659.000000     31.000000            34.0       1.000000   \n",
       "75%    15494.000000     46.000000            34.0       2.000000   \n",
       "max    22167.000000     59.000000            34.0    2253.000000   \n",
       "\n",
       "       f__item_cnt_2  f__item_cnt_3  f__item_cnt_4  f__item_cnt_5  \\\n",
       "count   28680.000000   28680.000000   28680.000000   28680.000000   \n",
       "mean        1.330021       1.200558       1.001604       0.996130   \n",
       "std         6.592039       5.628176       5.637410       6.002198   \n",
       "min        -1.000000      -1.000000      -1.000000      -1.000000   \n",
       "25%         0.000000       0.000000       0.000000       0.000000   \n",
       "50%         0.000000       0.000000       0.000000       0.000000   \n",
       "75%         1.000000       1.000000       1.000000       1.000000   \n",
       "max       473.000000     436.000000     482.000000     444.000000   \n",
       "\n",
       "       f__item_cnt_6  f__item_cnt_7  ...  f__item_cnt_9  f__item_cnt_10  \\\n",
       "count   28680.000000   28680.000000  ...   28680.000000    28680.000000   \n",
       "mean        1.155544       1.205370  ...       0.938703        1.216423   \n",
       "std        10.252714      11.010553  ...       4.748555       10.785793   \n",
       "min        -1.000000      -1.000000  ...      -1.000000       -1.000000   \n",
       "25%         0.000000       0.000000  ...       0.000000        0.000000   \n",
       "50%         0.000000       0.000000  ...       0.000000        0.000000   \n",
       "75%         1.000000       1.000000  ...       1.000000        1.000000   \n",
       "max       742.000000     813.000000  ...     257.000000     1000.000000   \n",
       "\n",
       "       f__item_cnt_11  f__item_cnt_12  f__item_cnt_13  f__item_cnt_14  \\\n",
       "count    28680.000000    28680.000000    28680.000000    28680.000000   \n",
       "mean         1.809484        1.201430        0.936681        0.823989   \n",
       "std         14.693371       10.818708        7.937403        7.753421   \n",
       "min          0.000000       -1.000000       -1.000000       -1.000000   \n",
       "25%          0.000000        0.000000        0.000000        0.000000   \n",
       "50%          0.000000        0.000000        0.000000        0.000000   \n",
       "75%          1.000000        0.000000        0.000000        0.000000   \n",
       "max       1209.000000      772.000000      634.000000      639.000000   \n",
       "\n",
       "       f__item_cnt_15  f__item_cnt_16  f__item_cnt_17  f__item_cnt_18  \n",
       "count    28680.000000    28680.000000    28680.000000    28680.000000  \n",
       "mean         0.843968        0.705753        0.733264        0.656032  \n",
       "std          7.355884        6.910303        8.234696        6.645365  \n",
       "min         -1.000000       -1.000000       -1.000000       -1.000000  \n",
       "25%          0.000000        0.000000        0.000000        0.000000  \n",
       "50%          0.000000        0.000000        0.000000        0.000000  \n",
       "75%          0.000000        0.000000        0.000000        0.000000  \n",
       "max        591.000000      563.000000      771.000000      602.000000  \n",
       "\n",
       "[8 rows x 21 columns]"
      ]
     },
     "execution_count": 5,
     "metadata": {},
     "output_type": "execute_result"
    }
   ],
   "source": [
    "test_subset_w18.describe()"
   ]
  },
  {
   "cell_type": "code",
   "execution_count": 6,
   "metadata": {},
   "outputs": [],
   "source": [
    "X_train, y_train = drop_non_features(train_set_w18).values, train_set_w18['item_cnt_month'].values\n",
    "X_test = drop_non_features(test_subset_w18).values"
   ]
  },
  {
   "cell_type": "markdown",
   "metadata": {},
   "source": [
    "I'll use a default XGB regressor since in my experience it's usually a good default to start with."
   ]
  },
  {
   "cell_type": "code",
   "execution_count": 7,
   "metadata": {},
   "outputs": [],
   "source": [
    "from xgboost import XGBRegressor\n",
    "from sklearn.model_selection import cross_validate\n",
    "from src.model import ClippedOutputRegressor\n",
    "\n",
    "reg = ClippedOutputRegressor(XGBRegressor(n_jobs=-1, verbosity=1))"
   ]
  },
  {
   "cell_type": "code",
   "execution_count": 8,
   "metadata": {},
   "outputs": [
    {
     "name": "stderr",
     "output_type": "stream",
     "text": [
      "[Parallel(n_jobs=-1)]: Using backend LokyBackend with 12 concurrent workers.\n",
      "[Parallel(n_jobs=-1)]: Done   3 out of   3 | elapsed:  3.9min finished\n"
     ]
    },
    {
     "data": {
      "text/plain": [
       "{'fit_time': array([222.67374158, 218.43320179, 213.79310656]),\n",
       " 'score_time': array([0.29977012, 0.25102425, 0.26123786]),\n",
       " 'test_score': array([-0.77165437, -1.02308756, -1.03266588]),\n",
       " 'train_score': array([-0.92676242, -0.92933981, -0.93133453])}"
      ]
     },
     "execution_count": 8,
     "metadata": {},
     "output_type": "execute_result"
    }
   ],
   "source": [
    "scores = cross_validate(reg, X=X_train, y=y_train,\n",
    "                        scoring=corrected_rmse_score, verbose=2, n_jobs=-1, \n",
    "                        cv=cv_splits_w18, return_train_score=True)\n",
    "scores"
   ]
  },
  {
   "cell_type": "code",
   "execution_count": 9,
   "metadata": {},
   "outputs": [
    {
     "data": {
      "text/plain": [
       "(-0.9424692693294418, 0.12084765474984473)"
      ]
     },
     "execution_count": 9,
     "metadata": {},
     "output_type": "execute_result"
    }
   ],
   "source": [
    "scores['test_score'].mean(), scores['test_score'].std() "
   ]
  },
  {
   "cell_type": "markdown",
   "metadata": {},
   "source": [
    "Pretty close to our previous dummy test, so not good. Let's try adding some categorical features: the previous test had the date block num, so we'll go even further and add the date ids."
   ]
  },
  {
   "cell_type": "code",
   "execution_count": 10,
   "metadata": {},
   "outputs": [
    {
     "data": {
      "text/html": [
       "<div>\n",
       "<style scoped>\n",
       "    .dataframe tbody tr th:only-of-type {\n",
       "        vertical-align: middle;\n",
       "    }\n",
       "\n",
       "    .dataframe tbody tr th {\n",
       "        vertical-align: top;\n",
       "    }\n",
       "\n",
       "    .dataframe thead th {\n",
       "        text-align: right;\n",
       "    }\n",
       "</style>\n",
       "<table border=\"1\" class=\"dataframe\">\n",
       "  <thead>\n",
       "    <tr style=\"text-align: right;\">\n",
       "      <th></th>\n",
       "      <th>date_block_num</th>\n",
       "      <th>month_id</th>\n",
       "      <th>year_id</th>\n",
       "    </tr>\n",
       "  </thead>\n",
       "  <tbody>\n",
       "    <tr>\n",
       "      <th>0</th>\n",
       "      <td>0</td>\n",
       "      <td>0</td>\n",
       "      <td>0</td>\n",
       "    </tr>\n",
       "    <tr>\n",
       "      <th>1</th>\n",
       "      <td>1</td>\n",
       "      <td>1</td>\n",
       "      <td>0</td>\n",
       "    </tr>\n",
       "    <tr>\n",
       "      <th>2</th>\n",
       "      <td>2</td>\n",
       "      <td>2</td>\n",
       "      <td>0</td>\n",
       "    </tr>\n",
       "    <tr>\n",
       "      <th>3</th>\n",
       "      <td>3</td>\n",
       "      <td>3</td>\n",
       "      <td>0</td>\n",
       "    </tr>\n",
       "    <tr>\n",
       "      <th>4</th>\n",
       "      <td>4</td>\n",
       "      <td>4</td>\n",
       "      <td>0</td>\n",
       "    </tr>\n",
       "  </tbody>\n",
       "</table>\n",
       "</div>"
      ],
      "text/plain": [
       "   date_block_num  month_id  year_id\n",
       "0               0         0        0\n",
       "1               1         1        0\n",
       "2               2         2        0\n",
       "3               3         3        0\n",
       "4               4         4        0"
      ]
     },
     "execution_count": 10,
     "metadata": {},
     "output_type": "execute_result"
    }
   ],
   "source": [
    "date_ids = pd.read_parquet(os.path.join(PROCESSED_DATA_DIR, 'date-ids.parquet'))\n",
    "date_ids.head()"
   ]
  },
  {
   "cell_type": "code",
   "execution_count": 11,
   "metadata": {},
   "outputs": [],
   "source": [
    "train_set_w18_date_ids = add_as_cat_features(train_set_w18.merge(date_ids, on='date_block_num', how='left', sort=False), \n",
    "                                             ['date_block_num', 'month_id', 'year_id'])\n",
    "X_train = drop_non_features(train_set_w18_date_ids).values"
   ]
  },
  {
   "cell_type": "code",
   "execution_count": 12,
   "metadata": {},
   "outputs": [
    {
     "name": "stderr",
     "output_type": "stream",
     "text": [
      "[Parallel(n_jobs=-1)]: Using backend LokyBackend with 12 concurrent workers.\n",
      "[Parallel(n_jobs=-1)]: Done   3 out of   3 | elapsed:  4.2min finished\n"
     ]
    },
    {
     "data": {
      "text/plain": [
       "{'fit_time': array([244.08122063, 239.6075933 , 233.86898255]),\n",
       " 'score_time': array([0.3487978 , 0.30139661, 0.31716919]),\n",
       " 'test_score': array([-0.7724726 , -1.03043161, -1.0483989 ]),\n",
       " 'train_score': array([-0.91004636, -0.91209181, -0.91578144])}"
      ]
     },
     "execution_count": 12,
     "metadata": {},
     "output_type": "execute_result"
    }
   ],
   "source": [
    "scores = cross_validate(reg, X=X_train, y=y_train,\n",
    "                        scoring=corrected_rmse_score, verbose=2, n_jobs=-1, \n",
    "                        cv=cv_splits_w18, return_train_score=True)\n",
    "scores"
   ]
  },
  {
   "cell_type": "code",
   "execution_count": 13,
   "metadata": {},
   "outputs": [
    {
     "data": {
      "text/plain": [
       "(-0.9504343724564208, 0.12605157671435444)"
      ]
     },
     "execution_count": 13,
     "metadata": {},
     "output_type": "execute_result"
    }
   ],
   "source": [
    "scores['test_score'].mean(), scores['test_score'].std() "
   ]
  },
  {
   "cell_type": "markdown",
   "metadata": {},
   "source": [
    "Well, it's worse. Let's add the base ids to the train set and run it again."
   ]
  },
  {
   "cell_type": "code",
   "execution_count": 14,
   "metadata": {},
   "outputs": [],
   "source": [
    "train_set_w18_date_ids_base_ids = add_as_cat_features(train_set_w18_date_ids, ['item_id', 'shop_id'])"
   ]
  },
  {
   "cell_type": "code",
   "execution_count": 15,
   "metadata": {},
   "outputs": [
    {
     "name": "stderr",
     "output_type": "stream",
     "text": [
      "[Parallel(n_jobs=-1)]: Using backend LokyBackend with 12 concurrent workers.\n",
      "[Parallel(n_jobs=-1)]: Done   3 out of   3 | elapsed:  8.7min finished\n"
     ]
    },
    {
     "data": {
      "text/plain": [
       "{'fit_time': array([469.65439868, 472.22846842, 493.10321259]),\n",
       " 'score_time': array([0.55858803, 0.49258566, 0.51222968]),\n",
       " 'test_score': array([-0.7694865 , -0.98612991, -1.06177736]),\n",
       " 'train_score': array([-0.8874763 , -0.87917883, -0.88494101])}"
      ]
     },
     "execution_count": 15,
     "metadata": {},
     "output_type": "execute_result"
    }
   ],
   "source": [
    "X_train = drop_non_features(train_set_w18_date_ids_base_ids).values\n",
    "\n",
    "scores = cross_validate(reg, X=X_train, y=y_train,\n",
    "                        scoring=corrected_rmse_score, verbose=2, n_jobs=-1, \n",
    "                        cv=cv_splits, return_train_score=True)\n",
    "scores"
   ]
  },
  {
   "cell_type": "code",
   "execution_count": 16,
   "metadata": {},
   "outputs": [
    {
     "data": {
      "text/plain": [
       "(-0.9391312550717849, 0.12386859351220451)"
      ]
     },
     "execution_count": 16,
     "metadata": {},
     "output_type": "execute_result"
    }
   ],
   "source": [
    "scores['test_score'].mean(), scores['test_score'].std() "
   ]
  },
  {
   "cell_type": "markdown",
   "metadata": {},
   "source": [
    "A little better. Let's try the whole dataset to see if that's any better"
   ]
  },
  {
   "cell_type": "code",
   "execution_count": 34,
   "metadata": {},
   "outputs": [
    {
     "data": {
      "application/vnd.jupyter.widget-view+json": {
       "model_id": "3c1e035f4a0e418fb16349ce20bb9784",
       "version_major": 2,
       "version_minor": 0
      },
      "text/plain": [
       "HBox(children=(FloatProgress(value=0.0, max=32.0), HTML(value='')))"
      ]
     },
     "metadata": {},
     "output_type": "display_data"
    },
    {
     "name": "stdout",
     "output_type": "stream",
     "text": [
      "\n"
     ]
    }
   ],
   "source": [
    "def add_date_ids(df):\n",
    "    return add_as_cat_features(df.merge(date_ids, on='date_block_num', how='left', sort=False), \n",
    "                                        ['date_block_num', 'month_id', 'year_id'])\n",
    "\n",
    "transform = comp(\n",
    "    lambda df: add_as_cat_features(df, ['item_id', 'shop_id']),\n",
    "    add_date_ids,\n",
    "    lambda df: add_lagged_features(df, sales_train_by_month, 'item_cnt'))\n",
    "\n",
    "train_set_lagged_date_ids_base_ids = transform(train_set)"
   ]
  },
  {
   "cell_type": "code",
   "execution_count": 36,
   "metadata": {},
   "outputs": [
    {
     "name": "stderr",
     "output_type": "stream",
     "text": [
      "[Parallel(n_jobs=-1)]: Using backend LokyBackend with 12 concurrent workers.\n",
      "[Parallel(n_jobs=-1)]: Done   3 out of   3 | elapsed: 12.0min finished\n"
     ]
    },
    {
     "data": {
      "text/plain": [
       "{'fit_time': array([669.21315479, 669.66440964, 693.05559611]),\n",
       " 'score_time': array([0.57962251, 0.50677729, 0.52487874]),\n",
       " 'test_score': array([-0.76700048, -0.98716346, -1.03798434]),\n",
       " 'train_score': array([-0.88615257, -0.88542616, -0.89052309])}"
      ]
     },
     "execution_count": 36,
     "metadata": {},
     "output_type": "execute_result"
    }
   ],
   "source": [
    "X_train = drop_non_features(train_set_lagged_date_ids_base_ids).values\n",
    "scores = cross_validate(reg, X=X_train, y=y_train,\n",
    "                        scoring=corrected_rmse_score, verbose=2, n_jobs=-1, \n",
    "                        cv=cv_splits, return_train_score=True)\n",
    "scores"
   ]
  },
  {
   "cell_type": "code",
   "execution_count": 37,
   "metadata": {},
   "outputs": [
    {
     "data": {
      "text/plain": [
       "(-0.9307160921631675, 0.11760893479275158)"
      ]
     },
     "execution_count": 37,
     "metadata": {},
     "output_type": "execute_result"
    }
   ],
   "source": [
    "scores['test_score'].mean(), scores['test_score'].std() "
   ]
  },
  {
   "cell_type": "markdown",
   "metadata": {},
   "source": [
    "OK, we can see it's an improvement. Let's just submit that and see how it does on the public LB."
   ]
  },
  {
   "cell_type": "code",
   "execution_count": 30,
   "metadata": {},
   "outputs": [
    {
     "data": {
      "application/vnd.jupyter.widget-view+json": {
       "model_id": "e943d9ef7deb4b7bbfdf784f715f89a9",
       "version_major": 2,
       "version_minor": 0
      },
      "text/plain": [
       "HBox(children=(FloatProgress(value=0.0, max=32.0), HTML(value='')))"
      ]
     },
     "metadata": {},
     "output_type": "display_data"
    },
    {
     "name": "stdout",
     "output_type": "stream",
     "text": [
      "\n"
     ]
    }
   ],
   "source": [
    "test_subset_lagged_date_ids_base_ids = transform(test_subset)\n",
    "X_test = drop_non_features(test_subset_lagged_date_ids_base_ids).values"
   ]
  },
  {
   "cell_type": "code",
   "execution_count": 38,
   "metadata": {},
   "outputs": [],
   "source": [
    "from src.submission import submission_from_subset\n",
    "\n",
    "reg.fit(X_train, y_train)\n",
    "test_subset_lagged_date_ids_base_ids['item_cnt_month'] = reg.predict(X_test)\n",
    "\n",
    "submission = submission_from_subset(test_subset_lagged_date_ids_base_ids, test_set)\n",
    "submission.to_csv(os.path.join(TMP_DIR, 'xgb-dataset-01.csv'), index=False)"
   ]
  },
  {
   "cell_type": "code",
   "execution_count": 39,
   "metadata": {},
   "outputs": [
    {
     "name": "stdout",
     "output_type": "stream",
     "text": [
      "Successfully submitted to Predict Future Sales"
     ]
    },
    {
     "name": "stderr",
     "output_type": "stream",
     "text": [
      "100%|██████████| 2.30M/2.30M [00:40<00:00, 59.3kB/s]\n"
     ]
    }
   ],
   "source": [
    "%%bash\n",
    "kaggle c submit -f ${TMP_DIR}/xgb-dataset-01.csv -m 'Default XGB with date ids and lagged item counts' competitive-data-science-predict-future-sales"
   ]
  },
  {
   "cell_type": "markdown",
   "metadata": {},
   "source": [
    "1.08752, not bad considering we didn't run any hyperparameter optimization."
   ]
  }
 ],
 "metadata": {
  "kernelspec": {
   "display_name": "Python 3",
   "language": "python",
   "name": "python3"
  },
  "language_info": {
   "codemirror_mode": {
    "name": "ipython",
    "version": 3
   },
   "file_extension": ".py",
   "mimetype": "text/x-python",
   "name": "python",
   "nbconvert_exporter": "python",
   "pygments_lexer": "ipython3",
   "version": "3.8.2"
  }
 },
 "nbformat": 4,
 "nbformat_minor": 4
}
