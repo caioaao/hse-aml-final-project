{
 "cells": [
  {
   "cell_type": "code",
   "execution_count": 1,
   "metadata": {},
   "outputs": [
    {
     "name": "stdout",
     "output_type": "stream",
     "text": [
      "Versions:\n",
      "  Python: 3.8.2 (default, Jul 16 2020, 14:00:26) \n",
      "[GCC 9.3.0]\n",
      "  pandas: 1.1.1\n",
      "  numpy: 1.19.1\n",
      "  seaborn: 0.10.1\n",
      "  sklearn: 0.23.2\n",
      "  altair: 4.1.0\n"
     ]
    }
   ],
   "source": [
    "%load_ext autoreload\n",
    "%autoreload 2\n",
    "\n",
    "import os\n",
    "import sys\n",
    "\n",
    "import lightgbm as lgb\n",
    "import pandas as pd\n",
    "import numpy as np\n",
    "import seaborn as sns\n",
    "import matplotlib.pyplot as plt\n",
    "import sklearn\n",
    "import scipy\n",
    "import altair as alt\n",
    "from altair import datum\n",
    "from tqdm.auto import tqdm, trange\n",
    "\n",
    "from src.model import tscv\n",
    "\n",
    "%run constants.py\n",
    "\n",
    "%matplotlib inline\n",
    "print(\"Versions:\")\n",
    "print(\"  Python: %s\" % sys.version)\n",
    "for module in [pd, np, sns, sklearn, alt]:\n",
    "    print(\"  %s: %s\" %(module.__name__, module.__version__))"
   ]
  },
  {
   "cell_type": "code",
   "execution_count": 6,
   "metadata": {},
   "outputs": [],
   "source": [
    "from src.feature_engineering import df_to_X_y\n",
    "from src.model import tscv\n",
    "\n",
    "train_set = pd.read_parquet(os.path.join(PROCESSED_DATA_DIR, 'train-set-features-001.parquet'))\n",
    "X_train, y_train = df_to_X_y(train_set)"
   ]
  },
  {
   "cell_type": "markdown",
   "metadata": {},
   "source": [
    "Optuna has a native integration for LightGBM, so that's a lot easier."
   ]
  },
  {
   "cell_type": "code",
   "execution_count": 7,
   "metadata": {},
   "outputs": [],
   "source": [
    "import optuna.integration.lightgbm as lgb\n",
    "\n",
    "train_split, test_split = tscv.split(train_set['date_block_num'], n=1)[0]\n",
    "\n",
    "dtrain = lgb.Dataset(X_train[train_split], label=y_train[train_split])\n",
    "dval = lgb.Dataset(X_train[test_split], label=y_train[test_split])"
   ]
  },
  {
   "cell_type": "code",
   "execution_count": 9,
   "metadata": {
    "collapsed": true,
    "jupyter": {
     "outputs_hidden": true
    }
   },
   "outputs": [
    {
     "name": "stderr",
     "output_type": "stream",
     "text": [
      "feature_fraction, val_score: inf:   0%|          | 0/7 [00:00<?, ?it/s]"
     ]
    },
    {
     "name": "stdout",
     "output_type": "stream",
     "text": [
      "Training until validation scores don't improve for 100 rounds\n",
      "[100]\ttraining's rmse: 0.78673\tvalid_1's rmse: 0.887821\n",
      "Early stopping, best iteration is:\n",
      "[78]\ttraining's rmse: 0.790467\tvalid_1's rmse: 0.887463\n"
     ]
    },
    {
     "name": "stderr",
     "output_type": "stream",
     "text": [
      "feature_fraction, val_score: 0.887463:  14%|#4        | 1/7 [00:53<05:19, 53.30s/it][I 2020-08-30 16:21:19,661] Trial 0 finished with value: 0.8874632056803093 and parameters: {'feature_fraction': 0.8999999999999999}. Best is trial 0 with value: 0.8874632056803093.\n",
      "feature_fraction, val_score: 0.887463:  14%|#4        | 1/7 [00:53<05:19, 53.30s/it]"
     ]
    },
    {
     "name": "stdout",
     "output_type": "stream",
     "text": [
      "Training until validation scores don't improve for 100 rounds\n",
      "[100]\ttraining's rmse: 0.791449\tvalid_1's rmse: 0.884968\n",
      "[200]\ttraining's rmse: 0.780306\tvalid_1's rmse: 0.891334\n",
      "Early stopping, best iteration is:\n",
      "[100]\ttraining's rmse: 0.791449\tvalid_1's rmse: 0.884968\n"
     ]
    },
    {
     "name": "stderr",
     "output_type": "stream",
     "text": [
      "feature_fraction, val_score: 0.884968:  29%|##8       | 2/7 [01:30<04:01, 48.36s/it][I 2020-08-30 16:21:56,490] Trial 1 finished with value: 0.8849675387146535 and parameters: {'feature_fraction': 0.4}. Best is trial 1 with value: 0.8849675387146535.\n",
      "feature_fraction, val_score: 0.884968:  29%|##8       | 2/7 [01:30<04:01, 48.36s/it]"
     ]
    },
    {
     "name": "stdout",
     "output_type": "stream",
     "text": [
      "Training until validation scores don't improve for 100 rounds\n",
      "[100]\ttraining's rmse: 0.788162\tvalid_1's rmse: 0.883477\n",
      "[200]\ttraining's rmse: 0.775947\tvalid_1's rmse: 0.896731\n",
      "Early stopping, best iteration is:\n",
      "[101]\ttraining's rmse: 0.788078\tvalid_1's rmse: 0.883475\n"
     ]
    },
    {
     "name": "stderr",
     "output_type": "stream",
     "text": [
      "feature_fraction, val_score: 0.883475:  43%|####2     | 3/7 [02:06<02:59, 44.83s/it][I 2020-08-30 16:22:33,073] Trial 2 finished with value: 0.8834745252682118 and parameters: {'feature_fraction': 0.7}. Best is trial 2 with value: 0.8834745252682118.\n",
      "feature_fraction, val_score: 0.883475:  43%|####2     | 3/7 [02:06<02:59, 44.83s/it]"
     ]
    },
    {
     "name": "stdout",
     "output_type": "stream",
     "text": [
      "Training until validation scores don't improve for 100 rounds\n",
      "[100]\ttraining's rmse: 0.789196\tvalid_1's rmse: 0.885585\n",
      "[200]\ttraining's rmse: 0.778839\tvalid_1's rmse: 0.893017\n",
      "Early stopping, best iteration is:\n",
      "[107]\ttraining's rmse: 0.788478\tvalid_1's rmse: 0.885181\n"
     ]
    },
    {
     "name": "stderr",
     "output_type": "stream",
     "text": [
      "feature_fraction, val_score: 0.883475:  57%|#####7    | 4/7 [07:15<06:12, 124.06s/it][I 2020-08-30 16:27:42,003] Trial 3 finished with value: 0.885180521241224 and parameters: {'feature_fraction': 0.5}. Best is trial 2 with value: 0.8834745252682118.\n",
      "feature_fraction, val_score: 0.883475:  57%|#####7    | 4/7 [07:15<06:12, 124.06s/it]"
     ]
    },
    {
     "name": "stdout",
     "output_type": "stream",
     "text": [
      "Training until validation scores don't improve for 100 rounds\n",
      "[100]\ttraining's rmse: 0.788797\tvalid_1's rmse: 0.884981\n",
      "Early stopping, best iteration is:\n",
      "[98]\ttraining's rmse: 0.789292\tvalid_1's rmse: 0.884765\n"
     ]
    },
    {
     "name": "stderr",
     "output_type": "stream",
     "text": [
      "feature_fraction, val_score: 0.883475:  71%|#######1  | 5/7 [11:48<05:37, 168.57s/it][I 2020-08-30 16:32:14,435] Trial 4 finished with value: 0.8847654323029306 and parameters: {'feature_fraction': 0.6}. Best is trial 2 with value: 0.8834745252682118.\n",
      "feature_fraction, val_score: 0.883475:  71%|#######1  | 5/7 [11:48<05:37, 168.57s/it]"
     ]
    },
    {
     "name": "stdout",
     "output_type": "stream",
     "text": [
      "Training until validation scores don't improve for 100 rounds\n",
      "[100]\ttraining's rmse: 0.786582\tvalid_1's rmse: 0.888923\n",
      "Early stopping, best iteration is:\n",
      "[54]\ttraining's rmse: 0.795074\tvalid_1's rmse: 0.888345\n"
     ]
    },
    {
     "name": "stderr",
     "output_type": "stream",
     "text": [
      "feature_fraction, val_score: 0.883475:  86%|########5 | 6/7 [16:32<03:23, 203.20s/it][I 2020-08-30 16:36:58,443] Trial 5 finished with value: 0.8883449270127264 and parameters: {'feature_fraction': 1.0}. Best is trial 2 with value: 0.8834745252682118.\n",
      "feature_fraction, val_score: 0.883475:  86%|########5 | 6/7 [16:32<03:23, 203.20s/it]"
     ]
    },
    {
     "name": "stdout",
     "output_type": "stream",
     "text": [
      "Training until validation scores don't improve for 100 rounds\n",
      "[100]\ttraining's rmse: 0.786912\tvalid_1's rmse: 0.892489\n",
      "Early stopping, best iteration is:\n",
      "[82]\ttraining's rmse: 0.789578\tvalid_1's rmse: 0.888761\n"
     ]
    },
    {
     "name": "stderr",
     "output_type": "stream",
     "text": [
      "feature_fraction, val_score: 0.883475: 100%|##########| 7/7 [19:24<00:00, 194.05s/it][I 2020-08-30 16:39:51,133] Trial 6 finished with value: 0.8887613349826164 and parameters: {'feature_fraction': 0.8}. Best is trial 2 with value: 0.8834745252682118.\n",
      "feature_fraction, val_score: 0.883475: 100%|##########| 7/7 [19:24<00:00, 166.40s/it]\n",
      "num_leaves, val_score: 0.883475:   0%|          | 0/20 [00:00<?, ?it/s]"
     ]
    },
    {
     "name": "stdout",
     "output_type": "stream",
     "text": [
      "Training until validation scores don't improve for 100 rounds\n",
      "[100]\ttraining's rmse: 0.798378\tvalid_1's rmse: 0.887959\n",
      "[200]\ttraining's rmse: 0.790379\tvalid_1's rmse: 0.890151\n",
      "Early stopping, best iteration is:\n",
      "[121]\ttraining's rmse: 0.796763\tvalid_1's rmse: 0.887454\n"
     ]
    },
    {
     "name": "stderr",
     "output_type": "stream",
     "text": [
      "num_leaves, val_score: 0.883475:   5%|5         | 1/20 [00:19<06:16, 19.84s/it][I 2020-08-30 16:40:10,978] Trial 7 finished with value: 0.8874538721500413 and parameters: {'num_leaves': 14}. Best is trial 7 with value: 0.8874538721500413.\n",
      "num_leaves, val_score: 0.883475:   5%|5         | 1/20 [00:19<06:16, 19.84s/it]"
     ]
    },
    {
     "name": "stdout",
     "output_type": "stream",
     "text": [
      "Training until validation scores don't improve for 100 rounds\n",
      "[100]\ttraining's rmse: 0.761192\tvalid_1's rmse: 0.894153\n",
      "Early stopping, best iteration is:\n",
      "[24]\ttraining's rmse: 0.797728\tvalid_1's rmse: 0.885025\n"
     ]
    },
    {
     "name": "stderr",
     "output_type": "stream",
     "text": [
      "num_leaves, val_score: 0.883475:  10%|#         | 2/20 [00:40<06:00, 20.04s/it][I 2020-08-30 16:40:31,485] Trial 8 finished with value: 0.8850250427728662 and parameters: {'num_leaves': 119}. Best is trial 8 with value: 0.8850250427728662.\n",
      "num_leaves, val_score: 0.883475:  10%|#         | 2/20 [00:40<06:00, 20.04s/it]"
     ]
    },
    {
     "name": "stdout",
     "output_type": "stream",
     "text": [
      "Training until validation scores don't improve for 100 rounds\n",
      "[100]\ttraining's rmse: 0.753718\tvalid_1's rmse: 0.899267\n",
      "Early stopping, best iteration is:\n",
      "[24]\ttraining's rmse: 0.794264\tvalid_1's rmse: 0.886552\n"
     ]
    },
    {
     "name": "stderr",
     "output_type": "stream",
     "text": [
      "num_leaves, val_score: 0.883475:  15%|#5        | 3/20 [01:02<05:53, 20.79s/it][I 2020-08-30 16:40:54,035] Trial 9 finished with value: 0.8865518321615997 and parameters: {'num_leaves': 146}. Best is trial 8 with value: 0.8850250427728662.\n",
      "num_leaves, val_score: 0.883475:  15%|#5        | 3/20 [01:02<05:53, 20.79s/it]"
     ]
    },
    {
     "name": "stdout",
     "output_type": "stream",
     "text": [
      "Training until validation scores don't improve for 100 rounds\n",
      "[100]\ttraining's rmse: 0.738736\tvalid_1's rmse: 0.90269\n",
      "Early stopping, best iteration is:\n",
      "[23]\ttraining's rmse: 0.787288\tvalid_1's rmse: 0.88622\n"
     ]
    },
    {
     "name": "stderr",
     "output_type": "stream",
     "text": [
      "num_leaves, val_score: 0.883475:  20%|##        | 4/20 [01:31<06:10, 23.16s/it][I 2020-08-30 16:41:22,705] Trial 10 finished with value: 0.8862195501478004 and parameters: {'num_leaves': 250}. Best is trial 8 with value: 0.8850250427728662.\n",
      "num_leaves, val_score: 0.883475:  20%|##        | 4/20 [01:31<06:10, 23.16s/it]"
     ]
    },
    {
     "name": "stdout",
     "output_type": "stream",
     "text": [
      "Training until validation scores don't improve for 100 rounds\n",
      "[100]\ttraining's rmse: 0.809639\tvalid_1's rmse: 0.890818\n",
      "[200]\ttraining's rmse: 0.805125\tvalid_1's rmse: 0.889996\n",
      "[300]\ttraining's rmse: 0.801797\tvalid_1's rmse: 0.888962\n",
      "[400]\ttraining's rmse: 0.799066\tvalid_1's rmse: 0.88737\n",
      "[500]\ttraining's rmse: 0.797183\tvalid_1's rmse: 0.886617\n",
      "[600]\ttraining's rmse: 0.795221\tvalid_1's rmse: 0.886295\n",
      "Early stopping, best iteration is:\n",
      "[582]\ttraining's rmse: 0.795506\tvalid_1's rmse: 0.885886\n"
     ]
    },
    {
     "name": "stderr",
     "output_type": "stream",
     "text": [
      "num_leaves, val_score: 0.883475:  25%|##5       | 5/20 [02:19<07:36, 30.45s/it][I 2020-08-30 16:42:10,169] Trial 11 finished with value: 0.8858862497570218 and parameters: {'num_leaves': 5}. Best is trial 8 with value: 0.8850250427728662.\n",
      "num_leaves, val_score: 0.883475:  25%|##5       | 5/20 [02:19<07:36, 30.45s/it]"
     ]
    },
    {
     "name": "stdout",
     "output_type": "stream",
     "text": [
      "Training until validation scores don't improve for 100 rounds\n",
      "[100]\ttraining's rmse: 0.738886\tvalid_1's rmse: 0.903117\n",
      "Early stopping, best iteration is:\n",
      "[24]\ttraining's rmse: 0.786139\tvalid_1's rmse: 0.886302\n"
     ]
    },
    {
     "name": "stderr",
     "output_type": "stream",
     "text": [
      "num_leaves, val_score: 0.883475:  30%|###       | 6/20 [02:56<07:34, 32.48s/it][I 2020-08-30 16:42:47,381] Trial 12 finished with value: 0.8863015001085827 and parameters: {'num_leaves': 246}. Best is trial 8 with value: 0.8850250427728662.\n",
      "num_leaves, val_score: 0.883475:  30%|###       | 6/20 [02:56<07:34, 32.48s/it]"
     ]
    },
    {
     "name": "stdout",
     "output_type": "stream",
     "text": [
      "Training until validation scores don't improve for 100 rounds\n",
      "[100]\ttraining's rmse: 0.767463\tvalid_1's rmse: 0.900222\n",
      "Early stopping, best iteration is:\n",
      "[24]\ttraining's rmse: 0.800532\tvalid_1's rmse: 0.887692\n"
     ]
    },
    {
     "name": "stderr",
     "output_type": "stream",
     "text": [
      "num_leaves, val_score: 0.883475:  35%|###5      | 7/20 [03:22<06:39, 30.74s/it][I 2020-08-30 16:43:14,058] Trial 13 finished with value: 0.8876923076896553 and parameters: {'num_leaves': 93}. Best is trial 8 with value: 0.8850250427728662.\n",
      "num_leaves, val_score: 0.883475:  35%|###5      | 7/20 [03:22<06:39, 30.74s/it]"
     ]
    },
    {
     "name": "stdout",
     "output_type": "stream",
     "text": [
      "Training until validation scores don't improve for 100 rounds\n",
      "[100]\ttraining's rmse: 0.747614\tvalid_1's rmse: 0.90105\n",
      "Early stopping, best iteration is:\n",
      "[25]\ttraining's rmse: 0.788975\tvalid_1's rmse: 0.886506\n"
     ]
    },
    {
     "name": "stderr",
     "output_type": "stream",
     "text": [
      "num_leaves, val_score: 0.883475:  40%|####      | 8/20 [03:49<05:52, 29.36s/it][I 2020-08-30 16:43:40,196] Trial 14 finished with value: 0.8865062136078485 and parameters: {'num_leaves': 186}. Best is trial 8 with value: 0.8850250427728662.\n",
      "num_leaves, val_score: 0.883475:  40%|####      | 8/20 [03:49<05:52, 29.36s/it]"
     ]
    },
    {
     "name": "stdout",
     "output_type": "stream",
     "text": [
      "Training until validation scores don't improve for 100 rounds\n",
      "[100]\ttraining's rmse: 0.772052\tvalid_1's rmse: 0.890941\n",
      "Early stopping, best iteration is:\n",
      "[53]\ttraining's rmse: 0.784684\tvalid_1's rmse: 0.885045\n"
     ]
    },
    {
     "name": "stderr",
     "output_type": "stream",
     "text": [
      "num_leaves, val_score: 0.883475:  45%|####5     | 9/20 [04:08<04:50, 26.45s/it][I 2020-08-30 16:43:59,869] Trial 15 finished with value: 0.8850449678788878 and parameters: {'num_leaves': 71}. Best is trial 8 with value: 0.8850250427728662.\n",
      "num_leaves, val_score: 0.883475:  45%|####5     | 9/20 [04:08<04:50, 26.45s/it]"
     ]
    },
    {
     "name": "stdout",
     "output_type": "stream",
     "text": [
      "Training until validation scores don't improve for 100 rounds\n",
      "[100]\ttraining's rmse: 0.747614\tvalid_1's rmse: 0.90105\n",
      "Early stopping, best iteration is:\n",
      "[25]\ttraining's rmse: 0.788975\tvalid_1's rmse: 0.886506\n"
     ]
    },
    {
     "name": "stderr",
     "output_type": "stream",
     "text": [
      "num_leaves, val_score: 0.883475:  50%|#####     | 10/20 [04:44<04:51, 29.13s/it][I 2020-08-30 16:44:35,257] Trial 16 finished with value: 0.8865062136078486 and parameters: {'num_leaves': 186}. Best is trial 8 with value: 0.8850250427728662.\n",
      "num_leaves, val_score: 0.883475:  50%|#####     | 10/20 [04:44<04:51, 29.13s/it]"
     ]
    },
    {
     "name": "stdout",
     "output_type": "stream",
     "text": [
      "Training until validation scores don't improve for 100 rounds\n",
      "[100]\ttraining's rmse: 0.781747\tvalid_1's rmse: 0.88933\n",
      "Early stopping, best iteration is:\n",
      "[26]\ttraining's rmse: 0.806114\tvalid_1's rmse: 0.887008\n"
     ]
    },
    {
     "name": "stderr",
     "output_type": "stream",
     "text": [
      "num_leaves, val_score: 0.883475:  55%|#####5    | 11/20 [05:03<03:56, 26.23s/it][I 2020-08-30 16:44:54,729] Trial 17 finished with value: 0.8870083094446735 and parameters: {'num_leaves': 46}. Best is trial 8 with value: 0.8850250427728662.\n",
      "num_leaves, val_score: 0.883475:  55%|#####5    | 11/20 [05:03<03:56, 26.23s/it]"
     ]
    },
    {
     "name": "stdout",
     "output_type": "stream",
     "text": [
      "Training until validation scores don't improve for 100 rounds\n",
      "[100]\ttraining's rmse: 0.74601\tvalid_1's rmse: 0.898745\n",
      "Early stopping, best iteration is:\n",
      "[22]\ttraining's rmse: 0.793306\tvalid_1's rmse: 0.885749\n"
     ]
    },
    {
     "name": "stderr",
     "output_type": "stream",
     "text": [
      "num_leaves, val_score: 0.883475:  60%|######    | 12/20 [05:34<03:41, 27.64s/it][I 2020-08-30 16:45:25,635] Trial 18 finished with value: 0.8857490655937986 and parameters: {'num_leaves': 195}. Best is trial 8 with value: 0.8850250427728662.\n",
      "num_leaves, val_score: 0.883475:  60%|######    | 12/20 [05:34<03:41, 27.64s/it]"
     ]
    },
    {
     "name": "stdout",
     "output_type": "stream",
     "text": [
      "Training until validation scores don't improve for 100 rounds\n",
      "[100]\ttraining's rmse: 0.741577\tvalid_1's rmse: 0.908069\n",
      "Early stopping, best iteration is:\n",
      "[25]\ttraining's rmse: 0.786277\tvalid_1's rmse: 0.886535\n"
     ]
    },
    {
     "name": "stderr",
     "output_type": "stream",
     "text": [
      "num_leaves, val_score: 0.883475:  65%|######5   | 13/20 [06:13<03:37, 31.10s/it][I 2020-08-30 16:46:04,802] Trial 19 finished with value: 0.8865346156964159 and parameters: {'num_leaves': 216}. Best is trial 8 with value: 0.8850250427728662.\n",
      "num_leaves, val_score: 0.883475:  65%|######5   | 13/20 [06:13<03:37, 31.10s/it]"
     ]
    },
    {
     "name": "stdout",
     "output_type": "stream",
     "text": [
      "Training until validation scores don't improve for 100 rounds\n",
      "[100]\ttraining's rmse: 0.756066\tvalid_1's rmse: 0.896936\n",
      "Early stopping, best iteration is:\n",
      "[24]\ttraining's rmse: 0.795642\tvalid_1's rmse: 0.886683\n"
     ]
    },
    {
     "name": "stderr",
     "output_type": "stream",
     "text": [
      "num_leaves, val_score: 0.883475:  70%|#######   | 14/20 [06:45<03:07, 31.31s/it][I 2020-08-30 16:46:36,614] Trial 20 finished with value: 0.8866829219403711 and parameters: {'num_leaves': 137}. Best is trial 8 with value: 0.8850250427728662.\n",
      "num_leaves, val_score: 0.883475:  70%|#######   | 14/20 [06:45<03:07, 31.31s/it]"
     ]
    },
    {
     "name": "stdout",
     "output_type": "stream",
     "text": [
      "Training until validation scores don't improve for 100 rounds\n",
      "[100]\ttraining's rmse: 0.787704\tvalid_1's rmse: 0.887084\n",
      "Early stopping, best iteration is:\n",
      "[74]\ttraining's rmse: 0.791556\tvalid_1's rmse: 0.886735\n"
     ]
    },
    {
     "name": "stderr",
     "output_type": "stream",
     "text": [
      "num_leaves, val_score: 0.883475:  75%|#######5  | 15/20 [07:07<02:21, 28.40s/it][I 2020-08-30 16:46:58,222] Trial 21 finished with value: 0.886734793835194 and parameters: {'num_leaves': 32}. Best is trial 8 with value: 0.8850250427728662.\n",
      "num_leaves, val_score: 0.883475:  75%|#######5  | 15/20 [07:07<02:21, 28.40s/it]"
     ]
    },
    {
     "name": "stdout",
     "output_type": "stream",
     "text": [
      "Training until validation scores don't improve for 100 rounds\n",
      "[100]\ttraining's rmse: 0.7681\tvalid_1's rmse: 0.894503\n",
      "Early stopping, best iteration is:\n",
      "[24]\ttraining's rmse: 0.802065\tvalid_1's rmse: 0.886502\n"
     ]
    },
    {
     "name": "stderr",
     "output_type": "stream",
     "text": [
      "num_leaves, val_score: 0.883475:  80%|########  | 16/20 [07:33<01:50, 27.68s/it][I 2020-08-30 16:47:24,216] Trial 22 finished with value: 0.8865023980092934 and parameters: {'num_leaves': 85}. Best is trial 8 with value: 0.8850250427728662.\n",
      "num_leaves, val_score: 0.883475:  80%|########  | 16/20 [07:33<01:50, 27.68s/it]"
     ]
    },
    {
     "name": "stdout",
     "output_type": "stream",
     "text": [
      "Training until validation scores don't improve for 100 rounds\n",
      "[100]\ttraining's rmse: 0.75358\tvalid_1's rmse: 0.895\n",
      "Early stopping, best iteration is:\n",
      "[24]\ttraining's rmse: 0.79333\tvalid_1's rmse: 0.885151\n"
     ]
    },
    {
     "name": "stderr",
     "output_type": "stream",
     "text": [
      "num_leaves, val_score: 0.883475:  85%|########5 | 17/20 [07:57<01:20, 26.85s/it][I 2020-08-30 16:47:49,136] Trial 23 finished with value: 0.8851507525266569 and parameters: {'num_leaves': 157}. Best is trial 8 with value: 0.8850250427728662.\n",
      "num_leaves, val_score: 0.883475:  85%|########5 | 17/20 [07:57<01:20, 26.85s/it]"
     ]
    },
    {
     "name": "stdout",
     "output_type": "stream",
     "text": [
      "Training until validation scores don't improve for 100 rounds\n",
      "[100]\ttraining's rmse: 0.742708\tvalid_1's rmse: 0.905308\n",
      "Early stopping, best iteration is:\n",
      "[24]\ttraining's rmse: 0.787657\tvalid_1's rmse: 0.88663\n"
     ]
    },
    {
     "name": "stderr",
     "output_type": "stream",
     "text": [
      "num_leaves, val_score: 0.883475:  90%|######### | 18/20 [08:27<00:55, 27.72s/it][I 2020-08-30 16:48:18,883] Trial 24 finished with value: 0.8866303971164796 and parameters: {'num_leaves': 221}. Best is trial 8 with value: 0.8850250427728662.\n",
      "num_leaves, val_score: 0.883475:  90%|######### | 18/20 [08:27<00:55, 27.72s/it]"
     ]
    },
    {
     "name": "stdout",
     "output_type": "stream",
     "text": [
      "Training until validation scores don't improve for 100 rounds\n",
      "[100]\ttraining's rmse: 0.777761\tvalid_1's rmse: 0.88711\n",
      "Early stopping, best iteration is:\n",
      "[86]\ttraining's rmse: 0.780741\tvalid_1's rmse: 0.884455\n"
     ]
    },
    {
     "name": "stderr",
     "output_type": "stream",
     "text": [
      "num_leaves, val_score: 0.883475:  95%|#########5| 19/20 [08:51<00:26, 26.41s/it][I 2020-08-30 16:48:42,224] Trial 25 finished with value: 0.8844550122547171 and parameters: {'num_leaves': 55}. Best is trial 25 with value: 0.8844550122547171.\n",
      "num_leaves, val_score: 0.883475:  95%|#########5| 19/20 [08:51<00:26, 26.41s/it]"
     ]
    },
    {
     "name": "stdout",
     "output_type": "stream",
     "text": [
      "Training until validation scores don't improve for 100 rounds\n",
      "[100]\ttraining's rmse: 0.778987\tvalid_1's rmse: 0.891171\n",
      "Early stopping, best iteration is:\n",
      "[38]\ttraining's rmse: 0.795252\tvalid_1's rmse: 0.885283\n"
     ]
    },
    {
     "name": "stderr",
     "output_type": "stream",
     "text": [
      "num_leaves, val_score: 0.883475: 100%|##########| 20/20 [09:09<00:00, 24.05s/it][I 2020-08-30 16:49:00,782] Trial 26 finished with value: 0.8852830307405457 and parameters: {'num_leaves': 52}. Best is trial 25 with value: 0.8844550122547171.\n",
      "num_leaves, val_score: 0.883475: 100%|##########| 20/20 [09:09<00:00, 27.48s/it]\n",
      "bagging, val_score: 0.883475:   0%|          | 0/10 [00:00<?, ?it/s]"
     ]
    },
    {
     "name": "stdout",
     "output_type": "stream",
     "text": [
      "Training until validation scores don't improve for 100 rounds\n",
      "[100]\ttraining's rmse: 0.788795\tvalid_1's rmse: 0.886019\n",
      "[200]\ttraining's rmse: 0.776965\tvalid_1's rmse: 0.885931\n",
      "Early stopping, best iteration is:\n",
      "[175]\ttraining's rmse: 0.779562\tvalid_1's rmse: 0.884461\n"
     ]
    },
    {
     "name": "stderr",
     "output_type": "stream",
     "text": [
      "bagging, val_score: 0.883475:  10%|#         | 1/10 [00:49<07:26, 49.60s/it][I 2020-08-30 16:49:50,386] Trial 27 finished with value: 0.8844613504547915 and parameters: {'bagging_fraction': 0.799563007993063, 'bagging_freq': 3}. Best is trial 27 with value: 0.8844613504547915.\n",
      "bagging, val_score: 0.883475:  10%|#         | 1/10 [00:49<07:26, 49.60s/it]"
     ]
    },
    {
     "name": "stdout",
     "output_type": "stream",
     "text": [
      "Training until validation scores don't improve for 100 rounds\n",
      "[100]\ttraining's rmse: 0.787903\tvalid_1's rmse: 0.888119\n",
      "Early stopping, best iteration is:\n",
      "[51]\ttraining's rmse: 0.797539\tvalid_1's rmse: 0.887483\n"
     ]
    },
    {
     "name": "stderr",
     "output_type": "stream",
     "text": [
      "bagging, val_score: 0.883475:  20%|##        | 2/10 [01:12<05:31, 41.44s/it][I 2020-08-30 16:50:12,795] Trial 28 finished with value: 0.887482721049032 and parameters: {'bagging_fraction': 0.8239166494876142, 'bagging_freq': 3}. Best is trial 27 with value: 0.8844613504547915.\n",
      "bagging, val_score: 0.883475:  20%|##        | 2/10 [01:12<05:31, 41.44s/it]"
     ]
    },
    {
     "name": "stdout",
     "output_type": "stream",
     "text": [
      "Training until validation scores don't improve for 100 rounds\n",
      "[100]\ttraining's rmse: 0.789506\tvalid_1's rmse: 0.8903\n",
      "Early stopping, best iteration is:\n",
      "[84]\ttraining's rmse: 0.792059\tvalid_1's rmse: 0.888056\n"
     ]
    },
    {
     "name": "stderr",
     "output_type": "stream",
     "text": [
      "bagging, val_score: 0.883475:  30%|###       | 3/10 [01:32<04:05, 35.07s/it][I 2020-08-30 16:50:33,011] Trial 29 finished with value: 0.8880560240156399 and parameters: {'bagging_fraction': 0.4930916109281526, 'bagging_freq': 4}. Best is trial 27 with value: 0.8844613504547915.\n",
      "bagging, val_score: 0.883475:  30%|###       | 3/10 [01:32<04:05, 35.07s/it]"
     ]
    },
    {
     "name": "stdout",
     "output_type": "stream",
     "text": [
      "Training until validation scores don't improve for 100 rounds\n",
      "[100]\ttraining's rmse: 0.787209\tvalid_1's rmse: 0.887108\n",
      "Early stopping, best iteration is:\n",
      "[86]\ttraining's rmse: 0.790111\tvalid_1's rmse: 0.885767\n"
     ]
    },
    {
     "name": "stderr",
     "output_type": "stream",
     "text": [
      "bagging, val_score: 0.883475:  40%|####      | 4/10 [02:14<03:43, 37.21s/it][I 2020-08-30 16:51:15,195] Trial 30 finished with value: 0.8857674785290148 and parameters: {'bagging_fraction': 0.9256336885138627, 'bagging_freq': 1}. Best is trial 27 with value: 0.8844613504547915.\n",
      "bagging, val_score: 0.883475:  40%|####      | 4/10 [02:14<03:43, 37.21s/it]"
     ]
    },
    {
     "name": "stdout",
     "output_type": "stream",
     "text": [
      "Training until validation scores don't improve for 100 rounds\n",
      "[100]\ttraining's rmse: 0.788439\tvalid_1's rmse: 0.888497\n",
      "Early stopping, best iteration is:\n",
      "[73]\ttraining's rmse: 0.792665\tvalid_1's rmse: 0.887299\n"
     ]
    },
    {
     "name": "stderr",
     "output_type": "stream",
     "text": [
      "bagging, val_score: 0.883475:  50%|#####     | 5/10 [02:34<02:40, 32.08s/it][I 2020-08-30 16:51:35,324] Trial 31 finished with value: 0.887299363199363 and parameters: {'bagging_fraction': 0.6259609462912077, 'bagging_freq': 7}. Best is trial 27 with value: 0.8844613504547915.\n",
      "bagging, val_score: 0.883475:  50%|#####     | 5/10 [02:34<02:40, 32.08s/it]"
     ]
    },
    {
     "name": "stdout",
     "output_type": "stream",
     "text": [
      "Training until validation scores don't improve for 100 rounds\n",
      "[100]\ttraining's rmse: 0.787557\tvalid_1's rmse: 0.888566\n",
      "Early stopping, best iteration is:\n",
      "[79]\ttraining's rmse: 0.791044\tvalid_1's rmse: 0.886763\n"
     ]
    },
    {
     "name": "stderr",
     "output_type": "stream",
     "text": [
      "bagging, val_score: 0.883475:  60%|######    | 6/10 [03:03<02:04, 31.12s/it][I 2020-08-30 16:52:04,185] Trial 32 finished with value: 0.8867630610074373 and parameters: {'bagging_fraction': 0.756650732654606, 'bagging_freq': 4}. Best is trial 27 with value: 0.8844613504547915.\n",
      "bagging, val_score: 0.883475:  60%|######    | 6/10 [03:03<02:04, 31.12s/it]"
     ]
    },
    {
     "name": "stdout",
     "output_type": "stream",
     "text": [
      "Training until validation scores don't improve for 100 rounds\n",
      "[100]\ttraining's rmse: 0.787878\tvalid_1's rmse: 0.888142\n",
      "Early stopping, best iteration is:\n",
      "[63]\ttraining's rmse: 0.794679\tvalid_1's rmse: 0.886693\n"
     ]
    },
    {
     "name": "stderr",
     "output_type": "stream",
     "text": [
      "bagging, val_score: 0.883475:  70%|#######   | 7/10 [03:40<01:38, 32.81s/it][I 2020-08-30 16:52:40,944] Trial 33 finished with value: 0.8866930354812663 and parameters: {'bagging_fraction': 0.9786548202274196, 'bagging_freq': 1}. Best is trial 27 with value: 0.8844613504547915.\n",
      "bagging, val_score: 0.883475:  70%|#######   | 7/10 [03:40<01:38, 32.81s/it]"
     ]
    },
    {
     "name": "stdout",
     "output_type": "stream",
     "text": [
      "Training until validation scores don't improve for 100 rounds\n",
      "[100]\ttraining's rmse: 0.788842\tvalid_1's rmse: 0.888595\n",
      "Early stopping, best iteration is:\n",
      "[87]\ttraining's rmse: 0.790673\tvalid_1's rmse: 0.887598\n"
     ]
    },
    {
     "name": "stderr",
     "output_type": "stream",
     "text": [
      "bagging, val_score: 0.883475:  80%|########  | 8/10 [04:02<00:59, 29.59s/it][I 2020-08-30 16:53:03,025] Trial 34 finished with value: 0.8875979976783769 and parameters: {'bagging_fraction': 0.6357965729703206, 'bagging_freq': 6}. Best is trial 27 with value: 0.8844613504547915.\n",
      "bagging, val_score: 0.883475:  80%|########  | 8/10 [04:02<00:59, 29.59s/it]"
     ]
    },
    {
     "name": "stdout",
     "output_type": "stream",
     "text": [
      "Training until validation scores don't improve for 100 rounds\n",
      "[100]\ttraining's rmse: 0.790359\tvalid_1's rmse: 0.885284\n",
      "Early stopping, best iteration is:\n",
      "[75]\ttraining's rmse: 0.794089\tvalid_1's rmse: 0.884956\n"
     ]
    },
    {
     "name": "stderr",
     "output_type": "stream",
     "text": [
      "bagging, val_score: 0.883475:  90%|######### | 9/10 [04:21<00:26, 26.58s/it][I 2020-08-30 16:53:22,593] Trial 35 finished with value: 0.8849561744475047 and parameters: {'bagging_fraction': 0.4039644913676243, 'bagging_freq': 3}. Best is trial 27 with value: 0.8844613504547915.\n",
      "bagging, val_score: 0.883475:  90%|######### | 9/10 [04:21<00:26, 26.58s/it]"
     ]
    },
    {
     "name": "stdout",
     "output_type": "stream",
     "text": [
      "Training until validation scores don't improve for 100 rounds\n",
      "[100]\ttraining's rmse: 0.788798\tvalid_1's rmse: 0.88708\n",
      "Early stopping, best iteration is:\n",
      "[99]\ttraining's rmse: 0.789186\tvalid_1's rmse: 0.886203\n"
     ]
    },
    {
     "name": "stderr",
     "output_type": "stream",
     "text": [
      "bagging, val_score: 0.883475: 100%|##########| 10/10 [04:53<00:00, 28.18s/it][I 2020-08-30 16:53:54,493] Trial 36 finished with value: 0.886202873825216 and parameters: {'bagging_fraction': 0.842294816678748, 'bagging_freq': 2}. Best is trial 27 with value: 0.8844613504547915.\n",
      "bagging, val_score: 0.883475: 100%|##########| 10/10 [04:53<00:00, 29.37s/it]\n",
      "feature_fraction_stage2, val_score: 0.883475:   0%|          | 0/6 [00:00<?, ?it/s]"
     ]
    },
    {
     "name": "stdout",
     "output_type": "stream",
     "text": [
      "Training until validation scores don't improve for 100 rounds\n",
      "[100]\ttraining's rmse: 0.788414\tvalid_1's rmse: 0.889145\n",
      "Early stopping, best iteration is:\n",
      "[82]\ttraining's rmse: 0.79118\tvalid_1's rmse: 0.886659\n"
     ]
    },
    {
     "name": "stderr",
     "output_type": "stream",
     "text": [
      "feature_fraction_stage2, val_score: 0.883475:  17%|#6        | 1/6 [00:17<01:28, 17.71s/it][I 2020-08-30 16:54:12,212] Trial 37 finished with value: 0.8866593388256212 and parameters: {'feature_fraction': 0.652}. Best is trial 37 with value: 0.8866593388256212.\n",
      "feature_fraction_stage2, val_score: 0.883475:  17%|#6        | 1/6 [00:17<01:28, 17.71s/it]"
     ]
    },
    {
     "name": "stdout",
     "output_type": "stream",
     "text": [
      "Training until validation scores don't improve for 100 rounds\n",
      "[100]\ttraining's rmse: 0.787414\tvalid_1's rmse: 0.8877\n",
      "[200]\ttraining's rmse: 0.776477\tvalid_1's rmse: 0.896078\n",
      "Early stopping, best iteration is:\n",
      "[108]\ttraining's rmse: 0.78656\tvalid_1's rmse: 0.887293\n"
     ]
    },
    {
     "name": "stderr",
     "output_type": "stream",
     "text": [
      "feature_fraction_stage2, val_score: 0.883475:  33%|###3      | 2/6 [00:39<01:15, 18.79s/it][I 2020-08-30 16:54:33,502] Trial 38 finished with value: 0.887293314483732 and parameters: {'feature_fraction': 0.748}. Best is trial 37 with value: 0.8866593388256212.\n",
      "feature_fraction_stage2, val_score: 0.883475:  33%|###3      | 2/6 [00:39<01:15, 18.79s/it]"
     ]
    },
    {
     "name": "stdout",
     "output_type": "stream",
     "text": [
      "Training until validation scores don't improve for 100 rounds\n",
      "[100]\ttraining's rmse: 0.789159\tvalid_1's rmse: 0.885173\n",
      "[200]\ttraining's rmse: 0.776561\tvalid_1's rmse: 0.894725\n",
      "Early stopping, best iteration is:\n",
      "[114]\ttraining's rmse: 0.786984\tvalid_1's rmse: 0.88458\n"
     ]
    },
    {
     "name": "stderr",
     "output_type": "stream",
     "text": [
      "feature_fraction_stage2, val_score: 0.883475:  50%|#####     | 3/6 [01:00<00:58, 19.63s/it][I 2020-08-30 16:54:55,099] Trial 39 finished with value: 0.8845804411467876 and parameters: {'feature_fraction': 0.62}. Best is trial 39 with value: 0.8845804411467876.\n",
      "feature_fraction_stage2, val_score: 0.883475:  50%|#####     | 3/6 [01:00<00:58, 19.63s/it]"
     ]
    },
    {
     "name": "stdout",
     "output_type": "stream",
     "text": [
      "Training until validation scores don't improve for 100 rounds\n",
      "[100]\ttraining's rmse: 0.787868\tvalid_1's rmse: 0.886175\n",
      "Early stopping, best iteration is:\n",
      "[97]\ttraining's rmse: 0.788722\tvalid_1's rmse: 0.885774\n"
     ]
    },
    {
     "name": "stderr",
     "output_type": "stream",
     "text": [
      "feature_fraction_stage2, val_score: 0.883475:  67%|######6   | 4/6 [01:20<00:39, 19.76s/it][I 2020-08-30 16:55:15,162] Trial 40 finished with value: 0.8857735641284875 and parameters: {'feature_fraction': 0.6839999999999999}. Best is trial 39 with value: 0.8845804411467876.\n",
      "feature_fraction_stage2, val_score: 0.883475:  67%|######6   | 4/6 [01:20<00:39, 19.76s/it]"
     ]
    },
    {
     "name": "stdout",
     "output_type": "stream",
     "text": [
      "Training until validation scores don't improve for 100 rounds\n",
      "[100]\ttraining's rmse: 0.788162\tvalid_1's rmse: 0.883477\n",
      "[200]\ttraining's rmse: 0.775947\tvalid_1's rmse: 0.896731\n",
      "Early stopping, best iteration is:\n",
      "[101]\ttraining's rmse: 0.788078\tvalid_1's rmse: 0.883475\n"
     ]
    },
    {
     "name": "stderr",
     "output_type": "stream",
     "text": [
      "feature_fraction_stage2, val_score: 0.883475:  83%|########3 | 5/6 [01:41<00:19, 19.97s/it][I 2020-08-30 16:55:35,638] Trial 41 finished with value: 0.8834745252682118 and parameters: {'feature_fraction': 0.716}. Best is trial 41 with value: 0.8834745252682118.\n",
      "feature_fraction_stage2, val_score: 0.883475:  83%|########3 | 5/6 [01:41<00:19, 19.97s/it]"
     ]
    },
    {
     "name": "stdout",
     "output_type": "stream",
     "text": [
      "Training until validation scores don't improve for 100 rounds\n",
      "[100]\ttraining's rmse: 0.788213\tvalid_1's rmse: 0.88693\n",
      "[200]\ttraining's rmse: 0.775582\tvalid_1's rmse: 0.901337\n",
      "Early stopping, best iteration is:\n",
      "[106]\ttraining's rmse: 0.787541\tvalid_1's rmse: 0.886661\n"
     ]
    },
    {
     "name": "stderr",
     "output_type": "stream",
     "text": [
      "feature_fraction_stage2, val_score: 0.883475: 100%|##########| 6/6 [02:03<00:00, 20.75s/it][I 2020-08-30 16:55:58,194] Trial 42 finished with value: 0.8866614426494307 and parameters: {'feature_fraction': 0.7799999999999999}. Best is trial 41 with value: 0.8834745252682118.\n",
      "feature_fraction_stage2, val_score: 0.883475: 100%|##########| 6/6 [02:03<00:00, 20.62s/it]\n",
      "regularization_factors, val_score: 0.883475:   0%|          | 0/20 [00:00<?, ?it/s]"
     ]
    },
    {
     "name": "stdout",
     "output_type": "stream",
     "text": [
      "Training until validation scores don't improve for 100 rounds\n",
      "[100]\ttraining's rmse: 0.788549\tvalid_1's rmse: 0.885935\n",
      "Early stopping, best iteration is:\n",
      "[91]\ttraining's rmse: 0.789815\tvalid_1's rmse: 0.884598\n"
     ]
    },
    {
     "name": "stderr",
     "output_type": "stream",
     "text": [
      "regularization_factors, val_score: 0.883475:   5%|5         | 1/20 [00:21<06:49, 21.55s/it][I 2020-08-30 16:56:19,746] Trial 43 finished with value: 0.8845984728978018 and parameters: {'lambda_l1': 0.05137279372844616, 'lambda_l2': 1.4420540977287476e-08}. Best is trial 43 with value: 0.8845984728978018.\n",
      "regularization_factors, val_score: 0.883475:   5%|5         | 1/20 [00:21<06:49, 21.55s/it]"
     ]
    },
    {
     "name": "stdout",
     "output_type": "stream",
     "text": [
      "Training until validation scores don't improve for 100 rounds\n",
      "[100]\ttraining's rmse: 0.788929\tvalid_1's rmse: 0.887738\n",
      "Early stopping, best iteration is:\n",
      "[71]\ttraining's rmse: 0.793773\tvalid_1's rmse: 0.886973\n"
     ]
    },
    {
     "name": "stderr",
     "output_type": "stream",
     "text": [
      "regularization_factors, val_score: 0.883475:  10%|#         | 2/20 [00:40<06:14, 20.78s/it][I 2020-08-30 16:56:38,731] Trial 44 finished with value: 0.8869727809159401 and parameters: {'lambda_l1': 2.6544591238917292e-08, 'lambda_l2': 6.228709376017561}. Best is trial 43 with value: 0.8845984728978018.\n",
      "regularization_factors, val_score: 0.883475:  10%|#         | 2/20 [00:40<06:14, 20.78s/it]"
     ]
    },
    {
     "name": "stdout",
     "output_type": "stream",
     "text": [
      "Training until validation scores don't improve for 100 rounds\n",
      "[100]\ttraining's rmse: 0.788162\tvalid_1's rmse: 0.883477\n",
      "[200]\ttraining's rmse: 0.775801\tvalid_1's rmse: 0.898729\n",
      "Early stopping, best iteration is:\n",
      "[101]\ttraining's rmse: 0.788078\tvalid_1's rmse: 0.883475\n"
     ]
    },
    {
     "name": "stderr",
     "output_type": "stream",
     "text": [
      "regularization_factors, val_score: 0.883475:  15%|#5        | 3/20 [01:01<05:55, 20.92s/it][I 2020-08-30 16:56:59,978] Trial 45 finished with value: 0.883474531261927 and parameters: {'lambda_l1': 4.516496443890002e-08, 'lambda_l2': 0.0005435176590600337}. Best is trial 45 with value: 0.883474531261927.\n",
      "regularization_factors, val_score: 0.883475:  15%|#5        | 3/20 [01:01<05:55, 20.92s/it]"
     ]
    },
    {
     "name": "stdout",
     "output_type": "stream",
     "text": [
      "Training until validation scores don't improve for 100 rounds\n",
      "[100]\ttraining's rmse: 0.788162\tvalid_1's rmse: 0.883477\n",
      "[200]\ttraining's rmse: 0.775801\tvalid_1's rmse: 0.898729\n",
      "Early stopping, best iteration is:\n",
      "[101]\ttraining's rmse: 0.788078\tvalid_1's rmse: 0.883475\n"
     ]
    },
    {
     "name": "stderr",
     "output_type": "stream",
     "text": [
      "regularization_factors, val_score: 0.883475:  20%|##        | 4/20 [01:23<05:36, 21.03s/it][I 2020-08-30 16:57:21,279] Trial 46 finished with value: 0.8834745320475155 and parameters: {'lambda_l1': 9.396972581002114e-08, 'lambda_l2': 0.0006144459338221629}. Best is trial 45 with value: 0.883474531261927.\n",
      "regularization_factors, val_score: 0.883475:  20%|##        | 4/20 [01:23<05:36, 21.03s/it]"
     ]
    },
    {
     "name": "stdout",
     "output_type": "stream",
     "text": [
      "Training until validation scores don't improve for 100 rounds\n",
      "[100]\ttraining's rmse: 0.788162\tvalid_1's rmse: 0.883477\n",
      "[200]\ttraining's rmse: 0.775801\tvalid_1's rmse: 0.89873\n",
      "Early stopping, best iteration is:\n",
      "[101]\ttraining's rmse: 0.788078\tvalid_1's rmse: 0.883475\n"
     ]
    },
    {
     "name": "stderr",
     "output_type": "stream",
     "text": [
      "regularization_factors, val_score: 0.883475:  25%|##5       | 5/20 [01:46<05:26, 21.79s/it][I 2020-08-30 16:57:44,818] Trial 47 finished with value: 0.8834745289320189 and parameters: {'lambda_l1': 4.882163286287578e-08, 'lambda_l2': 0.0003311502929946651}. Best is trial 47 with value: 0.8834745289320189.\n",
      "regularization_factors, val_score: 0.883475:  25%|##5       | 5/20 [01:46<05:26, 21.79s/it]"
     ]
    },
    {
     "name": "stdout",
     "output_type": "stream",
     "text": [
      "Training until validation scores don't improve for 100 rounds\n",
      "[100]\ttraining's rmse: 0.788162\tvalid_1's rmse: 0.883477\n",
      "[200]\ttraining's rmse: 0.775801\tvalid_1's rmse: 0.89873\n",
      "Early stopping, best iteration is:\n",
      "[101]\ttraining's rmse: 0.788078\tvalid_1's rmse: 0.883475\n"
     ]
    },
    {
     "name": "stderr",
     "output_type": "stream",
     "text": [
      "regularization_factors, val_score: 0.883475:  30%|###       | 6/20 [02:09<05:10, 22.20s/it][I 2020-08-30 16:58:07,976] Trial 48 finished with value: 0.8834745274585172 and parameters: {'lambda_l1': 3.401516705277066e-08, 'lambda_l2': 0.0001951881199966074}. Best is trial 48 with value: 0.8834745274585172.\n",
      "regularization_factors, val_score: 0.883475:  30%|###       | 6/20 [02:09<05:10, 22.20s/it]"
     ]
    },
    {
     "name": "stdout",
     "output_type": "stream",
     "text": [
      "Training until validation scores don't improve for 100 rounds\n",
      "[100]\ttraining's rmse: 0.788162\tvalid_1's rmse: 0.883477\n",
      "[200]\ttraining's rmse: 0.775801\tvalid_1's rmse: 0.89873\n",
      "Early stopping, best iteration is:\n",
      "[101]\ttraining's rmse: 0.788078\tvalid_1's rmse: 0.883475\n"
     ]
    },
    {
     "name": "stderr",
     "output_type": "stream",
     "text": [
      "regularization_factors, val_score: 0.883475:  35%|###5      | 7/20 [02:31<04:46, 22.05s/it][I 2020-08-30 16:58:29,694] Trial 49 finished with value: 0.883474527478145 and parameters: {'lambda_l1': 5.457680414559427e-08, 'lambda_l2': 0.00019697868979648637}. Best is trial 48 with value: 0.8834745274585172.\n",
      "regularization_factors, val_score: 0.883475:  35%|###5      | 7/20 [02:31<04:46, 22.05s/it]"
     ]
    },
    {
     "name": "stdout",
     "output_type": "stream",
     "text": [
      "Training until validation scores don't improve for 100 rounds\n",
      "[100]\ttraining's rmse: 0.788162\tvalid_1's rmse: 0.883477\n",
      "[200]\ttraining's rmse: 0.775947\tvalid_1's rmse: 0.896731\n",
      "Early stopping, best iteration is:\n",
      "[101]\ttraining's rmse: 0.788078\tvalid_1's rmse: 0.883475\n"
     ]
    },
    {
     "name": "stderr",
     "output_type": "stream",
     "text": [
      "regularization_factors, val_score: 0.883475:  40%|####      | 8/20 [02:53<04:26, 22.18s/it][I 2020-08-30 16:58:52,185] Trial 50 finished with value: 0.8834745255213912 and parameters: {'lambda_l1': 8.341797085480438e-06, 'lambda_l2': 2.099506813355105e-05}. Best is trial 50 with value: 0.8834745255213912.\n",
      "regularization_factors, val_score: 0.883475:  40%|####      | 8/20 [02:53<04:26, 22.18s/it]"
     ]
    },
    {
     "name": "stdout",
     "output_type": "stream",
     "text": [
      "Training until validation scores don't improve for 100 rounds\n",
      "[100]\ttraining's rmse: 0.788162\tvalid_1's rmse: 0.883477\n",
      "[200]\ttraining's rmse: 0.775947\tvalid_1's rmse: 0.896731\n",
      "Early stopping, best iteration is:\n",
      "[101]\ttraining's rmse: 0.788078\tvalid_1's rmse: 0.883475\n"
     ]
    },
    {
     "name": "stderr",
     "output_type": "stream",
     "text": [
      "regularization_factors, val_score: 0.883475:  45%|####5     | 9/20 [03:16<04:05, 22.33s/it][I 2020-08-30 16:59:14,857] Trial 51 finished with value: 0.8834745255239123 and parameters: {'lambda_l1': 9.536389797131862e-06, 'lambda_l2': 2.093848882563006e-05}. Best is trial 50 with value: 0.8834745255213912.\n",
      "regularization_factors, val_score: 0.883475:  45%|####5     | 9/20 [03:16<04:05, 22.33s/it]"
     ]
    },
    {
     "name": "stdout",
     "output_type": "stream",
     "text": [
      "Training until validation scores don't improve for 100 rounds\n",
      "[100]\ttraining's rmse: 0.788162\tvalid_1's rmse: 0.883477\n",
      "[200]\ttraining's rmse: 0.775947\tvalid_1's rmse: 0.896731\n",
      "Early stopping, best iteration is:\n",
      "[101]\ttraining's rmse: 0.788078\tvalid_1's rmse: 0.883475\n"
     ]
    },
    {
     "name": "stderr",
     "output_type": "stream",
     "text": [
      "regularization_factors, val_score: 0.883475:  50%|#####     | 10/20 [03:38<03:43, 22.33s/it][I 2020-08-30 16:59:37,182] Trial 52 finished with value: 0.883474525473286 and parameters: {'lambda_l1': 4.270293612247924e-05, 'lambda_l2': 3.306161779555134e-06}. Best is trial 52 with value: 0.883474525473286.\n",
      "regularization_factors, val_score: 0.883475:  50%|#####     | 10/20 [03:38<03:43, 22.33s/it]"
     ]
    },
    {
     "name": "stdout",
     "output_type": "stream",
     "text": [
      "Training until validation scores don't improve for 100 rounds\n",
      "[100]\ttraining's rmse: 0.788162\tvalid_1's rmse: 0.883477\n",
      "[200]\ttraining's rmse: 0.775947\tvalid_1's rmse: 0.896731\n",
      "Early stopping, best iteration is:\n",
      "[101]\ttraining's rmse: 0.788078\tvalid_1's rmse: 0.883475\n"
     ]
    },
    {
     "name": "stderr",
     "output_type": "stream",
     "text": [
      "regularization_factors, val_score: 0.883475:  55%|#####5    | 11/20 [04:01<03:20, 22.25s/it][I 2020-08-30 16:59:59,255] Trial 53 finished with value: 0.88347452547866 and parameters: {'lambda_l1': 4.5782768535444746e-05, 'lambda_l2': 2.4450423736550425e-06}. Best is trial 52 with value: 0.883474525473286.\n",
      "regularization_factors, val_score: 0.883475:  55%|#####5    | 11/20 [04:01<03:20, 22.25s/it]"
     ]
    },
    {
     "name": "stdout",
     "output_type": "stream",
     "text": [
      "Training until validation scores don't improve for 100 rounds\n",
      "[100]\ttraining's rmse: 0.788162\tvalid_1's rmse: 0.883477\n",
      "[200]\ttraining's rmse: 0.775947\tvalid_1's rmse: 0.896731\n",
      "Early stopping, best iteration is:\n",
      "[101]\ttraining's rmse: 0.788078\tvalid_1's rmse: 0.883475\n"
     ]
    },
    {
     "name": "stderr",
     "output_type": "stream",
     "text": [
      "regularization_factors, val_score: 0.883475:  60%|######    | 12/20 [04:25<03:02, 22.78s/it][I 2020-08-30 17:00:23,278] Trial 54 finished with value: 0.8834745253871183 and parameters: {'lambda_l1': 2.7289357991502747e-05, 'lambda_l2': 6.578934278904374e-07}. Best is trial 54 with value: 0.8834745253871183.\n",
      "regularization_factors, val_score: 0.883475:  60%|######    | 12/20 [04:25<03:02, 22.78s/it]"
     ]
    },
    {
     "name": "stdout",
     "output_type": "stream",
     "text": [
      "Training until validation scores don't improve for 100 rounds\n",
      "[100]\ttraining's rmse: 0.788162\tvalid_1's rmse: 0.883477\n",
      "[200]\ttraining's rmse: 0.775947\tvalid_1's rmse: 0.896731\n",
      "Early stopping, best iteration is:\n",
      "[101]\ttraining's rmse: 0.788078\tvalid_1's rmse: 0.883475\n"
     ]
    },
    {
     "name": "stderr",
     "output_type": "stream",
     "text": [
      "regularization_factors, val_score: 0.883475:  65%|######5   | 13/20 [04:46<02:36, 22.36s/it][I 2020-08-30 17:00:44,645] Trial 55 finished with value: 0.883474525519388 and parameters: {'lambda_l1': 6.152675203399503e-05, 'lambda_l2': 6.550200795952211e-07}. Best is trial 54 with value: 0.8834745253871183.\n",
      "regularization_factors, val_score: 0.883475:  65%|######5   | 13/20 [04:46<02:36, 22.36s/it]"
     ]
    },
    {
     "name": "stdout",
     "output_type": "stream",
     "text": [
      "Training until validation scores don't improve for 100 rounds\n",
      "[100]\ttraining's rmse: 0.788162\tvalid_1's rmse: 0.883477\n",
      "[200]\ttraining's rmse: 0.775947\tvalid_1's rmse: 0.896731\n",
      "Early stopping, best iteration is:\n",
      "[101]\ttraining's rmse: 0.788078\tvalid_1's rmse: 0.883475\n"
     ]
    },
    {
     "name": "stderr",
     "output_type": "stream",
     "text": [
      "regularization_factors, val_score: 0.883475:  70%|#######   | 14/20 [05:07<02:12, 22.07s/it][I 2020-08-30 17:01:06,056] Trial 56 finished with value: 0.8834745261840935 and parameters: {'lambda_l1': 0.00023416599784395348, 'lambda_l2': 5.901343843335047e-08}. Best is trial 54 with value: 0.8834745253871183.\n",
      "regularization_factors, val_score: 0.883475:  70%|#######   | 14/20 [05:07<02:12, 22.07s/it]"
     ]
    },
    {
     "name": "stdout",
     "output_type": "stream",
     "text": [
      "Training until validation scores don't improve for 100 rounds\n",
      "[100]\ttraining's rmse: 0.788162\tvalid_1's rmse: 0.883477\n",
      "[200]\ttraining's rmse: 0.775947\tvalid_1's rmse: 0.896731\n",
      "Early stopping, best iteration is:\n",
      "[101]\ttraining's rmse: 0.788078\tvalid_1's rmse: 0.883475\n"
     ]
    },
    {
     "name": "stderr",
     "output_type": "stream",
     "text": [
      "regularization_factors, val_score: 0.883475:  75%|#######5  | 15/20 [05:31<01:53, 22.68s/it][I 2020-08-30 17:01:30,159] Trial 57 finished with value: 0.8834745255804821 and parameters: {'lambda_l1': 7.742586027023932e-05, 'lambda_l2': 4.2566981423218183e-07}. Best is trial 54 with value: 0.8834745253871183.\n",
      "regularization_factors, val_score: 0.883475:  75%|#######5  | 15/20 [05:31<01:53, 22.68s/it]"
     ]
    },
    {
     "name": "stdout",
     "output_type": "stream",
     "text": [
      "Training until validation scores don't improve for 100 rounds\n",
      "[100]\ttraining's rmse: 0.788162\tvalid_1's rmse: 0.883477\n",
      "[200]\ttraining's rmse: 0.775947\tvalid_1's rmse: 0.896731\n",
      "Early stopping, best iteration is:\n",
      "[101]\ttraining's rmse: 0.788078\tvalid_1's rmse: 0.883475\n"
     ]
    },
    {
     "name": "stderr",
     "output_type": "stream",
     "text": [
      "regularization_factors, val_score: 0.883475:  80%|########  | 16/20 [05:56<01:32, 23.16s/it][I 2020-08-30 17:01:54,422] Trial 58 finished with value: 0.8834745253005368 and parameters: {'lambda_l1': 6.1233883082221e-06, 'lambda_l2': 8.805316947910179e-07}. Best is trial 58 with value: 0.8834745253005368.\n",
      "regularization_factors, val_score: 0.883475:  80%|########  | 16/20 [05:56<01:32, 23.16s/it]"
     ]
    },
    {
     "name": "stdout",
     "output_type": "stream",
     "text": [
      "Training until validation scores don't improve for 100 rounds\n",
      "[100]\ttraining's rmse: 0.788162\tvalid_1's rmse: 0.883477\n",
      "[200]\ttraining's rmse: 0.775995\tvalid_1's rmse: 0.894897\n",
      "Early stopping, best iteration is:\n",
      "[101]\ttraining's rmse: 0.788078\tvalid_1's rmse: 0.883475\n"
     ]
    },
    {
     "name": "stderr",
     "output_type": "stream",
     "text": [
      "regularization_factors, val_score: 0.883475:  85%|########5 | 17/20 [06:19<01:09, 23.20s/it][I 2020-08-30 17:02:17,713] Trial 59 finished with value: 0.8834745438750141 and parameters: {'lambda_l1': 0.004675385789175263, 'lambda_l2': 1.7464448096534969e-06}. Best is trial 58 with value: 0.8834745253005368.\n",
      "regularization_factors, val_score: 0.883475:  85%|########5 | 17/20 [06:19<01:09, 23.20s/it]"
     ]
    },
    {
     "name": "stdout",
     "output_type": "stream",
     "text": [
      "Training until validation scores don't improve for 100 rounds\n",
      "[100]\ttraining's rmse: 0.788162\tvalid_1's rmse: 0.883477\n",
      "[200]\ttraining's rmse: 0.775947\tvalid_1's rmse: 0.896731\n",
      "Early stopping, best iteration is:\n",
      "[101]\ttraining's rmse: 0.788078\tvalid_1's rmse: 0.883475\n"
     ]
    },
    {
     "name": "stderr",
     "output_type": "stream",
     "text": [
      "regularization_factors, val_score: 0.883475:  90%|######### | 18/20 [06:42<00:46, 23.14s/it][I 2020-08-30 17:02:40,734] Trial 60 finished with value: 0.8834745253319037 and parameters: {'lambda_l1': 2.00660345021228e-06, 'lambda_l2': 4.9478410531653155e-06}. Best is trial 58 with value: 0.8834745253005368.\n",
      "regularization_factors, val_score: 0.883475:  90%|######### | 18/20 [06:42<00:46, 23.14s/it]"
     ]
    },
    {
     "name": "stdout",
     "output_type": "stream",
     "text": [
      "Training until validation scores don't improve for 100 rounds\n",
      "[100]\ttraining's rmse: 0.788162\tvalid_1's rmse: 0.883477\n",
      "[200]\ttraining's rmse: 0.775947\tvalid_1's rmse: 0.896731\n",
      "Early stopping, best iteration is:\n",
      "[101]\ttraining's rmse: 0.788078\tvalid_1's rmse: 0.883475\n"
     ]
    },
    {
     "name": "stderr",
     "output_type": "stream",
     "text": [
      "regularization_factors, val_score: 0.883475:  95%|#########5| 19/20 [07:17<00:26, 26.77s/it][I 2020-08-30 17:03:15,951] Trial 61 finished with value: 0.8834745253465903 and parameters: {'lambda_l1': 2.5704789001415425e-06, 'lambda_l2': 6.665336590946251e-06}. Best is trial 58 with value: 0.8834745253005368.\n",
      "regularization_factors, val_score: 0.883475:  95%|#########5| 19/20 [07:17<00:26, 26.77s/it]"
     ]
    },
    {
     "name": "stdout",
     "output_type": "stream",
     "text": [
      "Training until validation scores don't improve for 100 rounds\n",
      "[100]\ttraining's rmse: 0.788162\tvalid_1's rmse: 0.883477\n",
      "[200]\ttraining's rmse: 0.775947\tvalid_1's rmse: 0.896731\n",
      "Early stopping, best iteration is:\n",
      "[101]\ttraining's rmse: 0.788078\tvalid_1's rmse: 0.883475\n"
     ]
    },
    {
     "name": "stderr",
     "output_type": "stream",
     "text": [
      "regularization_factors, val_score: 0.883475: 100%|##########| 20/20 [07:50<00:00, 28.69s/it][I 2020-08-30 17:03:49,146] Trial 62 finished with value: 0.8834745254392451 and parameters: {'lambda_l1': 1.816331551620577e-06, 'lambda_l2': 1.4150057024924784e-05}. Best is trial 58 with value: 0.8834745253005368.\n",
      "regularization_factors, val_score: 0.883475: 100%|##########| 20/20 [07:50<00:00, 23.55s/it]\n",
      "min_data_in_leaf, val_score: 0.883475:   0%|          | 0/5 [00:00<?, ?it/s]"
     ]
    },
    {
     "name": "stdout",
     "output_type": "stream",
     "text": [
      "Training until validation scores don't improve for 100 rounds\n",
      "[100]\ttraining's rmse: 0.78796\tvalid_1's rmse: 0.885766\n",
      "Early stopping, best iteration is:\n",
      "[87]\ttraining's rmse: 0.790099\tvalid_1's rmse: 0.885339\n"
     ]
    },
    {
     "name": "stderr",
     "output_type": "stream",
     "text": [
      "min_data_in_leaf, val_score: 0.883475:  20%|##        | 1/5 [00:28<01:52, 28.00s/it][I 2020-08-30 17:04:17,153] Trial 63 finished with value: 0.885338548303059 and parameters: {'min_child_samples': 5}. Best is trial 63 with value: 0.885338548303059.\n",
      "min_data_in_leaf, val_score: 0.883475:  20%|##        | 1/5 [00:28<01:52, 28.00s/it]"
     ]
    },
    {
     "name": "stdout",
     "output_type": "stream",
     "text": [
      "Training until validation scores don't improve for 100 rounds\n",
      "[100]\ttraining's rmse: 0.788364\tvalid_1's rmse: 0.888139\n",
      "Early stopping, best iteration is:\n",
      "[59]\ttraining's rmse: 0.796514\tvalid_1's rmse: 0.885736\n"
     ]
    },
    {
     "name": "stderr",
     "output_type": "stream",
     "text": [
      "min_data_in_leaf, val_score: 0.883475:  40%|####      | 2/5 [00:53<01:21, 27.31s/it][I 2020-08-30 17:04:42,851] Trial 64 finished with value: 0.8857355066841714 and parameters: {'min_child_samples': 100}. Best is trial 63 with value: 0.885338548303059.\n",
      "min_data_in_leaf, val_score: 0.883475:  40%|####      | 2/5 [00:53<01:21, 27.31s/it]"
     ]
    },
    {
     "name": "stdout",
     "output_type": "stream",
     "text": [
      "Training until validation scores don't improve for 100 rounds\n",
      "[100]\ttraining's rmse: 0.788224\tvalid_1's rmse: 0.88362\n",
      "Early stopping, best iteration is:\n",
      "[96]\ttraining's rmse: 0.788678\tvalid_1's rmse: 0.883401\n"
     ]
    },
    {
     "name": "stderr",
     "output_type": "stream",
     "text": [
      "min_data_in_leaf, val_score: 0.883401:  60%|######    | 3/5 [01:36<01:03, 31.97s/it][I 2020-08-30 17:05:25,697] Trial 65 finished with value: 0.8834006702850397 and parameters: {'min_child_samples': 50}. Best is trial 65 with value: 0.8834006702850397.\n",
      "min_data_in_leaf, val_score: 0.883401:  60%|######    | 3/5 [01:36<01:03, 31.97s/it]"
     ]
    },
    {
     "name": "stdout",
     "output_type": "stream",
     "text": [
      "Training until validation scores don't improve for 100 rounds\n",
      "[100]\ttraining's rmse: 0.788394\tvalid_1's rmse: 0.884537\n",
      "[200]\ttraining's rmse: 0.7765\tvalid_1's rmse: 0.895798\n",
      "Early stopping, best iteration is:\n",
      "[121]\ttraining's rmse: 0.786186\tvalid_1's rmse: 0.884038\n"
     ]
    },
    {
     "name": "stderr",
     "output_type": "stream",
     "text": [
      "min_data_in_leaf, val_score: 0.883401:  80%|########  | 4/5 [03:10<00:50, 50.68s/it][I 2020-08-30 17:07:00,040] Trial 66 finished with value: 0.8840381356162739 and parameters: {'min_child_samples': 25}. Best is trial 65 with value: 0.8834006702850397.\n",
      "min_data_in_leaf, val_score: 0.883401:  80%|########  | 4/5 [03:10<00:50, 50.68s/it]"
     ]
    },
    {
     "name": "stdout",
     "output_type": "stream",
     "text": [
      "Training until validation scores don't improve for 100 rounds\n",
      "[100]\ttraining's rmse: 0.788129\tvalid_1's rmse: 0.884654\n",
      "[200]\ttraining's rmse: 0.775879\tvalid_1's rmse: 0.893502\n",
      "Early stopping, best iteration is:\n",
      "[126]\ttraining's rmse: 0.784655\tvalid_1's rmse: 0.884225\n"
     ]
    },
    {
     "name": "stderr",
     "output_type": "stream",
     "text": [
      "min_data_in_leaf, val_score: 0.883401: 100%|##########| 5/5 [04:11<00:00, 53.74s/it][I 2020-08-30 17:08:00,917] Trial 67 finished with value: 0.8842253137952165 and parameters: {'min_child_samples': 10}. Best is trial 65 with value: 0.8834006702850397.\n",
      "min_data_in_leaf, val_score: 0.883401: 100%|##########| 5/5 [04:11<00:00, 50.35s/it]\n"
     ]
    }
   ],
   "source": [
    "params = {\n",
    "    \"objective\": \"regression\",\n",
    "    \"metric\": \"rmse\",\n",
    "    \"verbosity\": -1,\n",
    "    \"boosting_type\": \"gbdt\",\n",
    "}\n",
    "model = lgb.train(params, dtrain, valid_sets=[dtrain, dval], verbose_eval=100, early_stopping_rounds=100)"
   ]
  },
  {
   "cell_type": "code",
   "execution_count": 12,
   "metadata": {},
   "outputs": [
    {
     "data": {
      "text/plain": [
       "defaultdict(collections.OrderedDict,\n",
       "            {'training': OrderedDict([('rmse', 0.7886776540945208)]),\n",
       "             'valid_1': OrderedDict([('rmse', 0.8834006702850397)])})"
      ]
     },
     "execution_count": 12,
     "metadata": {},
     "output_type": "execute_result"
    }
   ],
   "source": [
    "model.best_score"
   ]
  },
  {
   "cell_type": "code",
   "execution_count": 14,
   "metadata": {},
   "outputs": [
    {
     "data": {
      "text/plain": [
       "{'objective': 'regression',\n",
       " 'metric': 'rmse',\n",
       " 'verbosity': -1,\n",
       " 'boosting_type': 'gbdt',\n",
       " 'lambda_l1': 0.0,\n",
       " 'lambda_l2': 0.0,\n",
       " 'num_leaves': 31,\n",
       " 'feature_fraction': 0.7,\n",
       " 'bagging_fraction': 1.0,\n",
       " 'bagging_freq': 0,\n",
       " 'min_child_samples': 50}"
      ]
     },
     "execution_count": 14,
     "metadata": {},
     "output_type": "execute_result"
    }
   ],
   "source": [
    "model.params"
   ]
  },
  {
   "cell_type": "code",
   "execution_count": 15,
   "metadata": {},
   "outputs": [
    {
     "data": {
      "text/plain": [
       "96"
      ]
     },
     "execution_count": 15,
     "metadata": {},
     "output_type": "execute_result"
    }
   ],
   "source": [
    "model.best_iteration"
   ]
  }
 ],
 "metadata": {
  "kernelspec": {
   "display_name": "Python 3",
   "language": "python",
   "name": "python3"
  },
  "language_info": {
   "codemirror_mode": {
    "name": "ipython",
    "version": 3
   },
   "file_extension": ".py",
   "mimetype": "text/x-python",
   "name": "python",
   "nbconvert_exporter": "python",
   "pygments_lexer": "ipython3",
   "version": "3.8.2"
  }
 },
 "nbformat": 4,
 "nbformat_minor": 4
}
