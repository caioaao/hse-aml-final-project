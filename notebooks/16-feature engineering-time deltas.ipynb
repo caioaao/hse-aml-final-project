{
 "cells": [
  {
   "cell_type": "code",
   "execution_count": 1,
   "metadata": {},
   "outputs": [
    {
     "name": "stdout",
     "output_type": "stream",
     "text": [
      "Versions:\n",
      "  Python: 3.8.2 (default, Jul 16 2020, 14:00:26) \n",
      "[GCC 9.3.0]\n",
      "  pandas: 1.1.1\n",
      "  numpy: 1.19.1\n",
      "  seaborn: 0.10.1\n",
      "  sklearn: 0.23.2\n"
     ]
    }
   ],
   "source": [
    "%load_ext autoreload\n",
    "%autoreload 2\n",
    "\n",
    "import os\n",
    "import sys\n",
    "\n",
    "import pandas as pd\n",
    "import numpy as np\n",
    "import seaborn as sns\n",
    "import matplotlib.pyplot as plt\n",
    "import sklearn\n",
    "import scipy\n",
    "from tqdm.auto import tqdm, trange\n",
    "import xgboost as xgb\n",
    "import joblib\n",
    "from sklearn.model_selection import cross_validate\n",
    "import zipfile\n",
    "\n",
    "from src.model import tscv, ClippedOutputRegressor\n",
    "from src.feature_engineering import get_feature_cols, df_to_X_y, drop_non_features, add_lagged_features\n",
    "\n",
    "\n",
    "%run constants.py\n",
    "\n",
    "baseline_reg = joblib.load(os.path.join(MODELS_DIR, 'xgb-baseline.model'))\n",
    "\n",
    "%matplotlib inline\n",
    "print(\"Versions:\")\n",
    "print(\"  Python: %s\" % sys.version)\n",
    "for module in [pd, np, sns, sklearn]:\n",
    "    print(\"  %s: %s\" %(module.__name__, module.__version__))"
   ]
  },
  {
   "cell_type": "markdown",
   "metadata": {},
   "source": [
    "Last experiment on features relationships was a disaster, but I want to try it again. I'll make it simpler: calculate lagged feature deltas in some time windows. For now I'll just calculate it for prices and item counts."
   ]
  },
  {
   "cell_type": "code",
   "execution_count": 2,
   "metadata": {},
   "outputs": [],
   "source": [
    "sales_by_month = pd.read_parquet(os.path.join(PROCESSED_DATA_DIR, 'sales-train-by-month.parquet'))\n",
    "prices_stats = pd.read_parquet(os.path.join(PROCESSED_DATA_DIR, 'prices-statistics.parquet'))\n",
    "train_set = pd.read_parquet(os.path.join(PROCESSED_DATA_DIR, 'train-set.parquet'))"
   ]
  },
  {
   "cell_type": "code",
   "execution_count": 6,
   "metadata": {},
   "outputs": [],
   "source": [
    "def feature_delta(df, feature_cols, index_cols=['item_id', 'shop_id'],\n",
    "                  window=1, date_col='date_block_num'):\n",
    "    df = df[feature_cols + index_cols + [date_col]]\n",
    "    aux_df = df.copy()\n",
    "\n",
    "    aux_df[date_col] = aux_df[date_col] + window\n",
    "    df2 = df.merge(aux_df, on=index_cols + [date_col], how='left', sort=False,\n",
    "                   suffixes=['_now', '_then'])\n",
    "    # we fill with 0 so the delta is just the new value\n",
    "    df2.fillna(0, inplace=True)\n",
    "    features_now_cols = ['%s_now' % col for col in feature_cols]\n",
    "    features_then_cols = ['%s_then' % col for col in feature_cols]\n",
    "    delta_cols = ['%s_%s_delta_w%d' % ('_'.join(index_cols), col, window)\n",
    "                  for col in feature_cols]\n",
    "    df2[delta_cols] = df2[features_now_cols].values - df2[features_then_cols].values\n",
    "    return df2[delta_cols]"
   ]
  },
  {
   "cell_type": "code",
   "execution_count": 7,
   "metadata": {},
   "outputs": [],
   "source": [
    "def add_feature_deltas(df, feature_cols, windows=[1, 2, 3, 6, 9, 12], **kwargs):\n",
    "    return pd.concat([df] + [feature_delta(df, feature_cols, window=w, **kwargs) for w in tqdm(windows)])"
   ]
  },
  {
   "cell_type": "markdown",
   "metadata": {},
   "source": [
    "Now let's try our new function:"
   ]
  },
  {
   "cell_type": "code",
   "execution_count": 8,
   "metadata": {},
   "outputs": [
    {
     "data": {
      "application/vnd.jupyter.widget-view+json": {
       "model_id": "d96af579024f4312a1fbf6c65f96124e",
       "version_major": 2,
       "version_minor": 0
      },
      "text/plain": [
       "HBox(children=(FloatProgress(value=0.0, max=6.0), HTML(value='')))"
      ]
     },
     "metadata": {},
     "output_type": "display_data"
    },
    {
     "name": "stdout",
     "output_type": "stream",
     "text": [
      "\n"
     ]
    }
   ],
   "source": [
    "sales_train_with_deltas = add_feature_deltas(sales_by_month, ['item_cnt'])"
   ]
  },
  {
   "cell_type": "code",
   "execution_count": 9,
   "metadata": {},
   "outputs": [
    {
     "data": {
      "text/html": [
       "<div>\n",
       "<style scoped>\n",
       "    .dataframe tbody tr th:only-of-type {\n",
       "        vertical-align: middle;\n",
       "    }\n",
       "\n",
       "    .dataframe tbody tr th {\n",
       "        vertical-align: top;\n",
       "    }\n",
       "\n",
       "    .dataframe thead th {\n",
       "        text-align: right;\n",
       "    }\n",
       "</style>\n",
       "<table border=\"1\" class=\"dataframe\">\n",
       "  <thead>\n",
       "    <tr style=\"text-align: right;\">\n",
       "      <th></th>\n",
       "      <th>date_block_num</th>\n",
       "      <th>shop_id</th>\n",
       "      <th>item_id</th>\n",
       "      <th>item_cnt</th>\n",
       "      <th>item_id_shop_id_item_cnt_delta_w1</th>\n",
       "      <th>item_id_shop_id_item_cnt_delta_w2</th>\n",
       "      <th>item_id_shop_id_item_cnt_delta_w3</th>\n",
       "      <th>item_id_shop_id_item_cnt_delta_w6</th>\n",
       "      <th>item_id_shop_id_item_cnt_delta_w9</th>\n",
       "      <th>item_id_shop_id_item_cnt_delta_w12</th>\n",
       "    </tr>\n",
       "  </thead>\n",
       "  <tbody>\n",
       "    <tr>\n",
       "      <th>count</th>\n",
       "      <td>1.609124e+06</td>\n",
       "      <td>1.609124e+06</td>\n",
       "      <td>1.609124e+06</td>\n",
       "      <td>1.609124e+06</td>\n",
       "      <td>1.609124e+06</td>\n",
       "      <td>1.609124e+06</td>\n",
       "      <td>1.609124e+06</td>\n",
       "      <td>1.609124e+06</td>\n",
       "      <td>1.609124e+06</td>\n",
       "      <td>1.609124e+06</td>\n",
       "    </tr>\n",
       "    <tr>\n",
       "      <th>mean</th>\n",
       "      <td>1.466479e+01</td>\n",
       "      <td>3.280585e+01</td>\n",
       "      <td>1.068099e+04</td>\n",
       "      <td>2.267200e+00</td>\n",
       "      <td>8.125645e-01</td>\n",
       "      <td>9.785939e-01</td>\n",
       "      <td>1.113861e+00</td>\n",
       "      <td>1.378873e+00</td>\n",
       "      <td>1.580595e+00</td>\n",
       "      <td>1.753815e+00</td>\n",
       "    </tr>\n",
       "    <tr>\n",
       "      <th>std</th>\n",
       "      <td>9.542322e+00</td>\n",
       "      <td>1.653701e+01</td>\n",
       "      <td>6.238883e+03</td>\n",
       "      <td>8.649882e+00</td>\n",
       "      <td>6.954732e+00</td>\n",
       "      <td>7.626672e+00</td>\n",
       "      <td>7.774950e+00</td>\n",
       "      <td>8.150903e+00</td>\n",
       "      <td>8.359922e+00</td>\n",
       "      <td>8.257252e+00</td>\n",
       "    </tr>\n",
       "    <tr>\n",
       "      <th>min</th>\n",
       "      <td>0.000000e+00</td>\n",
       "      <td>0.000000e+00</td>\n",
       "      <td>0.000000e+00</td>\n",
       "      <td>-2.200000e+01</td>\n",
       "      <td>-1.240000e+03</td>\n",
       "      <td>-1.071000e+03</td>\n",
       "      <td>-1.020000e+03</td>\n",
       "      <td>-1.073000e+03</td>\n",
       "      <td>-7.360000e+02</td>\n",
       "      <td>-7.610000e+02</td>\n",
       "    </tr>\n",
       "    <tr>\n",
       "      <th>25%</th>\n",
       "      <td>6.000000e+00</td>\n",
       "      <td>2.100000e+01</td>\n",
       "      <td>5.045000e+03</td>\n",
       "      <td>1.000000e+00</td>\n",
       "      <td>0.000000e+00</td>\n",
       "      <td>0.000000e+00</td>\n",
       "      <td>0.000000e+00</td>\n",
       "      <td>1.000000e+00</td>\n",
       "      <td>1.000000e+00</td>\n",
       "      <td>1.000000e+00</td>\n",
       "    </tr>\n",
       "    <tr>\n",
       "      <th>50%</th>\n",
       "      <td>1.400000e+01</td>\n",
       "      <td>3.100000e+01</td>\n",
       "      <td>1.049700e+04</td>\n",
       "      <td>1.000000e+00</td>\n",
       "      <td>1.000000e+00</td>\n",
       "      <td>1.000000e+00</td>\n",
       "      <td>1.000000e+00</td>\n",
       "      <td>1.000000e+00</td>\n",
       "      <td>1.000000e+00</td>\n",
       "      <td>1.000000e+00</td>\n",
       "    </tr>\n",
       "    <tr>\n",
       "      <th>75%</th>\n",
       "      <td>2.300000e+01</td>\n",
       "      <td>4.700000e+01</td>\n",
       "      <td>1.606000e+04</td>\n",
       "      <td>2.000000e+00</td>\n",
       "      <td>1.000000e+00</td>\n",
       "      <td>1.000000e+00</td>\n",
       "      <td>1.000000e+00</td>\n",
       "      <td>2.000000e+00</td>\n",
       "      <td>2.000000e+00</td>\n",
       "      <td>2.000000e+00</td>\n",
       "    </tr>\n",
       "    <tr>\n",
       "      <th>max</th>\n",
       "      <td>3.300000e+01</td>\n",
       "      <td>5.900000e+01</td>\n",
       "      <td>2.216900e+04</td>\n",
       "      <td>2.253000e+03</td>\n",
       "      <td>2.007000e+03</td>\n",
       "      <td>2.178000e+03</td>\n",
       "      <td>2.052000e+03</td>\n",
       "      <td>1.961000e+03</td>\n",
       "      <td>2.120000e+03</td>\n",
       "      <td>2.185000e+03</td>\n",
       "    </tr>\n",
       "  </tbody>\n",
       "</table>\n",
       "</div>"
      ],
      "text/plain": [
       "       date_block_num       shop_id       item_id      item_cnt  \\\n",
       "count    1.609124e+06  1.609124e+06  1.609124e+06  1.609124e+06   \n",
       "mean     1.466479e+01  3.280585e+01  1.068099e+04  2.267200e+00   \n",
       "std      9.542322e+00  1.653701e+01  6.238883e+03  8.649882e+00   \n",
       "min      0.000000e+00  0.000000e+00  0.000000e+00 -2.200000e+01   \n",
       "25%      6.000000e+00  2.100000e+01  5.045000e+03  1.000000e+00   \n",
       "50%      1.400000e+01  3.100000e+01  1.049700e+04  1.000000e+00   \n",
       "75%      2.300000e+01  4.700000e+01  1.606000e+04  2.000000e+00   \n",
       "max      3.300000e+01  5.900000e+01  2.216900e+04  2.253000e+03   \n",
       "\n",
       "       item_id_shop_id_item_cnt_delta_w1  item_id_shop_id_item_cnt_delta_w2  \\\n",
       "count                       1.609124e+06                       1.609124e+06   \n",
       "mean                        8.125645e-01                       9.785939e-01   \n",
       "std                         6.954732e+00                       7.626672e+00   \n",
       "min                        -1.240000e+03                      -1.071000e+03   \n",
       "25%                         0.000000e+00                       0.000000e+00   \n",
       "50%                         1.000000e+00                       1.000000e+00   \n",
       "75%                         1.000000e+00                       1.000000e+00   \n",
       "max                         2.007000e+03                       2.178000e+03   \n",
       "\n",
       "       item_id_shop_id_item_cnt_delta_w3  item_id_shop_id_item_cnt_delta_w6  \\\n",
       "count                       1.609124e+06                       1.609124e+06   \n",
       "mean                        1.113861e+00                       1.378873e+00   \n",
       "std                         7.774950e+00                       8.150903e+00   \n",
       "min                        -1.020000e+03                      -1.073000e+03   \n",
       "25%                         0.000000e+00                       1.000000e+00   \n",
       "50%                         1.000000e+00                       1.000000e+00   \n",
       "75%                         1.000000e+00                       2.000000e+00   \n",
       "max                         2.052000e+03                       1.961000e+03   \n",
       "\n",
       "       item_id_shop_id_item_cnt_delta_w9  item_id_shop_id_item_cnt_delta_w12  \n",
       "count                       1.609124e+06                        1.609124e+06  \n",
       "mean                        1.580595e+00                        1.753815e+00  \n",
       "std                         8.359922e+00                        8.257252e+00  \n",
       "min                        -7.360000e+02                       -7.610000e+02  \n",
       "25%                         1.000000e+00                        1.000000e+00  \n",
       "50%                         1.000000e+00                        1.000000e+00  \n",
       "75%                         2.000000e+00                        2.000000e+00  \n",
       "max                         2.120000e+03                        2.185000e+03  "
      ]
     },
     "execution_count": 9,
     "metadata": {},
     "output_type": "execute_result"
    }
   ],
   "source": [
    "sales_train_with_deltas.describe()"
   ]
  },
  {
   "cell_type": "markdown",
   "metadata": {},
   "source": [
    "Looking good. Now let's see how this affects our score."
   ]
  },
  {
   "cell_type": "code",
   "execution_count": 7,
   "metadata": {},
   "outputs": [
    {
     "data": {
      "application/vnd.jupyter.widget-view+json": {
       "model_id": "d258c7686a8c4f01be19155ba8dddba0",
       "version_major": 2,
       "version_minor": 0
      },
      "text/plain": [
       "HBox(children=(FloatProgress(value=0.0, max=1.0), HTML(value='')))"
      ]
     },
     "metadata": {},
     "output_type": "display_data"
    },
    {
     "name": "stdout",
     "output_type": "stream",
     "text": [
      "\n"
     ]
    }
   ],
   "source": [
    "train_set_sales_delta = add_lagged_features(train_set, sales_train_with_deltas,\n",
    "                                            [c for c in sales_train_with_deltas.columns\n",
    "                                             if c.startswith('item_cnt_delta_')], \n",
    "                                            max_lag=1, fill_value=0)"
   ]
  },
  {
   "cell_type": "code",
   "execution_count": 8,
   "metadata": {},
   "outputs": [
    {
     "data": {
      "text/html": [
       "<div>\n",
       "<style scoped>\n",
       "    .dataframe tbody tr th:only-of-type {\n",
       "        vertical-align: middle;\n",
       "    }\n",
       "\n",
       "    .dataframe tbody tr th {\n",
       "        vertical-align: top;\n",
       "    }\n",
       "\n",
       "    .dataframe thead th {\n",
       "        text-align: right;\n",
       "    }\n",
       "</style>\n",
       "<table border=\"1\" class=\"dataframe\">\n",
       "  <thead>\n",
       "    <tr style=\"text-align: right;\">\n",
       "      <th></th>\n",
       "      <th>item_id</th>\n",
       "      <th>shop_id</th>\n",
       "      <th>date_block_num</th>\n",
       "      <th>item_cnt_month</th>\n",
       "      <th>f__item_cnt_delta_w1_1</th>\n",
       "      <th>f__item_cnt_delta_w2_1</th>\n",
       "      <th>f__item_cnt_delta_w3_1</th>\n",
       "      <th>f__item_cnt_delta_w6_1</th>\n",
       "      <th>f__item_cnt_delta_w9_1</th>\n",
       "      <th>f__item_cnt_delta_w12_1</th>\n",
       "    </tr>\n",
       "  </thead>\n",
       "  <tbody>\n",
       "    <tr>\n",
       "      <th>0</th>\n",
       "      <td>5037</td>\n",
       "      <td>5</td>\n",
       "      <td>10</td>\n",
       "      <td>0.0</td>\n",
       "      <td>0.0</td>\n",
       "      <td>0.0</td>\n",
       "      <td>0.0</td>\n",
       "      <td>0.0</td>\n",
       "      <td>0.0</td>\n",
       "      <td>0.0</td>\n",
       "    </tr>\n",
       "    <tr>\n",
       "      <th>1</th>\n",
       "      <td>5320</td>\n",
       "      <td>5</td>\n",
       "      <td>10</td>\n",
       "      <td>0.0</td>\n",
       "      <td>0.0</td>\n",
       "      <td>0.0</td>\n",
       "      <td>0.0</td>\n",
       "      <td>0.0</td>\n",
       "      <td>0.0</td>\n",
       "      <td>0.0</td>\n",
       "    </tr>\n",
       "    <tr>\n",
       "      <th>2</th>\n",
       "      <td>5233</td>\n",
       "      <td>5</td>\n",
       "      <td>10</td>\n",
       "      <td>0.0</td>\n",
       "      <td>0.0</td>\n",
       "      <td>0.0</td>\n",
       "      <td>0.0</td>\n",
       "      <td>0.0</td>\n",
       "      <td>0.0</td>\n",
       "      <td>0.0</td>\n",
       "    </tr>\n",
       "    <tr>\n",
       "      <th>3</th>\n",
       "      <td>5232</td>\n",
       "      <td>5</td>\n",
       "      <td>10</td>\n",
       "      <td>0.0</td>\n",
       "      <td>0.0</td>\n",
       "      <td>0.0</td>\n",
       "      <td>0.0</td>\n",
       "      <td>0.0</td>\n",
       "      <td>0.0</td>\n",
       "      <td>0.0</td>\n",
       "    </tr>\n",
       "    <tr>\n",
       "      <th>4</th>\n",
       "      <td>5268</td>\n",
       "      <td>5</td>\n",
       "      <td>10</td>\n",
       "      <td>0.0</td>\n",
       "      <td>0.0</td>\n",
       "      <td>0.0</td>\n",
       "      <td>0.0</td>\n",
       "      <td>0.0</td>\n",
       "      <td>0.0</td>\n",
       "      <td>0.0</td>\n",
       "    </tr>\n",
       "    <tr>\n",
       "      <th>...</th>\n",
       "      <td>...</td>\n",
       "      <td>...</td>\n",
       "      <td>...</td>\n",
       "      <td>...</td>\n",
       "      <td>...</td>\n",
       "      <td>...</td>\n",
       "      <td>...</td>\n",
       "      <td>...</td>\n",
       "      <td>...</td>\n",
       "      <td>...</td>\n",
       "    </tr>\n",
       "    <tr>\n",
       "      <th>5140795</th>\n",
       "      <td>18454</td>\n",
       "      <td>45</td>\n",
       "      <td>33</td>\n",
       "      <td>1.0</td>\n",
       "      <td>0.0</td>\n",
       "      <td>0.0</td>\n",
       "      <td>0.0</td>\n",
       "      <td>0.0</td>\n",
       "      <td>0.0</td>\n",
       "      <td>0.0</td>\n",
       "    </tr>\n",
       "    <tr>\n",
       "      <th>5140796</th>\n",
       "      <td>16188</td>\n",
       "      <td>45</td>\n",
       "      <td>33</td>\n",
       "      <td>0.0</td>\n",
       "      <td>0.0</td>\n",
       "      <td>0.0</td>\n",
       "      <td>0.0</td>\n",
       "      <td>0.0</td>\n",
       "      <td>0.0</td>\n",
       "      <td>0.0</td>\n",
       "    </tr>\n",
       "    <tr>\n",
       "      <th>5140797</th>\n",
       "      <td>15757</td>\n",
       "      <td>45</td>\n",
       "      <td>33</td>\n",
       "      <td>0.0</td>\n",
       "      <td>0.0</td>\n",
       "      <td>0.0</td>\n",
       "      <td>0.0</td>\n",
       "      <td>0.0</td>\n",
       "      <td>0.0</td>\n",
       "      <td>0.0</td>\n",
       "    </tr>\n",
       "    <tr>\n",
       "      <th>5140798</th>\n",
       "      <td>19648</td>\n",
       "      <td>45</td>\n",
       "      <td>33</td>\n",
       "      <td>0.0</td>\n",
       "      <td>0.0</td>\n",
       "      <td>0.0</td>\n",
       "      <td>0.0</td>\n",
       "      <td>0.0</td>\n",
       "      <td>0.0</td>\n",
       "      <td>0.0</td>\n",
       "    </tr>\n",
       "    <tr>\n",
       "      <th>5140799</th>\n",
       "      <td>969</td>\n",
       "      <td>45</td>\n",
       "      <td>33</td>\n",
       "      <td>0.0</td>\n",
       "      <td>0.0</td>\n",
       "      <td>0.0</td>\n",
       "      <td>0.0</td>\n",
       "      <td>0.0</td>\n",
       "      <td>0.0</td>\n",
       "      <td>0.0</td>\n",
       "    </tr>\n",
       "  </tbody>\n",
       "</table>\n",
       "<p>5140800 rows × 10 columns</p>\n",
       "</div>"
      ],
      "text/plain": [
       "         item_id  shop_id  date_block_num  item_cnt_month  \\\n",
       "0           5037        5              10             0.0   \n",
       "1           5320        5              10             0.0   \n",
       "2           5233        5              10             0.0   \n",
       "3           5232        5              10             0.0   \n",
       "4           5268        5              10             0.0   \n",
       "...          ...      ...             ...             ...   \n",
       "5140795    18454       45              33             1.0   \n",
       "5140796    16188       45              33             0.0   \n",
       "5140797    15757       45              33             0.0   \n",
       "5140798    19648       45              33             0.0   \n",
       "5140799      969       45              33             0.0   \n",
       "\n",
       "         f__item_cnt_delta_w1_1  f__item_cnt_delta_w2_1  \\\n",
       "0                           0.0                     0.0   \n",
       "1                           0.0                     0.0   \n",
       "2                           0.0                     0.0   \n",
       "3                           0.0                     0.0   \n",
       "4                           0.0                     0.0   \n",
       "...                         ...                     ...   \n",
       "5140795                     0.0                     0.0   \n",
       "5140796                     0.0                     0.0   \n",
       "5140797                     0.0                     0.0   \n",
       "5140798                     0.0                     0.0   \n",
       "5140799                     0.0                     0.0   \n",
       "\n",
       "         f__item_cnt_delta_w3_1  f__item_cnt_delta_w6_1  \\\n",
       "0                           0.0                     0.0   \n",
       "1                           0.0                     0.0   \n",
       "2                           0.0                     0.0   \n",
       "3                           0.0                     0.0   \n",
       "4                           0.0                     0.0   \n",
       "...                         ...                     ...   \n",
       "5140795                     0.0                     0.0   \n",
       "5140796                     0.0                     0.0   \n",
       "5140797                     0.0                     0.0   \n",
       "5140798                     0.0                     0.0   \n",
       "5140799                     0.0                     0.0   \n",
       "\n",
       "         f__item_cnt_delta_w9_1  f__item_cnt_delta_w12_1  \n",
       "0                           0.0                      0.0  \n",
       "1                           0.0                      0.0  \n",
       "2                           0.0                      0.0  \n",
       "3                           0.0                      0.0  \n",
       "4                           0.0                      0.0  \n",
       "...                         ...                      ...  \n",
       "5140795                     0.0                      0.0  \n",
       "5140796                     0.0                      0.0  \n",
       "5140797                     0.0                      0.0  \n",
       "5140798                     0.0                      0.0  \n",
       "5140799                     0.0                      0.0  \n",
       "\n",
       "[5140800 rows x 10 columns]"
      ]
     },
     "execution_count": 8,
     "metadata": {},
     "output_type": "execute_result"
    }
   ],
   "source": [
    "train_set_sales_delta"
   ]
  },
  {
   "cell_type": "code",
   "execution_count": 9,
   "metadata": {},
   "outputs": [
    {
     "name": "stderr",
     "output_type": "stream",
     "text": [
      "[Parallel(n_jobs=1)]: Using backend SequentialBackend with 1 concurrent workers.\n"
     ]
    },
    {
     "name": "stdout",
     "output_type": "stream",
     "text": [
      "[CV]  ................................................................\n",
      "[CV] ................................................. , total=   6.3s\n",
      "[CV]  ................................................................\n"
     ]
    },
    {
     "name": "stderr",
     "output_type": "stream",
     "text": [
      "[Parallel(n_jobs=1)]: Done   1 out of   1 | elapsed:    6.3s remaining:    0.0s\n"
     ]
    },
    {
     "name": "stdout",
     "output_type": "stream",
     "text": [
      "[CV] ................................................. , total=   5.4s\n",
      "[CV]  ................................................................\n",
      "[CV] ................................................. , total=   6.0s\n"
     ]
    },
    {
     "name": "stderr",
     "output_type": "stream",
     "text": [
      "[Parallel(n_jobs=1)]: Done   3 out of   3 | elapsed:   17.7s finished\n"
     ]
    },
    {
     "data": {
      "text/plain": [
       "{'fit_time': array([6.20678902, 5.31006551, 5.85935163]),\n",
       " 'score_time': array([0.06795406, 0.10453439, 0.10542536]),\n",
       " 'test_score': array([-1.03234395, -1.11599645, -1.09011108])}"
      ]
     },
     "execution_count": 9,
     "metadata": {},
     "output_type": "execute_result"
    }
   ],
   "source": [
    "X_train, y_train = df_to_X_y(train_set_sales_delta)\n",
    "\n",
    "scores = cross_validate(baseline_reg, X_train, y=y_train,\n",
    "                        cv=tscv.split(train_set_sales_delta['date_block_num'], window=16),\n",
    "                        verbose=2, scoring='neg_root_mean_squared_error')\n",
    "scores"
   ]
  },
  {
   "cell_type": "code",
   "execution_count": 10,
   "metadata": {},
   "outputs": [
    {
     "data": {
      "text/plain": [
       "(-1.0794838257372612, 0.03496797674404297)"
      ]
     },
     "execution_count": 10,
     "metadata": {},
     "output_type": "execute_result"
    }
   ],
   "source": [
    "np.mean(scores['test_score']), np.std(scores['test_score'])"
   ]
  }
 ],
 "metadata": {
  "kernelspec": {
   "display_name": "Python 3",
   "language": "python",
   "name": "python3"
  },
  "language_info": {
   "codemirror_mode": {
    "name": "ipython",
    "version": 3
   },
   "file_extension": ".py",
   "mimetype": "text/x-python",
   "name": "python",
   "nbconvert_exporter": "python",
   "pygments_lexer": "ipython3",
   "version": "3.8.2"
  }
 },
 "nbformat": 4,
 "nbformat_minor": 4
}
