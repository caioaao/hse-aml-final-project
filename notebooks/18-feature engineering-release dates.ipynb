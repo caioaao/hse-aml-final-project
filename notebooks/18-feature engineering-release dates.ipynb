{
 "cells": [
  {
   "cell_type": "code",
   "execution_count": 1,
   "metadata": {},
   "outputs": [
    {
     "name": "stdout",
     "output_type": "stream",
     "text": [
      "Versions:\n",
      "  Python: 3.8.2 (default, Jul 16 2020, 14:00:26) \n",
      "[GCC 9.3.0]\n",
      "  pandas: 1.1.1\n",
      "  numpy: 1.19.1\n",
      "  seaborn: 0.10.1\n",
      "  sklearn: 0.23.2\n"
     ]
    }
   ],
   "source": [
    "%load_ext autoreload\n",
    "%autoreload 2\n",
    "\n",
    "import os\n",
    "import sys\n",
    "\n",
    "import pandas as pd\n",
    "import numpy as np\n",
    "import seaborn as sns\n",
    "import matplotlib.pyplot as plt\n",
    "import sklearn\n",
    "import scipy\n",
    "from tqdm.auto import tqdm, trange\n",
    "import xgboost as xgb\n",
    "import joblib\n",
    "from sklearn.model_selection import cross_validate\n",
    "import zipfile\n",
    "\n",
    "from src.model import tscv, ClippedOutputRegressor\n",
    "from src.feature_engineering import get_feature_cols, df_to_X_y, drop_non_features, add_lagged_features\n",
    "\n",
    "\n",
    "%run constants.py\n",
    "\n",
    "baseline_reg = joblib.load(os.path.join(MODELS_DIR, 'xgb-baseline.model'))\n",
    "\n",
    "%matplotlib inline\n",
    "print(\"Versions:\")\n",
    "print(\"  Python: %s\" % sys.version)\n",
    "for module in [pd, np, sns, sklearn]:\n",
    "    print(\"  %s: %s\" %(module.__name__, module.__version__))"
   ]
  },
  {
   "cell_type": "code",
   "execution_count": 18,
   "metadata": {},
   "outputs": [],
   "source": [
    "sales_train = pd.read_parquet(os.path.join(PROCESSED_DATA_DIR, 'sales-train.parquet'))\n",
    "train_set = pd.read_parquet(os.path.join(PROCESSED_DATA_DIR, 'train-set.parquet'))"
   ]
  },
  {
   "cell_type": "markdown",
   "metadata": {},
   "source": [
    "Let's try getting the release date of an item, or more precisely, the number months since the release.\n",
    "\n",
    "We will check the global release date and the release date for a shop."
   ]
  },
  {
   "cell_type": "code",
   "execution_count": 22,
   "metadata": {},
   "outputs": [],
   "source": [
    "groups = [['item_id'],\n",
    "          ['item_id', 'shop_id'],\n",
    "          ['shop_id']]"
   ]
  },
  {
   "cell_type": "code",
   "execution_count": 23,
   "metadata": {},
   "outputs": [
    {
     "data": {
      "text/html": [
       "<div>\n",
       "<style scoped>\n",
       "    .dataframe tbody tr th:only-of-type {\n",
       "        vertical-align: middle;\n",
       "    }\n",
       "\n",
       "    .dataframe tbody tr th {\n",
       "        vertical-align: top;\n",
       "    }\n",
       "\n",
       "    .dataframe thead th {\n",
       "        text-align: right;\n",
       "    }\n",
       "</style>\n",
       "<table border=\"1\" class=\"dataframe\">\n",
       "  <thead>\n",
       "    <tr style=\"text-align: right;\">\n",
       "      <th></th>\n",
       "      <th>item_id</th>\n",
       "      <th>shop_id</th>\n",
       "      <th>date_block_num</th>\n",
       "      <th>item_id_release_date</th>\n",
       "      <th>item_id_months_since_launch</th>\n",
       "      <th>item_id_shop_id_release_date</th>\n",
       "      <th>item_id_shop_id_months_since_launch</th>\n",
       "      <th>shop_id_release_date</th>\n",
       "      <th>shop_id_months_since_launch</th>\n",
       "    </tr>\n",
       "  </thead>\n",
       "  <tbody>\n",
       "    <tr>\n",
       "      <th>count</th>\n",
       "      <td>1.609123e+06</td>\n",
       "      <td>1.609123e+06</td>\n",
       "      <td>1.609123e+06</td>\n",
       "      <td>1.609123e+06</td>\n",
       "      <td>1.609123e+06</td>\n",
       "      <td>1.609123e+06</td>\n",
       "      <td>1.609123e+06</td>\n",
       "      <td>1.609123e+06</td>\n",
       "      <td>1.609123e+06</td>\n",
       "    </tr>\n",
       "    <tr>\n",
       "      <th>mean</th>\n",
       "      <td>7.397643e+03</td>\n",
       "      <td>-2.387890e+02</td>\n",
       "      <td>-2.514327e+02</td>\n",
       "      <td>-2.587730e+02</td>\n",
       "      <td>-2.559702e+02</td>\n",
       "      <td>-2.577759e+02</td>\n",
       "      <td>-2.569673e+02</td>\n",
       "      <td>-2.628989e+02</td>\n",
       "      <td>-2.518443e+02</td>\n",
       "    </tr>\n",
       "    <tr>\n",
       "      <th>std</th>\n",
       "      <td>7.350269e+03</td>\n",
       "      <td>4.550171e+02</td>\n",
       "      <td>4.473029e+02</td>\n",
       "      <td>4.428994e+02</td>\n",
       "      <td>4.445698e+02</td>\n",
       "      <td>4.434966e+02</td>\n",
       "      <td>4.439682e+02</td>\n",
       "      <td>4.403811e+02</td>\n",
       "      <td>4.470559e+02</td>\n",
       "    </tr>\n",
       "    <tr>\n",
       "      <th>min</th>\n",
       "      <td>-9.990000e+02</td>\n",
       "      <td>-9.990000e+02</td>\n",
       "      <td>-9.990000e+02</td>\n",
       "      <td>-9.990000e+02</td>\n",
       "      <td>-9.990000e+02</td>\n",
       "      <td>-9.990000e+02</td>\n",
       "      <td>-9.990000e+02</td>\n",
       "      <td>-9.990000e+02</td>\n",
       "      <td>-9.990000e+02</td>\n",
       "    </tr>\n",
       "    <tr>\n",
       "      <th>25%</th>\n",
       "      <td>-9.990000e+02</td>\n",
       "      <td>-9.990000e+02</td>\n",
       "      <td>-9.990000e+02</td>\n",
       "      <td>-9.990000e+02</td>\n",
       "      <td>-9.990000e+02</td>\n",
       "      <td>-9.990000e+02</td>\n",
       "      <td>-9.990000e+02</td>\n",
       "      <td>-9.990000e+02</td>\n",
       "      <td>-9.990000e+02</td>\n",
       "    </tr>\n",
       "    <tr>\n",
       "      <th>50%</th>\n",
       "      <td>6.002000e+03</td>\n",
       "      <td>2.500000e+01</td>\n",
       "      <td>1.100000e+01</td>\n",
       "      <td>0.000000e+00</td>\n",
       "      <td>5.000000e+00</td>\n",
       "      <td>1.000000e+00</td>\n",
       "      <td>4.000000e+00</td>\n",
       "      <td>0.000000e+00</td>\n",
       "      <td>1.000000e+01</td>\n",
       "    </tr>\n",
       "    <tr>\n",
       "      <th>75%</th>\n",
       "      <td>1.395900e+04</td>\n",
       "      <td>4.300000e+01</td>\n",
       "      <td>2.100000e+01</td>\n",
       "      <td>8.000000e+00</td>\n",
       "      <td>1.200000e+01</td>\n",
       "      <td>9.000000e+00</td>\n",
       "      <td>1.000000e+01</td>\n",
       "      <td>0.000000e+00</td>\n",
       "      <td>2.000000e+01</td>\n",
       "    </tr>\n",
       "    <tr>\n",
       "      <th>max</th>\n",
       "      <td>2.216800e+04</td>\n",
       "      <td>5.900000e+01</td>\n",
       "      <td>3.300000e+01</td>\n",
       "      <td>3.200000e+01</td>\n",
       "      <td>3.300000e+01</td>\n",
       "      <td>3.200000e+01</td>\n",
       "      <td>3.300000e+01</td>\n",
       "      <td>2.100000e+01</td>\n",
       "      <td>3.300000e+01</td>\n",
       "    </tr>\n",
       "  </tbody>\n",
       "</table>\n",
       "</div>"
      ],
      "text/plain": [
       "            item_id       shop_id  date_block_num  item_id_release_date  \\\n",
       "count  1.609123e+06  1.609123e+06    1.609123e+06          1.609123e+06   \n",
       "mean   7.397643e+03 -2.387890e+02   -2.514327e+02         -2.587730e+02   \n",
       "std    7.350269e+03  4.550171e+02    4.473029e+02          4.428994e+02   \n",
       "min   -9.990000e+02 -9.990000e+02   -9.990000e+02         -9.990000e+02   \n",
       "25%   -9.990000e+02 -9.990000e+02   -9.990000e+02         -9.990000e+02   \n",
       "50%    6.002000e+03  2.500000e+01    1.100000e+01          0.000000e+00   \n",
       "75%    1.395900e+04  4.300000e+01    2.100000e+01          8.000000e+00   \n",
       "max    2.216800e+04  5.900000e+01    3.300000e+01          3.200000e+01   \n",
       "\n",
       "       item_id_months_since_launch  item_id_shop_id_release_date  \\\n",
       "count                 1.609123e+06                  1.609123e+06   \n",
       "mean                 -2.559702e+02                 -2.577759e+02   \n",
       "std                   4.445698e+02                  4.434966e+02   \n",
       "min                  -9.990000e+02                 -9.990000e+02   \n",
       "25%                  -9.990000e+02                 -9.990000e+02   \n",
       "50%                   5.000000e+00                  1.000000e+00   \n",
       "75%                   1.200000e+01                  9.000000e+00   \n",
       "max                   3.300000e+01                  3.200000e+01   \n",
       "\n",
       "       item_id_shop_id_months_since_launch  shop_id_release_date  \\\n",
       "count                         1.609123e+06          1.609123e+06   \n",
       "mean                         -2.569673e+02         -2.628989e+02   \n",
       "std                           4.439682e+02          4.403811e+02   \n",
       "min                          -9.990000e+02         -9.990000e+02   \n",
       "25%                          -9.990000e+02         -9.990000e+02   \n",
       "50%                           4.000000e+00          0.000000e+00   \n",
       "75%                           1.000000e+01          0.000000e+00   \n",
       "max                           3.300000e+01          2.100000e+01   \n",
       "\n",
       "       shop_id_months_since_launch  \n",
       "count                 1.609123e+06  \n",
       "mean                 -2.518443e+02  \n",
       "std                   4.470559e+02  \n",
       "min                  -9.990000e+02  \n",
       "25%                  -9.990000e+02  \n",
       "50%                   1.000000e+01  \n",
       "75%                   2.000000e+01  \n",
       "max                   3.300000e+01  "
      ]
     },
     "execution_count": 23,
     "metadata": {},
     "output_type": "execute_result"
    }
   ],
   "source": [
    "df = sales_train[['item_id', 'shop_id', 'date_block_num']].drop_duplicates()\n",
    "for group in groups:\n",
    "    group_id = '_'.join(group)\n",
    "    release_date_col =  '%s_release_date' % group_id\n",
    "    feature_col = '%s_months_since_launch' % group_id\n",
    "    release_dates = sales_train.groupby(group)['date_block_num'].min().reset_index().rename(columns={'date_block_num': release_date_col})\n",
    "    df = df.merge(release_dates, on=group, how='left').fillna(-1)\n",
    "    df[feature_col] = df['date_block_num'] - df[release_date_col]\n",
    "    df[df[feature_col] <= 0] = -999\n",
    "    \n",
    "df.describe()"
   ]
  },
  {
   "cell_type": "code",
   "execution_count": 24,
   "metadata": {},
   "outputs": [
    {
     "data": {
      "text/plain": [
       "<AxesSubplot:xlabel='item_id_release_date'>"
      ]
     },
     "execution_count": 24,
     "metadata": {},
     "output_type": "execute_result"
    },
    {
     "data": {
      "image/png": "[encoded data removed]",
      "text/plain": [
       "<Figure size 432x288 with 1 Axes>"
      ]
     },
     "metadata": {
      "needs_background": "light"
     },
     "output_type": "display_data"
    }
   ],
   "source": [
    "sns.boxplot(df[df['item_id_release_date'] > 0]['item_id_release_date'])"
   ]
  },
  {
   "cell_type": "code",
   "execution_count": 25,
   "metadata": {},
   "outputs": [
    {
     "data": {
      "text/plain": [
       "<AxesSubplot:xlabel='item_id_shop_id_release_date'>"
      ]
     },
     "execution_count": 25,
     "metadata": {},
     "output_type": "execute_result"
    },
    {
     "data": {
      "image/png": "[encoded data removed]",
      "text/plain": [
       "<Figure size 432x288 with 1 Axes>"
      ]
     },
     "metadata": {
      "needs_background": "light"
     },
     "output_type": "display_data"
    }
   ],
   "source": [
    "sns.boxplot(df[df['item_id_shop_id_release_date'] > 0]['item_id_shop_id_release_date'])"
   ]
  },
  {
   "cell_type": "code",
   "execution_count": 26,
   "metadata": {},
   "outputs": [
    {
     "data": {
      "text/plain": [
       "<AxesSubplot:xlabel='shop_id_release_date'>"
      ]
     },
     "execution_count": 26,
     "metadata": {},
     "output_type": "execute_result"
    },
    {
     "data": {
      "image/png": "[encoded data removed]",
      "text/plain": [
       "<Figure size 432x288 with 1 Axes>"
      ]
     },
     "metadata": {
      "needs_background": "light"
     },
     "output_type": "display_data"
    }
   ],
   "source": [
    "sns.boxplot(df[df['shop_id_release_date'] > 0]['shop_id_release_date'])"
   ]
  }
 ],
 "metadata": {
  "kernelspec": {
   "display_name": "Python 3",
   "language": "python",
   "name": "python3"
  },
  "language_info": {
   "codemirror_mode": {
    "name": "ipython",
    "version": 3
   },
   "file_extension": ".py",
   "mimetype": "text/x-python",
   "name": "python",
   "nbconvert_exporter": "python",
   "pygments_lexer": "ipython3",
   "version": "3.8.2"
  }
 },
 "nbformat": 4,
 "nbformat_minor": 4
}
