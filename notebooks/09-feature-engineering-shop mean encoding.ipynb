{
 "cells": [
  {
   "cell_type": "code",
   "execution_count": 1,
   "metadata": {},
   "outputs": [
    {
     "name": "stdout",
     "output_type": "stream",
     "text": [
      "Versions:\n",
      "  Python: 3.8.2 (default, Jul 16 2020, 14:00:26) \n",
      "[GCC 9.3.0]\n",
      "  pandas: 1.1.1\n",
      "  numpy: 1.19.1\n",
      "  seaborn: 0.10.1\n",
      "  sklearn: 0.23.2\n"
     ]
    }
   ],
   "source": [
    "%load_ext autoreload\n",
    "%autoreload 2\n",
    "\n",
    "import os\n",
    "import sys\n",
    "\n",
    "import pandas as pd\n",
    "import numpy as np\n",
    "import seaborn as sns\n",
    "import matplotlib.pyplot as plt\n",
    "import sklearn\n",
    "import scipy\n",
    "from tqdm.auto import tqdm, trange\n",
    "\n",
    "from src.model import tscv\n",
    "from src.data import add_lagged_features\n",
    "\n",
    "%run constants.py\n",
    "\n",
    "%matplotlib inline\n",
    "print(\"Versions:\")\n",
    "print(\"  Python: %s\" % sys.version)\n",
    "for module in [pd, np, sns, sklearn]:\n",
    "    print(\"  %s: %s\" %(module.__name__, module.__version__))"
   ]
  },
  {
   "cell_type": "markdown",
   "metadata": {},
   "source": [
    "Let's build the feature set using the shop item-cat encoding we developed earlier."
   ]
  },
  {
   "cell_type": "code",
   "execution_count": 3,
   "metadata": {},
   "outputs": [],
   "source": [
    "train_set = pd.read_parquet(os.path.join(PROCESSED_DATA_DIR, 'train-set.parquet'))\n",
    "shop_item_cat_encoding = pd.read_parquet(os.path.join(PROCESSED_DATA_DIR, 'shop-item-cat-encoding.parquet'))"
   ]
  },
  {
   "cell_type": "code",
   "execution_count": 4,
   "metadata": {},
   "outputs": [
    {
     "data": {
      "text/html": [
       "<div>\n",
       "<style scoped>\n",
       "    .dataframe tbody tr th:only-of-type {\n",
       "        vertical-align: middle;\n",
       "    }\n",
       "\n",
       "    .dataframe tbody tr th {\n",
       "        vertical-align: top;\n",
       "    }\n",
       "\n",
       "    .dataframe thead th {\n",
       "        text-align: right;\n",
       "    }\n",
       "</style>\n",
       "<table border=\"1\" class=\"dataframe\">\n",
       "  <thead>\n",
       "    <tr style=\"text-align: right;\">\n",
       "      <th></th>\n",
       "      <th>shop_id</th>\n",
       "      <th>date_block_num</th>\n",
       "      <th>shop_item_cat_enc_0</th>\n",
       "      <th>shop_item_cat_enc_1</th>\n",
       "      <th>shop_item_cat_enc_2</th>\n",
       "      <th>shop_item_cat_enc_3</th>\n",
       "      <th>shop_item_cat_enc_4</th>\n",
       "      <th>shop_item_cat_enc_5</th>\n",
       "      <th>shop_item_cat_enc_6</th>\n",
       "      <th>shop_item_cat_enc_7</th>\n",
       "      <th>shop_item_cat_enc_8</th>\n",
       "      <th>shop_item_cat_enc_9</th>\n",
       "      <th>shop_item_cat_enc_10</th>\n",
       "      <th>shop_item_cat_enc_11</th>\n",
       "      <th>shop_item_cat_enc_12</th>\n",
       "      <th>shop_item_cat_enc_13</th>\n",
       "      <th>shop_item_cat_enc_14</th>\n",
       "    </tr>\n",
       "  </thead>\n",
       "  <tbody>\n",
       "    <tr>\n",
       "      <th>0</th>\n",
       "      <td>0</td>\n",
       "      <td>0</td>\n",
       "      <td>0.025636</td>\n",
       "      <td>0.000000</td>\n",
       "      <td>0.034062</td>\n",
       "      <td>0.008426</td>\n",
       "      <td>0.161169</td>\n",
       "      <td>0.0</td>\n",
       "      <td>0.0</td>\n",
       "      <td>0.165471</td>\n",
       "      <td>0.002510</td>\n",
       "      <td>0.408032</td>\n",
       "      <td>0.012549</td>\n",
       "      <td>0.094658</td>\n",
       "      <td>0.045357</td>\n",
       "      <td>0.042130</td>\n",
       "      <td>0.000000</td>\n",
       "    </tr>\n",
       "    <tr>\n",
       "      <th>1</th>\n",
       "      <td>0</td>\n",
       "      <td>1</td>\n",
       "      <td>0.021707</td>\n",
       "      <td>0.000163</td>\n",
       "      <td>0.034764</td>\n",
       "      <td>0.009466</td>\n",
       "      <td>0.166476</td>\n",
       "      <td>0.0</td>\n",
       "      <td>0.0</td>\n",
       "      <td>0.150481</td>\n",
       "      <td>0.003754</td>\n",
       "      <td>0.392035</td>\n",
       "      <td>0.013547</td>\n",
       "      <td>0.105109</td>\n",
       "      <td>0.062510</td>\n",
       "      <td>0.039987</td>\n",
       "      <td>0.000000</td>\n",
       "    </tr>\n",
       "    <tr>\n",
       "      <th>2</th>\n",
       "      <td>1</td>\n",
       "      <td>0</td>\n",
       "      <td>0.037326</td>\n",
       "      <td>0.000000</td>\n",
       "      <td>0.038683</td>\n",
       "      <td>0.007805</td>\n",
       "      <td>0.168646</td>\n",
       "      <td>0.0</td>\n",
       "      <td>0.0</td>\n",
       "      <td>0.184595</td>\n",
       "      <td>0.003393</td>\n",
       "      <td>0.392263</td>\n",
       "      <td>0.000000</td>\n",
       "      <td>0.083135</td>\n",
       "      <td>0.045809</td>\n",
       "      <td>0.038344</td>\n",
       "      <td>0.000000</td>\n",
       "    </tr>\n",
       "    <tr>\n",
       "      <th>3</th>\n",
       "      <td>1</td>\n",
       "      <td>1</td>\n",
       "      <td>0.044887</td>\n",
       "      <td>0.000000</td>\n",
       "      <td>0.026159</td>\n",
       "      <td>0.009215</td>\n",
       "      <td>0.155172</td>\n",
       "      <td>0.0</td>\n",
       "      <td>0.0</td>\n",
       "      <td>0.181034</td>\n",
       "      <td>0.003864</td>\n",
       "      <td>0.379608</td>\n",
       "      <td>0.001486</td>\n",
       "      <td>0.087990</td>\n",
       "      <td>0.079667</td>\n",
       "      <td>0.030916</td>\n",
       "      <td>0.000000</td>\n",
       "    </tr>\n",
       "    <tr>\n",
       "      <th>4</th>\n",
       "      <td>2</td>\n",
       "      <td>0</td>\n",
       "      <td>0.028796</td>\n",
       "      <td>0.000000</td>\n",
       "      <td>0.057592</td>\n",
       "      <td>0.017452</td>\n",
       "      <td>0.209424</td>\n",
       "      <td>0.0</td>\n",
       "      <td>0.0</td>\n",
       "      <td>0.229494</td>\n",
       "      <td>0.002618</td>\n",
       "      <td>0.216405</td>\n",
       "      <td>0.023560</td>\n",
       "      <td>0.048866</td>\n",
       "      <td>0.089005</td>\n",
       "      <td>0.076789</td>\n",
       "      <td>0.000000</td>\n",
       "    </tr>\n",
       "    <tr>\n",
       "      <th>...</th>\n",
       "      <td>...</td>\n",
       "      <td>...</td>\n",
       "      <td>...</td>\n",
       "      <td>...</td>\n",
       "      <td>...</td>\n",
       "      <td>...</td>\n",
       "      <td>...</td>\n",
       "      <td>...</td>\n",
       "      <td>...</td>\n",
       "      <td>...</td>\n",
       "      <td>...</td>\n",
       "      <td>...</td>\n",
       "      <td>...</td>\n",
       "      <td>...</td>\n",
       "      <td>...</td>\n",
       "      <td>...</td>\n",
       "      <td>...</td>\n",
       "    </tr>\n",
       "    <tr>\n",
       "      <th>1581</th>\n",
       "      <td>59</td>\n",
       "      <td>29</td>\n",
       "      <td>0.016429</td>\n",
       "      <td>0.000000</td>\n",
       "      <td>0.016429</td>\n",
       "      <td>0.005476</td>\n",
       "      <td>0.213582</td>\n",
       "      <td>0.0</td>\n",
       "      <td>0.0</td>\n",
       "      <td>0.221249</td>\n",
       "      <td>0.016429</td>\n",
       "      <td>0.196057</td>\n",
       "      <td>0.004381</td>\n",
       "      <td>0.094195</td>\n",
       "      <td>0.205915</td>\n",
       "      <td>0.009858</td>\n",
       "      <td>0.000000</td>\n",
       "    </tr>\n",
       "    <tr>\n",
       "      <th>1582</th>\n",
       "      <td>59</td>\n",
       "      <td>30</td>\n",
       "      <td>0.036290</td>\n",
       "      <td>0.000000</td>\n",
       "      <td>0.012097</td>\n",
       "      <td>0.003024</td>\n",
       "      <td>0.183468</td>\n",
       "      <td>0.0</td>\n",
       "      <td>0.0</td>\n",
       "      <td>0.213710</td>\n",
       "      <td>0.014113</td>\n",
       "      <td>0.154234</td>\n",
       "      <td>0.008065</td>\n",
       "      <td>0.108871</td>\n",
       "      <td>0.241935</td>\n",
       "      <td>0.018145</td>\n",
       "      <td>0.006048</td>\n",
       "    </tr>\n",
       "    <tr>\n",
       "      <th>1583</th>\n",
       "      <td>59</td>\n",
       "      <td>31</td>\n",
       "      <td>0.021417</td>\n",
       "      <td>0.000000</td>\n",
       "      <td>0.020593</td>\n",
       "      <td>0.001647</td>\n",
       "      <td>0.254530</td>\n",
       "      <td>0.0</td>\n",
       "      <td>0.0</td>\n",
       "      <td>0.299835</td>\n",
       "      <td>0.009885</td>\n",
       "      <td>0.132619</td>\n",
       "      <td>0.011532</td>\n",
       "      <td>0.071664</td>\n",
       "      <td>0.164745</td>\n",
       "      <td>0.009885</td>\n",
       "      <td>0.001647</td>\n",
       "    </tr>\n",
       "    <tr>\n",
       "      <th>1584</th>\n",
       "      <td>59</td>\n",
       "      <td>32</td>\n",
       "      <td>0.020788</td>\n",
       "      <td>0.000000</td>\n",
       "      <td>0.022976</td>\n",
       "      <td>0.004376</td>\n",
       "      <td>0.256018</td>\n",
       "      <td>0.0</td>\n",
       "      <td>0.0</td>\n",
       "      <td>0.258206</td>\n",
       "      <td>0.008753</td>\n",
       "      <td>0.163020</td>\n",
       "      <td>0.014223</td>\n",
       "      <td>0.074398</td>\n",
       "      <td>0.138950</td>\n",
       "      <td>0.014223</td>\n",
       "      <td>0.024070</td>\n",
       "    </tr>\n",
       "    <tr>\n",
       "      <th>1585</th>\n",
       "      <td>59</td>\n",
       "      <td>33</td>\n",
       "      <td>0.027848</td>\n",
       "      <td>0.000000</td>\n",
       "      <td>0.025316</td>\n",
       "      <td>0.002532</td>\n",
       "      <td>0.231646</td>\n",
       "      <td>0.0</td>\n",
       "      <td>0.0</td>\n",
       "      <td>0.205063</td>\n",
       "      <td>0.015190</td>\n",
       "      <td>0.207595</td>\n",
       "      <td>0.013924</td>\n",
       "      <td>0.116456</td>\n",
       "      <td>0.136709</td>\n",
       "      <td>0.017722</td>\n",
       "      <td>0.000000</td>\n",
       "    </tr>\n",
       "  </tbody>\n",
       "</table>\n",
       "<p>1586 rows × 17 columns</p>\n",
       "</div>"
      ],
      "text/plain": [
       "      shop_id  date_block_num  shop_item_cat_enc_0  shop_item_cat_enc_1  \\\n",
       "0           0               0             0.025636             0.000000   \n",
       "1           0               1             0.021707             0.000163   \n",
       "2           1               0             0.037326             0.000000   \n",
       "3           1               1             0.044887             0.000000   \n",
       "4           2               0             0.028796             0.000000   \n",
       "...       ...             ...                  ...                  ...   \n",
       "1581       59              29             0.016429             0.000000   \n",
       "1582       59              30             0.036290             0.000000   \n",
       "1583       59              31             0.021417             0.000000   \n",
       "1584       59              32             0.020788             0.000000   \n",
       "1585       59              33             0.027848             0.000000   \n",
       "\n",
       "      shop_item_cat_enc_2  shop_item_cat_enc_3  shop_item_cat_enc_4  \\\n",
       "0                0.034062             0.008426             0.161169   \n",
       "1                0.034764             0.009466             0.166476   \n",
       "2                0.038683             0.007805             0.168646   \n",
       "3                0.026159             0.009215             0.155172   \n",
       "4                0.057592             0.017452             0.209424   \n",
       "...                   ...                  ...                  ...   \n",
       "1581             0.016429             0.005476             0.213582   \n",
       "1582             0.012097             0.003024             0.183468   \n",
       "1583             0.020593             0.001647             0.254530   \n",
       "1584             0.022976             0.004376             0.256018   \n",
       "1585             0.025316             0.002532             0.231646   \n",
       "\n",
       "      shop_item_cat_enc_5  shop_item_cat_enc_6  shop_item_cat_enc_7  \\\n",
       "0                     0.0                  0.0             0.165471   \n",
       "1                     0.0                  0.0             0.150481   \n",
       "2                     0.0                  0.0             0.184595   \n",
       "3                     0.0                  0.0             0.181034   \n",
       "4                     0.0                  0.0             0.229494   \n",
       "...                   ...                  ...                  ...   \n",
       "1581                  0.0                  0.0             0.221249   \n",
       "1582                  0.0                  0.0             0.213710   \n",
       "1583                  0.0                  0.0             0.299835   \n",
       "1584                  0.0                  0.0             0.258206   \n",
       "1585                  0.0                  0.0             0.205063   \n",
       "\n",
       "      shop_item_cat_enc_8  shop_item_cat_enc_9  shop_item_cat_enc_10  \\\n",
       "0                0.002510             0.408032              0.012549   \n",
       "1                0.003754             0.392035              0.013547   \n",
       "2                0.003393             0.392263              0.000000   \n",
       "3                0.003864             0.379608              0.001486   \n",
       "4                0.002618             0.216405              0.023560   \n",
       "...                   ...                  ...                   ...   \n",
       "1581             0.016429             0.196057              0.004381   \n",
       "1582             0.014113             0.154234              0.008065   \n",
       "1583             0.009885             0.132619              0.011532   \n",
       "1584             0.008753             0.163020              0.014223   \n",
       "1585             0.015190             0.207595              0.013924   \n",
       "\n",
       "      shop_item_cat_enc_11  shop_item_cat_enc_12  shop_item_cat_enc_13  \\\n",
       "0                 0.094658              0.045357              0.042130   \n",
       "1                 0.105109              0.062510              0.039987   \n",
       "2                 0.083135              0.045809              0.038344   \n",
       "3                 0.087990              0.079667              0.030916   \n",
       "4                 0.048866              0.089005              0.076789   \n",
       "...                    ...                   ...                   ...   \n",
       "1581              0.094195              0.205915              0.009858   \n",
       "1582              0.108871              0.241935              0.018145   \n",
       "1583              0.071664              0.164745              0.009885   \n",
       "1584              0.074398              0.138950              0.014223   \n",
       "1585              0.116456              0.136709              0.017722   \n",
       "\n",
       "      shop_item_cat_enc_14  \n",
       "0                 0.000000  \n",
       "1                 0.000000  \n",
       "2                 0.000000  \n",
       "3                 0.000000  \n",
       "4                 0.000000  \n",
       "...                    ...  \n",
       "1581              0.000000  \n",
       "1582              0.006048  \n",
       "1583              0.001647  \n",
       "1584              0.024070  \n",
       "1585              0.000000  \n",
       "\n",
       "[1586 rows x 17 columns]"
      ]
     },
     "execution_count": 4,
     "metadata": {},
     "output_type": "execute_result"
    }
   ],
   "source": [
    "shop_item_cat_encoding"
   ]
  },
  {
   "cell_type": "code",
   "execution_count": 6,
   "metadata": {},
   "outputs": [
    {
     "data": {
      "application/vnd.jupyter.widget-view+json": {
       "model_id": "1f209749792146a3926638c5ad332a5e",
       "version_major": 2,
       "version_minor": 0
      },
      "text/plain": [
       "HBox(children=(FloatProgress(value=0.0, max=1.0), HTML(value='')))"
      ]
     },
     "metadata": {},
     "output_type": "display_data"
    },
    {
     "name": "stdout",
     "output_type": "stream",
     "text": [
      "\n"
     ]
    },
    {
     "data": {
      "text/html": [
       "<div>\n",
       "<style scoped>\n",
       "    .dataframe tbody tr th:only-of-type {\n",
       "        vertical-align: middle;\n",
       "    }\n",
       "\n",
       "    .dataframe tbody tr th {\n",
       "        vertical-align: top;\n",
       "    }\n",
       "\n",
       "    .dataframe thead th {\n",
       "        text-align: right;\n",
       "    }\n",
       "</style>\n",
       "<table border=\"1\" class=\"dataframe\">\n",
       "  <thead>\n",
       "    <tr style=\"text-align: right;\">\n",
       "      <th></th>\n",
       "      <th>item_id</th>\n",
       "      <th>shop_id</th>\n",
       "      <th>date_block_num</th>\n",
       "      <th>item_cnt_month</th>\n",
       "      <th>f__shop_item_cat_enc_0_1</th>\n",
       "      <th>f__shop_item_cat_enc_1_1</th>\n",
       "      <th>f__shop_item_cat_enc_2_1</th>\n",
       "      <th>f__shop_item_cat_enc_3_1</th>\n",
       "      <th>f__shop_item_cat_enc_4_1</th>\n",
       "      <th>f__shop_item_cat_enc_5_1</th>\n",
       "      <th>f__shop_item_cat_enc_6_1</th>\n",
       "      <th>f__shop_item_cat_enc_7_1</th>\n",
       "      <th>f__shop_item_cat_enc_8_1</th>\n",
       "      <th>f__shop_item_cat_enc_9_1</th>\n",
       "      <th>f__shop_item_cat_enc_10_1</th>\n",
       "      <th>f__shop_item_cat_enc_11_1</th>\n",
       "      <th>f__shop_item_cat_enc_12_1</th>\n",
       "      <th>f__shop_item_cat_enc_13_1</th>\n",
       "      <th>f__shop_item_cat_enc_14_1</th>\n",
       "    </tr>\n",
       "  </thead>\n",
       "  <tbody>\n",
       "    <tr>\n",
       "      <th>0</th>\n",
       "      <td>5037</td>\n",
       "      <td>5</td>\n",
       "      <td>10</td>\n",
       "      <td>0.0</td>\n",
       "      <td>0.000789</td>\n",
       "      <td>0.0</td>\n",
       "      <td>0.020521</td>\n",
       "      <td>0.007103</td>\n",
       "      <td>0.187056</td>\n",
       "      <td>0.0</td>\n",
       "      <td>0.0</td>\n",
       "      <td>0.255722</td>\n",
       "      <td>0.003157</td>\n",
       "      <td>0.29045</td>\n",
       "      <td>0.000789</td>\n",
       "      <td>0.144436</td>\n",
       "      <td>0.084451</td>\n",
       "      <td>0.005525</td>\n",
       "      <td>0.0</td>\n",
       "    </tr>\n",
       "    <tr>\n",
       "      <th>1</th>\n",
       "      <td>5320</td>\n",
       "      <td>5</td>\n",
       "      <td>10</td>\n",
       "      <td>0.0</td>\n",
       "      <td>0.000789</td>\n",
       "      <td>0.0</td>\n",
       "      <td>0.020521</td>\n",
       "      <td>0.007103</td>\n",
       "      <td>0.187056</td>\n",
       "      <td>0.0</td>\n",
       "      <td>0.0</td>\n",
       "      <td>0.255722</td>\n",
       "      <td>0.003157</td>\n",
       "      <td>0.29045</td>\n",
       "      <td>0.000789</td>\n",
       "      <td>0.144436</td>\n",
       "      <td>0.084451</td>\n",
       "      <td>0.005525</td>\n",
       "      <td>0.0</td>\n",
       "    </tr>\n",
       "    <tr>\n",
       "      <th>2</th>\n",
       "      <td>5233</td>\n",
       "      <td>5</td>\n",
       "      <td>10</td>\n",
       "      <td>0.0</td>\n",
       "      <td>0.000789</td>\n",
       "      <td>0.0</td>\n",
       "      <td>0.020521</td>\n",
       "      <td>0.007103</td>\n",
       "      <td>0.187056</td>\n",
       "      <td>0.0</td>\n",
       "      <td>0.0</td>\n",
       "      <td>0.255722</td>\n",
       "      <td>0.003157</td>\n",
       "      <td>0.29045</td>\n",
       "      <td>0.000789</td>\n",
       "      <td>0.144436</td>\n",
       "      <td>0.084451</td>\n",
       "      <td>0.005525</td>\n",
       "      <td>0.0</td>\n",
       "    </tr>\n",
       "    <tr>\n",
       "      <th>3</th>\n",
       "      <td>5232</td>\n",
       "      <td>5</td>\n",
       "      <td>10</td>\n",
       "      <td>0.0</td>\n",
       "      <td>0.000789</td>\n",
       "      <td>0.0</td>\n",
       "      <td>0.020521</td>\n",
       "      <td>0.007103</td>\n",
       "      <td>0.187056</td>\n",
       "      <td>0.0</td>\n",
       "      <td>0.0</td>\n",
       "      <td>0.255722</td>\n",
       "      <td>0.003157</td>\n",
       "      <td>0.29045</td>\n",
       "      <td>0.000789</td>\n",
       "      <td>0.144436</td>\n",
       "      <td>0.084451</td>\n",
       "      <td>0.005525</td>\n",
       "      <td>0.0</td>\n",
       "    </tr>\n",
       "    <tr>\n",
       "      <th>4</th>\n",
       "      <td>5268</td>\n",
       "      <td>5</td>\n",
       "      <td>10</td>\n",
       "      <td>0.0</td>\n",
       "      <td>0.000789</td>\n",
       "      <td>0.0</td>\n",
       "      <td>0.020521</td>\n",
       "      <td>0.007103</td>\n",
       "      <td>0.187056</td>\n",
       "      <td>0.0</td>\n",
       "      <td>0.0</td>\n",
       "      <td>0.255722</td>\n",
       "      <td>0.003157</td>\n",
       "      <td>0.29045</td>\n",
       "      <td>0.000789</td>\n",
       "      <td>0.144436</td>\n",
       "      <td>0.084451</td>\n",
       "      <td>0.005525</td>\n",
       "      <td>0.0</td>\n",
       "    </tr>\n",
       "  </tbody>\n",
       "</table>\n",
       "</div>"
      ],
      "text/plain": [
       "   item_id  shop_id  date_block_num  item_cnt_month  f__shop_item_cat_enc_0_1  \\\n",
       "0     5037        5              10             0.0                  0.000789   \n",
       "1     5320        5              10             0.0                  0.000789   \n",
       "2     5233        5              10             0.0                  0.000789   \n",
       "3     5232        5              10             0.0                  0.000789   \n",
       "4     5268        5              10             0.0                  0.000789   \n",
       "\n",
       "   f__shop_item_cat_enc_1_1  f__shop_item_cat_enc_2_1  \\\n",
       "0                       0.0                  0.020521   \n",
       "1                       0.0                  0.020521   \n",
       "2                       0.0                  0.020521   \n",
       "3                       0.0                  0.020521   \n",
       "4                       0.0                  0.020521   \n",
       "\n",
       "   f__shop_item_cat_enc_3_1  f__shop_item_cat_enc_4_1  \\\n",
       "0                  0.007103                  0.187056   \n",
       "1                  0.007103                  0.187056   \n",
       "2                  0.007103                  0.187056   \n",
       "3                  0.007103                  0.187056   \n",
       "4                  0.007103                  0.187056   \n",
       "\n",
       "   f__shop_item_cat_enc_5_1  f__shop_item_cat_enc_6_1  \\\n",
       "0                       0.0                       0.0   \n",
       "1                       0.0                       0.0   \n",
       "2                       0.0                       0.0   \n",
       "3                       0.0                       0.0   \n",
       "4                       0.0                       0.0   \n",
       "\n",
       "   f__shop_item_cat_enc_7_1  f__shop_item_cat_enc_8_1  \\\n",
       "0                  0.255722                  0.003157   \n",
       "1                  0.255722                  0.003157   \n",
       "2                  0.255722                  0.003157   \n",
       "3                  0.255722                  0.003157   \n",
       "4                  0.255722                  0.003157   \n",
       "\n",
       "   f__shop_item_cat_enc_9_1  f__shop_item_cat_enc_10_1  \\\n",
       "0                   0.29045                   0.000789   \n",
       "1                   0.29045                   0.000789   \n",
       "2                   0.29045                   0.000789   \n",
       "3                   0.29045                   0.000789   \n",
       "4                   0.29045                   0.000789   \n",
       "\n",
       "   f__shop_item_cat_enc_11_1  f__shop_item_cat_enc_12_1  \\\n",
       "0                   0.144436                   0.084451   \n",
       "1                   0.144436                   0.084451   \n",
       "2                   0.144436                   0.084451   \n",
       "3                   0.144436                   0.084451   \n",
       "4                   0.144436                   0.084451   \n",
       "\n",
       "   f__shop_item_cat_enc_13_1  f__shop_item_cat_enc_14_1  \n",
       "0                   0.005525                        0.0  \n",
       "1                   0.005525                        0.0  \n",
       "2                   0.005525                        0.0  \n",
       "3                   0.005525                        0.0  \n",
       "4                   0.005525                        0.0  "
      ]
     },
     "execution_count": 6,
     "metadata": {},
     "output_type": "execute_result"
    }
   ],
   "source": [
    "feature_cols = [col for col in shop_item_cat_encoding.columns\n",
    "                if col not in ['shop_id', 'date_block_num']]\n",
    "train_set_item_cat = add_lagged_features(\n",
    "    train_set, shop_item_cat_encoding, feature_cols, max_lag=1,\n",
    "    index_cols=['shop_id'])\n",
    "train_set_item_cat.head()"
   ]
  },
  {
   "cell_type": "code",
   "execution_count": 4,
   "metadata": {},
   "outputs": [],
   "source": [
    "from src.data import df_to_X_y\n",
    "\n",
    "X_train, y_train = df_to_X_y(train_set_item_cat)"
   ]
  },
  {
   "cell_type": "code",
   "execution_count": 5,
   "metadata": {},
   "outputs": [],
   "source": [
    "from xgboost import XGBRegressor\n",
    "from sklearn.model_selection import cross_validate\n",
    "from src.model import ClippedOutputRegressor, tscv\n",
    "\n",
    "reg = ClippedOutputRegressor(XGBRegressor(n_jobs=-1, verbosity=2, tree_method='gpu_hist', gpu_id=0)) #change to hist if you don't have access to a gpu\n",
    "cv_split = tscv.split(train_set_item_cat['date_block_num'])"
   ]
  },
  {
   "cell_type": "code",
   "execution_count": 22,
   "metadata": {},
   "outputs": [
    {
     "name": "stderr",
     "output_type": "stream",
     "text": [
      "[Parallel(n_jobs=1)]: Using backend SequentialBackend with 1 concurrent workers.\n"
     ]
    },
    {
     "name": "stdout",
     "output_type": "stream",
     "text": [
      "[CV]  ................................................................\n",
      "[CV] ................................................. , total=  12.7s\n",
      "[CV]  ................................................................\n"
     ]
    },
    {
     "name": "stderr",
     "output_type": "stream",
     "text": [
      "[Parallel(n_jobs=1)]: Done   1 out of   1 | elapsed:   32.8s remaining:    0.0s\n"
     ]
    },
    {
     "name": "stdout",
     "output_type": "stream",
     "text": [
      "[CV] ................................................. , total=  13.0s\n",
      "[CV]  ................................................................\n",
      "[CV] ................................................. , total=  13.4s\n"
     ]
    },
    {
     "name": "stderr",
     "output_type": "stream",
     "text": [
      "[Parallel(n_jobs=1)]: Done   3 out of   3 | elapsed:  1.7min finished\n"
     ]
    },
    {
     "data": {
      "text/plain": [
       "{'fit_time': array([11.28167295, 11.60196567, 12.17813659]),\n",
       " 'score_time': array([1.4282546 , 1.36682439, 1.20800328]),\n",
       " 'test_score': array([-1.03316543, -1.10780143, -1.08599005]),\n",
       " 'train_score': array([-1.10594588, -1.10209658, -1.10209402])}"
      ]
     },
     "execution_count": 22,
     "metadata": {},
     "output_type": "execute_result"
    }
   ],
   "source": [
    "scores = cross_validate(reg, X=X_train, y=y_train,\n",
    "                        scoring='neg_root_mean_squared_error', verbose=2, \n",
    "                        cv=cv_split, return_train_score=True)\n",
    "scores"
   ]
  },
  {
   "cell_type": "markdown",
   "metadata": {},
   "source": [
    "After seeing little improvement for adding these 15 new features, I realized all I did was a mean encoding over the `shop-id, category` pair but keeping all the shop means. Instead, I'll generate different mean encodings now.\n",
    "\n",
    "I'll go over each of this ids for encoding it:\n",
    "- `item_id`\n",
    "- `shop_id`\n",
    "- `category_name`\n",
    "- `subcategory_name`\n",
    "\n",
    "This generates the following combinations (we don't need `item` and `category` on the same combination since each item belongs to a single category):\n",
    "- `item_id`, `shop_id`\n",
    "- `shop_id`, `category_name`\n",
    "- `shop_id`, `subcategory_name`\n",
    "\n",
    "We can do it two ways: one is to generate the mean encoding from the same data we use to train, or encode the previous month. Since it's simpler I'll start with the previous month encoding, whic is basically a lagged feature and can be generated beforehand."
   ]
  },
  {
   "cell_type": "code",
   "execution_count": 6,
   "metadata": {},
   "outputs": [],
   "source": [
    "train_set = pd.read_parquet(os.path.join(PROCESSED_DATA_DIR, 'train-set-features-002.parquet')) # load features with category metadata\n",
    "cv_split = tscv.split(train_set['date_block_num'])"
   ]
  },
  {
   "cell_type": "code",
   "execution_count": 7,
   "metadata": {},
   "outputs": [],
   "source": [
    "mean_encode_cols = [[\"item_id\"],\n",
    "                    [\"shop_id\"],\n",
    "                    [\"category_name\"],\n",
    "                    [\"subcategory_name\"],\n",
    "                    [\"item_id\", \"shop_id\"],\n",
    "                    [\"shop_id\", \"category_name\"],\n",
    "                    [\"shop_id\", \"subcategory_name\"]]\n",
    "\n",
    "def mean_encoding_col_name(on, label='item_cnt_month'):\n",
    "    return 'mean_%s_on_%s' % (label, '_'.join(on))\n",
    "\n",
    "def mean_encoding_df(df, on, label='item_cnt_month'):\n",
    "    encode_column = mean_encoding_col_name(on, label)\n",
    "    return df[on + [label]].groupby(on)[label].mean().reset_index().rename(\n",
    "        columns={label: encode_column})"
   ]
  },
  {
   "cell_type": "code",
   "execution_count": 81,
   "metadata": {},
   "outputs": [
    {
     "data": {
      "application/vnd.jupyter.widget-view+json": {
       "model_id": "eb6e94b33e2a49c2b296a4b57e2958d2",
       "version_major": 2,
       "version_minor": 0
      },
      "text/plain": [
       "HBox(children=(FloatProgress(value=0.0, max=7.0), HTML(value='')))"
      ]
     },
     "metadata": {},
     "output_type": "display_data"
    },
    {
     "data": {
      "application/vnd.jupyter.widget-view+json": {
       "model_id": "34c108c8dd624cce83d97cfddf2ecc73",
       "version_major": 2,
       "version_minor": 0
      },
      "text/plain": [
       "HBox(children=(FloatProgress(value=0.0, max=1.0), HTML(value='')))"
      ]
     },
     "metadata": {},
     "output_type": "display_data"
    },
    {
     "name": "stdout",
     "output_type": "stream",
     "text": [
      "\n"
     ]
    },
    {
     "data": {
      "application/vnd.jupyter.widget-view+json": {
       "model_id": "9e27a45231c948a1a4ca772cdfbbc595",
       "version_major": 2,
       "version_minor": 0
      },
      "text/plain": [
       "HBox(children=(FloatProgress(value=0.0, max=1.0), HTML(value='')))"
      ]
     },
     "metadata": {},
     "output_type": "display_data"
    },
    {
     "name": "stdout",
     "output_type": "stream",
     "text": [
      "\n"
     ]
    },
    {
     "data": {
      "application/vnd.jupyter.widget-view+json": {
       "model_id": "9330bbf9aca743559f005287e89e5fca",
       "version_major": 2,
       "version_minor": 0
      },
      "text/plain": [
       "HBox(children=(FloatProgress(value=0.0, max=1.0), HTML(value='')))"
      ]
     },
     "metadata": {},
     "output_type": "display_data"
    },
    {
     "name": "stdout",
     "output_type": "stream",
     "text": [
      "\n"
     ]
    },
    {
     "data": {
      "application/vnd.jupyter.widget-view+json": {
       "model_id": "b63f20c10720429e9d6eb874ea50b0d0",
       "version_major": 2,
       "version_minor": 0
      },
      "text/plain": [
       "HBox(children=(FloatProgress(value=0.0, max=1.0), HTML(value='')))"
      ]
     },
     "metadata": {},
     "output_type": "display_data"
    },
    {
     "name": "stdout",
     "output_type": "stream",
     "text": [
      "\n"
     ]
    },
    {
     "data": {
      "application/vnd.jupyter.widget-view+json": {
       "model_id": "ce6eb19b4f4f4ff1b14a8a69e8cabc94",
       "version_major": 2,
       "version_minor": 0
      },
      "text/plain": [
       "HBox(children=(FloatProgress(value=0.0, max=1.0), HTML(value='')))"
      ]
     },
     "metadata": {},
     "output_type": "display_data"
    },
    {
     "name": "stdout",
     "output_type": "stream",
     "text": [
      "\n"
     ]
    },
    {
     "data": {
      "application/vnd.jupyter.widget-view+json": {
       "model_id": "572fe89cea63437bb05323db451cb4eb",
       "version_major": 2,
       "version_minor": 0
      },
      "text/plain": [
       "HBox(children=(FloatProgress(value=0.0, max=1.0), HTML(value='')))"
      ]
     },
     "metadata": {},
     "output_type": "display_data"
    },
    {
     "name": "stdout",
     "output_type": "stream",
     "text": [
      "\n"
     ]
    },
    {
     "data": {
      "application/vnd.jupyter.widget-view+json": {
       "model_id": "6f0d24cf7629461fa7487d8717b508ed",
       "version_major": 2,
       "version_minor": 0
      },
      "text/plain": [
       "HBox(children=(FloatProgress(value=0.0, max=1.0), HTML(value='')))"
      ]
     },
     "metadata": {},
     "output_type": "display_data"
    },
    {
     "name": "stdout",
     "output_type": "stream",
     "text": [
      "\n",
      "\n"
     ]
    },
    {
     "data": {
      "text/html": [
       "<div>\n",
       "<style scoped>\n",
       "    .dataframe tbody tr th:only-of-type {\n",
       "        vertical-align: middle;\n",
       "    }\n",
       "\n",
       "    .dataframe tbody tr th {\n",
       "        vertical-align: top;\n",
       "    }\n",
       "\n",
       "    .dataframe thead th {\n",
       "        text-align: right;\n",
       "    }\n",
       "</style>\n",
       "<table border=\"1\" class=\"dataframe\">\n",
       "  <thead>\n",
       "    <tr style=\"text-align: right;\">\n",
       "      <th></th>\n",
       "      <th>item_id</th>\n",
       "      <th>shop_id</th>\n",
       "      <th>date_block_num</th>\n",
       "      <th>item_cnt_month</th>\n",
       "      <th>f__item_cnt_1</th>\n",
       "      <th>f__item_cnt_2</th>\n",
       "      <th>f__item_cnt_3</th>\n",
       "      <th>f__item_cnt_4</th>\n",
       "      <th>f__item_cnt_5</th>\n",
       "      <th>f__item_cnt_6</th>\n",
       "      <th>...</th>\n",
       "      <th>subcategory_name</th>\n",
       "      <th>f__cat__le_category_name</th>\n",
       "      <th>f__cat__le_subcategory_name</th>\n",
       "      <th>f__mean_item_cnt_on_item_id_date_block_num_1</th>\n",
       "      <th>f__mean_item_cnt_on_shop_id_date_block_num_1</th>\n",
       "      <th>f__mean_item_cnt_on_category_name_date_block_num_1</th>\n",
       "      <th>f__mean_item_cnt_on_subcategory_name_date_block_num_1</th>\n",
       "      <th>f__mean_item_cnt_on_item_id_shop_id_date_block_num_1</th>\n",
       "      <th>f__mean_item_cnt_on_shop_id_category_name_date_block_num_1</th>\n",
       "      <th>f__mean_item_cnt_on_shop_id_subcategory_name_date_block_num_1</th>\n",
       "    </tr>\n",
       "  </thead>\n",
       "  <tbody>\n",
       "    <tr>\n",
       "      <th>0</th>\n",
       "      <td>5037</td>\n",
       "      <td>5</td>\n",
       "      <td>10</td>\n",
       "      <td>0.0</td>\n",
       "      <td>0.0</td>\n",
       "      <td>0.0</td>\n",
       "      <td>0.0</td>\n",
       "      <td>0.0</td>\n",
       "      <td>0.0</td>\n",
       "      <td>0.0</td>\n",
       "      <td>...</td>\n",
       "      <td>PS3</td>\n",
       "      <td>4</td>\n",
       "      <td>12</td>\n",
       "      <td>0.0</td>\n",
       "      <td>1.702957</td>\n",
       "      <td>3.46371</td>\n",
       "      <td>3.765795</td>\n",
       "      <td>0.0</td>\n",
       "      <td>2.194444</td>\n",
       "      <td>2.678571</td>\n",
       "    </tr>\n",
       "    <tr>\n",
       "      <th>1</th>\n",
       "      <td>5037</td>\n",
       "      <td>4</td>\n",
       "      <td>10</td>\n",
       "      <td>0.0</td>\n",
       "      <td>0.0</td>\n",
       "      <td>0.0</td>\n",
       "      <td>0.0</td>\n",
       "      <td>0.0</td>\n",
       "      <td>0.0</td>\n",
       "      <td>0.0</td>\n",
       "      <td>...</td>\n",
       "      <td>PS3</td>\n",
       "      <td>4</td>\n",
       "      <td>12</td>\n",
       "      <td>0.0</td>\n",
       "      <td>1.957728</td>\n",
       "      <td>3.46371</td>\n",
       "      <td>3.765795</td>\n",
       "      <td>0.0</td>\n",
       "      <td>2.523810</td>\n",
       "      <td>2.612500</td>\n",
       "    </tr>\n",
       "    <tr>\n",
       "      <th>2</th>\n",
       "      <td>5037</td>\n",
       "      <td>6</td>\n",
       "      <td>10</td>\n",
       "      <td>0.0</td>\n",
       "      <td>0.0</td>\n",
       "      <td>0.0</td>\n",
       "      <td>0.0</td>\n",
       "      <td>0.0</td>\n",
       "      <td>0.0</td>\n",
       "      <td>0.0</td>\n",
       "      <td>...</td>\n",
       "      <td>PS3</td>\n",
       "      <td>4</td>\n",
       "      <td>12</td>\n",
       "      <td>0.0</td>\n",
       "      <td>2.291147</td>\n",
       "      <td>3.46371</td>\n",
       "      <td>3.765795</td>\n",
       "      <td>0.0</td>\n",
       "      <td>3.902299</td>\n",
       "      <td>4.543689</td>\n",
       "    </tr>\n",
       "    <tr>\n",
       "      <th>3</th>\n",
       "      <td>5037</td>\n",
       "      <td>3</td>\n",
       "      <td>10</td>\n",
       "      <td>0.0</td>\n",
       "      <td>0.0</td>\n",
       "      <td>0.0</td>\n",
       "      <td>0.0</td>\n",
       "      <td>0.0</td>\n",
       "      <td>0.0</td>\n",
       "      <td>0.0</td>\n",
       "      <td>...</td>\n",
       "      <td>PS3</td>\n",
       "      <td>4</td>\n",
       "      <td>12</td>\n",
       "      <td>0.0</td>\n",
       "      <td>1.701717</td>\n",
       "      <td>3.46371</td>\n",
       "      <td>3.765795</td>\n",
       "      <td>0.0</td>\n",
       "      <td>2.275510</td>\n",
       "      <td>2.309091</td>\n",
       "    </tr>\n",
       "    <tr>\n",
       "      <th>4</th>\n",
       "      <td>5037</td>\n",
       "      <td>2</td>\n",
       "      <td>10</td>\n",
       "      <td>0.0</td>\n",
       "      <td>0.0</td>\n",
       "      <td>0.0</td>\n",
       "      <td>0.0</td>\n",
       "      <td>0.0</td>\n",
       "      <td>0.0</td>\n",
       "      <td>0.0</td>\n",
       "      <td>...</td>\n",
       "      <td>PS3</td>\n",
       "      <td>4</td>\n",
       "      <td>12</td>\n",
       "      <td>0.0</td>\n",
       "      <td>2.202216</td>\n",
       "      <td>3.46371</td>\n",
       "      <td>3.765795</td>\n",
       "      <td>0.0</td>\n",
       "      <td>2.565574</td>\n",
       "      <td>2.336957</td>\n",
       "    </tr>\n",
       "  </tbody>\n",
       "</table>\n",
       "<p>5 rows × 55 columns</p>\n",
       "</div>"
      ],
      "text/plain": [
       "   item_id  shop_id  date_block_num  item_cnt_month  f__item_cnt_1  \\\n",
       "0     5037        5              10             0.0            0.0   \n",
       "1     5037        4              10             0.0            0.0   \n",
       "2     5037        6              10             0.0            0.0   \n",
       "3     5037        3              10             0.0            0.0   \n",
       "4     5037        2              10             0.0            0.0   \n",
       "\n",
       "   f__item_cnt_2  f__item_cnt_3  f__item_cnt_4  f__item_cnt_5  f__item_cnt_6  \\\n",
       "0            0.0            0.0            0.0            0.0            0.0   \n",
       "1            0.0            0.0            0.0            0.0            0.0   \n",
       "2            0.0            0.0            0.0            0.0            0.0   \n",
       "3            0.0            0.0            0.0            0.0            0.0   \n",
       "4            0.0            0.0            0.0            0.0            0.0   \n",
       "\n",
       "   ...  subcategory_name  f__cat__le_category_name  \\\n",
       "0  ...               PS3                         4   \n",
       "1  ...               PS3                         4   \n",
       "2  ...               PS3                         4   \n",
       "3  ...               PS3                         4   \n",
       "4  ...               PS3                         4   \n",
       "\n",
       "   f__cat__le_subcategory_name  f__mean_item_cnt_on_item_id_date_block_num_1  \\\n",
       "0                           12                                           0.0   \n",
       "1                           12                                           0.0   \n",
       "2                           12                                           0.0   \n",
       "3                           12                                           0.0   \n",
       "4                           12                                           0.0   \n",
       "\n",
       "   f__mean_item_cnt_on_shop_id_date_block_num_1  \\\n",
       "0                                      1.702957   \n",
       "1                                      1.957728   \n",
       "2                                      2.291147   \n",
       "3                                      1.701717   \n",
       "4                                      2.202216   \n",
       "\n",
       "   f__mean_item_cnt_on_category_name_date_block_num_1  \\\n",
       "0                                            3.46371    \n",
       "1                                            3.46371    \n",
       "2                                            3.46371    \n",
       "3                                            3.46371    \n",
       "4                                            3.46371    \n",
       "\n",
       "   f__mean_item_cnt_on_subcategory_name_date_block_num_1  \\\n",
       "0                                           3.765795       \n",
       "1                                           3.765795       \n",
       "2                                           3.765795       \n",
       "3                                           3.765795       \n",
       "4                                           3.765795       \n",
       "\n",
       "   f__mean_item_cnt_on_item_id_shop_id_date_block_num_1  \\\n",
       "0                                                0.0      \n",
       "1                                                0.0      \n",
       "2                                                0.0      \n",
       "3                                                0.0      \n",
       "4                                                0.0      \n",
       "\n",
       "   f__mean_item_cnt_on_shop_id_category_name_date_block_num_1  \\\n",
       "0                                           2.194444            \n",
       "1                                           2.523810            \n",
       "2                                           3.902299            \n",
       "3                                           2.275510            \n",
       "4                                           2.565574            \n",
       "\n",
       "   f__mean_item_cnt_on_shop_id_subcategory_name_date_block_num_1  \n",
       "0                                           2.678571              \n",
       "1                                           2.612500              \n",
       "2                                           4.543689              \n",
       "3                                           2.309091              \n",
       "4                                           2.336957              \n",
       "\n",
       "[5 rows x 55 columns]"
      ]
     },
     "execution_count": 81,
     "metadata": {},
     "output_type": "execute_result"
    }
   ],
   "source": [
    "train_set_with_mes = train_set.copy()\n",
    "for cols in tqdm(mean_encode_cols):\n",
    "    encoding_df = mean_encoding_df(sales_train, cols + ['date_block_num'], \n",
    "                                   label='item_cnt')\n",
    "    encoding_col = [col for col in encoding_df.columns if col.startswith('mean_')]\n",
    "    train_set_with_mes = add_lagged_features(\n",
    "        train_set_with_mes, encoding_df, encoding_col,\n",
    "        max_lag=1, index_cols=cols)\n",
    "train_set_with_mes.head()"
   ]
  },
  {
   "cell_type": "code",
   "execution_count": 82,
   "metadata": {},
   "outputs": [
    {
     "name": "stderr",
     "output_type": "stream",
     "text": [
      "[Parallel(n_jobs=1)]: Using backend SequentialBackend with 1 concurrent workers.\n"
     ]
    },
    {
     "name": "stdout",
     "output_type": "stream",
     "text": [
      "[CV]  ................................................................\n",
      "[CV] ................................................. , total=  15.4s\n",
      "[CV]  ................................................................\n"
     ]
    },
    {
     "name": "stderr",
     "output_type": "stream",
     "text": [
      "[Parallel(n_jobs=1)]: Done   1 out of   1 | elapsed:   29.0s remaining:    0.0s\n"
     ]
    },
    {
     "name": "stdout",
     "output_type": "stream",
     "text": [
      "[CV] ................................................. , total=  15.4s\n",
      "[CV]  ................................................................\n",
      "[CV] ................................................. , total=  16.4s\n"
     ]
    },
    {
     "name": "stderr",
     "output_type": "stream",
     "text": [
      "[Parallel(n_jobs=1)]: Done   3 out of   3 | elapsed:  2.5min finished\n"
     ]
    },
    {
     "data": {
      "text/plain": [
       "{'fit_time': array([14.27924633, 14.71596694, 15.29335403]),\n",
       " 'score_time': array([1.10193229, 0.70656729, 1.15259314]),\n",
       " 'test_score': array([-0.76510254, -0.89657982, -0.89600143]),\n",
       " 'train_score': array([-0.72167615, -0.7237208 , -0.7286878 ])}"
      ]
     },
     "execution_count": 82,
     "metadata": {},
     "output_type": "execute_result"
    }
   ],
   "source": [
    "X_train, y_train = df_to_X_y(train_set_with_mes)\n",
    "reg = ClippedOutputRegressor(XGBRegressor(n_jobs=-1, verbosity=2, tree_method='gpu_hist', gpu_id=0)) #change to hist if you don't have access to a gpu\n",
    "scores = cross_validate(reg, X=X_train, y=y_train,\n",
    "                        scoring='neg_root_mean_squared_error', verbose=2, \n",
    "                        cv=cv_split, return_train_score=True)\n",
    "scores"
   ]
  },
  {
   "cell_type": "code",
   "execution_count": 83,
   "metadata": {},
   "outputs": [
    {
     "data": {
      "text/plain": [
       "-0.8525612605780832"
      ]
     },
     "execution_count": 83,
     "metadata": {},
     "output_type": "execute_result"
    }
   ],
   "source": [
    "scores['test_score'].mean()"
   ]
  },
  {
   "cell_type": "markdown",
   "metadata": {},
   "source": [
    "Nice improvement. Let's try increasing the number of months we'll use the mean."
   ]
  },
  {
   "cell_type": "code",
   "execution_count": 89,
   "metadata": {},
   "outputs": [
    {
     "data": {
      "application/vnd.jupyter.widget-view+json": {
       "model_id": "ab995a86fe7c4978ac02fe7f1952f5ba",
       "version_major": 2,
       "version_minor": 0
      },
      "text/plain": [
       "HBox(children=(FloatProgress(value=0.0, max=7.0), HTML(value='')))"
      ]
     },
     "metadata": {},
     "output_type": "display_data"
    },
    {
     "data": {
      "application/vnd.jupyter.widget-view+json": {
       "model_id": "ba40dfa77c5f4a8f9bfa2ec759a692c6",
       "version_major": 2,
       "version_minor": 0
      },
      "text/plain": [
       "HBox(children=(FloatProgress(value=0.0, max=3.0), HTML(value='')))"
      ]
     },
     "metadata": {},
     "output_type": "display_data"
    },
    {
     "name": "stdout",
     "output_type": "stream",
     "text": [
      "\n"
     ]
    },
    {
     "data": {
      "application/vnd.jupyter.widget-view+json": {
       "model_id": "6ebe7542313d414db89e57a921a0e518",
       "version_major": 2,
       "version_minor": 0
      },
      "text/plain": [
       "HBox(children=(FloatProgress(value=0.0, max=3.0), HTML(value='')))"
      ]
     },
     "metadata": {},
     "output_type": "display_data"
    },
    {
     "name": "stdout",
     "output_type": "stream",
     "text": [
      "\n"
     ]
    },
    {
     "data": {
      "application/vnd.jupyter.widget-view+json": {
       "model_id": "f6bb9b54239247339f96df6ed0490ebe",
       "version_major": 2,
       "version_minor": 0
      },
      "text/plain": [
       "HBox(children=(FloatProgress(value=0.0, max=3.0), HTML(value='')))"
      ]
     },
     "metadata": {},
     "output_type": "display_data"
    },
    {
     "name": "stdout",
     "output_type": "stream",
     "text": [
      "\n"
     ]
    },
    {
     "data": {
      "application/vnd.jupyter.widget-view+json": {
       "model_id": "1b753159b1304ca0b8369d39234e29ed",
       "version_major": 2,
       "version_minor": 0
      },
      "text/plain": [
       "HBox(children=(FloatProgress(value=0.0, max=3.0), HTML(value='')))"
      ]
     },
     "metadata": {},
     "output_type": "display_data"
    },
    {
     "name": "stdout",
     "output_type": "stream",
     "text": [
      "\n"
     ]
    },
    {
     "data": {
      "application/vnd.jupyter.widget-view+json": {
       "model_id": "da9b9e92fc424175aa8bb5effabd52a3",
       "version_major": 2,
       "version_minor": 0
      },
      "text/plain": [
       "HBox(children=(FloatProgress(value=0.0, max=3.0), HTML(value='')))"
      ]
     },
     "metadata": {},
     "output_type": "display_data"
    },
    {
     "name": "stdout",
     "output_type": "stream",
     "text": [
      "\n"
     ]
    },
    {
     "data": {
      "application/vnd.jupyter.widget-view+json": {
       "model_id": "2701a9f0f25c4bc38f4afbdfc46d6b9b",
       "version_major": 2,
       "version_minor": 0
      },
      "text/plain": [
       "HBox(children=(FloatProgress(value=0.0, max=3.0), HTML(value='')))"
      ]
     },
     "metadata": {},
     "output_type": "display_data"
    },
    {
     "name": "stdout",
     "output_type": "stream",
     "text": [
      "\n"
     ]
    },
    {
     "data": {
      "application/vnd.jupyter.widget-view+json": {
       "model_id": "0cf0abf8f9714921b8c82782d6146c4e",
       "version_major": 2,
       "version_minor": 0
      },
      "text/plain": [
       "HBox(children=(FloatProgress(value=0.0, max=3.0), HTML(value='')))"
      ]
     },
     "metadata": {},
     "output_type": "display_data"
    },
    {
     "name": "stdout",
     "output_type": "stream",
     "text": [
      "\n",
      "\n"
     ]
    },
    {
     "name": "stderr",
     "output_type": "stream",
     "text": [
      "[Parallel(n_jobs=1)]: Using backend SequentialBackend with 1 concurrent workers.\n"
     ]
    },
    {
     "name": "stdout",
     "output_type": "stream",
     "text": [
      "[CV]  ................................................................\n",
      "[CV] ................................................. , total=  21.8s\n",
      "[CV]  ................................................................\n"
     ]
    },
    {
     "name": "stderr",
     "output_type": "stream",
     "text": [
      "[Parallel(n_jobs=1)]: Done   1 out of   1 | elapsed:   43.7s remaining:    0.0s\n"
     ]
    },
    {
     "name": "stdout",
     "output_type": "stream",
     "text": [
      "[CV] ................................................. , total=  22.0s\n",
      "[CV]  ................................................................\n",
      "[CV] ................................................. , total=  22.6s\n"
     ]
    },
    {
     "name": "stderr",
     "output_type": "stream",
     "text": [
      "[Parallel(n_jobs=1)]: Done   3 out of   3 | elapsed:  3.3min finished\n"
     ]
    },
    {
     "data": {
      "text/plain": [
       "{'fit_time': array([20.56279349, 20.80930138, 21.3822844 ]),\n",
       " 'score_time': array([1.24337244, 1.17137599, 1.16880822]),\n",
       " 'test_score': array([-0.76403668, -0.89122926, -0.89704724]),\n",
       " 'train_score': array([-0.70870893, -0.7142106 , -0.72097478])}"
      ]
     },
     "execution_count": 89,
     "metadata": {},
     "output_type": "execute_result"
    }
   ],
   "source": [
    "train_set_with_mes = train_set.copy()\n",
    "for cols in tqdm(mean_encode_cols):\n",
    "    encoding_df = mean_encoding_df(sales_train, cols + ['date_block_num'], \n",
    "                                   label='item_cnt')\n",
    "    encoding_col = [col for col in encoding_df.columns if col.startswith('mean_')]\n",
    "    train_set_with_mes = add_lagged_features(\n",
    "        train_set_with_mes, encoding_df, encoding_col,\n",
    "        max_lag=3, index_cols=cols)\n",
    "    \n",
    "X_train, y_train = df_to_X_y(train_set_with_mes)\n",
    "reg = ClippedOutputRegressor(XGBRegressor(n_jobs=-1, verbosity=2, tree_method='gpu_hist', gpu_id=0)) #change to hist if you don't have access to a gpu\n",
    "scores = cross_validate(reg, X=X_train, y=y_train,\n",
    "                        scoring='neg_root_mean_squared_error', verbose=2, \n",
    "                        cv=cv_split, return_train_score=True)\n",
    "scores"
   ]
  },
  {
   "cell_type": "code",
   "execution_count": 90,
   "metadata": {},
   "outputs": [
    {
     "data": {
      "text/plain": [
       "-0.8507710597986403"
      ]
     },
     "execution_count": 90,
     "metadata": {},
     "output_type": "execute_result"
    }
   ],
   "source": [
    "scores['test_score'].mean()"
   ]
  },
  {
   "cell_type": "markdown",
   "metadata": {},
   "source": [
    "A bit better. And let's try with a rolling window now:"
   ]
  },
  {
   "cell_type": "code",
   "execution_count": 8,
   "metadata": {},
   "outputs": [],
   "source": [
    "def rolling_mean_encoding_col_name(on, label='item_cnt_month', w=20):\n",
    "    return 'rolling_window_%d_mean_%s_on_%s' % (w, label, '_'.join(on))\n",
    "\n",
    "\n",
    "def rolling_mean_encoding_df(df, on, label='item_cnt_month', w=20,\n",
    "                             date_col='date_block_num'):\n",
    "    encode_column = rolling_mean_encoding_col_name(on, label, w)\n",
    "\n",
    "    dfs = []\n",
    "    for m in trange(w, 34):\n",
    "        tmp_df = df.loc[\n",
    "            (df['date_block_num'] <= m) & (df['date_block_num'] > (m - w)),\n",
    "            on + [label]].groupby(on)[label].mean().reset_index().rename(\n",
    "            columns={label: encode_column})\n",
    "        tmp_df['date_block_num'] = m\n",
    "        dfs.append(tmp_df)\n",
    "    return pd.concat(dfs)"
   ]
  },
  {
   "cell_type": "code",
   "execution_count": 92,
   "metadata": {},
   "outputs": [
    {
     "data": {
      "application/vnd.jupyter.widget-view+json": {
       "model_id": "de6e061c7a40403393865368a0a4a754",
       "version_major": 2,
       "version_minor": 0
      },
      "text/plain": [
       "HBox(children=(FloatProgress(value=0.0, max=14.0), HTML(value='')))"
      ]
     },
     "metadata": {},
     "output_type": "display_data"
    },
    {
     "name": "stdout",
     "output_type": "stream",
     "text": [
      "\n"
     ]
    },
    {
     "data": {
      "text/html": [
       "<div>\n",
       "<style scoped>\n",
       "    .dataframe tbody tr th:only-of-type {\n",
       "        vertical-align: middle;\n",
       "    }\n",
       "\n",
       "    .dataframe tbody tr th {\n",
       "        vertical-align: top;\n",
       "    }\n",
       "\n",
       "    .dataframe thead th {\n",
       "        text-align: right;\n",
       "    }\n",
       "</style>\n",
       "<table border=\"1\" class=\"dataframe\">\n",
       "  <thead>\n",
       "    <tr style=\"text-align: right;\">\n",
       "      <th></th>\n",
       "      <th>item_id</th>\n",
       "      <th>rolling_window_20_mean_item_cnt_month_on_item_id</th>\n",
       "      <th>date_block_num</th>\n",
       "    </tr>\n",
       "  </thead>\n",
       "  <tbody>\n",
       "    <tr>\n",
       "      <th>0</th>\n",
       "      <td>30</td>\n",
       "      <td>0.510823</td>\n",
       "      <td>20</td>\n",
       "    </tr>\n",
       "    <tr>\n",
       "      <th>1</th>\n",
       "      <td>31</td>\n",
       "      <td>0.326840</td>\n",
       "      <td>20</td>\n",
       "    </tr>\n",
       "    <tr>\n",
       "      <th>2</th>\n",
       "      <td>32</td>\n",
       "      <td>0.932900</td>\n",
       "      <td>20</td>\n",
       "    </tr>\n",
       "    <tr>\n",
       "      <th>3</th>\n",
       "      <td>33</td>\n",
       "      <td>0.445887</td>\n",
       "      <td>20</td>\n",
       "    </tr>\n",
       "    <tr>\n",
       "      <th>4</th>\n",
       "      <td>38</td>\n",
       "      <td>0.015152</td>\n",
       "      <td>20</td>\n",
       "    </tr>\n",
       "    <tr>\n",
       "      <th>...</th>\n",
       "      <td>...</td>\n",
       "      <td>...</td>\n",
       "      <td>...</td>\n",
       "    </tr>\n",
       "    <tr>\n",
       "      <th>5095</th>\n",
       "      <td>22162</td>\n",
       "      <td>0.673810</td>\n",
       "      <td>33</td>\n",
       "    </tr>\n",
       "    <tr>\n",
       "      <th>5096</th>\n",
       "      <td>22163</td>\n",
       "      <td>0.088095</td>\n",
       "      <td>33</td>\n",
       "    </tr>\n",
       "    <tr>\n",
       "      <th>5097</th>\n",
       "      <td>22164</td>\n",
       "      <td>0.500000</td>\n",
       "      <td>33</td>\n",
       "    </tr>\n",
       "    <tr>\n",
       "      <th>5098</th>\n",
       "      <td>22166</td>\n",
       "      <td>0.260714</td>\n",
       "      <td>33</td>\n",
       "    </tr>\n",
       "    <tr>\n",
       "      <th>5099</th>\n",
       "      <td>22167</td>\n",
       "      <td>0.850000</td>\n",
       "      <td>33</td>\n",
       "    </tr>\n",
       "  </tbody>\n",
       "</table>\n",
       "<p>71400 rows × 3 columns</p>\n",
       "</div>"
      ],
      "text/plain": [
       "      item_id  rolling_window_20_mean_item_cnt_month_on_item_id  \\\n",
       "0          30                                          0.510823   \n",
       "1          31                                          0.326840   \n",
       "2          32                                          0.932900   \n",
       "3          33                                          0.445887   \n",
       "4          38                                          0.015152   \n",
       "...       ...                                               ...   \n",
       "5095    22162                                          0.673810   \n",
       "5096    22163                                          0.088095   \n",
       "5097    22164                                          0.500000   \n",
       "5098    22166                                          0.260714   \n",
       "5099    22167                                          0.850000   \n",
       "\n",
       "      date_block_num  \n",
       "0                 20  \n",
       "1                 20  \n",
       "2                 20  \n",
       "3                 20  \n",
       "4                 20  \n",
       "...              ...  \n",
       "5095              33  \n",
       "5096              33  \n",
       "5097              33  \n",
       "5098              33  \n",
       "5099              33  \n",
       "\n",
       "[71400 rows x 3 columns]"
      ]
     },
     "execution_count": 92,
     "metadata": {},
     "output_type": "execute_result"
    }
   ],
   "source": [
    "rolling_mean_encoding_df(train_set, ['item_id'])"
   ]
  },
  {
   "cell_type": "code",
   "execution_count": 93,
   "metadata": {},
   "outputs": [
    {
     "data": {
      "application/vnd.jupyter.widget-view+json": {
       "model_id": "13cf63007ac84ce398c28f3b9cadddb5",
       "version_major": 2,
       "version_minor": 0
      },
      "text/plain": [
       "HBox(children=(FloatProgress(value=0.0, max=7.0), HTML(value='')))"
      ]
     },
     "metadata": {},
     "output_type": "display_data"
    },
    {
     "data": {
      "application/vnd.jupyter.widget-view+json": {
       "model_id": "29d67ceba0b94039b3ccf7a8f569365c",
       "version_major": 2,
       "version_minor": 0
      },
      "text/plain": [
       "HBox(children=(FloatProgress(value=0.0, max=14.0), HTML(value='')))"
      ]
     },
     "metadata": {},
     "output_type": "display_data"
    },
    {
     "name": "stdout",
     "output_type": "stream",
     "text": [
      "\n"
     ]
    },
    {
     "data": {
      "application/vnd.jupyter.widget-view+json": {
       "model_id": "c3ffd8cf4cdf4f8d9c9fc7b2d5d2d04a",
       "version_major": 2,
       "version_minor": 0
      },
      "text/plain": [
       "HBox(children=(FloatProgress(value=0.0, max=1.0), HTML(value='')))"
      ]
     },
     "metadata": {},
     "output_type": "display_data"
    },
    {
     "name": "stdout",
     "output_type": "stream",
     "text": [
      "\n"
     ]
    },
    {
     "data": {
      "application/vnd.jupyter.widget-view+json": {
       "model_id": "448f625424cd421899937498f7212edb",
       "version_major": 2,
       "version_minor": 0
      },
      "text/plain": [
       "HBox(children=(FloatProgress(value=0.0, max=14.0), HTML(value='')))"
      ]
     },
     "metadata": {},
     "output_type": "display_data"
    },
    {
     "name": "stdout",
     "output_type": "stream",
     "text": [
      "\n"
     ]
    },
    {
     "data": {
      "application/vnd.jupyter.widget-view+json": {
       "model_id": "23b9fb6c3bcd4c50a3e2f65390a12e9a",
       "version_major": 2,
       "version_minor": 0
      },
      "text/plain": [
       "HBox(children=(FloatProgress(value=0.0, max=1.0), HTML(value='')))"
      ]
     },
     "metadata": {},
     "output_type": "display_data"
    },
    {
     "name": "stdout",
     "output_type": "stream",
     "text": [
      "\n"
     ]
    },
    {
     "data": {
      "application/vnd.jupyter.widget-view+json": {
       "model_id": "c286ef832a5e4cfcb4ad4c0f1e5966ef",
       "version_major": 2,
       "version_minor": 0
      },
      "text/plain": [
       "HBox(children=(FloatProgress(value=0.0, max=14.0), HTML(value='')))"
      ]
     },
     "metadata": {},
     "output_type": "display_data"
    },
    {
     "name": "stdout",
     "output_type": "stream",
     "text": [
      "\n"
     ]
    },
    {
     "data": {
      "application/vnd.jupyter.widget-view+json": {
       "model_id": "41e19ddc048a4cd99759887a76cbfeed",
       "version_major": 2,
       "version_minor": 0
      },
      "text/plain": [
       "HBox(children=(FloatProgress(value=0.0, max=1.0), HTML(value='')))"
      ]
     },
     "metadata": {},
     "output_type": "display_data"
    },
    {
     "name": "stdout",
     "output_type": "stream",
     "text": [
      "\n"
     ]
    },
    {
     "data": {
      "application/vnd.jupyter.widget-view+json": {
       "model_id": "0581d26c1a294d6785943fdee030a542",
       "version_major": 2,
       "version_minor": 0
      },
      "text/plain": [
       "HBox(children=(FloatProgress(value=0.0, max=14.0), HTML(value='')))"
      ]
     },
     "metadata": {},
     "output_type": "display_data"
    },
    {
     "name": "stdout",
     "output_type": "stream",
     "text": [
      "\n"
     ]
    },
    {
     "data": {
      "application/vnd.jupyter.widget-view+json": {
       "model_id": "f865b149307c406e978a6b7c84fbca28",
       "version_major": 2,
       "version_minor": 0
      },
      "text/plain": [
       "HBox(children=(FloatProgress(value=0.0, max=1.0), HTML(value='')))"
      ]
     },
     "metadata": {},
     "output_type": "display_data"
    },
    {
     "name": "stdout",
     "output_type": "stream",
     "text": [
      "\n"
     ]
    },
    {
     "data": {
      "application/vnd.jupyter.widget-view+json": {
       "model_id": "ecb5a96f25b14d8093df65df870db943",
       "version_major": 2,
       "version_minor": 0
      },
      "text/plain": [
       "HBox(children=(FloatProgress(value=0.0, max=14.0), HTML(value='')))"
      ]
     },
     "metadata": {},
     "output_type": "display_data"
    },
    {
     "name": "stdout",
     "output_type": "stream",
     "text": [
      "\n"
     ]
    },
    {
     "data": {
      "application/vnd.jupyter.widget-view+json": {
       "model_id": "23bf20e6d29341d3b1a888254f76aeae",
       "version_major": 2,
       "version_minor": 0
      },
      "text/plain": [
       "HBox(children=(FloatProgress(value=0.0, max=1.0), HTML(value='')))"
      ]
     },
     "metadata": {},
     "output_type": "display_data"
    },
    {
     "name": "stdout",
     "output_type": "stream",
     "text": [
      "\n"
     ]
    },
    {
     "data": {
      "application/vnd.jupyter.widget-view+json": {
       "model_id": "9241186b78af4b7aba38dc74d3f7099d",
       "version_major": 2,
       "version_minor": 0
      },
      "text/plain": [
       "HBox(children=(FloatProgress(value=0.0, max=14.0), HTML(value='')))"
      ]
     },
     "metadata": {},
     "output_type": "display_data"
    },
    {
     "name": "stdout",
     "output_type": "stream",
     "text": [
      "\n"
     ]
    },
    {
     "data": {
      "application/vnd.jupyter.widget-view+json": {
       "model_id": "1fcefc5e998743f4a2abd5324e5b1643",
       "version_major": 2,
       "version_minor": 0
      },
      "text/plain": [
       "HBox(children=(FloatProgress(value=0.0, max=1.0), HTML(value='')))"
      ]
     },
     "metadata": {},
     "output_type": "display_data"
    },
    {
     "name": "stdout",
     "output_type": "stream",
     "text": [
      "\n"
     ]
    },
    {
     "data": {
      "application/vnd.jupyter.widget-view+json": {
       "model_id": "aa33275753f9477082d97e0766c2ed24",
       "version_major": 2,
       "version_minor": 0
      },
      "text/plain": [
       "HBox(children=(FloatProgress(value=0.0, max=14.0), HTML(value='')))"
      ]
     },
     "metadata": {},
     "output_type": "display_data"
    },
    {
     "name": "stdout",
     "output_type": "stream",
     "text": [
      "\n"
     ]
    },
    {
     "data": {
      "application/vnd.jupyter.widget-view+json": {
       "model_id": "d88bed62bcaf40269475fb6f57c41177",
       "version_major": 2,
       "version_minor": 0
      },
      "text/plain": [
       "HBox(children=(FloatProgress(value=0.0, max=1.0), HTML(value='')))"
      ]
     },
     "metadata": {},
     "output_type": "display_data"
    },
    {
     "name": "stdout",
     "output_type": "stream",
     "text": [
      "\n",
      "\n"
     ]
    },
    {
     "data": {
      "text/html": [
       "<div>\n",
       "<style scoped>\n",
       "    .dataframe tbody tr th:only-of-type {\n",
       "        vertical-align: middle;\n",
       "    }\n",
       "\n",
       "    .dataframe tbody tr th {\n",
       "        vertical-align: top;\n",
       "    }\n",
       "\n",
       "    .dataframe thead th {\n",
       "        text-align: right;\n",
       "    }\n",
       "</style>\n",
       "<table border=\"1\" class=\"dataframe\">\n",
       "  <thead>\n",
       "    <tr style=\"text-align: right;\">\n",
       "      <th></th>\n",
       "      <th>item_id</th>\n",
       "      <th>shop_id</th>\n",
       "      <th>date_block_num</th>\n",
       "      <th>item_cnt_month</th>\n",
       "      <th>f__item_cnt_1</th>\n",
       "      <th>f__item_cnt_2</th>\n",
       "      <th>f__item_cnt_3</th>\n",
       "      <th>f__item_cnt_4</th>\n",
       "      <th>f__item_cnt_5</th>\n",
       "      <th>f__item_cnt_6</th>\n",
       "      <th>...</th>\n",
       "      <th>subcategory_name</th>\n",
       "      <th>f__cat__le_category_name</th>\n",
       "      <th>f__cat__le_subcategory_name</th>\n",
       "      <th>f__rolling_window_20_mean_item_cnt_on_item_id_1</th>\n",
       "      <th>f__rolling_window_20_mean_item_cnt_on_shop_id_1</th>\n",
       "      <th>f__rolling_window_20_mean_item_cnt_on_category_name_1</th>\n",
       "      <th>f__rolling_window_20_mean_item_cnt_on_subcategory_name_1</th>\n",
       "      <th>f__rolling_window_20_mean_item_cnt_on_item_id_shop_id_1</th>\n",
       "      <th>f__rolling_window_20_mean_item_cnt_on_shop_id_category_name_1</th>\n",
       "      <th>f__rolling_window_20_mean_item_cnt_on_shop_id_subcategory_name_1</th>\n",
       "    </tr>\n",
       "  </thead>\n",
       "  <tbody>\n",
       "    <tr>\n",
       "      <th>0</th>\n",
       "      <td>5037</td>\n",
       "      <td>5</td>\n",
       "      <td>10</td>\n",
       "      <td>0.0</td>\n",
       "      <td>0.0</td>\n",
       "      <td>0.0</td>\n",
       "      <td>0.0</td>\n",
       "      <td>0.0</td>\n",
       "      <td>0.0</td>\n",
       "      <td>0.0</td>\n",
       "      <td>...</td>\n",
       "      <td>PS3</td>\n",
       "      <td>4</td>\n",
       "      <td>12</td>\n",
       "      <td>0.0</td>\n",
       "      <td>0.0</td>\n",
       "      <td>0.0</td>\n",
       "      <td>0.0</td>\n",
       "      <td>0.0</td>\n",
       "      <td>0.0</td>\n",
       "      <td>0.0</td>\n",
       "    </tr>\n",
       "    <tr>\n",
       "      <th>1</th>\n",
       "      <td>5037</td>\n",
       "      <td>4</td>\n",
       "      <td>10</td>\n",
       "      <td>0.0</td>\n",
       "      <td>0.0</td>\n",
       "      <td>0.0</td>\n",
       "      <td>0.0</td>\n",
       "      <td>0.0</td>\n",
       "      <td>0.0</td>\n",
       "      <td>0.0</td>\n",
       "      <td>...</td>\n",
       "      <td>PS3</td>\n",
       "      <td>4</td>\n",
       "      <td>12</td>\n",
       "      <td>0.0</td>\n",
       "      <td>0.0</td>\n",
       "      <td>0.0</td>\n",
       "      <td>0.0</td>\n",
       "      <td>0.0</td>\n",
       "      <td>0.0</td>\n",
       "      <td>0.0</td>\n",
       "    </tr>\n",
       "    <tr>\n",
       "      <th>2</th>\n",
       "      <td>5037</td>\n",
       "      <td>6</td>\n",
       "      <td>10</td>\n",
       "      <td>0.0</td>\n",
       "      <td>0.0</td>\n",
       "      <td>0.0</td>\n",
       "      <td>0.0</td>\n",
       "      <td>0.0</td>\n",
       "      <td>0.0</td>\n",
       "      <td>0.0</td>\n",
       "      <td>...</td>\n",
       "      <td>PS3</td>\n",
       "      <td>4</td>\n",
       "      <td>12</td>\n",
       "      <td>0.0</td>\n",
       "      <td>0.0</td>\n",
       "      <td>0.0</td>\n",
       "      <td>0.0</td>\n",
       "      <td>0.0</td>\n",
       "      <td>0.0</td>\n",
       "      <td>0.0</td>\n",
       "    </tr>\n",
       "    <tr>\n",
       "      <th>3</th>\n",
       "      <td>5037</td>\n",
       "      <td>3</td>\n",
       "      <td>10</td>\n",
       "      <td>0.0</td>\n",
       "      <td>0.0</td>\n",
       "      <td>0.0</td>\n",
       "      <td>0.0</td>\n",
       "      <td>0.0</td>\n",
       "      <td>0.0</td>\n",
       "      <td>0.0</td>\n",
       "      <td>...</td>\n",
       "      <td>PS3</td>\n",
       "      <td>4</td>\n",
       "      <td>12</td>\n",
       "      <td>0.0</td>\n",
       "      <td>0.0</td>\n",
       "      <td>0.0</td>\n",
       "      <td>0.0</td>\n",
       "      <td>0.0</td>\n",
       "      <td>0.0</td>\n",
       "      <td>0.0</td>\n",
       "    </tr>\n",
       "    <tr>\n",
       "      <th>4</th>\n",
       "      <td>5037</td>\n",
       "      <td>2</td>\n",
       "      <td>10</td>\n",
       "      <td>0.0</td>\n",
       "      <td>0.0</td>\n",
       "      <td>0.0</td>\n",
       "      <td>0.0</td>\n",
       "      <td>0.0</td>\n",
       "      <td>0.0</td>\n",
       "      <td>0.0</td>\n",
       "      <td>...</td>\n",
       "      <td>PS3</td>\n",
       "      <td>4</td>\n",
       "      <td>12</td>\n",
       "      <td>0.0</td>\n",
       "      <td>0.0</td>\n",
       "      <td>0.0</td>\n",
       "      <td>0.0</td>\n",
       "      <td>0.0</td>\n",
       "      <td>0.0</td>\n",
       "      <td>0.0</td>\n",
       "    </tr>\n",
       "  </tbody>\n",
       "</table>\n",
       "<p>5 rows × 55 columns</p>\n",
       "</div>"
      ],
      "text/plain": [
       "   item_id  shop_id  date_block_num  item_cnt_month  f__item_cnt_1  \\\n",
       "0     5037        5              10             0.0            0.0   \n",
       "1     5037        4              10             0.0            0.0   \n",
       "2     5037        6              10             0.0            0.0   \n",
       "3     5037        3              10             0.0            0.0   \n",
       "4     5037        2              10             0.0            0.0   \n",
       "\n",
       "   f__item_cnt_2  f__item_cnt_3  f__item_cnt_4  f__item_cnt_5  f__item_cnt_6  \\\n",
       "0            0.0            0.0            0.0            0.0            0.0   \n",
       "1            0.0            0.0            0.0            0.0            0.0   \n",
       "2            0.0            0.0            0.0            0.0            0.0   \n",
       "3            0.0            0.0            0.0            0.0            0.0   \n",
       "4            0.0            0.0            0.0            0.0            0.0   \n",
       "\n",
       "   ...  subcategory_name  f__cat__le_category_name  \\\n",
       "0  ...               PS3                         4   \n",
       "1  ...               PS3                         4   \n",
       "2  ...               PS3                         4   \n",
       "3  ...               PS3                         4   \n",
       "4  ...               PS3                         4   \n",
       "\n",
       "   f__cat__le_subcategory_name  \\\n",
       "0                           12   \n",
       "1                           12   \n",
       "2                           12   \n",
       "3                           12   \n",
       "4                           12   \n",
       "\n",
       "   f__rolling_window_20_mean_item_cnt_on_item_id_1  \\\n",
       "0                                              0.0   \n",
       "1                                              0.0   \n",
       "2                                              0.0   \n",
       "3                                              0.0   \n",
       "4                                              0.0   \n",
       "\n",
       "   f__rolling_window_20_mean_item_cnt_on_shop_id_1  \\\n",
       "0                                              0.0   \n",
       "1                                              0.0   \n",
       "2                                              0.0   \n",
       "3                                              0.0   \n",
       "4                                              0.0   \n",
       "\n",
       "   f__rolling_window_20_mean_item_cnt_on_category_name_1  \\\n",
       "0                                                0.0       \n",
       "1                                                0.0       \n",
       "2                                                0.0       \n",
       "3                                                0.0       \n",
       "4                                                0.0       \n",
       "\n",
       "   f__rolling_window_20_mean_item_cnt_on_subcategory_name_1  \\\n",
       "0                                                0.0          \n",
       "1                                                0.0          \n",
       "2                                                0.0          \n",
       "3                                                0.0          \n",
       "4                                                0.0          \n",
       "\n",
       "   f__rolling_window_20_mean_item_cnt_on_item_id_shop_id_1  \\\n",
       "0                                                0.0         \n",
       "1                                                0.0         \n",
       "2                                                0.0         \n",
       "3                                                0.0         \n",
       "4                                                0.0         \n",
       "\n",
       "   f__rolling_window_20_mean_item_cnt_on_shop_id_category_name_1  \\\n",
       "0                                                0.0               \n",
       "1                                                0.0               \n",
       "2                                                0.0               \n",
       "3                                                0.0               \n",
       "4                                                0.0               \n",
       "\n",
       "   f__rolling_window_20_mean_item_cnt_on_shop_id_subcategory_name_1  \n",
       "0                                                0.0                 \n",
       "1                                                0.0                 \n",
       "2                                                0.0                 \n",
       "3                                                0.0                 \n",
       "4                                                0.0                 \n",
       "\n",
       "[5 rows x 55 columns]"
      ]
     },
     "execution_count": 93,
     "metadata": {},
     "output_type": "execute_result"
    }
   ],
   "source": [
    "train_set_with_rolling_means = train_set.copy()\n",
    "for cols in tqdm(mean_encode_cols):\n",
    "    encoding_df = rolling_mean_encoding_df(\n",
    "        sales_train, cols, label='item_cnt')\n",
    "    encoding_col = [col for col in encoding_df.columns if col.startswith('rolling_window_')]\n",
    "    train_set_with_rolling_means = add_lagged_features(\n",
    "        train_set_with_rolling_means, encoding_df, encoding_col,\n",
    "        max_lag=1, index_cols=cols)\n",
    "train_set_with_rolling_means.head()"
   ]
  },
  {
   "cell_type": "code",
   "execution_count": 94,
   "metadata": {},
   "outputs": [
    {
     "name": "stderr",
     "output_type": "stream",
     "text": [
      "[Parallel(n_jobs=1)]: Using backend SequentialBackend with 1 concurrent workers.\n"
     ]
    },
    {
     "name": "stdout",
     "output_type": "stream",
     "text": [
      "[CV]  ................................................................\n",
      "[CV] ................................................. , total=  15.7s\n",
      "[CV]  ................................................................\n"
     ]
    },
    {
     "name": "stderr",
     "output_type": "stream",
     "text": [
      "[Parallel(n_jobs=1)]: Done   1 out of   1 | elapsed:   30.8s remaining:    0.0s\n"
     ]
    },
    {
     "name": "stdout",
     "output_type": "stream",
     "text": [
      "[CV] ................................................. , total=  15.9s\n",
      "[CV]  ................................................................\n",
      "[CV] ................................................. , total=  16.6s\n"
     ]
    },
    {
     "name": "stderr",
     "output_type": "stream",
     "text": [
      "[Parallel(n_jobs=1)]: Done   3 out of   3 | elapsed:  2.6min finished\n"
     ]
    },
    {
     "data": {
      "text/plain": [
       "{'fit_time': array([14.46369553, 15.07717991, 15.30547309]),\n",
       " 'score_time': array([1.21507454, 0.80455375, 1.30124831]),\n",
       " 'test_score': array([-0.77202219, -0.8980028 , -0.88608265]),\n",
       " 'train_score': array([-0.73037889, -0.73424932, -0.73492693])}"
      ]
     },
     "execution_count": 94,
     "metadata": {},
     "output_type": "execute_result"
    }
   ],
   "source": [
    "X_train, y_train = df_to_X_y(train_set_with_rolling_means)\n",
    "reg = ClippedOutputRegressor(XGBRegressor(n_jobs=-1, verbosity=2, tree_method='gpu_hist', gpu_id=0)) #change to hist if you don't have access to a gpu\n",
    "scores = cross_validate(reg, X=X_train, y=y_train,\n",
    "                        scoring='neg_root_mean_squared_error', verbose=2, \n",
    "                        cv=cv_split, return_train_score=True)\n",
    "scores"
   ]
  },
  {
   "cell_type": "code",
   "execution_count": 95,
   "metadata": {},
   "outputs": [
    {
     "data": {
      "text/plain": [
       "-0.8520358800706661"
      ]
     },
     "execution_count": 95,
     "metadata": {},
     "output_type": "execute_result"
    }
   ],
   "source": [
    "scores['test_score'].mean()"
   ]
  },
  {
   "cell_type": "markdown",
   "metadata": {},
   "source": [
    "Cool, improves the score a lot too. Let's see the monthly mean plus the rolling mean together (they may be redundant)."
   ]
  },
  {
   "cell_type": "code",
   "execution_count": 11,
   "metadata": {
    "collapsed": true,
    "jupyter": {
     "outputs_hidden": true
    }
   },
   "outputs": [
    {
     "data": {
      "application/vnd.jupyter.widget-view+json": {
       "model_id": "44e7fad100164606af90c0d4e13c9ed0",
       "version_major": 2,
       "version_minor": 0
      },
      "text/plain": [
       "HBox(children=(FloatProgress(value=0.0, max=7.0), HTML(value='')))"
      ]
     },
     "metadata": {},
     "output_type": "display_data"
    },
    {
     "data": {
      "application/vnd.jupyter.widget-view+json": {
       "model_id": "ccbd58a4d03f4ddeb7a8eb0d24810028",
       "version_major": 2,
       "version_minor": 0
      },
      "text/plain": [
       "HBox(children=(FloatProgress(value=0.0, max=3.0), HTML(value='')))"
      ]
     },
     "metadata": {},
     "output_type": "display_data"
    },
    {
     "name": "stdout",
     "output_type": "stream",
     "text": [
      "\n"
     ]
    },
    {
     "data": {
      "application/vnd.jupyter.widget-view+json": {
       "model_id": "22a36b7e0b7845aa9b000af9dcae8e4c",
       "version_major": 2,
       "version_minor": 0
      },
      "text/plain": [
       "HBox(children=(FloatProgress(value=0.0, max=3.0), HTML(value='')))"
      ]
     },
     "metadata": {},
     "output_type": "display_data"
    },
    {
     "name": "stdout",
     "output_type": "stream",
     "text": [
      "\n"
     ]
    },
    {
     "data": {
      "application/vnd.jupyter.widget-view+json": {
       "model_id": "2565a130eab1485bb048204cb1c9f03c",
       "version_major": 2,
       "version_minor": 0
      },
      "text/plain": [
       "HBox(children=(FloatProgress(value=0.0, max=3.0), HTML(value='')))"
      ]
     },
     "metadata": {},
     "output_type": "display_data"
    },
    {
     "name": "stdout",
     "output_type": "stream",
     "text": [
      "\n"
     ]
    },
    {
     "data": {
      "application/vnd.jupyter.widget-view+json": {
       "model_id": "34ebaa48f1384a439399b6ed23122e74",
       "version_major": 2,
       "version_minor": 0
      },
      "text/plain": [
       "HBox(children=(FloatProgress(value=0.0, max=3.0), HTML(value='')))"
      ]
     },
     "metadata": {},
     "output_type": "display_data"
    },
    {
     "name": "stdout",
     "output_type": "stream",
     "text": [
      "\n"
     ]
    },
    {
     "data": {
      "application/vnd.jupyter.widget-view+json": {
       "model_id": "072aa42267284b149dad5154e9a73c79",
       "version_major": 2,
       "version_minor": 0
      },
      "text/plain": [
       "HBox(children=(FloatProgress(value=0.0, max=3.0), HTML(value='')))"
      ]
     },
     "metadata": {},
     "output_type": "display_data"
    },
    {
     "name": "stdout",
     "output_type": "stream",
     "text": [
      "\n"
     ]
    },
    {
     "data": {
      "application/vnd.jupyter.widget-view+json": {
       "model_id": "b040a933458b4be2aad5f13d70b2a0b3",
       "version_major": 2,
       "version_minor": 0
      },
      "text/plain": [
       "HBox(children=(FloatProgress(value=0.0, max=3.0), HTML(value='')))"
      ]
     },
     "metadata": {},
     "output_type": "display_data"
    },
    {
     "name": "stdout",
     "output_type": "stream",
     "text": [
      "\n"
     ]
    },
    {
     "data": {
      "application/vnd.jupyter.widget-view+json": {
       "model_id": "b633d954591a48f39a28c05338887ec2",
       "version_major": 2,
       "version_minor": 0
      },
      "text/plain": [
       "HBox(children=(FloatProgress(value=0.0, max=3.0), HTML(value='')))"
      ]
     },
     "metadata": {},
     "output_type": "display_data"
    },
    {
     "name": "stdout",
     "output_type": "stream",
     "text": [
      "\n",
      "\n"
     ]
    },
    {
     "data": {
      "application/vnd.jupyter.widget-view+json": {
       "model_id": "c471476cf6be4f51a4c3e2d939cf044a",
       "version_major": 2,
       "version_minor": 0
      },
      "text/plain": [
       "HBox(children=(FloatProgress(value=0.0, max=7.0), HTML(value='')))"
      ]
     },
     "metadata": {},
     "output_type": "display_data"
    },
    {
     "data": {
      "application/vnd.jupyter.widget-view+json": {
       "model_id": "c45f052626ff4efe8cc69b7e511dcd6c",
       "version_major": 2,
       "version_minor": 0
      },
      "text/plain": [
       "HBox(children=(FloatProgress(value=0.0, max=14.0), HTML(value='')))"
      ]
     },
     "metadata": {},
     "output_type": "display_data"
    },
    {
     "name": "stdout",
     "output_type": "stream",
     "text": [
      "\n"
     ]
    },
    {
     "data": {
      "application/vnd.jupyter.widget-view+json": {
       "model_id": "b84483a2018743d192356b9017268791",
       "version_major": 2,
       "version_minor": 0
      },
      "text/plain": [
       "HBox(children=(FloatProgress(value=0.0, max=1.0), HTML(value='')))"
      ]
     },
     "metadata": {},
     "output_type": "display_data"
    },
    {
     "name": "stdout",
     "output_type": "stream",
     "text": [
      "\n"
     ]
    },
    {
     "data": {
      "application/vnd.jupyter.widget-view+json": {
       "model_id": "08f7b022282f4baf86c841a248b287d2",
       "version_major": 2,
       "version_minor": 0
      },
      "text/plain": [
       "HBox(children=(FloatProgress(value=0.0, max=14.0), HTML(value='')))"
      ]
     },
     "metadata": {},
     "output_type": "display_data"
    },
    {
     "name": "stdout",
     "output_type": "stream",
     "text": [
      "\n"
     ]
    },
    {
     "data": {
      "application/vnd.jupyter.widget-view+json": {
       "model_id": "68c41f8cc3ca4bb29b0bb9c77873e6e6",
       "version_major": 2,
       "version_minor": 0
      },
      "text/plain": [
       "HBox(children=(FloatProgress(value=0.0, max=1.0), HTML(value='')))"
      ]
     },
     "metadata": {},
     "output_type": "display_data"
    },
    {
     "name": "stdout",
     "output_type": "stream",
     "text": [
      "\n"
     ]
    },
    {
     "data": {
      "application/vnd.jupyter.widget-view+json": {
       "model_id": "38a4894007a8408ab72d800b65f91578",
       "version_major": 2,
       "version_minor": 0
      },
      "text/plain": [
       "HBox(children=(FloatProgress(value=0.0, max=14.0), HTML(value='')))"
      ]
     },
     "metadata": {},
     "output_type": "display_data"
    },
    {
     "name": "stdout",
     "output_type": "stream",
     "text": [
      "\n"
     ]
    },
    {
     "data": {
      "application/vnd.jupyter.widget-view+json": {
       "model_id": "ad63757ec4784700ae1c27aa622de3be",
       "version_major": 2,
       "version_minor": 0
      },
      "text/plain": [
       "HBox(children=(FloatProgress(value=0.0, max=1.0), HTML(value='')))"
      ]
     },
     "metadata": {},
     "output_type": "display_data"
    },
    {
     "name": "stdout",
     "output_type": "stream",
     "text": [
      "\n"
     ]
    },
    {
     "data": {
      "application/vnd.jupyter.widget-view+json": {
       "model_id": "5fedd062fe10470eb076ccd22e645414",
       "version_major": 2,
       "version_minor": 0
      },
      "text/plain": [
       "HBox(children=(FloatProgress(value=0.0, max=14.0), HTML(value='')))"
      ]
     },
     "metadata": {},
     "output_type": "display_data"
    },
    {
     "name": "stdout",
     "output_type": "stream",
     "text": [
      "\n"
     ]
    },
    {
     "data": {
      "application/vnd.jupyter.widget-view+json": {
       "model_id": "399923cad6c7468d899a0cbd142ac089",
       "version_major": 2,
       "version_minor": 0
      },
      "text/plain": [
       "HBox(children=(FloatProgress(value=0.0, max=1.0), HTML(value='')))"
      ]
     },
     "metadata": {},
     "output_type": "display_data"
    },
    {
     "name": "stdout",
     "output_type": "stream",
     "text": [
      "\n"
     ]
    },
    {
     "data": {
      "application/vnd.jupyter.widget-view+json": {
       "model_id": "4c589c7b209a450b81db8414485b9757",
       "version_major": 2,
       "version_minor": 0
      },
      "text/plain": [
       "HBox(children=(FloatProgress(value=0.0, max=14.0), HTML(value='')))"
      ]
     },
     "metadata": {},
     "output_type": "display_data"
    },
    {
     "name": "stdout",
     "output_type": "stream",
     "text": [
      "\n"
     ]
    },
    {
     "data": {
      "application/vnd.jupyter.widget-view+json": {
       "model_id": "2a674498ec144ed3bdb5f6e7157b9dcb",
       "version_major": 2,
       "version_minor": 0
      },
      "text/plain": [
       "HBox(children=(FloatProgress(value=0.0, max=1.0), HTML(value='')))"
      ]
     },
     "metadata": {},
     "output_type": "display_data"
    },
    {
     "name": "stdout",
     "output_type": "stream",
     "text": [
      "\n"
     ]
    },
    {
     "data": {
      "application/vnd.jupyter.widget-view+json": {
       "model_id": "cf9628b578fe42828c8c76da12bbd2f8",
       "version_major": 2,
       "version_minor": 0
      },
      "text/plain": [
       "HBox(children=(FloatProgress(value=0.0, max=14.0), HTML(value='')))"
      ]
     },
     "metadata": {},
     "output_type": "display_data"
    },
    {
     "name": "stdout",
     "output_type": "stream",
     "text": [
      "\n"
     ]
    },
    {
     "data": {
      "application/vnd.jupyter.widget-view+json": {
       "model_id": "5a4f7fec5f5b41b0b98492d7406b49da",
       "version_major": 2,
       "version_minor": 0
      },
      "text/plain": [
       "HBox(children=(FloatProgress(value=0.0, max=1.0), HTML(value='')))"
      ]
     },
     "metadata": {},
     "output_type": "display_data"
    },
    {
     "name": "stdout",
     "output_type": "stream",
     "text": [
      "\n"
     ]
    },
    {
     "data": {
      "application/vnd.jupyter.widget-view+json": {
       "model_id": "f08a56a50cd94f33a0dc96822a69dd6f",
       "version_major": 2,
       "version_minor": 0
      },
      "text/plain": [
       "HBox(children=(FloatProgress(value=0.0, max=14.0), HTML(value='')))"
      ]
     },
     "metadata": {},
     "output_type": "display_data"
    },
    {
     "name": "stdout",
     "output_type": "stream",
     "text": [
      "\n"
     ]
    },
    {
     "data": {
      "application/vnd.jupyter.widget-view+json": {
       "model_id": "334eb8ea519040b1b797f2620cd440fe",
       "version_major": 2,
       "version_minor": 0
      },
      "text/plain": [
       "HBox(children=(FloatProgress(value=0.0, max=1.0), HTML(value='')))"
      ]
     },
     "metadata": {},
     "output_type": "display_data"
    },
    {
     "name": "stdout",
     "output_type": "stream",
     "text": [
      "\n",
      "\n"
     ]
    },
    {
     "data": {
      "text/html": [
       "<div>\n",
       "<style scoped>\n",
       "    .dataframe tbody tr th:only-of-type {\n",
       "        vertical-align: middle;\n",
       "    }\n",
       "\n",
       "    .dataframe tbody tr th {\n",
       "        vertical-align: top;\n",
       "    }\n",
       "\n",
       "    .dataframe thead th {\n",
       "        text-align: right;\n",
       "    }\n",
       "</style>\n",
       "<table border=\"1\" class=\"dataframe\">\n",
       "  <thead>\n",
       "    <tr style=\"text-align: right;\">\n",
       "      <th></th>\n",
       "      <th>item_id</th>\n",
       "      <th>shop_id</th>\n",
       "      <th>date_block_num</th>\n",
       "      <th>item_cnt_month</th>\n",
       "      <th>f__item_cnt_1</th>\n",
       "      <th>f__item_cnt_2</th>\n",
       "      <th>f__item_cnt_3</th>\n",
       "      <th>f__item_cnt_4</th>\n",
       "      <th>f__item_cnt_5</th>\n",
       "      <th>f__item_cnt_6</th>\n",
       "      <th>...</th>\n",
       "      <th>f__mean_item_cnt_month_on_shop_id_subcategory_name_date_block_num_1</th>\n",
       "      <th>f__mean_item_cnt_month_on_shop_id_subcategory_name_date_block_num_2</th>\n",
       "      <th>f__mean_item_cnt_month_on_shop_id_subcategory_name_date_block_num_3</th>\n",
       "      <th>f__rolling_window_20_mean_item_cnt_month_on_item_id_1</th>\n",
       "      <th>f__rolling_window_20_mean_item_cnt_month_on_shop_id_1</th>\n",
       "      <th>f__rolling_window_20_mean_item_cnt_month_on_category_name_1</th>\n",
       "      <th>f__rolling_window_20_mean_item_cnt_month_on_subcategory_name_1</th>\n",
       "      <th>f__rolling_window_20_mean_item_cnt_month_on_item_id_shop_id_1</th>\n",
       "      <th>f__rolling_window_20_mean_item_cnt_month_on_shop_id_category_name_1</th>\n",
       "      <th>f__rolling_window_20_mean_item_cnt_month_on_shop_id_subcategory_name_1</th>\n",
       "    </tr>\n",
       "  </thead>\n",
       "  <tbody>\n",
       "    <tr>\n",
       "      <th>0</th>\n",
       "      <td>5037</td>\n",
       "      <td>5</td>\n",
       "      <td>10</td>\n",
       "      <td>0.0</td>\n",
       "      <td>0.0</td>\n",
       "      <td>0.0</td>\n",
       "      <td>0.0</td>\n",
       "      <td>0.0</td>\n",
       "      <td>0.0</td>\n",
       "      <td>0.0</td>\n",
       "      <td>...</td>\n",
       "      <td>0.0</td>\n",
       "      <td>0.0</td>\n",
       "      <td>0.0</td>\n",
       "      <td>0.0</td>\n",
       "      <td>0.0</td>\n",
       "      <td>0.0</td>\n",
       "      <td>0.0</td>\n",
       "      <td>0.0</td>\n",
       "      <td>0.0</td>\n",
       "      <td>0.0</td>\n",
       "    </tr>\n",
       "    <tr>\n",
       "      <th>1</th>\n",
       "      <td>5037</td>\n",
       "      <td>4</td>\n",
       "      <td>10</td>\n",
       "      <td>0.0</td>\n",
       "      <td>0.0</td>\n",
       "      <td>0.0</td>\n",
       "      <td>0.0</td>\n",
       "      <td>0.0</td>\n",
       "      <td>0.0</td>\n",
       "      <td>0.0</td>\n",
       "      <td>...</td>\n",
       "      <td>0.0</td>\n",
       "      <td>0.0</td>\n",
       "      <td>0.0</td>\n",
       "      <td>0.0</td>\n",
       "      <td>0.0</td>\n",
       "      <td>0.0</td>\n",
       "      <td>0.0</td>\n",
       "      <td>0.0</td>\n",
       "      <td>0.0</td>\n",
       "      <td>0.0</td>\n",
       "    </tr>\n",
       "    <tr>\n",
       "      <th>2</th>\n",
       "      <td>5037</td>\n",
       "      <td>6</td>\n",
       "      <td>10</td>\n",
       "      <td>0.0</td>\n",
       "      <td>0.0</td>\n",
       "      <td>0.0</td>\n",
       "      <td>0.0</td>\n",
       "      <td>0.0</td>\n",
       "      <td>0.0</td>\n",
       "      <td>0.0</td>\n",
       "      <td>...</td>\n",
       "      <td>0.0</td>\n",
       "      <td>0.0</td>\n",
       "      <td>0.0</td>\n",
       "      <td>0.0</td>\n",
       "      <td>0.0</td>\n",
       "      <td>0.0</td>\n",
       "      <td>0.0</td>\n",
       "      <td>0.0</td>\n",
       "      <td>0.0</td>\n",
       "      <td>0.0</td>\n",
       "    </tr>\n",
       "    <tr>\n",
       "      <th>3</th>\n",
       "      <td>5037</td>\n",
       "      <td>3</td>\n",
       "      <td>10</td>\n",
       "      <td>0.0</td>\n",
       "      <td>0.0</td>\n",
       "      <td>0.0</td>\n",
       "      <td>0.0</td>\n",
       "      <td>0.0</td>\n",
       "      <td>0.0</td>\n",
       "      <td>0.0</td>\n",
       "      <td>...</td>\n",
       "      <td>0.0</td>\n",
       "      <td>0.0</td>\n",
       "      <td>0.0</td>\n",
       "      <td>0.0</td>\n",
       "      <td>0.0</td>\n",
       "      <td>0.0</td>\n",
       "      <td>0.0</td>\n",
       "      <td>0.0</td>\n",
       "      <td>0.0</td>\n",
       "      <td>0.0</td>\n",
       "    </tr>\n",
       "    <tr>\n",
       "      <th>4</th>\n",
       "      <td>5037</td>\n",
       "      <td>2</td>\n",
       "      <td>10</td>\n",
       "      <td>0.0</td>\n",
       "      <td>0.0</td>\n",
       "      <td>0.0</td>\n",
       "      <td>0.0</td>\n",
       "      <td>0.0</td>\n",
       "      <td>0.0</td>\n",
       "      <td>0.0</td>\n",
       "      <td>...</td>\n",
       "      <td>0.0</td>\n",
       "      <td>0.0</td>\n",
       "      <td>0.0</td>\n",
       "      <td>0.0</td>\n",
       "      <td>0.0</td>\n",
       "      <td>0.0</td>\n",
       "      <td>0.0</td>\n",
       "      <td>0.0</td>\n",
       "      <td>0.0</td>\n",
       "      <td>0.0</td>\n",
       "    </tr>\n",
       "  </tbody>\n",
       "</table>\n",
       "<p>5 rows × 76 columns</p>\n",
       "</div>"
      ],
      "text/plain": [
       "   item_id  shop_id  date_block_num  item_cnt_month  f__item_cnt_1  \\\n",
       "0     5037        5              10             0.0            0.0   \n",
       "1     5037        4              10             0.0            0.0   \n",
       "2     5037        6              10             0.0            0.0   \n",
       "3     5037        3              10             0.0            0.0   \n",
       "4     5037        2              10             0.0            0.0   \n",
       "\n",
       "   f__item_cnt_2  f__item_cnt_3  f__item_cnt_4  f__item_cnt_5  f__item_cnt_6  \\\n",
       "0            0.0            0.0            0.0            0.0            0.0   \n",
       "1            0.0            0.0            0.0            0.0            0.0   \n",
       "2            0.0            0.0            0.0            0.0            0.0   \n",
       "3            0.0            0.0            0.0            0.0            0.0   \n",
       "4            0.0            0.0            0.0            0.0            0.0   \n",
       "\n",
       "   ...  f__mean_item_cnt_month_on_shop_id_subcategory_name_date_block_num_1  \\\n",
       "0  ...                                                0.0                     \n",
       "1  ...                                                0.0                     \n",
       "2  ...                                                0.0                     \n",
       "3  ...                                                0.0                     \n",
       "4  ...                                                0.0                     \n",
       "\n",
       "   f__mean_item_cnt_month_on_shop_id_subcategory_name_date_block_num_2  \\\n",
       "0                                                0.0                     \n",
       "1                                                0.0                     \n",
       "2                                                0.0                     \n",
       "3                                                0.0                     \n",
       "4                                                0.0                     \n",
       "\n",
       "   f__mean_item_cnt_month_on_shop_id_subcategory_name_date_block_num_3  \\\n",
       "0                                                0.0                     \n",
       "1                                                0.0                     \n",
       "2                                                0.0                     \n",
       "3                                                0.0                     \n",
       "4                                                0.0                     \n",
       "\n",
       "   f__rolling_window_20_mean_item_cnt_month_on_item_id_1  \\\n",
       "0                                                0.0       \n",
       "1                                                0.0       \n",
       "2                                                0.0       \n",
       "3                                                0.0       \n",
       "4                                                0.0       \n",
       "\n",
       "   f__rolling_window_20_mean_item_cnt_month_on_shop_id_1  \\\n",
       "0                                                0.0       \n",
       "1                                                0.0       \n",
       "2                                                0.0       \n",
       "3                                                0.0       \n",
       "4                                                0.0       \n",
       "\n",
       "   f__rolling_window_20_mean_item_cnt_month_on_category_name_1  \\\n",
       "0                                                0.0             \n",
       "1                                                0.0             \n",
       "2                                                0.0             \n",
       "3                                                0.0             \n",
       "4                                                0.0             \n",
       "\n",
       "   f__rolling_window_20_mean_item_cnt_month_on_subcategory_name_1  \\\n",
       "0                                                0.0                \n",
       "1                                                0.0                \n",
       "2                                                0.0                \n",
       "3                                                0.0                \n",
       "4                                                0.0                \n",
       "\n",
       "   f__rolling_window_20_mean_item_cnt_month_on_item_id_shop_id_1  \\\n",
       "0                                                0.0               \n",
       "1                                                0.0               \n",
       "2                                                0.0               \n",
       "3                                                0.0               \n",
       "4                                                0.0               \n",
       "\n",
       "   f__rolling_window_20_mean_item_cnt_month_on_shop_id_category_name_1  \\\n",
       "0                                                0.0                     \n",
       "1                                                0.0                     \n",
       "2                                                0.0                     \n",
       "3                                                0.0                     \n",
       "4                                                0.0                     \n",
       "\n",
       "   f__rolling_window_20_mean_item_cnt_month_on_shop_id_subcategory_name_1  \n",
       "0                                                0.0                       \n",
       "1                                                0.0                       \n",
       "2                                                0.0                       \n",
       "3                                                0.0                       \n",
       "4                                                0.0                       \n",
       "\n",
       "[5 rows x 76 columns]"
      ]
     },
     "execution_count": 11,
     "metadata": {},
     "output_type": "execute_result"
    }
   ],
   "source": [
    "import gc\n",
    "train_set_with_all_means = train_set.copy()\n",
    "for cols in tqdm(mean_encode_cols):\n",
    "    encoding_df = mean_encoding_df(train_set, cols + ['date_block_num'])\n",
    "    encoding_col = [col for col in encoding_df.columns if col.startswith('mean_')]\n",
    "    train_set_with_all_means = add_lagged_features(\n",
    "        train_set_with_all_means, encoding_df, encoding_col,\n",
    "        max_lag=3, index_cols=cols)\n",
    "    del encoding_df\n",
    "    gc.collect()\n",
    "    \n",
    "for cols in tqdm(mean_encode_cols):\n",
    "    encoding_df = rolling_mean_encoding_df(\n",
    "        train_set, cols)\n",
    "    encoding_col = [col for col in encoding_df.columns if col.startswith('rolling_window_')]\n",
    "    train_set_with_all_means = add_lagged_features(\n",
    "        train_set_with_all_means, encoding_df, encoding_col,\n",
    "        max_lag=1, index_cols=cols)\n",
    "    del encoding_df\n",
    "    gc.collect()\n",
    "train_set_with_all_means.head()"
   ]
  },
  {
   "cell_type": "code",
   "execution_count": 12,
   "metadata": {},
   "outputs": [
    {
     "name": "stderr",
     "output_type": "stream",
     "text": [
      "[Parallel(n_jobs=1)]: Using backend SequentialBackend with 1 concurrent workers.\n"
     ]
    },
    {
     "name": "stdout",
     "output_type": "stream",
     "text": [
      "[CV]  ................................................................\n",
      "[CV] ................................................. , total=  25.2s\n",
      "[CV]  ................................................................\n"
     ]
    },
    {
     "name": "stderr",
     "output_type": "stream",
     "text": [
      "[Parallel(n_jobs=1)]: Done   1 out of   1 | elapsed:   40.0s remaining:    0.0s\n"
     ]
    },
    {
     "name": "stdout",
     "output_type": "stream",
     "text": [
      "[CV] ................................................. , total=  23.0s\n",
      "[CV]  ................................................................\n",
      "[CV] ................................................. , total=  23.8s\n"
     ]
    },
    {
     "name": "stderr",
     "output_type": "stream",
     "text": [
      "[Parallel(n_jobs=1)]: Done   3 out of   3 | elapsed:  2.5min finished\n"
     ]
    },
    {
     "data": {
      "text/plain": [
       "{'fit_time': array([24.52456713, 21.68511224, 22.47918677]),\n",
       " 'score_time': array([0.71460915, 1.27430677, 1.29898357]),\n",
       " 'test_score': array([-0.75929485, -0.89783685, -0.87959264]),\n",
       " 'train_score': array([-0.70281605, -0.70237109, -0.71014564])}"
      ]
     },
     "execution_count": 12,
     "metadata": {},
     "output_type": "execute_result"
    }
   ],
   "source": [
    "X_train, y_train = df_to_X_y(train_set_with_all_means)\n",
    "reg = ClippedOutputRegressor(XGBRegressor(n_jobs=-1, verbosity=2, tree_method='gpu_hist', gpu_id=0)) #change to hist if you don't have access to a gpu\n",
    "scores = cross_validate(reg, X=X_train, y=y_train,\n",
    "                        scoring='neg_root_mean_squared_error', verbose=2, \n",
    "                        cv=cv_split, return_train_score=True)\n",
    "scores"
   ]
  },
  {
   "cell_type": "code",
   "execution_count": 13,
   "metadata": {},
   "outputs": [
    {
     "data": {
      "text/plain": [
       "-0.8455747816063504"
      ]
     },
     "execution_count": 13,
     "metadata": {},
     "output_type": "execute_result"
    }
   ],
   "source": [
    "scores['test_score'].mean()"
   ]
  },
  {
   "cell_type": "markdown",
   "metadata": {},
   "source": [
    "Pretty good. Let's turn it in a submission and check how it goes."
   ]
  },
  {
   "cell_type": "code",
   "execution_count": 14,
   "metadata": {
    "collapsed": true,
    "jupyter": {
     "outputs_hidden": true
    }
   },
   "outputs": [
    {
     "data": {
      "application/vnd.jupyter.widget-view+json": {
       "model_id": "8b38c82f30fb4e4c8c95ac6776b9e417",
       "version_major": 2,
       "version_minor": 0
      },
      "text/plain": [
       "HBox(children=(FloatProgress(value=0.0, max=7.0), HTML(value='')))"
      ]
     },
     "metadata": {},
     "output_type": "display_data"
    },
    {
     "data": {
      "application/vnd.jupyter.widget-view+json": {
       "model_id": "df3c90d27df8443083d6651f29b869ba",
       "version_major": 2,
       "version_minor": 0
      },
      "text/plain": [
       "HBox(children=(FloatProgress(value=0.0, max=3.0), HTML(value='')))"
      ]
     },
     "metadata": {},
     "output_type": "display_data"
    },
    {
     "name": "stdout",
     "output_type": "stream",
     "text": [
      "\n"
     ]
    },
    {
     "data": {
      "application/vnd.jupyter.widget-view+json": {
       "model_id": "944bd5c9f914449baec8fb080e092767",
       "version_major": 2,
       "version_minor": 0
      },
      "text/plain": [
       "HBox(children=(FloatProgress(value=0.0, max=3.0), HTML(value='')))"
      ]
     },
     "metadata": {},
     "output_type": "display_data"
    },
    {
     "name": "stdout",
     "output_type": "stream",
     "text": [
      "\n"
     ]
    },
    {
     "data": {
      "application/vnd.jupyter.widget-view+json": {
       "model_id": "50c70d498a2d446399050c859dba286c",
       "version_major": 2,
       "version_minor": 0
      },
      "text/plain": [
       "HBox(children=(FloatProgress(value=0.0, max=3.0), HTML(value='')))"
      ]
     },
     "metadata": {},
     "output_type": "display_data"
    },
    {
     "name": "stdout",
     "output_type": "stream",
     "text": [
      "\n"
     ]
    },
    {
     "data": {
      "application/vnd.jupyter.widget-view+json": {
       "model_id": "05a0caf11289433c8601630837bc0c3f",
       "version_major": 2,
       "version_minor": 0
      },
      "text/plain": [
       "HBox(children=(FloatProgress(value=0.0, max=3.0), HTML(value='')))"
      ]
     },
     "metadata": {},
     "output_type": "display_data"
    },
    {
     "name": "stdout",
     "output_type": "stream",
     "text": [
      "\n"
     ]
    },
    {
     "data": {
      "application/vnd.jupyter.widget-view+json": {
       "model_id": "3bc47bf25cbe4e88a3653f39caadc56d",
       "version_major": 2,
       "version_minor": 0
      },
      "text/plain": [
       "HBox(children=(FloatProgress(value=0.0, max=3.0), HTML(value='')))"
      ]
     },
     "metadata": {},
     "output_type": "display_data"
    },
    {
     "name": "stdout",
     "output_type": "stream",
     "text": [
      "\n"
     ]
    },
    {
     "data": {
      "application/vnd.jupyter.widget-view+json": {
       "model_id": "1b46891143b4454c899982221fc5bbdb",
       "version_major": 2,
       "version_minor": 0
      },
      "text/plain": [
       "HBox(children=(FloatProgress(value=0.0, max=3.0), HTML(value='')))"
      ]
     },
     "metadata": {},
     "output_type": "display_data"
    },
    {
     "name": "stdout",
     "output_type": "stream",
     "text": [
      "\n"
     ]
    },
    {
     "data": {
      "application/vnd.jupyter.widget-view+json": {
       "model_id": "07118e542d4a4ae0ab70ec04c5d8e4ec",
       "version_major": 2,
       "version_minor": 0
      },
      "text/plain": [
       "HBox(children=(FloatProgress(value=0.0, max=3.0), HTML(value='')))"
      ]
     },
     "metadata": {},
     "output_type": "display_data"
    },
    {
     "name": "stdout",
     "output_type": "stream",
     "text": [
      "\n",
      "\n"
     ]
    },
    {
     "data": {
      "application/vnd.jupyter.widget-view+json": {
       "model_id": "30593b21d58c41daaa7fa720a7807304",
       "version_major": 2,
       "version_minor": 0
      },
      "text/plain": [
       "HBox(children=(FloatProgress(value=0.0, max=7.0), HTML(value='')))"
      ]
     },
     "metadata": {},
     "output_type": "display_data"
    },
    {
     "data": {
      "application/vnd.jupyter.widget-view+json": {
       "model_id": "aac61433e3fa4724be9abb372f71fd5c",
       "version_major": 2,
       "version_minor": 0
      },
      "text/plain": [
       "HBox(children=(FloatProgress(value=0.0, max=14.0), HTML(value='')))"
      ]
     },
     "metadata": {},
     "output_type": "display_data"
    },
    {
     "name": "stdout",
     "output_type": "stream",
     "text": [
      "\n"
     ]
    },
    {
     "data": {
      "application/vnd.jupyter.widget-view+json": {
       "model_id": "bf840e3d314b4e2e95683b0c7f121ef8",
       "version_major": 2,
       "version_minor": 0
      },
      "text/plain": [
       "HBox(children=(FloatProgress(value=0.0, max=1.0), HTML(value='')))"
      ]
     },
     "metadata": {},
     "output_type": "display_data"
    },
    {
     "name": "stdout",
     "output_type": "stream",
     "text": [
      "\n"
     ]
    },
    {
     "data": {
      "application/vnd.jupyter.widget-view+json": {
       "model_id": "863aedebbdee40f8a3ce49f313285548",
       "version_major": 2,
       "version_minor": 0
      },
      "text/plain": [
       "HBox(children=(FloatProgress(value=0.0, max=14.0), HTML(value='')))"
      ]
     },
     "metadata": {},
     "output_type": "display_data"
    },
    {
     "name": "stdout",
     "output_type": "stream",
     "text": [
      "\n"
     ]
    },
    {
     "data": {
      "application/vnd.jupyter.widget-view+json": {
       "model_id": "c28168e51ee9415f973678a97b393cf5",
       "version_major": 2,
       "version_minor": 0
      },
      "text/plain": [
       "HBox(children=(FloatProgress(value=0.0, max=1.0), HTML(value='')))"
      ]
     },
     "metadata": {},
     "output_type": "display_data"
    },
    {
     "name": "stdout",
     "output_type": "stream",
     "text": [
      "\n"
     ]
    },
    {
     "data": {
      "application/vnd.jupyter.widget-view+json": {
       "model_id": "882503c224b242f8a46226180a0a51b9",
       "version_major": 2,
       "version_minor": 0
      },
      "text/plain": [
       "HBox(children=(FloatProgress(value=0.0, max=14.0), HTML(value='')))"
      ]
     },
     "metadata": {},
     "output_type": "display_data"
    },
    {
     "name": "stdout",
     "output_type": "stream",
     "text": [
      "\n"
     ]
    },
    {
     "data": {
      "application/vnd.jupyter.widget-view+json": {
       "model_id": "59e3ecc97a424a75a85c0b049eca07fd",
       "version_major": 2,
       "version_minor": 0
      },
      "text/plain": [
       "HBox(children=(FloatProgress(value=0.0, max=1.0), HTML(value='')))"
      ]
     },
     "metadata": {},
     "output_type": "display_data"
    },
    {
     "name": "stdout",
     "output_type": "stream",
     "text": [
      "\n"
     ]
    },
    {
     "data": {
      "application/vnd.jupyter.widget-view+json": {
       "model_id": "502c3d3b59b949389c3316c806cf89a0",
       "version_major": 2,
       "version_minor": 0
      },
      "text/plain": [
       "HBox(children=(FloatProgress(value=0.0, max=14.0), HTML(value='')))"
      ]
     },
     "metadata": {},
     "output_type": "display_data"
    },
    {
     "name": "stdout",
     "output_type": "stream",
     "text": [
      "\n"
     ]
    },
    {
     "data": {
      "application/vnd.jupyter.widget-view+json": {
       "model_id": "8f0f831fdffa4d559a3a8457d7f68d95",
       "version_major": 2,
       "version_minor": 0
      },
      "text/plain": [
       "HBox(children=(FloatProgress(value=0.0, max=1.0), HTML(value='')))"
      ]
     },
     "metadata": {},
     "output_type": "display_data"
    },
    {
     "name": "stdout",
     "output_type": "stream",
     "text": [
      "\n"
     ]
    },
    {
     "data": {
      "application/vnd.jupyter.widget-view+json": {
       "model_id": "e913372c3db04037b2e40a93e4402ee3",
       "version_major": 2,
       "version_minor": 0
      },
      "text/plain": [
       "HBox(children=(FloatProgress(value=0.0, max=14.0), HTML(value='')))"
      ]
     },
     "metadata": {},
     "output_type": "display_data"
    },
    {
     "name": "stdout",
     "output_type": "stream",
     "text": [
      "\n"
     ]
    },
    {
     "data": {
      "application/vnd.jupyter.widget-view+json": {
       "model_id": "c3478f2b683848408623a1ab7f30f4fc",
       "version_major": 2,
       "version_minor": 0
      },
      "text/plain": [
       "HBox(children=(FloatProgress(value=0.0, max=1.0), HTML(value='')))"
      ]
     },
     "metadata": {},
     "output_type": "display_data"
    },
    {
     "name": "stdout",
     "output_type": "stream",
     "text": [
      "\n"
     ]
    },
    {
     "data": {
      "application/vnd.jupyter.widget-view+json": {
       "model_id": "721b580ea6e743bbb5912357210a3fd3",
       "version_major": 2,
       "version_minor": 0
      },
      "text/plain": [
       "HBox(children=(FloatProgress(value=0.0, max=14.0), HTML(value='')))"
      ]
     },
     "metadata": {},
     "output_type": "display_data"
    },
    {
     "name": "stdout",
     "output_type": "stream",
     "text": [
      "\n"
     ]
    },
    {
     "data": {
      "application/vnd.jupyter.widget-view+json": {
       "model_id": "f51deebf5f4348899b0cfc37b2133eec",
       "version_major": 2,
       "version_minor": 0
      },
      "text/plain": [
       "HBox(children=(FloatProgress(value=0.0, max=1.0), HTML(value='')))"
      ]
     },
     "metadata": {},
     "output_type": "display_data"
    },
    {
     "name": "stdout",
     "output_type": "stream",
     "text": [
      "\n"
     ]
    },
    {
     "data": {
      "application/vnd.jupyter.widget-view+json": {
       "model_id": "4154684be52b477f991e841bed3f84ef",
       "version_major": 2,
       "version_minor": 0
      },
      "text/plain": [
       "HBox(children=(FloatProgress(value=0.0, max=14.0), HTML(value='')))"
      ]
     },
     "metadata": {},
     "output_type": "display_data"
    },
    {
     "name": "stdout",
     "output_type": "stream",
     "text": [
      "\n"
     ]
    },
    {
     "data": {
      "application/vnd.jupyter.widget-view+json": {
       "model_id": "3b455612a1c140f4a6f180a41fb704ab",
       "version_major": 2,
       "version_minor": 0
      },
      "text/plain": [
       "HBox(children=(FloatProgress(value=0.0, max=1.0), HTML(value='')))"
      ]
     },
     "metadata": {},
     "output_type": "display_data"
    },
    {
     "name": "stdout",
     "output_type": "stream",
     "text": [
      "\n",
      "\n"
     ]
    }
   ],
   "source": [
    "test_set = pd.read_parquet(os.path.join(PROCESSED_DATA_DIR, 'test-set-features-002.parquet'))\n",
    "test_set_with_all_means = test_set.copy()\n",
    "for cols in tqdm(mean_encode_cols):\n",
    "    encoding_df = mean_encoding_df(train_set, cols + ['date_block_num'])\n",
    "    encoding_col = [col for col in encoding_df.columns if col.startswith('mean_')]\n",
    "    test_set_with_all_means = add_lagged_features(\n",
    "        test_set_with_all_means, encoding_df, encoding_col,\n",
    "        max_lag=3, index_cols=cols)\n",
    "    del encoding_df\n",
    "    gc.collect()\n",
    "    \n",
    "for cols in tqdm(mean_encode_cols):\n",
    "    encoding_df = rolling_mean_encoding_df(\n",
    "        train_set, cols)\n",
    "    encoding_col = [col for col in encoding_df.columns if col.startswith('rolling_window_')]\n",
    "    test_set_with_all_means = add_lagged_features(\n",
    "        test_set_with_all_means, encoding_df, encoding_col,\n",
    "        max_lag=1, index_cols=cols)\n",
    "    del encoding_df\n",
    "    gc.collect()"
   ]
  },
  {
   "cell_type": "code",
   "execution_count": 17,
   "metadata": {},
   "outputs": [],
   "source": [
    "from src.data import df_to_X\n",
    "\n",
    "X_test = df_to_X(test_set_with_all_means)\n",
    "\n",
    "reg.fit(X_train, y_train)\n",
    "\n",
    "test_set['item_cnt_month'] = reg.predict(X_test)\n",
    "test_set[['ID', 'item_cnt_month']].to_csv(os.path.join(TMP_DIR, 'xgb-nb-09-002.csv'), index=False)"
   ]
  },
  {
   "cell_type": "code",
   "execution_count": 18,
   "metadata": {},
   "outputs": [
    {
     "name": "stdout",
     "output_type": "stream",
     "text": [
      "Successfully submitted to Predict Future Sales"
     ]
    },
    {
     "name": "stderr",
     "output_type": "stream",
     "text": [
      "100%|██████████| 3.50M/3.50M [00:10<00:00, 342kB/s] \n"
     ]
    }
   ],
   "source": [
    "%%bash\n",
    "kaggle c submit -f ${TMP_DIR}/xgb-nb-09-002.csv -m 'Default XGB with means' competitive-data-science-predict-future-sales"
   ]
  },
  {
   "cell_type": "markdown",
   "metadata": {},
   "source": [
    "Although there's a visible improvement using all the features here, it's pretty small and costs a lot of extra memory, so I don't know if I'll use it in the final model (the previous submission got 0.97721 and is a passable submission for the class, but still lacks some hyperparam optimization, stacking, etc)."
   ]
  }
 ],
 "metadata": {
  "kernelspec": {
   "display_name": "Python 3",
   "language": "python",
   "name": "python3"
  },
  "language_info": {
   "codemirror_mode": {
    "name": "ipython",
    "version": 3
   },
   "file_extension": ".py",
   "mimetype": "text/x-python",
   "name": "python",
   "nbconvert_exporter": "python",
   "pygments_lexer": "ipython3",
   "version": "3.8.2"
  }
 },
 "nbformat": 4,
 "nbformat_minor": 4
}
