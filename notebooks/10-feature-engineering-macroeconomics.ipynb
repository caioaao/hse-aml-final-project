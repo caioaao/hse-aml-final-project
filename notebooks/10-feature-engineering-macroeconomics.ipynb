{
 "cells": [
  {
   "cell_type": "code",
   "execution_count": 1,
   "metadata": {},
   "outputs": [
    {
     "name": "stdout",
     "output_type": "stream",
     "text": [
      "Versions:\n",
      "  Python: 3.8.2 (default, Jul 16 2020, 14:00:26) \n",
      "[GCC 9.3.0]\n",
      "  pandas: 1.1.1\n",
      "  numpy: 1.19.1\n",
      "  seaborn: 0.10.1\n",
      "  sklearn: 0.23.2\n"
     ]
    }
   ],
   "source": [
    "%load_ext autoreload\n",
    "%autoreload 2\n",
    "\n",
    "import os\n",
    "import sys\n",
    "\n",
    "import pandas as pd\n",
    "import numpy as np\n",
    "import seaborn as sns\n",
    "import matplotlib.pyplot as plt\n",
    "import sklearn\n",
    "import scipy\n",
    "from tqdm.auto import tqdm, trange\n",
    "\n",
    "from src.model import tscv\n",
    "from src.data import add_lagged_features\n",
    "\n",
    "%run constants.py\n",
    "\n",
    "%matplotlib inline\n",
    "print(\"Versions:\")\n",
    "print(\"  Python: %s\" % sys.version)\n",
    "for module in [pd, np, sns, sklearn]:\n",
    "    print(\"  %s: %s\" %(module.__name__, module.__version__))"
   ]
  },
  {
   "cell_type": "markdown",
   "metadata": {},
   "source": [
    "# Economics indicators\n",
    "\n",
    "This is another leak we can exploit. Since we know which month the test set is in we can just use external data for that month. I'll use the following indicators:\n",
    "\n",
    "- Russian rubles to currencies of their major trading partners (euro, chinese yuan, and US dolar)\n",
    "- MOEX index (Moscow Exchange)\n",
    "- Russian inflation rate\n",
    "\n",
    "All of them should affect directly or indirectly the sales.\n",
    "\n",
    "First let's define the months:"
   ]
  },
  {
   "cell_type": "code",
   "execution_count": 8,
   "metadata": {},
   "outputs": [
    {
     "data": {
      "text/plain": [
       "[(datetime.date(2013, 1, 1), datetime.date(2013, 1, 31)),\n",
       " (datetime.date(2013, 2, 1), datetime.date(2013, 2, 28)),\n",
       " (datetime.date(2013, 3, 1), datetime.date(2013, 3, 31)),\n",
       " (datetime.date(2013, 4, 1), datetime.date(2013, 4, 30)),\n",
       " (datetime.date(2013, 5, 1), datetime.date(2013, 5, 31)),\n",
       " (datetime.date(2013, 6, 1), datetime.date(2013, 6, 30)),\n",
       " (datetime.date(2013, 7, 1), datetime.date(2013, 7, 31)),\n",
       " (datetime.date(2013, 8, 1), datetime.date(2013, 8, 31)),\n",
       " (datetime.date(2013, 9, 1), datetime.date(2013, 9, 30)),\n",
       " (datetime.date(2013, 10, 1), datetime.date(2013, 10, 31)),\n",
       " (datetime.date(2013, 11, 1), datetime.date(2013, 11, 30)),\n",
       " (datetime.date(2013, 12, 1), datetime.date(2013, 12, 31)),\n",
       " (datetime.date(2014, 1, 1), datetime.date(2014, 1, 31)),\n",
       " (datetime.date(2014, 2, 1), datetime.date(2014, 2, 28)),\n",
       " (datetime.date(2014, 3, 1), datetime.date(2014, 3, 31)),\n",
       " (datetime.date(2014, 4, 1), datetime.date(2014, 4, 30)),\n",
       " (datetime.date(2014, 5, 1), datetime.date(2014, 5, 31)),\n",
       " (datetime.date(2014, 6, 1), datetime.date(2014, 6, 30)),\n",
       " (datetime.date(2014, 7, 1), datetime.date(2014, 7, 31)),\n",
       " (datetime.date(2014, 8, 1), datetime.date(2014, 8, 31)),\n",
       " (datetime.date(2014, 9, 1), datetime.date(2014, 9, 30)),\n",
       " (datetime.date(2014, 10, 1), datetime.date(2014, 10, 31)),\n",
       " (datetime.date(2014, 11, 1), datetime.date(2014, 11, 30)),\n",
       " (datetime.date(2014, 12, 1), datetime.date(2014, 12, 31)),\n",
       " (datetime.date(2015, 1, 1), datetime.date(2015, 1, 31)),\n",
       " (datetime.date(2015, 2, 1), datetime.date(2015, 2, 28)),\n",
       " (datetime.date(2015, 3, 1), datetime.date(2015, 3, 31)),\n",
       " (datetime.date(2015, 4, 1), datetime.date(2015, 4, 30)),\n",
       " (datetime.date(2015, 5, 1), datetime.date(2015, 5, 31)),\n",
       " (datetime.date(2015, 6, 1), datetime.date(2015, 6, 30)),\n",
       " (datetime.date(2015, 7, 1), datetime.date(2015, 7, 31)),\n",
       " (datetime.date(2015, 8, 1), datetime.date(2015, 8, 31)),\n",
       " (datetime.date(2015, 9, 1), datetime.date(2015, 9, 30)),\n",
       " (datetime.date(2015, 10, 1), datetime.date(2015, 10, 31)),\n",
       " (datetime.date(2015, 11, 1), datetime.date(2015, 11, 30))]"
      ]
     },
     "execution_count": 8,
     "metadata": {},
     "output_type": "execute_result"
    }
   ],
   "source": [
    "import datetime\n",
    "import calendar\n",
    "def next_month(m):\n",
    "    _, month_end = m\n",
    "    first_day = month_end + datetime.timedelta(days=1)\n",
    "    return (first_day, first_day.replace(day=calendar.monthrange(first_day.year, first_day.month)[1]))\n",
    "\n",
    "first_month = (datetime.date(2013, 1, 1), datetime.date(2013, 1, 31))\n",
    "last_month = first_month\n",
    "months = [first_month]\n",
    "for i in range(1,35):\n",
    "    last_month = next_month(last_month)\n",
    "    months.append(last_month)\n",
    "months"
   ]
  },
  {
   "cell_type": "markdown",
   "metadata": {},
   "source": [
    "Now to fetch market indexes I'll use [yfinance library](https://pypi.org/project/yfinance/)"
   ]
  },
  {
   "cell_type": "code",
   "execution_count": 9,
   "metadata": {},
   "outputs": [
    {
     "data": {
      "text/html": [
       "<div>\n",
       "<style scoped>\n",
       "    .dataframe tbody tr th:only-of-type {\n",
       "        vertical-align: middle;\n",
       "    }\n",
       "\n",
       "    .dataframe tbody tr th {\n",
       "        vertical-align: top;\n",
       "    }\n",
       "\n",
       "    .dataframe thead th {\n",
       "        text-align: right;\n",
       "    }\n",
       "</style>\n",
       "<table border=\"1\" class=\"dataframe\">\n",
       "  <thead>\n",
       "    <tr style=\"text-align: right;\">\n",
       "      <th></th>\n",
       "      <th>Open</th>\n",
       "      <th>High</th>\n",
       "      <th>Low</th>\n",
       "      <th>Close</th>\n",
       "      <th>Volume</th>\n",
       "      <th>Dividends</th>\n",
       "      <th>Stock Splits</th>\n",
       "    </tr>\n",
       "  </thead>\n",
       "  <tbody>\n",
       "    <tr>\n",
       "      <th>count</th>\n",
       "      <td>33.000000</td>\n",
       "      <td>33.000000</td>\n",
       "      <td>33.000000</td>\n",
       "      <td>33.000000</td>\n",
       "      <td>33.0</td>\n",
       "      <td>33.0</td>\n",
       "      <td>33.0</td>\n",
       "    </tr>\n",
       "    <tr>\n",
       "      <th>mean</th>\n",
       "      <td>1502.956667</td>\n",
       "      <td>1572.121515</td>\n",
       "      <td>1444.673333</td>\n",
       "      <td>1510.738788</td>\n",
       "      <td>0.0</td>\n",
       "      <td>0.0</td>\n",
       "      <td>0.0</td>\n",
       "    </tr>\n",
       "    <tr>\n",
       "      <th>std</th>\n",
       "      <td>127.848997</td>\n",
       "      <td>142.924084</td>\n",
       "      <td>132.229980</td>\n",
       "      <td>136.920868</td>\n",
       "      <td>0.0</td>\n",
       "      <td>0.0</td>\n",
       "      <td>0.0</td>\n",
       "    </tr>\n",
       "    <tr>\n",
       "      <th>min</th>\n",
       "      <td>1304.930000</td>\n",
       "      <td>1345.480000</td>\n",
       "      <td>1182.890000</td>\n",
       "      <td>1306.010000</td>\n",
       "      <td>0.0</td>\n",
       "      <td>0.0</td>\n",
       "      <td>0.0</td>\n",
       "    </tr>\n",
       "    <tr>\n",
       "      <th>25%</th>\n",
       "      <td>1401.340000</td>\n",
       "      <td>1469.400000</td>\n",
       "      <td>1343.990000</td>\n",
       "      <td>1400.710000</td>\n",
       "      <td>0.0</td>\n",
       "      <td>0.0</td>\n",
       "      <td>0.0</td>\n",
       "    </tr>\n",
       "    <tr>\n",
       "      <th>50%</th>\n",
       "      <td>1473.540000</td>\n",
       "      <td>1518.120000</td>\n",
       "      <td>1429.280000</td>\n",
       "      <td>1476.380000</td>\n",
       "      <td>0.0</td>\n",
       "      <td>0.0</td>\n",
       "      <td>0.0</td>\n",
       "    </tr>\n",
       "    <tr>\n",
       "      <th>75%</th>\n",
       "      <td>1625.210000</td>\n",
       "      <td>1706.290000</td>\n",
       "      <td>1570.460000</td>\n",
       "      <td>1642.970000</td>\n",
       "      <td>0.0</td>\n",
       "      <td>0.0</td>\n",
       "      <td>0.0</td>\n",
       "    </tr>\n",
       "    <tr>\n",
       "      <th>max</th>\n",
       "      <td>1759.250000</td>\n",
       "      <td>1873.530000</td>\n",
       "      <td>1701.250000</td>\n",
       "      <td>1771.050000</td>\n",
       "      <td>0.0</td>\n",
       "      <td>0.0</td>\n",
       "      <td>0.0</td>\n",
       "    </tr>\n",
       "  </tbody>\n",
       "</table>\n",
       "</div>"
      ],
      "text/plain": [
       "              Open         High          Low        Close  Volume  Dividends  \\\n",
       "count    33.000000    33.000000    33.000000    33.000000    33.0       33.0   \n",
       "mean   1502.956667  1572.121515  1444.673333  1510.738788     0.0        0.0   \n",
       "std     127.848997   142.924084   132.229980   136.920868     0.0        0.0   \n",
       "min    1304.930000  1345.480000  1182.890000  1306.010000     0.0        0.0   \n",
       "25%    1401.340000  1469.400000  1343.990000  1400.710000     0.0        0.0   \n",
       "50%    1473.540000  1518.120000  1429.280000  1476.380000     0.0        0.0   \n",
       "75%    1625.210000  1706.290000  1570.460000  1642.970000     0.0        0.0   \n",
       "max    1759.250000  1873.530000  1701.250000  1771.050000     0.0        0.0   \n",
       "\n",
       "       Stock Splits  \n",
       "count          33.0  \n",
       "mean            0.0  \n",
       "std             0.0  \n",
       "min             0.0  \n",
       "25%             0.0  \n",
       "50%             0.0  \n",
       "75%             0.0  \n",
       "max             0.0  "
      ]
     },
     "execution_count": 9,
     "metadata": {},
     "output_type": "execute_result"
    }
   ],
   "source": [
    "from yfinance import Ticker\n",
    "\n",
    "moex = Ticker('IMOEX.ME').history(start=first_month[0], end=last_month[1], interval='1mo')\n",
    "moex.describe()"
   ]
  },
  {
   "cell_type": "code",
   "execution_count": 53,
   "metadata": {},
   "outputs": [
    {
     "data": {
      "text/html": [
       "<div>\n",
       "<style scoped>\n",
       "    .dataframe tbody tr th:only-of-type {\n",
       "        vertical-align: middle;\n",
       "    }\n",
       "\n",
       "    .dataframe tbody tr th {\n",
       "        vertical-align: top;\n",
       "    }\n",
       "\n",
       "    .dataframe thead th {\n",
       "        text-align: right;\n",
       "    }\n",
       "</style>\n",
       "<table border=\"1\" class=\"dataframe\">\n",
       "  <thead>\n",
       "    <tr style=\"text-align: right;\">\n",
       "      <th></th>\n",
       "      <th>Open</th>\n",
       "      <th>High</th>\n",
       "      <th>Low</th>\n",
       "      <th>Close</th>\n",
       "      <th>Volume</th>\n",
       "      <th>Dividends</th>\n",
       "      <th>Stock Splits</th>\n",
       "    </tr>\n",
       "    <tr>\n",
       "      <th>Date</th>\n",
       "      <th></th>\n",
       "      <th></th>\n",
       "      <th></th>\n",
       "      <th></th>\n",
       "      <th></th>\n",
       "      <th></th>\n",
       "      <th></th>\n",
       "    </tr>\n",
       "  </thead>\n",
       "  <tbody>\n",
       "    <tr>\n",
       "      <th>2013-03-01</th>\n",
       "      <td>1473.54</td>\n",
       "      <td>1506.42</td>\n",
       "      <td>1416.78</td>\n",
       "      <td>1436.62</td>\n",
       "      <td>0</td>\n",
       "      <td>0</td>\n",
       "      <td>0</td>\n",
       "    </tr>\n",
       "    <tr>\n",
       "      <th>2013-04-01</th>\n",
       "      <td>1428.29</td>\n",
       "      <td>1432.37</td>\n",
       "      <td>1334.52</td>\n",
       "      <td>1386.69</td>\n",
       "      <td>0</td>\n",
       "      <td>0</td>\n",
       "      <td>0</td>\n",
       "    </tr>\n",
       "    <tr>\n",
       "      <th>2013-05-01</th>\n",
       "      <td>1377.45</td>\n",
       "      <td>1449.62</td>\n",
       "      <td>1343.99</td>\n",
       "      <td>1343.99</td>\n",
       "      <td>0</td>\n",
       "      <td>0</td>\n",
       "      <td>0</td>\n",
       "    </tr>\n",
       "    <tr>\n",
       "      <th>2013-06-01</th>\n",
       "      <td>1337.52</td>\n",
       "      <td>1345.48</td>\n",
       "      <td>1279.55</td>\n",
       "      <td>1331.24</td>\n",
       "      <td>0</td>\n",
       "      <td>0</td>\n",
       "      <td>0</td>\n",
       "    </tr>\n",
       "    <tr>\n",
       "      <th>2013-07-01</th>\n",
       "      <td>1334.44</td>\n",
       "      <td>1432.81</td>\n",
       "      <td>1332.26</td>\n",
       "      <td>1377.60</td>\n",
       "      <td>0</td>\n",
       "      <td>0</td>\n",
       "      <td>0</td>\n",
       "    </tr>\n",
       "  </tbody>\n",
       "</table>\n",
       "</div>"
      ],
      "text/plain": [
       "               Open     High      Low    Close  Volume  Dividends  \\\n",
       "Date                                                                \n",
       "2013-03-01  1473.54  1506.42  1416.78  1436.62       0          0   \n",
       "2013-04-01  1428.29  1432.37  1334.52  1386.69       0          0   \n",
       "2013-05-01  1377.45  1449.62  1343.99  1343.99       0          0   \n",
       "2013-06-01  1337.52  1345.48  1279.55  1331.24       0          0   \n",
       "2013-07-01  1334.44  1432.81  1332.26  1377.60       0          0   \n",
       "\n",
       "            Stock Splits  \n",
       "Date                      \n",
       "2013-03-01             0  \n",
       "2013-04-01             0  \n",
       "2013-05-01             0  \n",
       "2013-06-01             0  \n",
       "2013-07-01             0  "
      ]
     },
     "execution_count": 53,
     "metadata": {},
     "output_type": "execute_result"
    }
   ],
   "source": [
    "moex.head()"
   ]
  },
  {
   "cell_type": "markdown",
   "metadata": {},
   "source": [
    "Unfortunately it starts on 03-01. Anyway, let's reformat this dataset."
   ]
  },
  {
   "cell_type": "code",
   "execution_count": 10,
   "metadata": {},
   "outputs": [
    {
     "data": {
      "text/html": [
       "<div>\n",
       "<style scoped>\n",
       "    .dataframe tbody tr th:only-of-type {\n",
       "        vertical-align: middle;\n",
       "    }\n",
       "\n",
       "    .dataframe tbody tr th {\n",
       "        vertical-align: top;\n",
       "    }\n",
       "\n",
       "    .dataframe thead th {\n",
       "        text-align: right;\n",
       "    }\n",
       "</style>\n",
       "<table border=\"1\" class=\"dataframe\">\n",
       "  <thead>\n",
       "    <tr style=\"text-align: right;\">\n",
       "      <th></th>\n",
       "      <th>MOEX_open</th>\n",
       "      <th>MOEX_high</th>\n",
       "      <th>MOEX_low</th>\n",
       "      <th>MOEX_close</th>\n",
       "      <th>date_block_num</th>\n",
       "    </tr>\n",
       "  </thead>\n",
       "  <tbody>\n",
       "    <tr>\n",
       "      <th>0</th>\n",
       "      <td>1473.54</td>\n",
       "      <td>1506.42</td>\n",
       "      <td>1416.78</td>\n",
       "      <td>1436.62</td>\n",
       "      <td>2</td>\n",
       "    </tr>\n",
       "    <tr>\n",
       "      <th>1</th>\n",
       "      <td>1428.29</td>\n",
       "      <td>1432.37</td>\n",
       "      <td>1334.52</td>\n",
       "      <td>1386.69</td>\n",
       "      <td>3</td>\n",
       "    </tr>\n",
       "    <tr>\n",
       "      <th>2</th>\n",
       "      <td>1377.45</td>\n",
       "      <td>1449.62</td>\n",
       "      <td>1343.99</td>\n",
       "      <td>1343.99</td>\n",
       "      <td>4</td>\n",
       "    </tr>\n",
       "    <tr>\n",
       "      <th>3</th>\n",
       "      <td>1337.52</td>\n",
       "      <td>1345.48</td>\n",
       "      <td>1279.55</td>\n",
       "      <td>1331.24</td>\n",
       "      <td>5</td>\n",
       "    </tr>\n",
       "    <tr>\n",
       "      <th>4</th>\n",
       "      <td>1334.44</td>\n",
       "      <td>1432.81</td>\n",
       "      <td>1332.26</td>\n",
       "      <td>1377.60</td>\n",
       "      <td>6</td>\n",
       "    </tr>\n",
       "  </tbody>\n",
       "</table>\n",
       "</div>"
      ],
      "text/plain": [
       "   MOEX_open  MOEX_high  MOEX_low  MOEX_close  date_block_num\n",
       "0    1473.54    1506.42   1416.78     1436.62               2\n",
       "1    1428.29    1432.37   1334.52     1386.69               3\n",
       "2    1377.45    1449.62   1343.99     1343.99               4\n",
       "3    1337.52    1345.48   1279.55     1331.24               5\n",
       "4    1334.44    1432.81   1332.26     1377.60               6"
      ]
     },
     "execution_count": 10,
     "metadata": {},
     "output_type": "execute_result"
    }
   ],
   "source": [
    "moex = moex.reset_index().drop(columns=['Date', 'Volume', 'Dividends', 'Stock Splits'])\n",
    "moex.rename(columns=lambda x: 'MOEX_%s' % x.lower(), inplace=True)\n",
    "moex['date_block_num'] = np.arange(2, 35)\n",
    "moex.head()"
   ]
  },
  {
   "cell_type": "markdown",
   "metadata": {},
   "source": [
    "And for currency quotes I'll use [forex-python](https://forex-python.readthedocs.io/en/latest/usage.html)"
   ]
  },
  {
   "cell_type": "code",
   "execution_count": 11,
   "metadata": {},
   "outputs": [
    {
     "data": {
      "text/plain": [
       "4.9058474339"
      ]
     },
     "execution_count": 11,
     "metadata": {},
     "output_type": "execute_result"
    }
   ],
   "source": [
    "from forex_python.converter import CurrencyRates\n",
    "forex_src = CurrencyRates()\n",
    "forex_src.get_rate('CNY', 'RUB', date_obj=first_month[0])"
   ]
  },
  {
   "cell_type": "code",
   "execution_count": 12,
   "metadata": {},
   "outputs": [
    {
     "data": {
      "application/vnd.jupyter.widget-view+json": {
       "model_id": "838997813b8e4d3182fa9b9a5c5a6668",
       "version_major": 2,
       "version_minor": 0
      },
      "text/plain": [
       "HBox(children=(FloatProgress(value=0.0, max=35.0), HTML(value='')))"
      ]
     },
     "metadata": {},
     "output_type": "display_data"
    },
    {
     "name": "stdout",
     "output_type": "stream",
     "text": [
      "\n"
     ]
    },
    {
     "data": {
      "text/html": [
       "<div>\n",
       "<style scoped>\n",
       "    .dataframe tbody tr th:only-of-type {\n",
       "        vertical-align: middle;\n",
       "    }\n",
       "\n",
       "    .dataframe tbody tr th {\n",
       "        vertical-align: top;\n",
       "    }\n",
       "\n",
       "    .dataframe thead th {\n",
       "        text-align: right;\n",
       "    }\n",
       "</style>\n",
       "<table border=\"1\" class=\"dataframe\">\n",
       "  <thead>\n",
       "    <tr style=\"text-align: right;\">\n",
       "      <th></th>\n",
       "      <th>date_block_num</th>\n",
       "      <th>CNYRUB_open</th>\n",
       "      <th>CNYRUB_close</th>\n",
       "    </tr>\n",
       "  </thead>\n",
       "  <tbody>\n",
       "    <tr>\n",
       "      <th>count</th>\n",
       "      <td>35.000000</td>\n",
       "      <td>35.000000</td>\n",
       "      <td>35.000000</td>\n",
       "    </tr>\n",
       "    <tr>\n",
       "      <th>mean</th>\n",
       "      <td>17.000000</td>\n",
       "      <td>6.912036</td>\n",
       "      <td>7.051546</td>\n",
       "    </tr>\n",
       "    <tr>\n",
       "      <th>std</th>\n",
       "      <td>10.246951</td>\n",
       "      <td>2.055718</td>\n",
       "      <td>2.108321</td>\n",
       "    </tr>\n",
       "    <tr>\n",
       "      <th>min</th>\n",
       "      <td>0.000000</td>\n",
       "      <td>4.814853</td>\n",
       "      <td>4.838964</td>\n",
       "    </tr>\n",
       "    <tr>\n",
       "      <th>25%</th>\n",
       "      <td>8.500000</td>\n",
       "      <td>5.386638</td>\n",
       "      <td>5.403534</td>\n",
       "    </tr>\n",
       "    <tr>\n",
       "      <th>50%</th>\n",
       "      <td>17.000000</td>\n",
       "      <td>5.794670</td>\n",
       "      <td>5.828424</td>\n",
       "    </tr>\n",
       "    <tr>\n",
       "      <th>75%</th>\n",
       "      <td>25.500000</td>\n",
       "      <td>8.764054</td>\n",
       "      <td>9.174595</td>\n",
       "    </tr>\n",
       "    <tr>\n",
       "      <th>max</th>\n",
       "      <td>34.000000</td>\n",
       "      <td>11.314571</td>\n",
       "      <td>11.314571</td>\n",
       "    </tr>\n",
       "  </tbody>\n",
       "</table>\n",
       "</div>"
      ],
      "text/plain": [
       "       date_block_num  CNYRUB_open  CNYRUB_close\n",
       "count       35.000000    35.000000     35.000000\n",
       "mean        17.000000     6.912036      7.051546\n",
       "std         10.246951     2.055718      2.108321\n",
       "min          0.000000     4.814853      4.838964\n",
       "25%          8.500000     5.386638      5.403534\n",
       "50%         17.000000     5.794670      5.828424\n",
       "75%         25.500000     8.764054      9.174595\n",
       "max         34.000000    11.314571     11.314571"
      ]
     },
     "execution_count": 12,
     "metadata": {},
     "output_type": "execute_result"
    }
   ],
   "source": [
    "import calendar\n",
    "\n",
    "def build_forex_df(quote, base):\n",
    "    open_prices = []\n",
    "    close_prices = []\n",
    "    for beg_month, end_month in tqdm(months):\n",
    "        open_prices.append(forex_src.get_rate(quote, base, date_obj=beg_month))\n",
    "        close_prices.append(forex_src.get_rate(quote, base, date_obj=end_month))\n",
    "    return pd.DataFrame({'date_block_num': range(0, 35),\n",
    "                        '%s%s_open' % (quote, base): open_prices,\n",
    "                        '%s%s_close' % (quote, base): close_prices})\n",
    "\n",
    "cny_rub = build_forex_df('CNY', 'RUB')\n",
    "cny_rub.describe()"
   ]
  },
  {
   "cell_type": "code",
   "execution_count": 13,
   "metadata": {},
   "outputs": [
    {
     "data": {
      "application/vnd.jupyter.widget-view+json": {
       "model_id": "4b22c24148f04ea0bd14115885e8dcc6",
       "version_major": 2,
       "version_minor": 0
      },
      "text/plain": [
       "HBox(children=(FloatProgress(value=0.0, max=35.0), HTML(value='')))"
      ]
     },
     "metadata": {},
     "output_type": "display_data"
    },
    {
     "name": "stdout",
     "output_type": "stream",
     "text": [
      "\n"
     ]
    },
    {
     "data": {
      "application/vnd.jupyter.widget-view+json": {
       "model_id": "d4466f66442941d9922d3d8b6b17afde",
       "version_major": 2,
       "version_minor": 0
      },
      "text/plain": [
       "HBox(children=(FloatProgress(value=0.0, max=35.0), HTML(value='')))"
      ]
     },
     "metadata": {},
     "output_type": "display_data"
    },
    {
     "name": "stdout",
     "output_type": "stream",
     "text": [
      "\n"
     ]
    }
   ],
   "source": [
    "usd_rub = build_forex_df('USD', 'RUB')\n",
    "eur_rub = build_forex_df('EUR', 'RUB')"
   ]
  },
  {
   "cell_type": "markdown",
   "metadata": {},
   "source": [
    "Great. Now let's merge everything into one df and evaluate them."
   ]
  },
  {
   "cell_type": "code",
   "execution_count": 14,
   "metadata": {},
   "outputs": [
    {
     "data": {
      "text/html": [
       "<div>\n",
       "<style scoped>\n",
       "    .dataframe tbody tr th:only-of-type {\n",
       "        vertical-align: middle;\n",
       "    }\n",
       "\n",
       "    .dataframe tbody tr th {\n",
       "        vertical-align: top;\n",
       "    }\n",
       "\n",
       "    .dataframe thead th {\n",
       "        text-align: right;\n",
       "    }\n",
       "</style>\n",
       "<table border=\"1\" class=\"dataframe\">\n",
       "  <thead>\n",
       "    <tr style=\"text-align: right;\">\n",
       "      <th></th>\n",
       "      <th>MOEX_open</th>\n",
       "      <th>MOEX_high</th>\n",
       "      <th>MOEX_low</th>\n",
       "      <th>MOEX_close</th>\n",
       "      <th>date_block_num</th>\n",
       "      <th>CNYRUB_open</th>\n",
       "      <th>CNYRUB_close</th>\n",
       "      <th>USDRUB_open</th>\n",
       "      <th>USDRUB_close</th>\n",
       "      <th>EURRUB_open</th>\n",
       "      <th>EURRUB_close</th>\n",
       "    </tr>\n",
       "  </thead>\n",
       "  <tbody>\n",
       "    <tr>\n",
       "      <th>0</th>\n",
       "      <td>NaN</td>\n",
       "      <td>NaN</td>\n",
       "      <td>NaN</td>\n",
       "      <td>NaN</td>\n",
       "      <td>0</td>\n",
       "      <td>4.905847</td>\n",
       "      <td>4.838964</td>\n",
       "      <td>30.566545</td>\n",
       "      <td>30.093358</td>\n",
       "      <td>40.3295</td>\n",
       "      <td>40.7765</td>\n",
       "    </tr>\n",
       "    <tr>\n",
       "      <th>1</th>\n",
       "      <td>NaN</td>\n",
       "      <td>NaN</td>\n",
       "      <td>NaN</td>\n",
       "      <td>NaN</td>\n",
       "      <td>1</td>\n",
       "      <td>4.814853</td>\n",
       "      <td>4.904956</td>\n",
       "      <td>29.983436</td>\n",
       "      <td>30.530353</td>\n",
       "      <td>40.9094</td>\n",
       "      <td>40.0833</td>\n",
       "    </tr>\n",
       "    <tr>\n",
       "      <th>2</th>\n",
       "      <td>1473.54</td>\n",
       "      <td>1506.42</td>\n",
       "      <td>1416.78</td>\n",
       "      <td>1436.62</td>\n",
       "      <td>2</td>\n",
       "      <td>4.940797</td>\n",
       "      <td>4.995188</td>\n",
       "      <td>30.750000</td>\n",
       "      <td>31.051699</td>\n",
       "      <td>39.9750</td>\n",
       "      <td>39.7617</td>\n",
       "    </tr>\n",
       "    <tr>\n",
       "      <th>3</th>\n",
       "      <td>1428.29</td>\n",
       "      <td>1432.37</td>\n",
       "      <td>1334.52</td>\n",
       "      <td>1386.69</td>\n",
       "      <td>3</td>\n",
       "      <td>4.995188</td>\n",
       "      <td>5.048749</td>\n",
       "      <td>31.051699</td>\n",
       "      <td>31.128672</td>\n",
       "      <td>39.7617</td>\n",
       "      <td>40.6914</td>\n",
       "    </tr>\n",
       "    <tr>\n",
       "      <th>4</th>\n",
       "      <td>1377.45</td>\n",
       "      <td>1449.62</td>\n",
       "      <td>1343.99</td>\n",
       "      <td>1343.99</td>\n",
       "      <td>4</td>\n",
       "      <td>5.048749</td>\n",
       "      <td>5.193698</td>\n",
       "      <td>31.128672</td>\n",
       "      <td>31.862217</td>\n",
       "      <td>40.6914</td>\n",
       "      <td>41.4400</td>\n",
       "    </tr>\n",
       "  </tbody>\n",
       "</table>\n",
       "</div>"
      ],
      "text/plain": [
       "   MOEX_open  MOEX_high  MOEX_low  MOEX_close  date_block_num  CNYRUB_open  \\\n",
       "0        NaN        NaN       NaN         NaN               0     4.905847   \n",
       "1        NaN        NaN       NaN         NaN               1     4.814853   \n",
       "2    1473.54    1506.42   1416.78     1436.62               2     4.940797   \n",
       "3    1428.29    1432.37   1334.52     1386.69               3     4.995188   \n",
       "4    1377.45    1449.62   1343.99     1343.99               4     5.048749   \n",
       "\n",
       "   CNYRUB_close  USDRUB_open  USDRUB_close  EURRUB_open  EURRUB_close  \n",
       "0      4.838964    30.566545     30.093358      40.3295       40.7765  \n",
       "1      4.904956    29.983436     30.530353      40.9094       40.0833  \n",
       "2      4.995188    30.750000     31.051699      39.9750       39.7617  \n",
       "3      5.048749    31.051699     31.128672      39.7617       40.6914  \n",
       "4      5.193698    31.128672     31.862217      40.6914       41.4400  "
      ]
     },
     "execution_count": 14,
     "metadata": {},
     "output_type": "execute_result"
    }
   ],
   "source": [
    "macros_history = pd.merge(moex, cny_rub, on='date_block_num', how='right', sort=False)\n",
    "macros_history = macros_history.merge(usd_rub, on='date_block_num', how='left', sort=False)\n",
    "macros_history = macros_history.merge(eur_rub, on='date_block_num', how='left', sort=False)\n",
    "macros_history.head()"
   ]
  },
  {
   "cell_type": "code",
   "execution_count": 2,
   "metadata": {},
   "outputs": [],
   "source": [
    "from src.data import add_lagged_features\n",
    "\n",
    "train_set = pd.read_parquet(os.path.join(PROCESSED_DATA_DIR, 'train-set-features-001.parquet'))"
   ]
  },
  {
   "cell_type": "code",
   "execution_count": 70,
   "metadata": {},
   "outputs": [
    {
     "data": {
      "application/vnd.jupyter.widget-view+json": {
       "model_id": "cfa850d974974a028b42d28d7bd2f902",
       "version_major": 2,
       "version_minor": 0
      },
      "text/plain": [
       "HBox(children=(FloatProgress(value=0.0, max=5.0), HTML(value='')))"
      ]
     },
     "metadata": {},
     "output_type": "display_data"
    },
    {
     "name": "stdout",
     "output_type": "stream",
     "text": [
      "\n"
     ]
    }
   ],
   "source": [
    "train_set_macros = add_lagged_features(train_set, macros_history, ['MOEX_open', 'MOEX_high', 'MOEX_low', 'MOEX_close',\n",
    "                                                                   'CNYRUB_open', 'CNYRUB_close',\n",
    "                                                                   'USDRUB_open', 'USDRUB_close',\n",
    "                                                                   'EURRUB_open', 'EURRUB_close'],\n",
    "                                       max_lag=5, index_cols=[])"
   ]
  },
  {
   "cell_type": "code",
   "execution_count": 62,
   "metadata": {},
   "outputs": [
    {
     "data": {
      "text/html": [
       "<div>\n",
       "<style scoped>\n",
       "    .dataframe tbody tr th:only-of-type {\n",
       "        vertical-align: middle;\n",
       "    }\n",
       "\n",
       "    .dataframe tbody tr th {\n",
       "        vertical-align: top;\n",
       "    }\n",
       "\n",
       "    .dataframe thead th {\n",
       "        text-align: right;\n",
       "    }\n",
       "</style>\n",
       "<table border=\"1\" class=\"dataframe\">\n",
       "  <thead>\n",
       "    <tr style=\"text-align: right;\">\n",
       "      <th></th>\n",
       "      <th>item_id</th>\n",
       "      <th>shop_id</th>\n",
       "      <th>date_block_num</th>\n",
       "      <th>item_cnt_month</th>\n",
       "      <th>f__MOEX_open_1</th>\n",
       "      <th>f__MOEX_high_1</th>\n",
       "      <th>f__MOEX_low_1</th>\n",
       "      <th>f__MOEX_close_1</th>\n",
       "      <th>f__CNYRUB_open_1</th>\n",
       "      <th>f__CNYRUB_close_1</th>\n",
       "      <th>...</th>\n",
       "      <th>f__MOEX_open_5</th>\n",
       "      <th>f__MOEX_high_5</th>\n",
       "      <th>f__MOEX_low_5</th>\n",
       "      <th>f__MOEX_close_5</th>\n",
       "      <th>f__CNYRUB_open_5</th>\n",
       "      <th>f__CNYRUB_close_5</th>\n",
       "      <th>f__USDRUB_open_5</th>\n",
       "      <th>f__USDRUB_close_5</th>\n",
       "      <th>f__EURRUB_open_5</th>\n",
       "      <th>f__EURRUB_close_5</th>\n",
       "    </tr>\n",
       "  </thead>\n",
       "  <tbody>\n",
       "    <tr>\n",
       "      <th>0</th>\n",
       "      <td>5037</td>\n",
       "      <td>5</td>\n",
       "      <td>10</td>\n",
       "      <td>0.0</td>\n",
       "      <td>1472.45</td>\n",
       "      <td>1538.14</td>\n",
       "      <td>1452.26</td>\n",
       "      <td>1509.62</td>\n",
       "      <td>5.261293</td>\n",
       "      <td>5.267504</td>\n",
       "      <td>...</td>\n",
       "      <td>1337.52</td>\n",
       "      <td>1345.48</td>\n",
       "      <td>1279.55</td>\n",
       "      <td>1331.24</td>\n",
       "      <td>5.193698</td>\n",
       "      <td>5.336946</td>\n",
       "      <td>31.862217</td>\n",
       "      <td>32.756116</td>\n",
       "      <td>41.44</td>\n",
       "      <td>42.845</td>\n",
       "    </tr>\n",
       "    <tr>\n",
       "      <th>1</th>\n",
       "      <td>5320</td>\n",
       "      <td>5</td>\n",
       "      <td>10</td>\n",
       "      <td>0.0</td>\n",
       "      <td>1472.45</td>\n",
       "      <td>1538.14</td>\n",
       "      <td>1452.26</td>\n",
       "      <td>1509.62</td>\n",
       "      <td>5.261293</td>\n",
       "      <td>5.267504</td>\n",
       "      <td>...</td>\n",
       "      <td>1337.52</td>\n",
       "      <td>1345.48</td>\n",
       "      <td>1279.55</td>\n",
       "      <td>1331.24</td>\n",
       "      <td>5.193698</td>\n",
       "      <td>5.336946</td>\n",
       "      <td>31.862217</td>\n",
       "      <td>32.756116</td>\n",
       "      <td>41.44</td>\n",
       "      <td>42.845</td>\n",
       "    </tr>\n",
       "    <tr>\n",
       "      <th>2</th>\n",
       "      <td>5233</td>\n",
       "      <td>5</td>\n",
       "      <td>10</td>\n",
       "      <td>0.0</td>\n",
       "      <td>1472.45</td>\n",
       "      <td>1538.14</td>\n",
       "      <td>1452.26</td>\n",
       "      <td>1509.62</td>\n",
       "      <td>5.261293</td>\n",
       "      <td>5.267504</td>\n",
       "      <td>...</td>\n",
       "      <td>1337.52</td>\n",
       "      <td>1345.48</td>\n",
       "      <td>1279.55</td>\n",
       "      <td>1331.24</td>\n",
       "      <td>5.193698</td>\n",
       "      <td>5.336946</td>\n",
       "      <td>31.862217</td>\n",
       "      <td>32.756116</td>\n",
       "      <td>41.44</td>\n",
       "      <td>42.845</td>\n",
       "    </tr>\n",
       "    <tr>\n",
       "      <th>3</th>\n",
       "      <td>5232</td>\n",
       "      <td>5</td>\n",
       "      <td>10</td>\n",
       "      <td>0.0</td>\n",
       "      <td>1472.45</td>\n",
       "      <td>1538.14</td>\n",
       "      <td>1452.26</td>\n",
       "      <td>1509.62</td>\n",
       "      <td>5.261293</td>\n",
       "      <td>5.267504</td>\n",
       "      <td>...</td>\n",
       "      <td>1337.52</td>\n",
       "      <td>1345.48</td>\n",
       "      <td>1279.55</td>\n",
       "      <td>1331.24</td>\n",
       "      <td>5.193698</td>\n",
       "      <td>5.336946</td>\n",
       "      <td>31.862217</td>\n",
       "      <td>32.756116</td>\n",
       "      <td>41.44</td>\n",
       "      <td>42.845</td>\n",
       "    </tr>\n",
       "    <tr>\n",
       "      <th>4</th>\n",
       "      <td>5268</td>\n",
       "      <td>5</td>\n",
       "      <td>10</td>\n",
       "      <td>0.0</td>\n",
       "      <td>1472.45</td>\n",
       "      <td>1538.14</td>\n",
       "      <td>1452.26</td>\n",
       "      <td>1509.62</td>\n",
       "      <td>5.261293</td>\n",
       "      <td>5.267504</td>\n",
       "      <td>...</td>\n",
       "      <td>1337.52</td>\n",
       "      <td>1345.48</td>\n",
       "      <td>1279.55</td>\n",
       "      <td>1331.24</td>\n",
       "      <td>5.193698</td>\n",
       "      <td>5.336946</td>\n",
       "      <td>31.862217</td>\n",
       "      <td>32.756116</td>\n",
       "      <td>41.44</td>\n",
       "      <td>42.845</td>\n",
       "    </tr>\n",
       "  </tbody>\n",
       "</table>\n",
       "<p>5 rows × 54 columns</p>\n",
       "</div>"
      ],
      "text/plain": [
       "   item_id  shop_id  date_block_num  item_cnt_month  f__MOEX_open_1  \\\n",
       "0     5037        5              10             0.0         1472.45   \n",
       "1     5320        5              10             0.0         1472.45   \n",
       "2     5233        5              10             0.0         1472.45   \n",
       "3     5232        5              10             0.0         1472.45   \n",
       "4     5268        5              10             0.0         1472.45   \n",
       "\n",
       "   f__MOEX_high_1  f__MOEX_low_1  f__MOEX_close_1  f__CNYRUB_open_1  \\\n",
       "0         1538.14        1452.26          1509.62          5.261293   \n",
       "1         1538.14        1452.26          1509.62          5.261293   \n",
       "2         1538.14        1452.26          1509.62          5.261293   \n",
       "3         1538.14        1452.26          1509.62          5.261293   \n",
       "4         1538.14        1452.26          1509.62          5.261293   \n",
       "\n",
       "   f__CNYRUB_close_1  ...  f__MOEX_open_5  f__MOEX_high_5  f__MOEX_low_5  \\\n",
       "0           5.267504  ...         1337.52         1345.48        1279.55   \n",
       "1           5.267504  ...         1337.52         1345.48        1279.55   \n",
       "2           5.267504  ...         1337.52         1345.48        1279.55   \n",
       "3           5.267504  ...         1337.52         1345.48        1279.55   \n",
       "4           5.267504  ...         1337.52         1345.48        1279.55   \n",
       "\n",
       "   f__MOEX_close_5  f__CNYRUB_open_5  f__CNYRUB_close_5  f__USDRUB_open_5  \\\n",
       "0          1331.24          5.193698           5.336946         31.862217   \n",
       "1          1331.24          5.193698           5.336946         31.862217   \n",
       "2          1331.24          5.193698           5.336946         31.862217   \n",
       "3          1331.24          5.193698           5.336946         31.862217   \n",
       "4          1331.24          5.193698           5.336946         31.862217   \n",
       "\n",
       "   f__USDRUB_close_5  f__EURRUB_open_5  f__EURRUB_close_5  \n",
       "0          32.756116             41.44             42.845  \n",
       "1          32.756116             41.44             42.845  \n",
       "2          32.756116             41.44             42.845  \n",
       "3          32.756116             41.44             42.845  \n",
       "4          32.756116             41.44             42.845  \n",
       "\n",
       "[5 rows x 54 columns]"
      ]
     },
     "execution_count": 62,
     "metadata": {},
     "output_type": "execute_result"
    }
   ],
   "source": [
    "train_set_macros.head()"
   ]
  },
  {
   "cell_type": "code",
   "execution_count": 3,
   "metadata": {},
   "outputs": [
    {
     "ename": "NameError",
     "evalue": "name 'train_set_macros' is not defined",
     "output_type": "error",
     "traceback": [
      "\u001b[0;31m---------------------------------------------------------------------------\u001b[0m",
      "\u001b[0;31mNameError\u001b[0m                                 Traceback (most recent call last)",
      "\u001b[0;32m<ipython-input-3-78e8d8f61a4a>\u001b[0m in \u001b[0;36m<module>\u001b[0;34m\u001b[0m\n\u001b[1;32m      3\u001b[0m \u001b[0;32mfrom\u001b[0m \u001b[0msklearn\u001b[0m\u001b[0;34m.\u001b[0m\u001b[0mmodel_selection\u001b[0m \u001b[0;32mimport\u001b[0m \u001b[0mcross_validate\u001b[0m\u001b[0;34m\u001b[0m\u001b[0;34m\u001b[0m\u001b[0m\n\u001b[1;32m      4\u001b[0m \u001b[0;32mfrom\u001b[0m \u001b[0mxgboost\u001b[0m \u001b[0;32mimport\u001b[0m \u001b[0mXGBRegressor\u001b[0m\u001b[0;34m\u001b[0m\u001b[0;34m\u001b[0m\u001b[0m\n\u001b[0;32m----> 5\u001b[0;31m \u001b[0mX_train\u001b[0m\u001b[0;34m,\u001b[0m \u001b[0my_train\u001b[0m \u001b[0;34m=\u001b[0m \u001b[0mdf_to_X_y\u001b[0m\u001b[0;34m(\u001b[0m\u001b[0mtrain_set_macros\u001b[0m\u001b[0;34m)\u001b[0m\u001b[0;34m\u001b[0m\u001b[0;34m\u001b[0m\u001b[0m\n\u001b[0m\u001b[1;32m      6\u001b[0m \u001b[0mcv_split\u001b[0m \u001b[0;34m=\u001b[0m \u001b[0mtscv\u001b[0m\u001b[0;34m.\u001b[0m\u001b[0msplit\u001b[0m\u001b[0;34m(\u001b[0m\u001b[0mtrain_set_macros\u001b[0m\u001b[0;34m[\u001b[0m\u001b[0;34m'date_block_num'\u001b[0m\u001b[0;34m]\u001b[0m\u001b[0;34m)\u001b[0m\u001b[0;34m\u001b[0m\u001b[0;34m\u001b[0m\u001b[0m\n\u001b[1;32m      7\u001b[0m \u001b[0mreg\u001b[0m \u001b[0;34m=\u001b[0m \u001b[0mClippedOutputRegressor\u001b[0m\u001b[0;34m(\u001b[0m\u001b[0mXGBRegressor\u001b[0m\u001b[0;34m(\u001b[0m\u001b[0mtree_method\u001b[0m\u001b[0;34m=\u001b[0m\u001b[0;34m'hist'\u001b[0m\u001b[0;34m)\u001b[0m\u001b[0;34m)\u001b[0m\u001b[0;34m\u001b[0m\u001b[0;34m\u001b[0m\u001b[0m\n",
      "\u001b[0;31mNameError\u001b[0m: name 'train_set_macros' is not defined"
     ]
    }
   ],
   "source": [
    "from src.data import df_to_X_y\n",
    "from src.model import ClippedOutputRegressor, tscv\n",
    "from sklearn.model_selection import cross_validate\n",
    "from xgboost import XGBRegressor\n",
    "X_train, y_train = df_to_X_y(train_set_macros)\n",
    "cv_split = tscv.split(train_set_macros['date_block_num'])\n",
    "reg = ClippedOutputRegressor(XGBRegressor(tree_method='gpu_hist', gpu_id=0))"
   ]
  },
  {
   "cell_type": "code",
   "execution_count": 75,
   "metadata": {},
   "outputs": [
    {
     "name": "stderr",
     "output_type": "stream",
     "text": [
      "[Parallel(n_jobs=1)]: Using backend SequentialBackend with 1 concurrent workers.\n"
     ]
    },
    {
     "name": "stdout",
     "output_type": "stream",
     "text": [
      "[CV]  ................................................................\n",
      "[CV] ................................................. , total=  28.2s\n",
      "[CV]  ................................................................\n"
     ]
    },
    {
     "name": "stderr",
     "output_type": "stream",
     "text": [
      "[Parallel(n_jobs=1)]: Done   1 out of   1 | elapsed:   35.4s remaining:    0.0s\n"
     ]
    },
    {
     "name": "stdout",
     "output_type": "stream",
     "text": [
      "[CV] ................................................. , total=  34.0s\n",
      "[CV]  ................................................................\n",
      "[CV] ................................................. , total=  36.2s\n"
     ]
    },
    {
     "name": "stderr",
     "output_type": "stream",
     "text": [
      "[Parallel(n_jobs=1)]: Done   3 out of   3 | elapsed:  2.0min finished\n"
     ]
    },
    {
     "data": {
      "text/plain": [
       "{'fit_time': array([27.82393217, 33.51648545, 35.80896282]),\n",
       " 'score_time': array([0.34668732, 0.45320368, 0.35907745]),\n",
       " 'test_score': array([-0.78619799, -0.92847565, -0.89679642]),\n",
       " 'train_score': array([-0.77031535, -0.77181526, -0.77619987])}"
      ]
     },
     "execution_count": 75,
     "metadata": {},
     "output_type": "execute_result"
    }
   ],
   "source": [
    "scores = cross_validate(reg, X=X_train, y=y_train,\n",
    "                        scoring='neg_root_mean_squared_error', verbose=2, \n",
    "                        cv=cv_split, return_train_score=True)\n",
    "scores"
   ]
  },
  {
   "cell_type": "code",
   "execution_count": 1,
   "metadata": {},
   "outputs": [
    {
     "data": {
      "text/plain": [
       "-0.8704900200000001"
      ]
     },
     "execution_count": 1,
     "metadata": {},
     "output_type": "execute_result"
    }
   ],
   "source": [
    "scores['test_score'].mean()"
   ]
  },
  {
   "cell_type": "markdown",
   "metadata": {},
   "source": [
    "For comparison, here's the CV score for the model without the new variables:"
   ]
  },
  {
   "cell_type": "code",
   "execution_count": 5,
   "metadata": {},
   "outputs": [
    {
     "name": "stderr",
     "output_type": "stream",
     "text": [
      "[Parallel(n_jobs=1)]: Using backend SequentialBackend with 1 concurrent workers.\n"
     ]
    },
    {
     "name": "stdout",
     "output_type": "stream",
     "text": [
      "[CV]  ................................................................\n",
      "[CV] ................................................. , total=  20.9s\n",
      "[CV]  ................................................................\n"
     ]
    },
    {
     "name": "stderr",
     "output_type": "stream",
     "text": [
      "[Parallel(n_jobs=1)]: Done   1 out of   1 | elapsed:   25.5s remaining:    0.0s\n"
     ]
    },
    {
     "name": "stdout",
     "output_type": "stream",
     "text": [
      "[CV] ................................................. , total=  36.1s\n",
      "[CV]  ................................................................\n",
      "[CV] ................................................. , total= 1.5min\n"
     ]
    },
    {
     "name": "stderr",
     "output_type": "stream",
     "text": [
      "[Parallel(n_jobs=1)]: Done   3 out of   3 | elapsed:  2.7min finished\n"
     ]
    },
    {
     "data": {
      "text/plain": [
       "{'fit_time': array([20.66307259, 35.83074737, 87.13734627]),\n",
       " 'score_time': array([0.27966952, 0.27983689, 0.30369496]),\n",
       " 'test_score': array([-0.78521879, -0.92859643, -0.90362674]),\n",
       " 'train_score': array([-0.7754801 , -0.77474973, -0.78020316])}"
      ]
     },
     "execution_count": 5,
     "metadata": {},
     "output_type": "execute_result"
    }
   ],
   "source": [
    "X_train, y_train = df_to_X_y(train_set)\n",
    "scores = cross_validate(reg, X=X_train, y=y_train,\n",
    "                        scoring='neg_root_mean_squared_error', verbose=2, \n",
    "                        cv=cv_split, return_train_score=True)\n",
    "scores"
   ]
  },
  {
   "cell_type": "code",
   "execution_count": 6,
   "metadata": {},
   "outputs": [
    {
     "data": {
      "text/plain": [
       "-0.8724806561687966"
      ]
     },
     "execution_count": 6,
     "metadata": {},
     "output_type": "execute_result"
    }
   ],
   "source": [
    "scores['test_score'].mean()"
   ]
  },
  {
   "cell_type": "markdown",
   "metadata": {},
   "source": [
    "Which means we got an improvement. Not a big one, but it's a start.\n",
    "\n",
    "Let's see if we can use less features for the same improvement. One idea is to combine open and close prices into a \"change_ratio\"."
   ]
  },
  {
   "cell_type": "code",
   "execution_count": 15,
   "metadata": {},
   "outputs": [
    {
     "data": {
      "text/html": [
       "<div>\n",
       "<style scoped>\n",
       "    .dataframe tbody tr th:only-of-type {\n",
       "        vertical-align: middle;\n",
       "    }\n",
       "\n",
       "    .dataframe tbody tr th {\n",
       "        vertical-align: top;\n",
       "    }\n",
       "\n",
       "    .dataframe thead th {\n",
       "        text-align: right;\n",
       "    }\n",
       "</style>\n",
       "<table border=\"1\" class=\"dataframe\">\n",
       "  <thead>\n",
       "    <tr style=\"text-align: right;\">\n",
       "      <th></th>\n",
       "      <th>MOEX_open</th>\n",
       "      <th>MOEX_high</th>\n",
       "      <th>MOEX_low</th>\n",
       "      <th>MOEX_close</th>\n",
       "      <th>date_block_num</th>\n",
       "      <th>CNYRUB_open</th>\n",
       "      <th>CNYRUB_close</th>\n",
       "      <th>USDRUB_open</th>\n",
       "      <th>USDRUB_close</th>\n",
       "      <th>EURRUB_open</th>\n",
       "      <th>EURRUB_close</th>\n",
       "      <th>MOEX_gain</th>\n",
       "      <th>CNYRUB_gain</th>\n",
       "      <th>USDRUB_gain</th>\n",
       "      <th>EURRUB_gain</th>\n",
       "    </tr>\n",
       "  </thead>\n",
       "  <tbody>\n",
       "    <tr>\n",
       "      <th>0</th>\n",
       "      <td>NaN</td>\n",
       "      <td>NaN</td>\n",
       "      <td>NaN</td>\n",
       "      <td>NaN</td>\n",
       "      <td>0</td>\n",
       "      <td>4.905847</td>\n",
       "      <td>4.838964</td>\n",
       "      <td>30.566545</td>\n",
       "      <td>30.093358</td>\n",
       "      <td>40.3295</td>\n",
       "      <td>40.7765</td>\n",
       "      <td>NaN</td>\n",
       "      <td>0.986367</td>\n",
       "      <td>0.984519</td>\n",
       "      <td>1.011084</td>\n",
       "    </tr>\n",
       "    <tr>\n",
       "      <th>1</th>\n",
       "      <td>NaN</td>\n",
       "      <td>NaN</td>\n",
       "      <td>NaN</td>\n",
       "      <td>NaN</td>\n",
       "      <td>1</td>\n",
       "      <td>4.814853</td>\n",
       "      <td>4.904956</td>\n",
       "      <td>29.983436</td>\n",
       "      <td>30.530353</td>\n",
       "      <td>40.9094</td>\n",
       "      <td>40.0833</td>\n",
       "      <td>NaN</td>\n",
       "      <td>1.018714</td>\n",
       "      <td>1.018241</td>\n",
       "      <td>0.979807</td>\n",
       "    </tr>\n",
       "    <tr>\n",
       "      <th>2</th>\n",
       "      <td>1473.54</td>\n",
       "      <td>1506.42</td>\n",
       "      <td>1416.78</td>\n",
       "      <td>1436.62</td>\n",
       "      <td>2</td>\n",
       "      <td>4.940797</td>\n",
       "      <td>4.995188</td>\n",
       "      <td>30.750000</td>\n",
       "      <td>31.051699</td>\n",
       "      <td>39.9750</td>\n",
       "      <td>39.7617</td>\n",
       "      <td>0.974945</td>\n",
       "      <td>1.011009</td>\n",
       "      <td>1.009811</td>\n",
       "      <td>0.994664</td>\n",
       "    </tr>\n",
       "    <tr>\n",
       "      <th>3</th>\n",
       "      <td>1428.29</td>\n",
       "      <td>1432.37</td>\n",
       "      <td>1334.52</td>\n",
       "      <td>1386.69</td>\n",
       "      <td>3</td>\n",
       "      <td>4.995188</td>\n",
       "      <td>5.048749</td>\n",
       "      <td>31.051699</td>\n",
       "      <td>31.128672</td>\n",
       "      <td>39.7617</td>\n",
       "      <td>40.6914</td>\n",
       "      <td>0.970874</td>\n",
       "      <td>1.010722</td>\n",
       "      <td>1.002479</td>\n",
       "      <td>1.023382</td>\n",
       "    </tr>\n",
       "    <tr>\n",
       "      <th>4</th>\n",
       "      <td>1377.45</td>\n",
       "      <td>1449.62</td>\n",
       "      <td>1343.99</td>\n",
       "      <td>1343.99</td>\n",
       "      <td>4</td>\n",
       "      <td>5.048749</td>\n",
       "      <td>5.193698</td>\n",
       "      <td>31.128672</td>\n",
       "      <td>31.862217</td>\n",
       "      <td>40.6914</td>\n",
       "      <td>41.4400</td>\n",
       "      <td>0.975709</td>\n",
       "      <td>1.028710</td>\n",
       "      <td>1.023565</td>\n",
       "      <td>1.018397</td>\n",
       "    </tr>\n",
       "  </tbody>\n",
       "</table>\n",
       "</div>"
      ],
      "text/plain": [
       "   MOEX_open  MOEX_high  MOEX_low  MOEX_close  date_block_num  CNYRUB_open  \\\n",
       "0        NaN        NaN       NaN         NaN               0     4.905847   \n",
       "1        NaN        NaN       NaN         NaN               1     4.814853   \n",
       "2    1473.54    1506.42   1416.78     1436.62               2     4.940797   \n",
       "3    1428.29    1432.37   1334.52     1386.69               3     4.995188   \n",
       "4    1377.45    1449.62   1343.99     1343.99               4     5.048749   \n",
       "\n",
       "   CNYRUB_close  USDRUB_open  USDRUB_close  EURRUB_open  EURRUB_close  \\\n",
       "0      4.838964    30.566545     30.093358      40.3295       40.7765   \n",
       "1      4.904956    29.983436     30.530353      40.9094       40.0833   \n",
       "2      4.995188    30.750000     31.051699      39.9750       39.7617   \n",
       "3      5.048749    31.051699     31.128672      39.7617       40.6914   \n",
       "4      5.193698    31.128672     31.862217      40.6914       41.4400   \n",
       "\n",
       "   MOEX_gain  CNYRUB_gain  USDRUB_gain  EURRUB_gain  \n",
       "0        NaN     0.986367     0.984519     1.011084  \n",
       "1        NaN     1.018714     1.018241     0.979807  \n",
       "2   0.974945     1.011009     1.009811     0.994664  \n",
       "3   0.970874     1.010722     1.002479     1.023382  \n",
       "4   0.975709     1.028710     1.023565     1.018397  "
      ]
     },
     "execution_count": 15,
     "metadata": {},
     "output_type": "execute_result"
    }
   ],
   "source": [
    "macros_history['MOEX_gain'] = macros_history['MOEX_close'] / macros_history['MOEX_open']\n",
    "macros_history['CNYRUB_gain'] = macros_history['CNYRUB_close'] / macros_history['CNYRUB_open']\n",
    "macros_history['USDRUB_gain'] = macros_history['USDRUB_close'] / macros_history['USDRUB_open']\n",
    "macros_history['EURRUB_gain'] = macros_history['EURRUB_close'] / macros_history['EURRUB_open']\n",
    "macros_history.head()"
   ]
  },
  {
   "cell_type": "code",
   "execution_count": 16,
   "metadata": {},
   "outputs": [
    {
     "data": {
      "application/vnd.jupyter.widget-view+json": {
       "model_id": "fbe91946243f4263ae92c4f4a8000fd8",
       "version_major": 2,
       "version_minor": 0
      },
      "text/plain": [
       "HBox(children=(FloatProgress(value=0.0, max=5.0), HTML(value='')))"
      ]
     },
     "metadata": {},
     "output_type": "display_data"
    },
    {
     "name": "stdout",
     "output_type": "stream",
     "text": [
      "\n"
     ]
    }
   ],
   "source": [
    "train_set_macros_gains = add_lagged_features(train_set, macros_history, ['MOEX_gain', 'CNYRUB_gain', 'USDRUB_gain', 'EURRUB_gain'], \n",
    "                                             max_lag=5, index_cols=[])"
   ]
  },
  {
   "cell_type": "code",
   "execution_count": 18,
   "metadata": {},
   "outputs": [
    {
     "name": "stderr",
     "output_type": "stream",
     "text": [
      "[Parallel(n_jobs=1)]: Using backend SequentialBackend with 1 concurrent workers.\n"
     ]
    },
    {
     "name": "stdout",
     "output_type": "stream",
     "text": [
      "[CV]  ................................................................\n",
      "[CV] ................................................. , total=  16.9s\n",
      "[CV]  ................................................................\n"
     ]
    },
    {
     "name": "stderr",
     "output_type": "stream",
     "text": [
      "[Parallel(n_jobs=1)]: Done   1 out of   1 | elapsed:   23.2s remaining:    0.0s\n"
     ]
    },
    {
     "name": "stdout",
     "output_type": "stream",
     "text": [
      "[CV] ................................................. , total=  17.3s\n",
      "[CV]  ................................................................\n",
      "[CV] ................................................. , total=  18.1s\n"
     ]
    },
    {
     "name": "stderr",
     "output_type": "stream",
     "text": [
      "[Parallel(n_jobs=1)]: Done   3 out of   3 | elapsed:  1.2min finished\n"
     ]
    },
    {
     "data": {
      "text/plain": [
       "{'fit_time': array([16.46649837, 16.89188051, 17.70034838]),\n",
       " 'score_time': array([0.40208316, 0.42681313, 0.42794752]),\n",
       " 'test_score': array([-0.77533171, -0.91754171, -0.88763681]),\n",
       " 'train_score': array([-0.75570923, -0.75706349, -0.76062456])}"
      ]
     },
     "execution_count": 18,
     "metadata": {},
     "output_type": "execute_result"
    }
   ],
   "source": [
    "X_train, y_train = df_to_X_y(train_set_macros_gains)\n",
    "scores = cross_validate(reg, X=X_train, y=y_train,\n",
    "                        scoring='neg_root_mean_squared_error', verbose=2, \n",
    "                        cv=cv_split, return_train_score=True)\n",
    "scores"
   ]
  },
  {
   "cell_type": "code",
   "execution_count": 19,
   "metadata": {},
   "outputs": [
    {
     "data": {
      "text/plain": [
       "-0.8601700781697751"
      ]
     },
     "execution_count": 19,
     "metadata": {},
     "output_type": "execute_result"
    }
   ],
   "source": [
    "scores['test_score'].mean()"
   ]
  },
  {
   "cell_type": "markdown",
   "metadata": {},
   "source": [
    "Cool, the score actually improved."
   ]
  }
 ],
 "metadata": {
  "kernelspec": {
   "display_name": "Python 3",
   "language": "python",
   "name": "python3"
  },
  "language_info": {
   "codemirror_mode": {
    "name": "ipython",
    "version": 3
   },
   "file_extension": ".py",
   "mimetype": "text/x-python",
   "name": "python",
   "nbconvert_exporter": "python",
   "pygments_lexer": "ipython3",
   "version": "3.8.2"
  }
 },
 "nbformat": 4,
 "nbformat_minor": 4
}
