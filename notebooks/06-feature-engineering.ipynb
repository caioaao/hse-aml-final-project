{
 "cells": [
  {
   "cell_type": "code",
   "execution_count": 1,
   "metadata": {},
   "outputs": [
    {
     "name": "stdout",
     "output_type": "stream",
     "text": [
      "Versions:\n",
      "  Python: 3.8.2 (default, Jul 16 2020, 14:00:26) \n",
      "[GCC 9.3.0]\n",
      "  pandas: 1.1.0\n",
      "  numpy: 1.19.1\n",
      "  seaborn: 0.10.1\n",
      "  sklearn: 0.23.2\n",
      "  altair: 4.1.0\n"
     ]
    }
   ],
   "source": [
    "%load_ext autoreload\n",
    "%autoreload 2\n",
    "\n",
    "import os\n",
    "import sys\n",
    "\n",
    "import pandas as pd\n",
    "import numpy as np\n",
    "import seaborn as sns\n",
    "import matplotlib.pyplot as plt\n",
    "import sklearn\n",
    "import scipy\n",
    "import altair as alt\n",
    "from altair import datum\n",
    "from tqdm.auto import tqdm, trange\n",
    "\n",
    "from src.feature_engineering import add_lagged_features, drop_non_features, add_as_features, add_as_cat_features\n",
    "from src.functional import comp, partial\n",
    "\n",
    "%run constants.py\n",
    "\n",
    "%matplotlib inline\n",
    "print(\"Versions:\")\n",
    "print(\"  Python: %s\" % sys.version)\n",
    "for module in [pd, np, sns, sklearn, alt]:\n",
    "    print(\"  %s: %s\" %(module.__name__, module.__version__))"
   ]
  },
  {
   "cell_type": "markdown",
   "metadata": {},
   "source": [
    "# Feature Engineering\n",
    "\n",
    "Let's first load our train and test sets and set up our CV split."
   ]
  },
  {
   "cell_type": "code",
   "execution_count": 2,
   "metadata": {},
   "outputs": [],
   "source": [
    "train_set = pd.read_parquet(os.path.join(PROCESSED_DATA_DIR, 'train-set.parquet'))\n",
    "test_set = pd.read_parquet(os.path.join(PROCESSED_DATA_DIR, 'test-set.parquet'))\n",
    "sales_train_by_month = pd.read_parquet(os.path.join(PROCESSED_DATA_DIR, 'sales-train-by-month.parquet'))"
   ]
  },
  {
   "cell_type": "markdown",
   "metadata": {},
   "source": [
    "Now let's start with the obvious one: the item counts. I wrote a function that calculates lagged features from a dataset.\n",
    "\n",
    "Since we're dealing with lagged features, early months won't have any. Let's cut it down by half on both the window of lagged features and the train window for now."
   ]
  },
  {
   "cell_type": "code",
   "execution_count": 5,
   "metadata": {},
   "outputs": [
    {
     "data": {
      "application/vnd.jupyter.widget-view+json": {
       "model_id": "99e76d4f66d649eeb367cf1ca634a545",
       "version_major": 2,
       "version_minor": 0
      },
      "text/plain": [
       "HBox(children=(FloatProgress(value=0.0, max=18.0), HTML(value='')))"
      ]
     },
     "metadata": {},
     "output_type": "display_data"
    },
    {
     "name": "stdout",
     "output_type": "stream",
     "text": [
      "\n"
     ]
    },
    {
     "data": {
      "application/vnd.jupyter.widget-view+json": {
       "model_id": "2b32c64d89e9441cb8475a43f0eef800",
       "version_major": 2,
       "version_minor": 0
      },
      "text/plain": [
       "HBox(children=(FloatProgress(value=0.0, max=18.0), HTML(value='')))"
      ]
     },
     "metadata": {},
     "output_type": "display_data"
    },
    {
     "name": "stdout",
     "output_type": "stream",
     "text": [
      "\n"
     ]
    }
   ],
   "source": [
    "train_set_w18 = add_lagged_features(train_set, sales_train_by_month, 'item_cnt', max_lag=18)\n",
    "test_set_w18 = add_lagged_features(test_set, sales_train_by_month, 'item_cnt', max_lag=18)"
   ]
  },
  {
   "cell_type": "code",
   "execution_count": 6,
   "metadata": {},
   "outputs": [
    {
     "data": {
      "text/html": [
       "<div>\n",
       "<style scoped>\n",
       "    .dataframe tbody tr th:only-of-type {\n",
       "        vertical-align: middle;\n",
       "    }\n",
       "\n",
       "    .dataframe tbody tr th {\n",
       "        vertical-align: top;\n",
       "    }\n",
       "\n",
       "    .dataframe thead th {\n",
       "        text-align: right;\n",
       "    }\n",
       "</style>\n",
       "<table border=\"1\" class=\"dataframe\">\n",
       "  <thead>\n",
       "    <tr style=\"text-align: right;\">\n",
       "      <th></th>\n",
       "      <th>item_id</th>\n",
       "      <th>shop_id</th>\n",
       "      <th>date_block_num</th>\n",
       "      <th>item_cnt_month</th>\n",
       "      <th>f__item_cnt_1</th>\n",
       "      <th>f__item_cnt_2</th>\n",
       "      <th>f__item_cnt_3</th>\n",
       "      <th>f__item_cnt_4</th>\n",
       "      <th>f__item_cnt_5</th>\n",
       "      <th>f__item_cnt_6</th>\n",
       "      <th>...</th>\n",
       "      <th>f__item_cnt_9</th>\n",
       "      <th>f__item_cnt_10</th>\n",
       "      <th>f__item_cnt_11</th>\n",
       "      <th>f__item_cnt_12</th>\n",
       "      <th>f__item_cnt_13</th>\n",
       "      <th>f__item_cnt_14</th>\n",
       "      <th>f__item_cnt_15</th>\n",
       "      <th>f__item_cnt_16</th>\n",
       "      <th>f__item_cnt_17</th>\n",
       "      <th>f__item_cnt_18</th>\n",
       "    </tr>\n",
       "  </thead>\n",
       "  <tbody>\n",
       "    <tr>\n",
       "      <th>count</th>\n",
       "      <td>5.140800e+06</td>\n",
       "      <td>5.140800e+06</td>\n",
       "      <td>5.140800e+06</td>\n",
       "      <td>5.140800e+06</td>\n",
       "      <td>5140800.0</td>\n",
       "      <td>5140800.0</td>\n",
       "      <td>5140800.0</td>\n",
       "      <td>5140800.0</td>\n",
       "      <td>5140800.0</td>\n",
       "      <td>5140800.0</td>\n",
       "      <td>...</td>\n",
       "      <td>5140800.0</td>\n",
       "      <td>5140800.0</td>\n",
       "      <td>5140800.0</td>\n",
       "      <td>5140800.0</td>\n",
       "      <td>5140800.0</td>\n",
       "      <td>5140800.0</td>\n",
       "      <td>5140800.0</td>\n",
       "      <td>5140800.0</td>\n",
       "      <td>5140800.0</td>\n",
       "      <td>5140800.0</td>\n",
       "    </tr>\n",
       "    <tr>\n",
       "      <th>mean</th>\n",
       "      <td>1.101940e+04</td>\n",
       "      <td>3.164286e+01</td>\n",
       "      <td>2.150000e+01</td>\n",
       "      <td>2.199702e-01</td>\n",
       "      <td>0.0</td>\n",
       "      <td>0.0</td>\n",
       "      <td>0.0</td>\n",
       "      <td>0.0</td>\n",
       "      <td>0.0</td>\n",
       "      <td>0.0</td>\n",
       "      <td>...</td>\n",
       "      <td>0.0</td>\n",
       "      <td>0.0</td>\n",
       "      <td>0.0</td>\n",
       "      <td>0.0</td>\n",
       "      <td>0.0</td>\n",
       "      <td>0.0</td>\n",
       "      <td>0.0</td>\n",
       "      <td>0.0</td>\n",
       "      <td>0.0</td>\n",
       "      <td>0.0</td>\n",
       "    </tr>\n",
       "    <tr>\n",
       "      <th>std</th>\n",
       "      <td>6.252631e+03</td>\n",
       "      <td>1.756189e+01</td>\n",
       "      <td>6.922187e+00</td>\n",
       "      <td>1.113889e+00</td>\n",
       "      <td>0.0</td>\n",
       "      <td>0.0</td>\n",
       "      <td>0.0</td>\n",
       "      <td>0.0</td>\n",
       "      <td>0.0</td>\n",
       "      <td>0.0</td>\n",
       "      <td>...</td>\n",
       "      <td>0.0</td>\n",
       "      <td>0.0</td>\n",
       "      <td>0.0</td>\n",
       "      <td>0.0</td>\n",
       "      <td>0.0</td>\n",
       "      <td>0.0</td>\n",
       "      <td>0.0</td>\n",
       "      <td>0.0</td>\n",
       "      <td>0.0</td>\n",
       "      <td>0.0</td>\n",
       "    </tr>\n",
       "    <tr>\n",
       "      <th>min</th>\n",
       "      <td>3.000000e+01</td>\n",
       "      <td>2.000000e+00</td>\n",
       "      <td>1.000000e+01</td>\n",
       "      <td>0.000000e+00</td>\n",
       "      <td>0.0</td>\n",
       "      <td>0.0</td>\n",
       "      <td>0.0</td>\n",
       "      <td>0.0</td>\n",
       "      <td>0.0</td>\n",
       "      <td>0.0</td>\n",
       "      <td>...</td>\n",
       "      <td>0.0</td>\n",
       "      <td>0.0</td>\n",
       "      <td>0.0</td>\n",
       "      <td>0.0</td>\n",
       "      <td>0.0</td>\n",
       "      <td>0.0</td>\n",
       "      <td>0.0</td>\n",
       "      <td>0.0</td>\n",
       "      <td>0.0</td>\n",
       "      <td>0.0</td>\n",
       "    </tr>\n",
       "    <tr>\n",
       "      <th>25%</th>\n",
       "      <td>5.381500e+03</td>\n",
       "      <td>1.600000e+01</td>\n",
       "      <td>1.575000e+01</td>\n",
       "      <td>0.000000e+00</td>\n",
       "      <td>0.0</td>\n",
       "      <td>0.0</td>\n",
       "      <td>0.0</td>\n",
       "      <td>0.0</td>\n",
       "      <td>0.0</td>\n",
       "      <td>0.0</td>\n",
       "      <td>...</td>\n",
       "      <td>0.0</td>\n",
       "      <td>0.0</td>\n",
       "      <td>0.0</td>\n",
       "      <td>0.0</td>\n",
       "      <td>0.0</td>\n",
       "      <td>0.0</td>\n",
       "      <td>0.0</td>\n",
       "      <td>0.0</td>\n",
       "      <td>0.0</td>\n",
       "      <td>0.0</td>\n",
       "    </tr>\n",
       "    <tr>\n",
       "      <th>50%</th>\n",
       "      <td>1.120300e+04</td>\n",
       "      <td>3.450000e+01</td>\n",
       "      <td>2.150000e+01</td>\n",
       "      <td>0.000000e+00</td>\n",
       "      <td>0.0</td>\n",
       "      <td>0.0</td>\n",
       "      <td>0.0</td>\n",
       "      <td>0.0</td>\n",
       "      <td>0.0</td>\n",
       "      <td>0.0</td>\n",
       "      <td>...</td>\n",
       "      <td>0.0</td>\n",
       "      <td>0.0</td>\n",
       "      <td>0.0</td>\n",
       "      <td>0.0</td>\n",
       "      <td>0.0</td>\n",
       "      <td>0.0</td>\n",
       "      <td>0.0</td>\n",
       "      <td>0.0</td>\n",
       "      <td>0.0</td>\n",
       "      <td>0.0</td>\n",
       "    </tr>\n",
       "    <tr>\n",
       "      <th>75%</th>\n",
       "      <td>1.607150e+04</td>\n",
       "      <td>4.700000e+01</td>\n",
       "      <td>2.725000e+01</td>\n",
       "      <td>0.000000e+00</td>\n",
       "      <td>0.0</td>\n",
       "      <td>0.0</td>\n",
       "      <td>0.0</td>\n",
       "      <td>0.0</td>\n",
       "      <td>0.0</td>\n",
       "      <td>0.0</td>\n",
       "      <td>...</td>\n",
       "      <td>0.0</td>\n",
       "      <td>0.0</td>\n",
       "      <td>0.0</td>\n",
       "      <td>0.0</td>\n",
       "      <td>0.0</td>\n",
       "      <td>0.0</td>\n",
       "      <td>0.0</td>\n",
       "      <td>0.0</td>\n",
       "      <td>0.0</td>\n",
       "      <td>0.0</td>\n",
       "    </tr>\n",
       "    <tr>\n",
       "      <th>max</th>\n",
       "      <td>2.216700e+04</td>\n",
       "      <td>5.900000e+01</td>\n",
       "      <td>3.300000e+01</td>\n",
       "      <td>2.000000e+01</td>\n",
       "      <td>0.0</td>\n",
       "      <td>0.0</td>\n",
       "      <td>0.0</td>\n",
       "      <td>0.0</td>\n",
       "      <td>0.0</td>\n",
       "      <td>0.0</td>\n",
       "      <td>...</td>\n",
       "      <td>0.0</td>\n",
       "      <td>0.0</td>\n",
       "      <td>0.0</td>\n",
       "      <td>0.0</td>\n",
       "      <td>0.0</td>\n",
       "      <td>0.0</td>\n",
       "      <td>0.0</td>\n",
       "      <td>0.0</td>\n",
       "      <td>0.0</td>\n",
       "      <td>0.0</td>\n",
       "    </tr>\n",
       "  </tbody>\n",
       "</table>\n",
       "<p>8 rows × 22 columns</p>\n",
       "</div>"
      ],
      "text/plain": [
       "            item_id       shop_id  date_block_num  item_cnt_month  \\\n",
       "count  5.140800e+06  5.140800e+06    5.140800e+06    5.140800e+06   \n",
       "mean   1.101940e+04  3.164286e+01    2.150000e+01    2.199702e-01   \n",
       "std    6.252631e+03  1.756189e+01    6.922187e+00    1.113889e+00   \n",
       "min    3.000000e+01  2.000000e+00    1.000000e+01    0.000000e+00   \n",
       "25%    5.381500e+03  1.600000e+01    1.575000e+01    0.000000e+00   \n",
       "50%    1.120300e+04  3.450000e+01    2.150000e+01    0.000000e+00   \n",
       "75%    1.607150e+04  4.700000e+01    2.725000e+01    0.000000e+00   \n",
       "max    2.216700e+04  5.900000e+01    3.300000e+01    2.000000e+01   \n",
       "\n",
       "       f__item_cnt_1  f__item_cnt_2  f__item_cnt_3  f__item_cnt_4  \\\n",
       "count      5140800.0      5140800.0      5140800.0      5140800.0   \n",
       "mean             0.0            0.0            0.0            0.0   \n",
       "std              0.0            0.0            0.0            0.0   \n",
       "min              0.0            0.0            0.0            0.0   \n",
       "25%              0.0            0.0            0.0            0.0   \n",
       "50%              0.0            0.0            0.0            0.0   \n",
       "75%              0.0            0.0            0.0            0.0   \n",
       "max              0.0            0.0            0.0            0.0   \n",
       "\n",
       "       f__item_cnt_5  f__item_cnt_6  ...  f__item_cnt_9  f__item_cnt_10  \\\n",
       "count      5140800.0      5140800.0  ...      5140800.0       5140800.0   \n",
       "mean             0.0            0.0  ...            0.0             0.0   \n",
       "std              0.0            0.0  ...            0.0             0.0   \n",
       "min              0.0            0.0  ...            0.0             0.0   \n",
       "25%              0.0            0.0  ...            0.0             0.0   \n",
       "50%              0.0            0.0  ...            0.0             0.0   \n",
       "75%              0.0            0.0  ...            0.0             0.0   \n",
       "max              0.0            0.0  ...            0.0             0.0   \n",
       "\n",
       "       f__item_cnt_11  f__item_cnt_12  f__item_cnt_13  f__item_cnt_14  \\\n",
       "count       5140800.0       5140800.0       5140800.0       5140800.0   \n",
       "mean              0.0             0.0             0.0             0.0   \n",
       "std               0.0             0.0             0.0             0.0   \n",
       "min               0.0             0.0             0.0             0.0   \n",
       "25%               0.0             0.0             0.0             0.0   \n",
       "50%               0.0             0.0             0.0             0.0   \n",
       "75%               0.0             0.0             0.0             0.0   \n",
       "max               0.0             0.0             0.0             0.0   \n",
       "\n",
       "       f__item_cnt_15  f__item_cnt_16  f__item_cnt_17  f__item_cnt_18  \n",
       "count       5140800.0       5140800.0       5140800.0       5140800.0  \n",
       "mean              0.0             0.0             0.0             0.0  \n",
       "std               0.0             0.0             0.0             0.0  \n",
       "min               0.0             0.0             0.0             0.0  \n",
       "25%               0.0             0.0             0.0             0.0  \n",
       "50%               0.0             0.0             0.0             0.0  \n",
       "75%               0.0             0.0             0.0             0.0  \n",
       "max               0.0             0.0             0.0             0.0  \n",
       "\n",
       "[8 rows x 22 columns]"
      ]
     },
     "execution_count": 6,
     "metadata": {},
     "output_type": "execute_result"
    }
   ],
   "source": [
    "train_set_w18.describe()"
   ]
  },
  {
   "cell_type": "code",
   "execution_count": 8,
   "metadata": {},
   "outputs": [
    {
     "data": {
      "text/html": [
       "<div>\n",
       "<style scoped>\n",
       "    .dataframe tbody tr th:only-of-type {\n",
       "        vertical-align: middle;\n",
       "    }\n",
       "\n",
       "    .dataframe tbody tr th {\n",
       "        vertical-align: top;\n",
       "    }\n",
       "\n",
       "    .dataframe thead th {\n",
       "        text-align: right;\n",
       "    }\n",
       "</style>\n",
       "<table border=\"1\" class=\"dataframe\">\n",
       "  <thead>\n",
       "    <tr style=\"text-align: right;\">\n",
       "      <th></th>\n",
       "      <th>ID</th>\n",
       "      <th>shop_id</th>\n",
       "      <th>item_id</th>\n",
       "      <th>date_block_num</th>\n",
       "      <th>f__item_cnt_1</th>\n",
       "      <th>f__item_cnt_2</th>\n",
       "      <th>f__item_cnt_3</th>\n",
       "      <th>f__item_cnt_4</th>\n",
       "      <th>f__item_cnt_5</th>\n",
       "      <th>f__item_cnt_6</th>\n",
       "      <th>...</th>\n",
       "      <th>f__item_cnt_9</th>\n",
       "      <th>f__item_cnt_10</th>\n",
       "      <th>f__item_cnt_11</th>\n",
       "      <th>f__item_cnt_12</th>\n",
       "      <th>f__item_cnt_13</th>\n",
       "      <th>f__item_cnt_14</th>\n",
       "      <th>f__item_cnt_15</th>\n",
       "      <th>f__item_cnt_16</th>\n",
       "      <th>f__item_cnt_17</th>\n",
       "      <th>f__item_cnt_18</th>\n",
       "    </tr>\n",
       "  </thead>\n",
       "  <tbody>\n",
       "    <tr>\n",
       "      <th>count</th>\n",
       "      <td>214200.000000</td>\n",
       "      <td>214200.000000</td>\n",
       "      <td>214200.000000</td>\n",
       "      <td>214200.0</td>\n",
       "      <td>214200.000000</td>\n",
       "      <td>214200.000000</td>\n",
       "      <td>214200.000000</td>\n",
       "      <td>214200.000000</td>\n",
       "      <td>214200.000000</td>\n",
       "      <td>214200.000000</td>\n",
       "      <td>...</td>\n",
       "      <td>214200.000000</td>\n",
       "      <td>214200.000000</td>\n",
       "      <td>214200.000000</td>\n",
       "      <td>214200.000000</td>\n",
       "      <td>214200.000000</td>\n",
       "      <td>214200.000000</td>\n",
       "      <td>214200.000000</td>\n",
       "      <td>214200.000000</td>\n",
       "      <td>214200.000000</td>\n",
       "      <td>214200.000000</td>\n",
       "    </tr>\n",
       "    <tr>\n",
       "      <th>mean</th>\n",
       "      <td>107099.500000</td>\n",
       "      <td>31.642857</td>\n",
       "      <td>11019.398627</td>\n",
       "      <td>34.0</td>\n",
       "      <td>0.293413</td>\n",
       "      <td>0.274622</td>\n",
       "      <td>0.278137</td>\n",
       "      <td>0.244188</td>\n",
       "      <td>0.241839</td>\n",
       "      <td>0.263193</td>\n",
       "      <td>...</td>\n",
       "      <td>0.254888</td>\n",
       "      <td>0.315481</td>\n",
       "      <td>0.485752</td>\n",
       "      <td>0.323800</td>\n",
       "      <td>0.248922</td>\n",
       "      <td>0.225037</td>\n",
       "      <td>0.247241</td>\n",
       "      <td>0.206004</td>\n",
       "      <td>0.208492</td>\n",
       "      <td>0.199748</td>\n",
       "    </tr>\n",
       "    <tr>\n",
       "      <th>std</th>\n",
       "      <td>61834.358168</td>\n",
       "      <td>17.561933</td>\n",
       "      <td>6252.644590</td>\n",
       "      <td>0.0</td>\n",
       "      <td>5.550976</td>\n",
       "      <td>2.498978</td>\n",
       "      <td>2.149646</td>\n",
       "      <td>2.143116</td>\n",
       "      <td>2.286223</td>\n",
       "      <td>3.828952</td>\n",
       "      <td>...</td>\n",
       "      <td>1.879339</td>\n",
       "      <td>4.079211</td>\n",
       "      <td>5.561023</td>\n",
       "      <td>4.229684</td>\n",
       "      <td>3.040342</td>\n",
       "      <td>2.998698</td>\n",
       "      <td>2.833560</td>\n",
       "      <td>2.655728</td>\n",
       "      <td>3.120215</td>\n",
       "      <td>2.763012</td>\n",
       "    </tr>\n",
       "    <tr>\n",
       "      <th>min</th>\n",
       "      <td>0.000000</td>\n",
       "      <td>2.000000</td>\n",
       "      <td>30.000000</td>\n",
       "      <td>34.0</td>\n",
       "      <td>-1.000000</td>\n",
       "      <td>-1.000000</td>\n",
       "      <td>-1.000000</td>\n",
       "      <td>-1.000000</td>\n",
       "      <td>-1.000000</td>\n",
       "      <td>-1.000000</td>\n",
       "      <td>...</td>\n",
       "      <td>-1.000000</td>\n",
       "      <td>-1.000000</td>\n",
       "      <td>-1.000000</td>\n",
       "      <td>-1.000000</td>\n",
       "      <td>-1.000000</td>\n",
       "      <td>-1.000000</td>\n",
       "      <td>-1.000000</td>\n",
       "      <td>-1.000000</td>\n",
       "      <td>-1.000000</td>\n",
       "      <td>-1.000000</td>\n",
       "    </tr>\n",
       "    <tr>\n",
       "      <th>25%</th>\n",
       "      <td>53549.750000</td>\n",
       "      <td>16.000000</td>\n",
       "      <td>5381.500000</td>\n",
       "      <td>34.0</td>\n",
       "      <td>0.000000</td>\n",
       "      <td>0.000000</td>\n",
       "      <td>0.000000</td>\n",
       "      <td>0.000000</td>\n",
       "      <td>0.000000</td>\n",
       "      <td>0.000000</td>\n",
       "      <td>...</td>\n",
       "      <td>0.000000</td>\n",
       "      <td>0.000000</td>\n",
       "      <td>0.000000</td>\n",
       "      <td>0.000000</td>\n",
       "      <td>0.000000</td>\n",
       "      <td>0.000000</td>\n",
       "      <td>0.000000</td>\n",
       "      <td>0.000000</td>\n",
       "      <td>0.000000</td>\n",
       "      <td>0.000000</td>\n",
       "    </tr>\n",
       "    <tr>\n",
       "      <th>50%</th>\n",
       "      <td>107099.500000</td>\n",
       "      <td>34.500000</td>\n",
       "      <td>11203.000000</td>\n",
       "      <td>34.0</td>\n",
       "      <td>0.000000</td>\n",
       "      <td>0.000000</td>\n",
       "      <td>0.000000</td>\n",
       "      <td>0.000000</td>\n",
       "      <td>0.000000</td>\n",
       "      <td>0.000000</td>\n",
       "      <td>...</td>\n",
       "      <td>0.000000</td>\n",
       "      <td>0.000000</td>\n",
       "      <td>0.000000</td>\n",
       "      <td>0.000000</td>\n",
       "      <td>0.000000</td>\n",
       "      <td>0.000000</td>\n",
       "      <td>0.000000</td>\n",
       "      <td>0.000000</td>\n",
       "      <td>0.000000</td>\n",
       "      <td>0.000000</td>\n",
       "    </tr>\n",
       "    <tr>\n",
       "      <th>75%</th>\n",
       "      <td>160649.250000</td>\n",
       "      <td>47.000000</td>\n",
       "      <td>16071.500000</td>\n",
       "      <td>34.0</td>\n",
       "      <td>0.000000</td>\n",
       "      <td>0.000000</td>\n",
       "      <td>0.000000</td>\n",
       "      <td>0.000000</td>\n",
       "      <td>0.000000</td>\n",
       "      <td>0.000000</td>\n",
       "      <td>...</td>\n",
       "      <td>0.000000</td>\n",
       "      <td>0.000000</td>\n",
       "      <td>0.000000</td>\n",
       "      <td>0.000000</td>\n",
       "      <td>0.000000</td>\n",
       "      <td>0.000000</td>\n",
       "      <td>0.000000</td>\n",
       "      <td>0.000000</td>\n",
       "      <td>0.000000</td>\n",
       "      <td>0.000000</td>\n",
       "    </tr>\n",
       "    <tr>\n",
       "      <th>max</th>\n",
       "      <td>214199.000000</td>\n",
       "      <td>59.000000</td>\n",
       "      <td>22167.000000</td>\n",
       "      <td>34.0</td>\n",
       "      <td>2253.000000</td>\n",
       "      <td>473.000000</td>\n",
       "      <td>436.000000</td>\n",
       "      <td>482.000000</td>\n",
       "      <td>444.000000</td>\n",
       "      <td>742.000000</td>\n",
       "      <td>...</td>\n",
       "      <td>257.000000</td>\n",
       "      <td>1000.000000</td>\n",
       "      <td>1209.000000</td>\n",
       "      <td>772.000000</td>\n",
       "      <td>634.000000</td>\n",
       "      <td>639.000000</td>\n",
       "      <td>591.000000</td>\n",
       "      <td>563.000000</td>\n",
       "      <td>771.000000</td>\n",
       "      <td>602.000000</td>\n",
       "    </tr>\n",
       "  </tbody>\n",
       "</table>\n",
       "<p>8 rows × 22 columns</p>\n",
       "</div>"
      ],
      "text/plain": [
       "                  ID        shop_id        item_id  date_block_num  \\\n",
       "count  214200.000000  214200.000000  214200.000000        214200.0   \n",
       "mean   107099.500000      31.642857   11019.398627            34.0   \n",
       "std     61834.358168      17.561933    6252.644590             0.0   \n",
       "min         0.000000       2.000000      30.000000            34.0   \n",
       "25%     53549.750000      16.000000    5381.500000            34.0   \n",
       "50%    107099.500000      34.500000   11203.000000            34.0   \n",
       "75%    160649.250000      47.000000   16071.500000            34.0   \n",
       "max    214199.000000      59.000000   22167.000000            34.0   \n",
       "\n",
       "       f__item_cnt_1  f__item_cnt_2  f__item_cnt_3  f__item_cnt_4  \\\n",
       "count  214200.000000  214200.000000  214200.000000  214200.000000   \n",
       "mean        0.293413       0.274622       0.278137       0.244188   \n",
       "std         5.550976       2.498978       2.149646       2.143116   \n",
       "min        -1.000000      -1.000000      -1.000000      -1.000000   \n",
       "25%         0.000000       0.000000       0.000000       0.000000   \n",
       "50%         0.000000       0.000000       0.000000       0.000000   \n",
       "75%         0.000000       0.000000       0.000000       0.000000   \n",
       "max      2253.000000     473.000000     436.000000     482.000000   \n",
       "\n",
       "       f__item_cnt_5  f__item_cnt_6  ...  f__item_cnt_9  f__item_cnt_10  \\\n",
       "count  214200.000000  214200.000000  ...  214200.000000   214200.000000   \n",
       "mean        0.241839       0.263193  ...       0.254888        0.315481   \n",
       "std         2.286223       3.828952  ...       1.879339        4.079211   \n",
       "min        -1.000000      -1.000000  ...      -1.000000       -1.000000   \n",
       "25%         0.000000       0.000000  ...       0.000000        0.000000   \n",
       "50%         0.000000       0.000000  ...       0.000000        0.000000   \n",
       "75%         0.000000       0.000000  ...       0.000000        0.000000   \n",
       "max       444.000000     742.000000  ...     257.000000     1000.000000   \n",
       "\n",
       "       f__item_cnt_11  f__item_cnt_12  f__item_cnt_13  f__item_cnt_14  \\\n",
       "count   214200.000000   214200.000000   214200.000000   214200.000000   \n",
       "mean         0.485752        0.323800        0.248922        0.225037   \n",
       "std          5.561023        4.229684        3.040342        2.998698   \n",
       "min         -1.000000       -1.000000       -1.000000       -1.000000   \n",
       "25%          0.000000        0.000000        0.000000        0.000000   \n",
       "50%          0.000000        0.000000        0.000000        0.000000   \n",
       "75%          0.000000        0.000000        0.000000        0.000000   \n",
       "max       1209.000000      772.000000      634.000000      639.000000   \n",
       "\n",
       "       f__item_cnt_15  f__item_cnt_16  f__item_cnt_17  f__item_cnt_18  \n",
       "count   214200.000000   214200.000000   214200.000000   214200.000000  \n",
       "mean         0.247241        0.206004        0.208492        0.199748  \n",
       "std          2.833560        2.655728        3.120215        2.763012  \n",
       "min         -1.000000       -1.000000       -1.000000       -1.000000  \n",
       "25%          0.000000        0.000000        0.000000        0.000000  \n",
       "50%          0.000000        0.000000        0.000000        0.000000  \n",
       "75%          0.000000        0.000000        0.000000        0.000000  \n",
       "max        591.000000      563.000000      771.000000      602.000000  \n",
       "\n",
       "[8 rows x 22 columns]"
      ]
     },
     "execution_count": 8,
     "metadata": {},
     "output_type": "execute_result"
    }
   ],
   "source": [
    "test_set_w18.describe()"
   ]
  },
  {
   "cell_type": "code",
   "execution_count": 30,
   "metadata": {},
   "outputs": [],
   "source": [
    "X_train, y_train = drop_non_features(train_set_w18).values, train_set_w18['item_cnt_month'].values\n",
    "X_test = drop_non_features(test_set_w18).values"
   ]
  },
  {
   "cell_type": "markdown",
   "metadata": {},
   "source": [
    "I'll use a default XGB regressor since in my experience it's usually a good default to start with."
   ]
  },
  {
   "cell_type": "code",
   "execution_count": null,
   "metadata": {},
   "outputs": [],
   "source": [
    "from xgboost import XGBRegressor\n",
    "from sklearn.model_selection import cross_validate\n",
    "from src.model import ClippedOutputRegressor\n",
    "from src.model import tscv\n",
    "\n",
    "reg = ClippedOutputRegressor(XGBRegressor(n_jobs=-1, verbosity=1))"
   ]
  },
  {
   "cell_type": "code",
   "execution_count": 28,
   "metadata": {},
   "outputs": [
    {
     "name": "stderr",
     "output_type": "stream",
     "text": [
      "[Parallel(n_jobs=-1)]: Using backend LokyBackend with 12 concurrent workers.\n",
      "[Parallel(n_jobs=-1)]: Done   5 out of   8 | elapsed:   26.1s remaining:   15.7s\n",
      "[Parallel(n_jobs=-1)]: Done   8 out of   8 | elapsed:   27.3s finished\n"
     ]
    },
    {
     "data": {
      "text/plain": [
       "{'fit_time': array([25.36750627, 26.59036994, 21.67717743, 26.66516399, 20.32476091,\n",
       "        20.22686911, 20.47635698, 26.70344663]),\n",
       " 'score_time': array([0.09192777, 0.07116914, 0.09098458, 0.07239461, 0.09095144,\n",
       "        0.09002376, 0.08779168, 0.06810689]),\n",
       " 'test_score': array([-0.75167242, -1.18909489, -1.16221947, -1.00335854, -0.74581479,\n",
       "        -0.78018019, -0.6606931 , -0.69698062]),\n",
       " 'train_score': array([-0.82447206, -0.76880405, -0.76328491, -0.79633034, -0.82486782,\n",
       "        -0.82851853, -0.83226782, -0.82897516])}"
      ]
     },
     "execution_count": 28,
     "metadata": {},
     "output_type": "execute_result"
    }
   ],
   "source": [
    "scores = cross_validate(reg, X=X_train, y=y_train,\n",
    "                        scoring='neg_root_mean_squared_error', verbose=2, n_jobs=-1, \n",
    "                        cv=8, return_train_score=True)\n",
    "scores"
   ]
  },
  {
   "cell_type": "code",
   "execution_count": 29,
   "metadata": {},
   "outputs": [
    {
     "data": {
      "text/plain": [
       "(-0.8737517512159962, 0.19878434691882502)"
      ]
     },
     "execution_count": 29,
     "metadata": {},
     "output_type": "execute_result"
    }
   ],
   "source": [
    "scores['test_score'].mean(), scores['test_score'].std() "
   ]
  },
  {
   "cell_type": "code",
   "execution_count": 31,
   "metadata": {},
   "outputs": [],
   "source": [
    "reg.fit(X_train, y_train)\n",
    "test_set_w18['item_cnt_month'] = reg.predict(X_test)\n",
    "\n",
    "test_set_w18[['ID', 'item_cnt_month']].to_csv(os.path.join(TMP_DIR, 'xgb-dataset-01.csv'), index=False)"
   ]
  },
  {
   "cell_type": "code",
   "execution_count": null,
   "metadata": {},
   "outputs": [],
   "source": [
    "%%bash\n",
    "kaggle c submit -f ${TMP_DIR}/xgb-dataset-01.csv -m 'Default XGB with ids and lagged item counts' competitive-data-science-predict-future-sales"
   ]
  },
  {
   "cell_type": "markdown",
   "metadata": {},
   "source": [
    "Pretty good. Let's try adding some categorical features."
   ]
  },
  {
   "cell_type": "code",
   "execution_count": 23,
   "metadata": {},
   "outputs": [],
   "source": [
    "train_set_w18_base_ids = add_as_cat_features(train_set_w18, ['item_id', 'shop_id'])"
   ]
  },
  {
   "cell_type": "code",
   "execution_count": 24,
   "metadata": {},
   "outputs": [
    {
     "name": "stderr",
     "output_type": "stream",
     "text": [
      "[Parallel(n_jobs=-1)]: Using backend LokyBackend with 12 concurrent workers.\n",
      "[Parallel(n_jobs=-1)]: Done   5 out of   8 | elapsed:   30.3s remaining:   18.2s\n",
      "[Parallel(n_jobs=-1)]: Done   8 out of   8 | elapsed:   31.6s finished\n"
     ]
    },
    {
     "data": {
      "text/plain": [
       "{'fit_time': array([23.12996221, 28.62978172, 23.28729844, 30.28636765, 23.13221407,\n",
       "        24.89766264, 30.38679814, 30.56204271]),\n",
       " 'score_time': array([0.11903572, 0.11405587, 0.13348985, 0.10038733, 0.14433527,\n",
       "        0.12946177, 0.11193705, 0.11129618]),\n",
       " 'test_score': array([-0.58648636, -0.99890535, -0.96909378, -0.81985889, -0.61720264,\n",
       "        -0.76004499, -0.49600374, -0.56115139]),\n",
       " 'train_score': array([-0.6023677 , -0.5723863 , -0.55554051, -0.58031067, -0.60311393,\n",
       "        -0.59139223, -0.61272041, -0.60674876])}"
      ]
     },
     "execution_count": 24,
     "metadata": {},
     "output_type": "execute_result"
    }
   ],
   "source": [
    "X_train = drop_non_features(train_set_w18_base_ids).values\n",
    "\n",
    "scores = cross_validate(reg, X=X_train, y=y_train,\n",
    "                        scoring='neg_root_mean_squared_error', verbose=2, n_jobs=-1, \n",
    "                        cv=8, return_train_score=True)\n",
    "scores"
   ]
  },
  {
   "cell_type": "code",
   "execution_count": 25,
   "metadata": {},
   "outputs": [
    {
     "data": {
      "text/plain": [
       "(-0.7260933919342771, 0.17850583438587173)"
      ]
     },
     "execution_count": 25,
     "metadata": {},
     "output_type": "execute_result"
    }
   ],
   "source": [
    "scores['test_score'].mean(), scores['test_score'].std() "
   ]
  },
  {
   "cell_type": "markdown",
   "metadata": {},
   "source": [
    "OK, we can see it's an improvement. Let's just submit that and see how it does on the public LB."
   ]
  },
  {
   "cell_type": "code",
   "execution_count": 17,
   "metadata": {},
   "outputs": [],
   "source": [
    "test_set_w18_base_ids = add_as_cat_features(test_set_w18, ['item_id', 'shop_id'])\n",
    "X_test = drop_non_features(test_set_w18_base_ids).values"
   ]
  },
  {
   "cell_type": "code",
   "execution_count": 19,
   "metadata": {},
   "outputs": [],
   "source": [
    "reg.fit(X_train, y_train)\n",
    "test_set_w18_base_ids['item_cnt_month'] = reg.predict(X_test)\n",
    "\n",
    "test_set_w18_base_ids[['ID', 'item_cnt_month']].to_csv(os.path.join(TMP_DIR, 'xgb-dataset-01.csv'), index=False)"
   ]
  },
  {
   "cell_type": "code",
   "execution_count": 32,
   "metadata": {},
   "outputs": [
    {
     "name": "stdout",
     "output_type": "stream",
     "text": [
      "Successfully submitted to Predict Future Sales"
     ]
    },
    {
     "name": "stderr",
     "output_type": "stream",
     "text": [
      "100%|██████████| 3.55M/3.55M [00:10<00:00, 344kB/s] \n"
     ]
    }
   ],
   "source": [
    "%%bash\n",
    "kaggle c submit -f ${TMP_DIR}/xgb-dataset-01.csv -m 'Default XGB with ids and lagged item counts' competitive-data-science-predict-future-sales"
   ]
  },
  {
   "cell_type": "markdown",
   "metadata": {},
   "source": [
    "It actually got worse. We can see adding item/shop ids makes the model overfit apparently."
   ]
  }
 ],
 "metadata": {
  "kernelspec": {
   "display_name": "Python 3",
   "language": "python",
   "name": "python3"
  },
  "language_info": {
   "codemirror_mode": {
    "name": "ipython",
    "version": 3
   },
   "file_extension": ".py",
   "mimetype": "text/x-python",
   "name": "python",
   "nbconvert_exporter": "python",
   "pygments_lexer": "ipython3",
   "version": "3.8.2"
  }
 },
 "nbformat": 4,
 "nbformat_minor": 4
}
