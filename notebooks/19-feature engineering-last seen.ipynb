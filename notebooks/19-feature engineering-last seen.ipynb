{
 "cells": [
  {
   "cell_type": "code",
   "execution_count": 1,
   "metadata": {},
   "outputs": [
    {
     "name": "stdout",
     "output_type": "stream",
     "text": [
      "Versions:\n",
      "  Python: 3.8.2 (default, Jul 16 2020, 14:00:26) \n",
      "[GCC 9.3.0]\n",
      "  pandas: 1.1.1\n",
      "  numpy: 1.19.1\n",
      "  seaborn: 0.10.1\n",
      "  sklearn: 0.23.2\n"
     ]
    }
   ],
   "source": [
    "%load_ext autoreload\n",
    "%autoreload 2\n",
    "\n",
    "import os\n",
    "import sys\n",
    "\n",
    "import pandas as pd\n",
    "import numpy as np\n",
    "import seaborn as sns\n",
    "import matplotlib.pyplot as plt\n",
    "import sklearn\n",
    "import scipy\n",
    "from tqdm.auto import tqdm, trange\n",
    "import xgboost as xgb\n",
    "import joblib\n",
    "from sklearn.model_selection import cross_validate\n",
    "import zipfile\n",
    "\n",
    "from src.model import tscv, ClippedOutputRegressor\n",
    "from src.data import get_feature_cols, df_to_X_y, drop_non_features, add_lagged_features\n",
    "\n",
    "\n",
    "%run constants.py\n",
    "\n",
    "baseline_reg = joblib.load(os.path.join(MODELS_DIR, 'xgb-baseline.model'))\n",
    "\n",
    "%matplotlib inline\n",
    "print(\"Versions:\")\n",
    "print(\"  Python: %s\" % sys.version)\n",
    "for module in [pd, np, sns, sklearn]:\n",
    "    print(\"  %s: %s\" %(module.__name__, module.__version__))"
   ]
  },
  {
   "cell_type": "markdown",
   "metadata": {},
   "source": [
    "We got the release date for our dataset, now let's try and capture info on the items/shops that were discontinued by building a `last seen` feature. Just like the release date, this will be a delta instead of the actual date."
   ]
  },
  {
   "cell_type": "code",
   "execution_count": 17,
   "metadata": {},
   "outputs": [],
   "source": [
    "sales_train = pd.read_parquet(os.path.join(PROCESSED_DATA_DIR, 'sales-train.parquet'))\n",
    "train_set = pd.read_parquet(os.path.join(PROCESSED_DATA_DIR, 'train-set.parquet'))"
   ]
  },
  {
   "cell_type": "code",
   "execution_count": 18,
   "metadata": {},
   "outputs": [],
   "source": [
    "    samples = sales_train[['item_id', 'shop_id', 'date_block_num']].drop_duplicates()"
   ]
  },
  {
   "cell_type": "code",
   "execution_count": 19,
   "metadata": {},
   "outputs": [],
   "source": [
    "df = samples.copy()\n",
    "groups = [['item_id'],\n",
    "          ['item_id', 'shop_id'],\n",
    "          ['shop_id']]"
   ]
  },
  {
   "cell_type": "code",
   "execution_count": 20,
   "metadata": {},
   "outputs": [
    {
     "data": {
      "application/vnd.jupyter.widget-view+json": {
       "model_id": "d1c30f7cdcbe4bae8da89b6dc7a33803",
       "version_major": 2,
       "version_minor": 0
      },
      "text/plain": [
       "HBox(children=(FloatProgress(value=0.0, max=3.0), HTML(value='')))"
      ]
     },
     "metadata": {},
     "output_type": "display_data"
    },
    {
     "data": {
      "application/vnd.jupyter.widget-view+json": {
       "model_id": "4a1ee41baf3d4e07a33968b392dc6456",
       "version_major": 2,
       "version_minor": 0
      },
      "text/plain": [
       "HBox(children=(FloatProgress(value=0.0, max=34.0), HTML(value='')))"
      ]
     },
     "metadata": {},
     "output_type": "display_data"
    },
    {
     "name": "stdout",
     "output_type": "stream",
     "text": [
      "\n"
     ]
    },
    {
     "data": {
      "application/vnd.jupyter.widget-view+json": {
       "model_id": "e08e2ef4c44a444394b28b1a11c939f7",
       "version_major": 2,
       "version_minor": 0
      },
      "text/plain": [
       "HBox(children=(FloatProgress(value=0.0, max=34.0), HTML(value='')))"
      ]
     },
     "metadata": {},
     "output_type": "display_data"
    },
    {
     "name": "stdout",
     "output_type": "stream",
     "text": [
      "\n"
     ]
    },
    {
     "data": {
      "application/vnd.jupyter.widget-view+json": {
       "model_id": "e0e53438f0684365b565eb5d0197e8af",
       "version_major": 2,
       "version_minor": 0
      },
      "text/plain": [
       "HBox(children=(FloatProgress(value=0.0, max=34.0), HTML(value='')))"
      ]
     },
     "metadata": {},
     "output_type": "display_data"
    },
    {
     "name": "stdout",
     "output_type": "stream",
     "text": [
      "\n",
      "\n"
     ]
    }
   ],
   "source": [
    "for group in tqdm(groups):\n",
    "    group_id = '_'.join(group) \n",
    "    date_col = '%s_last_seen_date' % group_id\n",
    "    delta_col = '%s_since_last_seen' % group_id\n",
    "    months_dfs = []\n",
    "    for month in trange(1, 35):\n",
    "        month_df = sales_train[sales_train['date_block_num'] < month].groupby(group)['date_block_num'].max().reset_index()\n",
    "        month_df.rename(columns={'date_block_num': date_col}, inplace=True)\n",
    "        month_df['date_block_num'] = month\n",
    "        months_dfs.append(month_df)\n",
    "    grp_df = pd.concat(months_dfs, axis=0)\n",
    "    df = df.merge(grp_df, on=group + ['date_block_num'], how='left')\n",
    "    df[delta_col] = df['date_block_num'] - df[date_col]\n",
    "df.fillna(-999, inplace=True)"
   ]
  },
  {
   "cell_type": "code",
   "execution_count": 21,
   "metadata": {},
   "outputs": [
    {
     "data": {
      "text/html": [
       "<div>\n",
       "<style scoped>\n",
       "    .dataframe tbody tr th:only-of-type {\n",
       "        vertical-align: middle;\n",
       "    }\n",
       "\n",
       "    .dataframe tbody tr th {\n",
       "        vertical-align: top;\n",
       "    }\n",
       "\n",
       "    .dataframe thead th {\n",
       "        text-align: right;\n",
       "    }\n",
       "</style>\n",
       "<table border=\"1\" class=\"dataframe\">\n",
       "  <thead>\n",
       "    <tr style=\"text-align: right;\">\n",
       "      <th></th>\n",
       "      <th>item_id</th>\n",
       "      <th>shop_id</th>\n",
       "      <th>date_block_num</th>\n",
       "      <th>item_id_last_seen_date</th>\n",
       "      <th>item_id_since_last_seen</th>\n",
       "      <th>item_id_shop_id_last_seen_date</th>\n",
       "      <th>item_id_shop_id_since_last_seen</th>\n",
       "      <th>shop_id_last_seen_date</th>\n",
       "      <th>shop_id_since_last_seen</th>\n",
       "    </tr>\n",
       "  </thead>\n",
       "  <tbody>\n",
       "    <tr>\n",
       "      <th>count</th>\n",
       "      <td>1.609123e+06</td>\n",
       "      <td>1.609123e+06</td>\n",
       "      <td>1.609123e+06</td>\n",
       "      <td>1.609123e+06</td>\n",
       "      <td>1.609123e+06</td>\n",
       "      <td>1.609123e+06</td>\n",
       "      <td>1.609123e+06</td>\n",
       "      <td>1.609123e+06</td>\n",
       "      <td>1.609123e+06</td>\n",
       "    </tr>\n",
       "    <tr>\n",
       "      <th>mean</th>\n",
       "      <td>1.068099e+04</td>\n",
       "      <td>3.280586e+01</td>\n",
       "      <td>1.466480e+01</td>\n",
       "      <td>-9.430966e+01</td>\n",
       "      <td>-1.060496e+02</td>\n",
       "      <td>-2.531549e+02</td>\n",
       "      <td>-2.615883e+02</td>\n",
       "      <td>-3.103444e+01</td>\n",
       "      <td>-4.373374e+01</td>\n",
       "    </tr>\n",
       "    <tr>\n",
       "      <th>std</th>\n",
       "      <td>6.238884e+03</td>\n",
       "      <td>1.653701e+01</td>\n",
       "      <td>9.542325e+00</td>\n",
       "      <td>3.134756e+02</td>\n",
       "      <td>3.092886e+02</td>\n",
       "      <td>4.462722e+02</td>\n",
       "      <td>4.411665e+02</td>\n",
       "      <td>2.096808e+02</td>\n",
       "      <td>2.067384e+02</td>\n",
       "    </tr>\n",
       "    <tr>\n",
       "      <th>min</th>\n",
       "      <td>0.000000e+00</td>\n",
       "      <td>0.000000e+00</td>\n",
       "      <td>0.000000e+00</td>\n",
       "      <td>-9.990000e+02</td>\n",
       "      <td>-9.990000e+02</td>\n",
       "      <td>-9.990000e+02</td>\n",
       "      <td>-9.990000e+02</td>\n",
       "      <td>-9.990000e+02</td>\n",
       "      <td>-9.990000e+02</td>\n",
       "    </tr>\n",
       "    <tr>\n",
       "      <th>25%</th>\n",
       "      <td>5.045000e+03</td>\n",
       "      <td>2.100000e+01</td>\n",
       "      <td>6.000000e+00</td>\n",
       "      <td>4.000000e+00</td>\n",
       "      <td>1.000000e+00</td>\n",
       "      <td>-9.990000e+02</td>\n",
       "      <td>-9.990000e+02</td>\n",
       "      <td>5.000000e+00</td>\n",
       "      <td>1.000000e+00</td>\n",
       "    </tr>\n",
       "    <tr>\n",
       "      <th>50%</th>\n",
       "      <td>1.049700e+04</td>\n",
       "      <td>3.100000e+01</td>\n",
       "      <td>1.400000e+01</td>\n",
       "      <td>1.200000e+01</td>\n",
       "      <td>1.000000e+00</td>\n",
       "      <td>8.000000e+00</td>\n",
       "      <td>1.000000e+00</td>\n",
       "      <td>1.300000e+01</td>\n",
       "      <td>1.000000e+00</td>\n",
       "    </tr>\n",
       "    <tr>\n",
       "      <th>75%</th>\n",
       "      <td>1.606000e+04</td>\n",
       "      <td>4.700000e+01</td>\n",
       "      <td>2.300000e+01</td>\n",
       "      <td>2.100000e+01</td>\n",
       "      <td>1.000000e+00</td>\n",
       "      <td>1.800000e+01</td>\n",
       "      <td>2.000000e+00</td>\n",
       "      <td>2.200000e+01</td>\n",
       "      <td>1.000000e+00</td>\n",
       "    </tr>\n",
       "    <tr>\n",
       "      <th>max</th>\n",
       "      <td>2.216900e+04</td>\n",
       "      <td>5.900000e+01</td>\n",
       "      <td>3.300000e+01</td>\n",
       "      <td>3.200000e+01</td>\n",
       "      <td>3.300000e+01</td>\n",
       "      <td>3.200000e+01</td>\n",
       "      <td>3.300000e+01</td>\n",
       "      <td>3.200000e+01</td>\n",
       "      <td>1.200000e+01</td>\n",
       "    </tr>\n",
       "  </tbody>\n",
       "</table>\n",
       "</div>"
      ],
      "text/plain": [
       "            item_id       shop_id  date_block_num  item_id_last_seen_date  \\\n",
       "count  1.609123e+06  1.609123e+06    1.609123e+06            1.609123e+06   \n",
       "mean   1.068099e+04  3.280586e+01    1.466480e+01           -9.430966e+01   \n",
       "std    6.238884e+03  1.653701e+01    9.542325e+00            3.134756e+02   \n",
       "min    0.000000e+00  0.000000e+00    0.000000e+00           -9.990000e+02   \n",
       "25%    5.045000e+03  2.100000e+01    6.000000e+00            4.000000e+00   \n",
       "50%    1.049700e+04  3.100000e+01    1.400000e+01            1.200000e+01   \n",
       "75%    1.606000e+04  4.700000e+01    2.300000e+01            2.100000e+01   \n",
       "max    2.216900e+04  5.900000e+01    3.300000e+01            3.200000e+01   \n",
       "\n",
       "       item_id_since_last_seen  item_id_shop_id_last_seen_date  \\\n",
       "count             1.609123e+06                    1.609123e+06   \n",
       "mean             -1.060496e+02                   -2.531549e+02   \n",
       "std               3.092886e+02                    4.462722e+02   \n",
       "min              -9.990000e+02                   -9.990000e+02   \n",
       "25%               1.000000e+00                   -9.990000e+02   \n",
       "50%               1.000000e+00                    8.000000e+00   \n",
       "75%               1.000000e+00                    1.800000e+01   \n",
       "max               3.300000e+01                    3.200000e+01   \n",
       "\n",
       "       item_id_shop_id_since_last_seen  shop_id_last_seen_date  \\\n",
       "count                     1.609123e+06            1.609123e+06   \n",
       "mean                     -2.615883e+02           -3.103444e+01   \n",
       "std                       4.411665e+02            2.096808e+02   \n",
       "min                      -9.990000e+02           -9.990000e+02   \n",
       "25%                      -9.990000e+02            5.000000e+00   \n",
       "50%                       1.000000e+00            1.300000e+01   \n",
       "75%                       2.000000e+00            2.200000e+01   \n",
       "max                       3.300000e+01            3.200000e+01   \n",
       "\n",
       "       shop_id_since_last_seen  \n",
       "count             1.609123e+06  \n",
       "mean             -4.373374e+01  \n",
       "std               2.067384e+02  \n",
       "min              -9.990000e+02  \n",
       "25%               1.000000e+00  \n",
       "50%               1.000000e+00  \n",
       "75%               1.000000e+00  \n",
       "max               1.200000e+01  "
      ]
     },
     "execution_count": 21,
     "metadata": {},
     "output_type": "execute_result"
    }
   ],
   "source": [
    "df.describe()"
   ]
  },
  {
   "cell_type": "code",
   "execution_count": 22,
   "metadata": {},
   "outputs": [
    {
     "data": {
      "text/plain": [
       "<AxesSubplot:xlabel='item_id_since_last_seen'>"
      ]
     },
     "execution_count": 22,
     "metadata": {},
     "output_type": "execute_result"
    },
    {
     "data": {
      "image/png": "[encoded data removed]",
      "text/plain": [
       "<Figure size 432x288 with 1 Axes>"
      ]
     },
     "metadata": {
      "needs_background": "light"
     },
     "output_type": "display_data"
    }
   ],
   "source": [
    "sns.boxplot(df['item_id_since_last_seen'])"
   ]
  },
  {
   "cell_type": "code",
   "execution_count": 24,
   "metadata": {},
   "outputs": [
    {
     "data": {
      "text/plain": [
       "<AxesSubplot:xlabel='item_id_since_last_seen'>"
      ]
     },
     "execution_count": 24,
     "metadata": {},
     "output_type": "execute_result"
    },
    {
     "data": {
      "image/png": "[encoded data removed]",
      "text/plain": [
       "<Figure size 432x288 with 1 Axes>"
      ]
     },
     "metadata": {
      "needs_background": "light"
     },
     "output_type": "display_data"
    }
   ],
   "source": [
    "sns.boxplot(df[df['item_id_since_last_seen'] > -999]['item_id_since_last_seen'])"
   ]
  }
 ],
 "metadata": {
  "kernelspec": {
   "display_name": "Python 3",
   "language": "python",
   "name": "python3"
  },
  "language_info": {
   "codemirror_mode": {
    "name": "ipython",
    "version": 3
   },
   "file_extension": ".py",
   "mimetype": "text/x-python",
   "name": "python",
   "nbconvert_exporter": "python",
   "pygments_lexer": "ipython3",
   "version": "3.8.2"
  }
 },
 "nbformat": 4,
 "nbformat_minor": 4
}
