{
 "cells": [
  {
   "cell_type": "code",
   "execution_count": 1,
   "metadata": {},
   "outputs": [
    {
     "name": "stdout",
     "output_type": "stream",
     "text": [
      "Versions:\n",
      "  Python: 3.8.2 (default, Jul 16 2020, 14:00:26) \n",
      "[GCC 9.3.0]\n",
      "  pandas: 1.1.0\n",
      "  numpy: 1.19.1\n",
      "  seaborn: 0.10.1\n",
      "  sklearn: 0.23.2\n",
      "  altair: 4.1.0\n"
     ]
    }
   ],
   "source": [
    "%load_ext autoreload\n",
    "%autoreload 2\n",
    "\n",
    "import os\n",
    "import sys\n",
    "\n",
    "import pandas as pd\n",
    "import numpy as np\n",
    "import seaborn as sns\n",
    "import matplotlib.pyplot as plt\n",
    "import sklearn\n",
    "import scipy\n",
    "import altair as alt\n",
    "from altair import datum\n",
    "from tqdm.auto import tqdm, trange\n",
    "\n",
    "from src.model import tscv\n",
    "\n",
    "%run constants.py\n",
    "\n",
    "%matplotlib inline\n",
    "print(\"Versions:\")\n",
    "print(\"  Python: %s\" % sys.version)\n",
    "for module in [pd, np, sns, sklearn, alt]:\n",
    "    print(\"  %s: %s\" %(module.__name__, module.__version__))"
   ]
  },
  {
   "cell_type": "markdown",
   "metadata": {},
   "source": [
    "# Feature Engineering\n",
    "\n",
    "I think we have enough information to start with feature engineering now.\n",
    "\n",
    "The first step in my opinion is to define a validation pipeline, which is described in the next session.\n",
    "\n",
    "## Validation pipeline\n",
    "\n",
    "First of all, we need our metric, which sould be `sklearn.metrics.mean_squared_error(squared=False)`.\n",
    "\n",
    "Now, we need to decide how our training set should be split to validate a model. Since the problem is about forecasting, I chose to do a time-series split for this. This means I'll train on the dataset where `date_block_num < k` and predict for dataset where `date_block_num = k`, for `k in [31, 32, 33]`."
   ]
  },
  {
   "cell_type": "code",
   "execution_count": 2,
   "metadata": {},
   "outputs": [
    {
     "data": {
      "text/html": [
       "<div>\n",
       "<style scoped>\n",
       "    .dataframe tbody tr th:only-of-type {\n",
       "        vertical-align: middle;\n",
       "    }\n",
       "\n",
       "    .dataframe tbody tr th {\n",
       "        vertical-align: top;\n",
       "    }\n",
       "\n",
       "    .dataframe thead th {\n",
       "        text-align: right;\n",
       "    }\n",
       "</style>\n",
       "<table border=\"1\" class=\"dataframe\">\n",
       "  <thead>\n",
       "    <tr style=\"text-align: right;\">\n",
       "      <th></th>\n",
       "      <th>date_block_num</th>\n",
       "      <th>item_id</th>\n",
       "      <th>shop_id</th>\n",
       "      <th>item_cnt</th>\n",
       "    </tr>\n",
       "  </thead>\n",
       "  <tbody>\n",
       "    <tr>\n",
       "      <th>0</th>\n",
       "      <td>0</td>\n",
       "      <td>33</td>\n",
       "      <td>2</td>\n",
       "      <td>1.0</td>\n",
       "    </tr>\n",
       "    <tr>\n",
       "      <th>1</th>\n",
       "      <td>0</td>\n",
       "      <td>317</td>\n",
       "      <td>2</td>\n",
       "      <td>1.0</td>\n",
       "    </tr>\n",
       "    <tr>\n",
       "      <th>2</th>\n",
       "      <td>0</td>\n",
       "      <td>438</td>\n",
       "      <td>2</td>\n",
       "      <td>1.0</td>\n",
       "    </tr>\n",
       "    <tr>\n",
       "      <th>3</th>\n",
       "      <td>0</td>\n",
       "      <td>471</td>\n",
       "      <td>2</td>\n",
       "      <td>2.0</td>\n",
       "    </tr>\n",
       "    <tr>\n",
       "      <th>4</th>\n",
       "      <td>0</td>\n",
       "      <td>481</td>\n",
       "      <td>2</td>\n",
       "      <td>1.0</td>\n",
       "    </tr>\n",
       "  </tbody>\n",
       "</table>\n",
       "</div>"
      ],
      "text/plain": [
       "   date_block_num  item_id  shop_id  item_cnt\n",
       "0               0       33        2       1.0\n",
       "1               0      317        2       1.0\n",
       "2               0      438        2       1.0\n",
       "3               0      471        2       2.0\n",
       "4               0      481        2       1.0"
      ]
     },
     "execution_count": 2,
     "metadata": {},
     "output_type": "execute_result"
    }
   ],
   "source": [
    "train_set = pd.read_parquet(os.path.join(PROCESSED_DATA_DIR, 'train-set-base.parquet'))\n",
    "train_set.head()"
   ]
  },
  {
   "cell_type": "markdown",
   "metadata": {},
   "source": [
    "In order to use more of the dataset I'll use everything for CV and use the public LB score as the generalization score."
   ]
  },
  {
   "cell_type": "code",
   "execution_count": 3,
   "metadata": {},
   "outputs": [
    {
     "data": {
      "text/plain": [
       "[(array([      0,       1,       2, ..., 1506157, 1506158, 1506159]),\n",
       "  array([1506160, 1506161, 1506162, ..., 1539643, 1539644, 1539645])),\n",
       " (array([      0,       1,       2, ..., 1539643, 1539644, 1539645]),\n",
       "  array([1539646, 1539647, 1539648, ..., 1569321, 1569322, 1569323])),\n",
       " (array([      0,       1,       2, ..., 1569321, 1569322, 1569323]),\n",
       "  array([1569324, 1569325, 1569326, ..., 1600852, 1600853, 1600854]))]"
      ]
     },
     "execution_count": 3,
     "metadata": {},
     "output_type": "execute_result"
    }
   ],
   "source": [
    "tscv.split(train_set['date_block_num'].values)"
   ]
  },
  {
   "cell_type": "markdown",
   "metadata": {},
   "source": [
    "With that we can use scikit learn to evaluate a regressor. Let's prepare our matrices and try a random forest just as an exercise."
   ]
  },
  {
   "cell_type": "code",
   "execution_count": 4,
   "metadata": {},
   "outputs": [],
   "source": [
    "cv_splits = tscv.split(train_set['date_block_num'].values)\n",
    "X_train, y_train = train_set.drop(columns='item_cnt').values, train_set['item_cnt'].values"
   ]
  },
  {
   "cell_type": "markdown",
   "metadata": {},
   "source": [
    "We also need to remember to trim the outputs. For that I'll use a wrapper I wrote. Every estimator should be wrapped with it to have the output automatically clipped."
   ]
  },
  {
   "cell_type": "code",
   "execution_count": 6,
   "metadata": {},
   "outputs": [
    {
     "name": "stderr",
     "output_type": "stream",
     "text": [
      "[Parallel(n_jobs=-1)]: Using backend LokyBackend with 12 concurrent workers.\n",
      "[Parallel(n_jobs=-1)]: Done   3 out of   3 | elapsed:   47.8s finished\n"
     ]
    },
    {
     "data": {
      "text/plain": [
       "{'fit_time': array([42.19428134, 42.98557067, 43.57930064]),\n",
       " 'score_time': array([0.08686161, 0.28909612, 0.42412257]),\n",
       " 'test_score': array([-1.74787287, -2.23176135, -2.35461043]),\n",
       " 'train_score': array([-0.6457319 , -0.64383231, -0.64148027])}"
      ]
     },
     "execution_count": 6,
     "metadata": {},
     "output_type": "execute_result"
    }
   ],
   "source": [
    "from sklearn.ensemble import RandomForestRegressor\n",
    "from sklearn.model_selection import cross_validate\n",
    "from sklearn.metrics import mean_squared_error\n",
    "from src.model import ClippedOutputRegressor\n",
    "\n",
    "reg = ClippedOutputRegressor(RandomForestRegressor(n_estimators=30, n_jobs=-1, verbose=1))\n",
    "scores = cross_validate(reg, X=X_train, y=y_train,\n",
    "                        scoring='neg_root_mean_squared_error', verbose=1, n_jobs=-1, \n",
    "                        cv=cv_splits, return_train_score=True)\n",
    "scores"
   ]
  },
  {
   "cell_type": "code",
   "execution_count": 7,
   "metadata": {},
   "outputs": [
    {
     "data": {
      "text/plain": [
       "-2.111414882776397"
      ]
     },
     "execution_count": 7,
     "metadata": {},
     "output_type": "execute_result"
    }
   ],
   "source": [
    "scores['test_score'].mean()"
   ]
  },
  {
   "cell_type": "markdown",
   "metadata": {},
   "source": [
    "We can verify if our validation split is good by comparing with our generalization score. Since we're using the public LB, let's fit the model to the whole train set, create a submission and send it."
   ]
  },
  {
   "cell_type": "code",
   "execution_count": 8,
   "metadata": {},
   "outputs": [
    {
     "name": "stderr",
     "output_type": "stream",
     "text": [
      "[Parallel(n_jobs=-1)]: Using backend ThreadingBackend with 12 concurrent workers.\n",
      "[Parallel(n_jobs=-1)]: Done  30 out of  30 | elapsed:   16.5s finished\n",
      "[Parallel(n_jobs=12)]: Using backend ThreadingBackend with 12 concurrent workers.\n",
      "[Parallel(n_jobs=12)]: Done  30 out of  30 | elapsed:    0.2s finished\n"
     ]
    }
   ],
   "source": [
    "test_set = pd.read_parquet(os.path.join(PROCESSED_DATA_DIR, 'test-set-base.parquet'))\n",
    "reg.fit(X_train, y_train)\n",
    "y_pred = reg.predict(test_set.drop(columns='ID').values)"
   ]
  },
  {
   "cell_type": "code",
   "execution_count": 9,
   "metadata": {},
   "outputs": [],
   "source": [
    "submission = pd.DataFrame({'ID': test_set['ID'], 'item_cnt_month': y_pred})\n",
    "submission.to_csv(os.path.join(TMP_DIR, 'rf-exercise-submission.csv'), index=False)"
   ]
  },
  {
   "cell_type": "code",
   "execution_count": 10,
   "metadata": {},
   "outputs": [
    {
     "name": "stdout",
     "output_type": "stream",
     "text": [
      "Successfully submitted to Predict Future Sales"
     ]
    },
    {
     "name": "stderr",
     "output_type": "stream",
     "text": [
      "100%|██████████| 3.93M/3.93M [00:12<00:00, 335kB/s] \n"
     ]
    }
   ],
   "source": [
    "%%bash\n",
    "kaggle c submit -f ${TMP_DIR}/rf-exercise-submission.csv -m 'testing CV score using a RF' competitive-data-science-predict-future-sales"
   ]
  },
  {
   "cell_type": "code",
   "execution_count": 11,
   "metadata": {},
   "outputs": [
    {
     "data": {
      "text/html": [
       "<div>\n",
       "<style scoped>\n",
       "    .dataframe tbody tr th:only-of-type {\n",
       "        vertical-align: middle;\n",
       "    }\n",
       "\n",
       "    .dataframe tbody tr th {\n",
       "        vertical-align: top;\n",
       "    }\n",
       "\n",
       "    .dataframe thead th {\n",
       "        text-align: right;\n",
       "    }\n",
       "</style>\n",
       "<table border=\"1\" class=\"dataframe\">\n",
       "  <thead>\n",
       "    <tr style=\"text-align: right;\">\n",
       "      <th></th>\n",
       "      <th>ID</th>\n",
       "      <th>item_cnt_month</th>\n",
       "    </tr>\n",
       "  </thead>\n",
       "  <tbody>\n",
       "    <tr>\n",
       "      <th>count</th>\n",
       "      <td>214200.000000</td>\n",
       "      <td>214200.000000</td>\n",
       "    </tr>\n",
       "    <tr>\n",
       "      <th>mean</th>\n",
       "      <td>107099.500000</td>\n",
       "      <td>1.424671</td>\n",
       "    </tr>\n",
       "    <tr>\n",
       "      <th>std</th>\n",
       "      <td>61834.358168</td>\n",
       "      <td>1.199721</td>\n",
       "    </tr>\n",
       "    <tr>\n",
       "      <th>min</th>\n",
       "      <td>0.000000</td>\n",
       "      <td>0.300000</td>\n",
       "    </tr>\n",
       "    <tr>\n",
       "      <th>25%</th>\n",
       "      <td>53549.750000</td>\n",
       "      <td>1.033333</td>\n",
       "    </tr>\n",
       "    <tr>\n",
       "      <th>50%</th>\n",
       "      <td>107099.500000</td>\n",
       "      <td>1.166667</td>\n",
       "    </tr>\n",
       "    <tr>\n",
       "      <th>75%</th>\n",
       "      <td>160649.250000</td>\n",
       "      <td>1.400000</td>\n",
       "    </tr>\n",
       "    <tr>\n",
       "      <th>max</th>\n",
       "      <td>214199.000000</td>\n",
       "      <td>20.000000</td>\n",
       "    </tr>\n",
       "  </tbody>\n",
       "</table>\n",
       "</div>"
      ],
      "text/plain": [
       "                  ID  item_cnt_month\n",
       "count  214200.000000   214200.000000\n",
       "mean   107099.500000        1.424671\n",
       "std     61834.358168        1.199721\n",
       "min         0.000000        0.300000\n",
       "25%     53549.750000        1.033333\n",
       "50%    107099.500000        1.166667\n",
       "75%    160649.250000        1.400000\n",
       "max    214199.000000       20.000000"
      ]
     },
     "execution_count": 11,
     "metadata": {},
     "output_type": "execute_result"
    }
   ],
   "source": [
    "submission.describe()"
   ]
  },
  {
   "cell_type": "markdown",
   "metadata": {},
   "source": [
    "The score on the public LB is 1.88491, which is not close enough to our mean test score for me.\n",
    "\n",
    "Upon closer inspection, we can see the model actually overfitting because of the amount of data: the test score is getting worse while the train score is getting better. It's too early to act on that, but `tscv.split` has a `window` paramater that we can tweak.\n",
    "\n",
    "But maybe this is because of the chosen months. To visualize this, let's fix the month and vary only the window length."
   ]
  },
  {
   "cell_type": "code",
   "execution_count": 12,
   "metadata": {},
   "outputs": [
    {
     "data": {
      "text/plain": [
       "[(array([1539646, 1539647, 1539648, ..., 1600852, 1600853, 1600854]),\n",
       "  array([1569324, 1569325, 1569326, ..., 1600852, 1600853, 1600854])),\n",
       " (array([1506160, 1506161, 1506162, ..., 1600852, 1600853, 1600854]),\n",
       "  array([1569324, 1569325, 1569326, ..., 1600852, 1600853, 1600854])),\n",
       " (array([1472633, 1472634, 1472635, ..., 1600852, 1600853, 1600854]),\n",
       "  array([1569324, 1569325, 1569326, ..., 1600852, 1600853, 1600854])),\n",
       " (array([1440724, 1440725, 1440726, ..., 1600852, 1600853, 1600854]),\n",
       "  array([1569324, 1569325, 1569326, ..., 1600852, 1600853, 1600854])),\n",
       " (array([1408504, 1408505, 1408506, ..., 1600852, 1600853, 1600854]),\n",
       "  array([1569324, 1569325, 1569326, ..., 1600852, 1600853, 1600854])),\n",
       " (array([1375631, 1375632, 1375633, ..., 1600852, 1600853, 1600854]),\n",
       "  array([1569324, 1569325, 1569326, ..., 1600852, 1600853, 1600854])),\n",
       " (array([1335167, 1335168, 1335169, ..., 1600852, 1600853, 1600854]),\n",
       "  array([1569324, 1569325, 1569326, ..., 1600852, 1600853, 1600854])),\n",
       " (array([1293778, 1293779, 1293780, ..., 1600852, 1600853, 1600854]),\n",
       "  array([1569324, 1569325, 1569326, ..., 1600852, 1600853, 1600854])),\n",
       " (array([1247004, 1247005, 1247006, ..., 1600852, 1600853, 1600854]),\n",
       "  array([1569324, 1569325, 1569326, ..., 1600852, 1600853, 1600854])),\n",
       " (array([1187732, 1187733, 1187734, ..., 1600852, 1600853, 1600854]),\n",
       "  array([1569324, 1569325, 1569326, ..., 1600852, 1600853, 1600854]))]"
      ]
     },
     "execution_count": 12,
     "metadata": {},
     "output_type": "execute_result"
    }
   ],
   "source": [
    "dates = train_set['date_block_num'].values\n",
    "windows_splits = [(np.where(dates >= 33 - w)[0], np.where(dates == 33)[0])\n",
    "                  for w in range(1, 34)]\n",
    "windows_splits[:10]"
   ]
  },
  {
   "cell_type": "code",
   "execution_count": 13,
   "metadata": {},
   "outputs": [
    {
     "name": "stderr",
     "output_type": "stream",
     "text": [
      "[Parallel(n_jobs=-1)]: Using backend LokyBackend with 12 concurrent workers.\n",
      "[Parallel(n_jobs=-1)]: Done  27 out of  33 | elapsed:  4.0min remaining:   52.9s\n",
      "[Parallel(n_jobs=-1)]: Done  33 out of  33 | elapsed:  4.4min finished\n"
     ]
    },
    {
     "data": {
      "text/plain": [
       "{'fit_time': array([  4.52534199,   7.88994384,  10.4708035 ,  13.45021272,\n",
       "         17.23910999,  20.37744761,  25.34409404,  28.90832758,\n",
       "         34.37848234,  37.37173653,  43.34159684,  48.28351712,\n",
       "         57.20768523,  62.88230276,  67.27182889,  74.54134178,\n",
       "         79.78189969,  87.48417807,  94.65934944, 100.82706451,\n",
       "        110.36343336, 121.77316236, 126.63337922, 134.19145536,\n",
       "        138.8156631 , 139.6626668 , 142.68819332, 141.46605611,\n",
       "        138.83562326, 132.7873497 , 124.52139473, 116.87628388,\n",
       "        102.76078439]),\n",
       " 'score_time': array([0.63493252, 0.52236533, 0.59264088, 0.69544005, 0.5704596 ,\n",
       "        0.52924752, 0.55239987, 0.5612545 , 0.6579144 , 0.60722208,\n",
       "        0.69230747, 0.65601659, 0.68808293, 0.65025377, 0.60070109,\n",
       "        0.5881505 , 0.64805174, 0.6864686 , 0.68516827, 0.63303447,\n",
       "        0.58063364, 0.70729089, 0.67419672, 0.52665281, 0.43456984,\n",
       "        0.56268191, 0.4857409 , 0.3887589 , 0.39943218, 0.3215251 ,\n",
       "        0.31105661, 0.31004786, 0.02878094]),\n",
       " 'test_score': array([-0.70464666, -0.68765455, -0.68927462, -0.68269746, -0.68825859,\n",
       "        -0.68069491, -0.69154382, -0.69345767, -0.69189306, -0.68030304,\n",
       "        -0.68759826, -0.68781004, -0.6886705 , -0.6937496 , -0.68191104,\n",
       "        -0.68549144, -0.68908456, -0.69229453, -0.67807503, -0.67892035,\n",
       "        -0.68425255, -0.67728108, -0.67374479, -0.68480412, -0.68447644,\n",
       "        -0.67838693, -0.68341345, -0.68930061, -0.68757566, -0.68770241,\n",
       "        -0.68428925, -0.68312417, -0.6785549 ]),\n",
       " 'train_score': array([-0.69126785, -0.62943581, -0.60846367, -0.59521043, -0.59034271,\n",
       "        -0.59277728, -0.5969388 , -0.59619654, -0.61075158, -0.66897917,\n",
       "        -0.66504646, -0.66680226, -0.66109012, -0.65460095, -0.64683307,\n",
       "        -0.63984393, -0.64099584, -0.63986433, -0.63815516, -0.63959278,\n",
       "        -0.63747254, -0.65634056, -0.65348606, -0.64801527, -0.65096194,\n",
       "        -0.64526307, -0.64138018, -0.64242289, -0.6405418 , -0.63915643,\n",
       "        -0.64357882, -0.64246918, -0.64268955])}"
      ]
     },
     "execution_count": 13,
     "metadata": {},
     "output_type": "execute_result"
    }
   ],
   "source": [
    "scores = cross_validate(reg, X=X_train, y=y_train,\n",
    "                        scoring='neg_root_mean_squared_error', verbose=2, n_jobs=-1, \n",
    "                        cv=windows_splits, return_train_score=True)\n",
    "scores"
   ]
  },
  {
   "cell_type": "code",
   "execution_count": 14,
   "metadata": {},
   "outputs": [
    {
     "data": {
      "text/plain": [
       "<matplotlib.legend.Legend at 0x7f3a9cec3ca0>"
      ]
     },
     "execution_count": 14,
     "metadata": {},
     "output_type": "execute_result"
    },
    {
     "data": {
      "image/png": "[encoded data removed]",
      "text/plain": [
       "<Figure size 432x288 with 1 Axes>"
      ]
     },
     "metadata": {
      "needs_background": "light"
     },
     "output_type": "display_data"
    }
   ],
   "source": [
    "plt.plot(scores['train_score'], label='Train Score')\n",
    "plt.plot(scores['test_score'], label='Test Score')\n",
    "plt.legend()"
   ]
  },
  {
   "cell_type": "markdown",
   "metadata": {},
   "source": [
    "It doesn't seem to be the case. We can test it again later when we have actual features."
   ]
  }
 ],
 "metadata": {
  "kernelspec": {
   "display_name": "Python 3",
   "language": "python",
   "name": "python3"
  },
  "language_info": {
   "codemirror_mode": {
    "name": "ipython",
    "version": 3
   },
   "file_extension": ".py",
   "mimetype": "text/x-python",
   "name": "python",
   "nbconvert_exporter": "python",
   "pygments_lexer": "ipython3",
   "version": "3.8.2"
  }
 },
 "nbformat": 4,
 "nbformat_minor": 4
}
