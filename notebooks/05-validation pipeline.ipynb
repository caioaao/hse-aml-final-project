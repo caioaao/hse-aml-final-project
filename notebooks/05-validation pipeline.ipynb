{
 "cells": [
  {
   "cell_type": "code",
   "execution_count": 1,
   "metadata": {},
   "outputs": [
    {
     "name": "stdout",
     "output_type": "stream",
     "text": [
      "Versions:\n",
      "  Python: 3.8.2 (default, Jul 16 2020, 14:00:26) \n",
      "[GCC 9.3.0]\n",
      "  pandas: 1.1.0\n",
      "  numpy: 1.19.1\n",
      "  seaborn: 0.10.1\n",
      "  sklearn: 0.23.2\n",
      "  altair: 4.1.0\n"
     ]
    }
   ],
   "source": [
    "%load_ext autoreload\n",
    "%autoreload 2\n",
    "\n",
    "import os\n",
    "import sys\n",
    "\n",
    "import pandas as pd\n",
    "import numpy as np\n",
    "import seaborn as sns\n",
    "import matplotlib.pyplot as plt\n",
    "import sklearn\n",
    "import scipy\n",
    "import altair as alt\n",
    "from altair import datum\n",
    "from tqdm.auto import tqdm, trange\n",
    "\n",
    "from src.model import tscv\n",
    "\n",
    "%run constants.py\n",
    "\n",
    "%matplotlib inline\n",
    "print(\"Versions:\")\n",
    "print(\"  Python: %s\" % sys.version)\n",
    "for module in [pd, np, sns, sklearn, alt]:\n",
    "    print(\"  %s: %s\" %(module.__name__, module.__version__))"
   ]
  },
  {
   "cell_type": "markdown",
   "metadata": {},
   "source": [
    "# Feature Engineering\n",
    "\n",
    "I think we have enough information to start with feature engineering now.\n",
    "\n",
    "The first step in my opinion is to define a validation pipeline, which is described in the next session.\n",
    "\n",
    "## Validation pipeline\n",
    "\n",
    "First of all, we need our metric, which sould be `sklearn.metrics.mean_squared_error(squared=False)`.\n",
    "\n",
    "Now, we need to decide how our training set should be split to validate a model. Since the problem is about forecasting, I chose to do a time-series split for this. This means I'll train on the dataset where `date_block_num < k` and predict for dataset where `date_block_num = k`, for `k in [31, 32, 33]`."
   ]
  },
  {
   "cell_type": "code",
   "execution_count": 2,
   "metadata": {},
   "outputs": [
    {
     "data": {
      "text/html": [
       "<div>\n",
       "<style scoped>\n",
       "    .dataframe tbody tr th:only-of-type {\n",
       "        vertical-align: middle;\n",
       "    }\n",
       "\n",
       "    .dataframe tbody tr th {\n",
       "        vertical-align: top;\n",
       "    }\n",
       "\n",
       "    .dataframe thead th {\n",
       "        text-align: right;\n",
       "    }\n",
       "</style>\n",
       "<table border=\"1\" class=\"dataframe\">\n",
       "  <thead>\n",
       "    <tr style=\"text-align: right;\">\n",
       "      <th></th>\n",
       "      <th>date_block_num</th>\n",
       "      <th>item_id</th>\n",
       "      <th>shop_id</th>\n",
       "      <th>item_cnt</th>\n",
       "    </tr>\n",
       "  </thead>\n",
       "  <tbody>\n",
       "    <tr>\n",
       "      <th>0</th>\n",
       "      <td>0</td>\n",
       "      <td>33</td>\n",
       "      <td>2</td>\n",
       "      <td>1.0</td>\n",
       "    </tr>\n",
       "    <tr>\n",
       "      <th>1</th>\n",
       "      <td>0</td>\n",
       "      <td>317</td>\n",
       "      <td>2</td>\n",
       "      <td>1.0</td>\n",
       "    </tr>\n",
       "    <tr>\n",
       "      <th>2</th>\n",
       "      <td>0</td>\n",
       "      <td>438</td>\n",
       "      <td>2</td>\n",
       "      <td>1.0</td>\n",
       "    </tr>\n",
       "    <tr>\n",
       "      <th>3</th>\n",
       "      <td>0</td>\n",
       "      <td>471</td>\n",
       "      <td>2</td>\n",
       "      <td>2.0</td>\n",
       "    </tr>\n",
       "    <tr>\n",
       "      <th>4</th>\n",
       "      <td>0</td>\n",
       "      <td>481</td>\n",
       "      <td>2</td>\n",
       "      <td>1.0</td>\n",
       "    </tr>\n",
       "  </tbody>\n",
       "</table>\n",
       "</div>"
      ],
      "text/plain": [
       "   date_block_num  item_id  shop_id  item_cnt\n",
       "0               0       33        2       1.0\n",
       "1               0      317        2       1.0\n",
       "2               0      438        2       1.0\n",
       "3               0      471        2       2.0\n",
       "4               0      481        2       1.0"
      ]
     },
     "execution_count": 2,
     "metadata": {},
     "output_type": "execute_result"
    }
   ],
   "source": [
    "train_set = pd.read_parquet(os.path.join(PROCESSED_DATA_DIR, 'train-set-base.parquet'))\n",
    "train_set.head()"
   ]
  },
  {
   "cell_type": "markdown",
   "metadata": {},
   "source": [
    "In order to use more of the dataset I'll use everything for CV and use the public LB score as the generalization score."
   ]
  },
  {
   "cell_type": "code",
   "execution_count": 7,
   "metadata": {},
   "outputs": [
    {
     "data": {
      "text/plain": [
       "[(array([      0,       1,       2, ..., 1506157, 1506158, 1506159]),\n",
       "  array([1506160, 1506161, 1506162, ..., 1539643, 1539644, 1539645])),\n",
       " (array([      0,       1,       2, ..., 1539643, 1539644, 1539645]),\n",
       "  array([1539646, 1539647, 1539648, ..., 1569321, 1569322, 1569323])),\n",
       " (array([      0,       1,       2, ..., 1569321, 1569322, 1569323]),\n",
       "  array([1569324, 1569325, 1569326, ..., 1600852, 1600853, 1600854]))]"
      ]
     },
     "execution_count": 7,
     "metadata": {},
     "output_type": "execute_result"
    }
   ],
   "source": [
    "tscv.split(train_set['date_block_num'].values)"
   ]
  },
  {
   "cell_type": "markdown",
   "metadata": {},
   "source": [
    "With that we can use scikit learn to evaluate a regressor. Let's prepare our matrices and try a random forest just as an exercise."
   ]
  },
  {
   "cell_type": "code",
   "execution_count": 8,
   "metadata": {},
   "outputs": [],
   "source": [
    "cv_splits = tscv.split(train_set['date_block_num'].values)\n",
    "X_train, y_train = train_set.drop(columns='item_cnt').values, train_set['item_cnt'].values"
   ]
  },
  {
   "cell_type": "code",
   "execution_count": 9,
   "metadata": {},
   "outputs": [
    {
     "name": "stderr",
     "output_type": "stream",
     "text": [
      "[Parallel(n_jobs=-1)]: Using backend LokyBackend with 12 concurrent workers.\n",
      "[Parallel(n_jobs=-1)]: Done   3 out of   3 | elapsed:   47.3s finished\n"
     ]
    },
    {
     "data": {
      "text/plain": [
       "{'fit_time': array([41.68129301, 42.44070935, 42.9116106 ]),\n",
       " 'score_time': array([0.1192565 , 0.31184673, 0.33058143]),\n",
       " 'test_score': array([-1.75395479, -2.22507848, -2.3601891 ]),\n",
       " 'train_score': array([-0.64481598, -0.64339272, -0.64297523])}"
      ]
     },
     "execution_count": 9,
     "metadata": {},
     "output_type": "execute_result"
    }
   ],
   "source": [
    "from sklearn.ensemble import RandomForestRegressor\n",
    "from sklearn.model_selection import cross_validate\n",
    "from sklearn.metrics import mean_squared_error\n",
    "\n",
    "reg = RandomForestRegressor(n_estimators=30, n_jobs=-1, verbose=1)\n",
    "scores = cross_validate(reg, X=X_train, y=y_train,\n",
    "                        scoring='neg_root_mean_squared_error', verbose=1, n_jobs=-1, \n",
    "                        cv=cv_splits, return_train_score=True)\n",
    "scores"
   ]
  },
  {
   "cell_type": "code",
   "execution_count": 15,
   "metadata": {},
   "outputs": [
    {
     "data": {
      "text/plain": [
       "-2.1130741247898084"
      ]
     },
     "execution_count": 15,
     "metadata": {},
     "output_type": "execute_result"
    }
   ],
   "source": [
    "scores['test_score'].mean()"
   ]
  },
  {
   "cell_type": "markdown",
   "metadata": {},
   "source": [
    "We can verify if our validation split is good by comparing with our generalization score. Since we're using the public LB, let's fit the model to the whole train set, create a submission and send it."
   ]
  },
  {
   "cell_type": "code",
   "execution_count": 10,
   "metadata": {},
   "outputs": [
    {
     "name": "stderr",
     "output_type": "stream",
     "text": [
      "[Parallel(n_jobs=-1)]: Using backend ThreadingBackend with 12 concurrent workers.\n",
      "[Parallel(n_jobs=-1)]: Done  30 out of  30 | elapsed:   15.0s finished\n",
      "[Parallel(n_jobs=12)]: Using backend ThreadingBackend with 12 concurrent workers.\n",
      "[Parallel(n_jobs=12)]: Done  30 out of  30 | elapsed:    0.2s finished\n"
     ]
    }
   ],
   "source": [
    "test_set = pd.read_parquet(os.path.join(PROCESSED_DATA_DIR, 'test-set-base.parquet'))\n",
    "reg.fit(X_train, y_train)\n",
    "y_pred = reg.predict(test_set.drop(columns='ID').values)"
   ]
  },
  {
   "cell_type": "code",
   "execution_count": 13,
   "metadata": {},
   "outputs": [],
   "source": [
    "submission = pd.DataFrame({'ID': test_set['ID'], 'item_cnt_month': y_pred})\n",
    "submission.to_csv(os.path.join(TMP_DIR, 'rf-exercise-submission.csv'), index=False)"
   ]
  },
  {
   "cell_type": "code",
   "execution_count": 14,
   "metadata": {},
   "outputs": [
    {
     "name": "stdout",
     "output_type": "stream",
     "text": [
      "Successfully submitted to Predict Future Sales"
     ]
    },
    {
     "name": "stderr",
     "output_type": "stream",
     "text": [
      "100%|██████████| 3.93M/3.93M [00:12<00:00, 326kB/s] \n"
     ]
    }
   ],
   "source": [
    "%%bash\n",
    "kaggle c submit -f ${TMP_DIR}/rf-exercise-submission.csv -m 'testing CV score using a RF' competitive-data-science-predict-future-sales"
   ]
  },
  {
   "cell_type": "markdown",
   "metadata": {},
   "source": [
    "The score on the public LB is 1.87432, which is not close enough to our mean test score for me.\n",
    "\n",
    "Upon closer inspection, we can see the model actually overfitting because of the amount of data: the test score is getting worse while the train score is getting better. It's too early to act on that, but `tscv.split` has a `window` paramater that we can tweak.\n",
    "\n",
    "But maybe this is because of the chosen months. To visualize this, let's fix the month and vary only the window length."
   ]
  },
  {
   "cell_type": "code",
   "execution_count": 25,
   "metadata": {},
   "outputs": [
    {
     "data": {
      "text/plain": [
       "[(array([1539646, 1539647, 1539648, ..., 1600852, 1600853, 1600854]),\n",
       "  array([1569324, 1569325, 1569326, ..., 1600852, 1600853, 1600854])),\n",
       " (array([1506160, 1506161, 1506162, ..., 1600852, 1600853, 1600854]),\n",
       "  array([1569324, 1569325, 1569326, ..., 1600852, 1600853, 1600854])),\n",
       " (array([1472633, 1472634, 1472635, ..., 1600852, 1600853, 1600854]),\n",
       "  array([1569324, 1569325, 1569326, ..., 1600852, 1600853, 1600854])),\n",
       " (array([1440724, 1440725, 1440726, ..., 1600852, 1600853, 1600854]),\n",
       "  array([1569324, 1569325, 1569326, ..., 1600852, 1600853, 1600854])),\n",
       " (array([1408504, 1408505, 1408506, ..., 1600852, 1600853, 1600854]),\n",
       "  array([1569324, 1569325, 1569326, ..., 1600852, 1600853, 1600854])),\n",
       " (array([1375631, 1375632, 1375633, ..., 1600852, 1600853, 1600854]),\n",
       "  array([1569324, 1569325, 1569326, ..., 1600852, 1600853, 1600854])),\n",
       " (array([1335167, 1335168, 1335169, ..., 1600852, 1600853, 1600854]),\n",
       "  array([1569324, 1569325, 1569326, ..., 1600852, 1600853, 1600854])),\n",
       " (array([1293778, 1293779, 1293780, ..., 1600852, 1600853, 1600854]),\n",
       "  array([1569324, 1569325, 1569326, ..., 1600852, 1600853, 1600854])),\n",
       " (array([1247004, 1247005, 1247006, ..., 1600852, 1600853, 1600854]),\n",
       "  array([1569324, 1569325, 1569326, ..., 1600852, 1600853, 1600854])),\n",
       " (array([1187732, 1187733, 1187734, ..., 1600852, 1600853, 1600854]),\n",
       "  array([1569324, 1569325, 1569326, ..., 1600852, 1600853, 1600854]))]"
      ]
     },
     "execution_count": 25,
     "metadata": {},
     "output_type": "execute_result"
    }
   ],
   "source": [
    "dates = train_set['date_block_num'].values\n",
    "windows_splits = [(np.where(dates >= 33 - w)[0], np.where(dates == 33)[0])\n",
    "                  for w in range(1, 34)]\n",
    "windows_splits[:10]"
   ]
  },
  {
   "cell_type": "code",
   "execution_count": 26,
   "metadata": {},
   "outputs": [
    {
     "name": "stderr",
     "output_type": "stream",
     "text": [
      "[Parallel(n_jobs=-1)]: Using backend LokyBackend with 12 concurrent workers.\n",
      "[Parallel(n_jobs=-1)]: Done  27 out of  33 | elapsed:  3.9min remaining:   52.3s\n",
      "[Parallel(n_jobs=-1)]: Done  33 out of  33 | elapsed:  4.4min finished\n"
     ]
    },
    {
     "data": {
      "text/plain": [
       "{'fit_time': array([  3.63828683,   6.90358448,   9.85160041,  12.78924441,\n",
       "         16.5326395 ,  18.87230539,  23.61535215,  28.06437421,\n",
       "         32.65052772,  39.16820049,  44.83763671,  48.34274793,\n",
       "         54.0879252 ,  59.75522423,  65.09454274,  71.2649231 ,\n",
       "         80.41192293,  86.43483019,  93.62738419,  99.81602788,\n",
       "        107.78875995, 120.73348308, 129.02931452, 136.07661104,\n",
       "        140.25440812, 142.94599843, 143.27864456, 143.63192582,\n",
       "        137.80465698, 134.99863029, 125.71278548, 117.22233057,\n",
       "        106.64524555]),\n",
       " 'score_time': array([0.51921201, 0.63204956, 0.59345937, 0.54359055, 0.5792625 ,\n",
       "        0.5387857 , 0.67574453, 0.71761274, 0.42963934, 0.6330142 ,\n",
       "        0.61287332, 0.59802079, 0.62190485, 0.61189842, 0.63258314,\n",
       "        0.63095689, 0.7945261 , 0.58906937, 0.67822504, 0.69153047,\n",
       "        0.74350429, 0.65193295, 0.60450244, 0.57064915, 0.40177155,\n",
       "        0.4461894 , 0.37131977, 0.40220094, 0.34938312, 0.33053017,\n",
       "        0.28043914, 0.13930273, 0.03934598]),\n",
       " 'test_score': array([-0.69800309, -0.69080789, -0.69351506, -0.69848216, -0.68801222,\n",
       "        -0.6884858 , -0.69098217, -0.68418292, -0.68845972, -0.69865052,\n",
       "        -0.67705771, -0.68797471, -0.68671372, -0.70054968, -0.69167856,\n",
       "        -0.67706838, -0.68671441, -0.68083993, -0.68459504, -0.69311882,\n",
       "        -0.68481102, -0.68211394, -0.68464201, -0.68156539, -0.68139842,\n",
       "        -0.67979502, -0.68205442, -0.68631242, -0.68915495, -0.68759003,\n",
       "        -0.68327429, -0.67843059, -0.68490474]),\n",
       " 'train_score': array([-0.68790499, -0.62831201, -0.60589385, -0.59937317, -0.59029222,\n",
       "        -0.59150077, -0.59775275, -0.59390001, -0.61080283, -0.6722153 ,\n",
       "        -0.66538188, -0.66869403, -0.66282729, -0.65947302, -0.64610541,\n",
       "        -0.64004579, -0.64010318, -0.63693207, -0.63787297, -0.64290841,\n",
       "        -0.63713986, -0.65587603, -0.65296934, -0.64970338, -0.64937447,\n",
       "        -0.64484842, -0.64278875, -0.64429338, -0.64111517, -0.63855344,\n",
       "        -0.642512  , -0.64328068, -0.64312965])}"
      ]
     },
     "execution_count": 26,
     "metadata": {},
     "output_type": "execute_result"
    }
   ],
   "source": [
    "scores = cross_validate(reg, X=X_train, y=y_train,\n",
    "                        scoring='neg_root_mean_squared_error', verbose=2, n_jobs=-1, \n",
    "                        cv=windows_splits, return_train_score=True)\n",
    "scores"
   ]
  },
  {
   "cell_type": "code",
   "execution_count": 29,
   "metadata": {},
   "outputs": [
    {
     "data": {
      "text/plain": [
       "<matplotlib.legend.Legend at 0x7f246730bd90>"
      ]
     },
     "execution_count": 29,
     "metadata": {},
     "output_type": "execute_result"
    },
    {
     "data": {
      "image/png": "[encoded data removed]",
      "text/plain": [
       "<Figure size 432x288 with 1 Axes>"
      ]
     },
     "metadata": {
      "needs_background": "light"
     },
     "output_type": "display_data"
    }
   ],
   "source": [
    "plt.plot(scores['train_score'], label='Train Score')\n",
    "plt.plot(scores['test_score'], label='Test Score')\n",
    "plt.legend()"
   ]
  },
  {
   "cell_type": "markdown",
   "metadata": {},
   "source": [
    "It doesn't seem to be the case. We can test it again later when we have actual features."
   ]
  }
 ],
 "metadata": {
  "kernelspec": {
   "display_name": "Python 3",
   "language": "python",
   "name": "python3"
  },
  "language_info": {
   "codemirror_mode": {
    "name": "ipython",
    "version": 3
   },
   "file_extension": ".py",
   "mimetype": "text/x-python",
   "name": "python",
   "nbconvert_exporter": "python",
   "pygments_lexer": "ipython3",
   "version": "3.8.2"
  }
 },
 "nbformat": 4,
 "nbformat_minor": 4
}
